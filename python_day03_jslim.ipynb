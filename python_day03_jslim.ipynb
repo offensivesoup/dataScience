{
 "cells": [
  {
   "cell_type": "markdown",
   "id": "1210cea1",
   "metadata": {},
   "source": [
    "# https://docs.python.org/ko/3/library/functions.html "
   ]
  },
  {
   "cell_type": "code",
   "execution_count": 9,
   "id": "a9e812a6",
   "metadata": {},
   "outputs": [
    {
     "name": "stdout",
     "output_type": "stream",
     "text": [
      "type -  <class 'list'> casting -  True\n",
      "\n",
      "max  -  7\n",
      "min  -  1\n",
      "sum  -  28\n",
      "mean -  4\n"
     ]
    }
   ],
   "source": [
    "numLst = [1,2,3,4,5,6,7]\n",
    "print('type - ' , type(numLst) , 'casting - ' , bool(numLst))\n",
    "\n",
    "print()\n",
    "\n",
    "print('max  - ' , max(numLst))\n",
    "print('min  - ' , min(numLst))\n",
    "print('sum  - ' , sum(numLst))\n",
    "print('mean - ' , int( sum(numLst) / len(numLst)))\n"
   ]
  },
  {
   "cell_type": "code",
   "execution_count": 13,
   "id": "8227ada6",
   "metadata": {},
   "outputs": [
    {
     "name": "stdout",
     "output_type": "stream",
     "text": [
      "instance address - id() 2618643276544 2618629603584\n",
      "is 연산자 - 주소값을 비교하는 연산자 ,  False\n",
      "\n",
      "is 연산자 - 주소값을 비교하는 연산자 ,  True\n",
      "lstTmpj01 data -  [1, 2, 3, 4]\n"
     ]
    }
   ],
   "source": [
    "lstTmp01 = [1,2,3]\n",
    "lstTmp02 = [1,2,3]\n",
    "\n",
    "print('instance address - id()' , id(lstTmp01) , id(lstTmp02))\n",
    "print('is 연산자 - 주소값을 비교하는 연산자 , ' , lstTmp01 is lstTmp02 )\n",
    "\n",
    "print()\n",
    "\n",
    "lstTmp03 = lstTmp01\n",
    "print('is 연산자 - 주소값을 비교하는 연산자 , ' , lstTmp01 is lstTmp03 )\n",
    "\n",
    "lstTmp03.append(4)\n",
    "print('lstTmp01 data - ' , lstTmp01)\n"
   ]
  },
  {
   "cell_type": "code",
   "execution_count": 16,
   "id": "28569cec",
   "metadata": {},
   "outputs": [
    {
     "name": "stdout",
     "output_type": "stream",
     "text": [
      "instance address - id() 2618629603584 2618643491456\n",
      "is 연산자 - 주소값을 비교하는 연산자 ,  False\n",
      "lstTmp01 data -  [1, 2, 3]\n"
     ]
    }
   ],
   "source": [
    "from copy import copy \n",
    "\n",
    "lstTmp04 = copy(lstTmp02) \n",
    "\n",
    "print('instance address - id()' , id(lstTmp02) , id(lstTmp04))\n",
    "print('is 연산자 - 주소값을 비교하는 연산자 , ' , lstTmp02 is lstTmp04 )\n",
    "\n",
    "\n",
    "lstTmp04.append(4)\n",
    "print('lstTmp01 data - ' , lstTmp02)"
   ]
  },
  {
   "cell_type": "markdown",
   "id": "6ecbc215",
   "metadata": {},
   "source": [
    "#### 열거형\n",
    "- range(start, end - 1 , step)\n",
    "- range(end - 1)\n",
    "- range(start , end -1)\n",
    "- 숫자형 열거형으로 값을 생성하는 객체"
   ]
  },
  {
   "cell_type": "code",
   "execution_count": 24,
   "id": "5ad5b34a",
   "metadata": {},
   "outputs": [
    {
     "name": "stdout",
     "output_type": "stream",
     "text": [
      "type      -  <class 'range'>\n",
      "data      -  range(1, 11, 2)\n",
      "in 연산자 -  False\n",
      "dir       -  ['__bool__', '__class__', '__contains__', '__delattr__', '__dir__', '__doc__', '__eq__', '__format__', '__ge__', '__getattribute__', '__getitem__', '__getstate__', '__gt__', '__hash__', '__init__', '__init_subclass__', '__iter__', '__le__', '__len__', '__lt__', '__ne__', '__new__', '__reduce__', '__reduce_ex__', '__repr__', '__reversed__', '__setattr__', '__sizeof__', '__str__', '__subclasshook__', 'count', 'index', 'start', 'step', 'stop']\n",
      "\n",
      "1\t3\t5\t7\t9\t"
     ]
    }
   ],
   "source": [
    "rangeTmp = range(1, 11 , 2)\n",
    "print('type      - ' , type(rangeTmp))\n",
    "print('data      - ' , rangeTmp)\n",
    "print('in 연산자 - ' , 10 in rangeTmp)\n",
    "print('dir       - ' , dir(rangeTmp))\n",
    "print()\n",
    "\n",
    "for value in rangeTmp : \n",
    "    print(value , end = '\\t')"
   ]
  },
  {
   "cell_type": "code",
   "execution_count": 27,
   "id": "4482fb85",
   "metadata": {},
   "outputs": [
    {
     "name": "stdout",
     "output_type": "stream",
     "text": [
      "idx -  0 data =  10\n",
      "idx -  1 data =  20\n",
      "idx -  2 data =  30\n"
     ]
    }
   ],
   "source": [
    "tmp = [10, 20, 30] \n",
    "\n",
    "for idx in range(len(tmp)) : \n",
    "    print('idx - ' , idx , \"data = \" , tmp[idx])"
   ]
  },
  {
   "cell_type": "code",
   "execution_count": 57,
   "id": "2daf7911",
   "metadata": {},
   "outputs": [
    {
     "name": "stdout",
     "output_type": "stream",
     "text": [
      "data -  [5, 3, 5, 3, 5, 3, 5, 1, 5, 1]\n",
      "sort -  [5, 5, 5, 5, 5, 3, 3, 3, 1, 1]\n"
     ]
    }
   ],
   "source": [
    "import random \n",
    "\n",
    "lst = [] \n",
    "\n",
    "for idx in range(10) : \n",
    "    lst.append(random.randint(1,5))\n",
    "\n",
    "print('data - ' , lst)\n",
    "\n",
    "lst.sort(reverse = True)\n",
    "print('sort - ' , lst)"
   ]
  },
  {
   "cell_type": "code",
   "execution_count": 60,
   "id": "bdee3940",
   "metadata": {},
   "outputs": [
    {
     "name": "stdout",
     "output_type": "stream",
     "text": [
      "can't find\n"
     ]
    }
   ],
   "source": [
    "if 4 in lst : \n",
    "    print('find')\n",
    "else : \n",
    "    print(\"can't find\")"
   ]
  },
  {
   "cell_type": "markdown",
   "id": "4239fd86",
   "metadata": {},
   "source": [
    "list Comprehension (중요)\n",
    "\n",
    "- [ 실행문 for 변수 in 열거형객체]\n",
    "- [ 실행문 for 변수 in 열거형객체 if 조건식] "
   ]
  },
  {
   "cell_type": "code",
   "execution_count": 69,
   "id": "043089c7",
   "metadata": {},
   "outputs": [
    {
     "name": "stdout",
     "output_type": "stream",
     "text": [
      "2\t4\t1\t5\t8\t4\t\n",
      "2\t4\t1\t5\t8\t4\t\n",
      "각 값의 제곱한 결과를 확인하고 싶다면? \n",
      "result -  [4, 16, 1, 25, 64, 16]\n",
      "\n",
      "list comprehesion - \n",
      "result -  [4, 16, 1, 25, 64, 16]\n",
      "\n",
      "제곱한 결과에서 2의 배수인 값들만 추출한다면? \n",
      "result -  [4, 16, 64, 16]\n"
     ]
    }
   ],
   "source": [
    "lst = [2,4,1,5,8,4]\n",
    "\n",
    "for data in lst : \n",
    "    print(data , end='\\t')\n",
    "    \n",
    "print()\n",
    "\n",
    "for idx in range(len(lst)) : \n",
    "    print(lst[idx] , end='\\t')\n",
    "    \n",
    "print()\n",
    "print('각 값의 제곱한 결과를 확인하고 싶다면? ') \n",
    "result = [] \n",
    "for idx in range(len(lst)) : \n",
    "    result.append(lst[idx]**2)\n",
    "print('result - ' , result )\n",
    "\n",
    "print()\n",
    "'''\n",
    "- [ 실행문 for 변수 in 열거형객체]\n",
    "- [ 실행문 for 변수 in 열거형객체 if 조건식] \n",
    "'''\n",
    "print('list comprehesion - ') \n",
    "result = [ data ** 2 for data in lst]\n",
    "print('result - ' , result )\n",
    "print()\n",
    "\n",
    "print('제곱한 결과에서 2의 배수인 값들만 추출한다면? ') \n",
    "result = [ data ** 2 for data in lst if data%2 == 0 ]\n",
    "print('result - ' , result )\n"
   ]
  },
  {
   "cell_type": "markdown",
   "id": "31c3d075",
   "metadata": {},
   "source": [
    "- 돌발퀴즈"
   ]
  },
  {
   "cell_type": "code",
   "execution_count": null,
   "id": "e8e5ea0c",
   "metadata": {},
   "outputs": [],
   "source": []
  },
  {
   "cell_type": "code",
   "execution_count": 70,
   "id": "7d545f98",
   "metadata": {},
   "outputs": [
    {
     "name": "stdout",
     "output_type": "stream",
     "text": [
      "for , list comprehension\n",
      "range() 함수를 이용해서 1 ~ 100 사이의 3의 배수만 출력하라 - \n"
     ]
    }
   ],
   "source": [
    "print('for + if , list comprehension')\n",
    "print('range() 함수를 이용해서 1 ~ 100 사이의 3의 배수만 출력하라 - ') "
   ]
  },
  {
   "cell_type": "code",
   "execution_count": 73,
   "id": "7ce06624",
   "metadata": {},
   "outputs": [
    {
     "name": "stdout",
     "output_type": "stream",
     "text": [
      "case01 - \n",
      "\n",
      "result -  [3, 6, 9, 12, 15, 18, 21, 24, 27, 30, 33, 36, 39, 42, 45, 48, 51, 54, 57, 60, 63, 66, 69, 72, 75, 78, 81, 84, 87, 90, 93, 96, 99]\n"
     ]
    }
   ],
   "source": [
    "print('case01 - ')\n",
    "result = []\n",
    "for data in range(1 , 101) :\n",
    "    if data%3 == 0 : \n",
    "        result.append(data)\n",
    "print()\n",
    "print('result - ' , result )"
   ]
  },
  {
   "cell_type": "code",
   "execution_count": 74,
   "id": "82586190",
   "metadata": {},
   "outputs": [
    {
     "name": "stdout",
     "output_type": "stream",
     "text": [
      "case02 - \n",
      "result -  [3, 6, 9, 12, 15, 18, 21, 24, 27, 30, 33, 36, 39, 42, 45, 48, 51, 54, 57, 60, 63, 66, 69, 72, 75, 78, 81, 84, 87, 90, 93, 96, 99]\n"
     ]
    }
   ],
   "source": [
    "print('case02 - ')\n",
    "result = [ data for data in range(1,101) if data%3 == 0]\n",
    "print('result - ' , result )"
   ]
  },
  {
   "cell_type": "markdown",
   "id": "ff8cb607",
   "metadata": {},
   "source": [
    "#### tuple\n",
    "- 선언 : () , tuple() \n",
    "- 열거형(순서 있기때문에 인덱싱, 슬라이싱 가능)\n",
    "- 중복데이터 허용 \n",
    "- immutable(수정, 삭제) \n",
    "- 읽기 전용 \n",
    "- packing , unpacking"
   ]
  },
  {
   "cell_type": "code",
   "execution_count": 90,
   "id": "0c77164a",
   "metadata": {},
   "outputs": [
    {
     "name": "stdout",
     "output_type": "stream",
     "text": [
      "type     -  <class 'tuple'> True\n",
      "data     -  (3, 2, 3, 1, 6, 8, 5)\n",
      "indexing -  3\n",
      "slicing  -  (3, 1, 6, 8)\n",
      "\n",
      "튜플의 데이터를 삭제, 수정하고 싶다면 어떻게 할까요? \n",
      "정답 : 형변환 \n",
      "type     -  <class 'list'> True\n",
      "data     -  [10, 2, 3, 1, 6, 8]\n",
      "type     -  <class 'tuple'> True\n",
      "data     -  (10, 2, 3, 1, 6, 8)\n"
     ]
    }
   ],
   "source": [
    "tupleTmp = 3,2,3,1,6,8,5\n",
    "print('type     - ' , type(tupleTmp) , bool(tupleTmp))\n",
    "print('data     - ' , tupleTmp)\n",
    "print('indexing - ' , tupleTmp[0])\n",
    "print('slicing  - ' , tupleTmp[2 : 6])\n",
    "\n",
    "# immutable 수정 X  - error \n",
    "# tupleTmp[0] = 10 \n",
    "# del tupleTmp[0] \n",
    "\n",
    "print()\n",
    "print('튜플의 데이터를 삭제, 수정하고 싶다면 어떻게 할까요? ') \n",
    "print('정답 : 형변환 ')\n",
    "\n",
    "lstTmp = list(tupleTmp)\n",
    "print('type     - ' , type(lstTmp) , bool(lstTmp))\n",
    "lstTmp[0] = 10\n",
    "del lstTmp[-1]\n",
    "print('data     - ' , lstTmp)\n",
    "\n",
    "tupleTmp = tuple(lstTmp) \n",
    "print('type     - ' , type(tupleTmp) , bool(tupleTmp))\n",
    "print('data     - ' , tupleTmp)\n"
   ]
  },
  {
   "cell_type": "code",
   "execution_count": 92,
   "id": "e2c77c4f",
   "metadata": {},
   "outputs": [
    {
     "data": {
      "text/plain": [
       "('김채아', '오세헌', '서한나', '문자영', '조소현', '최성훈')"
      ]
     },
     "execution_count": 92,
     "metadata": {},
     "output_type": "execute_result"
    }
   ],
   "source": [
    "packing = ('김채아', '오세헌', '서한나', '문자영' , '조소현', '최성훈')\n",
    "packing"
   ]
  },
  {
   "cell_type": "code",
   "execution_count": 95,
   "id": "f73614a7",
   "metadata": {},
   "outputs": [
    {
     "name": "stdout",
     "output_type": "stream",
     "text": [
      "unpacking -  김채아 오세헌 ['서한나', '문자영', '조소현', '최성훈']\n"
     ]
    }
   ],
   "source": [
    "stu01, stu02, *stu03 = packing\n",
    "print('unpacking - ' , stu01, stu02, stu03)"
   ]
  },
  {
   "cell_type": "code",
   "execution_count": 97,
   "id": "06845962",
   "metadata": {},
   "outputs": [],
   "source": [
    "def userFunction() :\n",
    "    numLst = [1,2,3,4,5,6,7]\n",
    "    \n",
    "    data_max  = max(numLst)\n",
    "    data_min  = min(numLst)\n",
    "    data_sum  = sum(numLst)\n",
    "    data_mean = int( sum(numLst) / len(numLst))\n",
    "\n",
    "    return (data_max, data_min, data_sum, data_mean) "
   ]
  },
  {
   "cell_type": "code",
   "execution_count": 99,
   "id": "a1194725",
   "metadata": {},
   "outputs": [
    {
     "name": "stdout",
     "output_type": "stream",
     "text": [
      "7 1 28 4\n"
     ]
    }
   ],
   "source": [
    "x1, x2, x3, x4 = userFunction()\n",
    "print(x1, x2, x3, x4)"
   ]
  },
  {
   "cell_type": "markdown",
   "id": "e6b325d9",
   "metadata": {},
   "source": [
    "#### dict \n",
    "- 선언 : { key : value , key : value } , dict()\n",
    "- dict 는 javascript object 형식과 동일\n",
    "- 열거형이 아니다(순서 X)\n",
    "- 키 중복을 허용하지 않는다\n",
    "- 수정, 삭제 가능(mutable)\n",
    "- 주의사항) 키값으로 불변(immutable)아닌타입은 정의할 수 없다(list X ) \n",
    "\n"
   ]
  },
  {
   "cell_type": "code",
   "execution_count": 112,
   "id": "b516da17",
   "metadata": {},
   "outputs": [
    {
     "name": "stdout",
     "output_type": "stream",
     "text": [
      "type -  <class 'dict'> casting -  True\n",
      "data -  {'name': 'seop', 'phone': '010-4603-2283', 'brith': '990905'}\n",
      "in 연산자 - 키 유무를 판단 :  False\n",
      "\n",
      "dir -  ['__class__', '__class_getitem__', '__contains__', '__delattr__', '__delitem__', '__dir__', '__doc__', '__eq__', '__format__', '__ge__', '__getattribute__', '__getitem__', '__getstate__', '__gt__', '__hash__', '__init__', '__init_subclass__', '__ior__', '__iter__', '__le__', '__len__', '__lt__', '__ne__', '__new__', '__or__', '__reduce__', '__reduce_ex__', '__repr__', '__reversed__', '__ror__', '__setattr__', '__setitem__', '__sizeof__', '__str__', '__subclasshook__', 'clear', 'copy', 'fromkeys', 'get', 'items', 'keys', 'pop', 'popitem', 'setdefault', 'update', 'values']\n",
      "\n",
      "키를 통한 접근 -  seop\n",
      "키를 통한 접근 -  010-4603-2283\n",
      "\n",
      "새로운 데이터 추가 - \n",
      "data -  {'name': 'seop', 'phone': '010-4603-2283', 'brith': '990905', 'address': 'seoul'}\n"
     ]
    }
   ],
   "source": [
    "dictTmp = {'name' : 'seop' , 'phone' : '010-4603-2283' , 'brith' : '990905'}\n",
    "print('type - ' , type(dictTmp) , 'casting - ' , bool(dictTmp))\n",
    "print('data - ' , dictTmp)\n",
    "print('in 연산자 - 키 유무를 판단 : ' , 'gender' in dictTmp)\n",
    "print()\n",
    "print('dir - ' , dir(dictTmp))\n",
    "print()\n",
    "print('키를 통한 접근 - ' , dictTmp['name'])\n",
    "print('키를 통한 접근 - ' , dictTmp.get('phone') )\n",
    "print()\n",
    "print('새로운 데이터 추가 - ' )\n",
    "dictTmp['address'] = 'seoul'\n",
    "print('data - ' , dictTmp)"
   ]
  },
  {
   "cell_type": "code",
   "execution_count": 123,
   "id": "a3e7a120",
   "metadata": {},
   "outputs": [
    {
     "name": "stdout",
     "output_type": "stream",
     "text": [
      "type -  <class 'dict'> {'price': 100, 'qty': 10}\n",
      "\n",
      "type -  <class 'list'> [('price', 100), ('qty', 20)]\n",
      "\n",
      "비비고의 가격을 200원으로 인상하고자 한다면? \n",
      "type -  <class 'list'> ['price', 100]\n",
      "type -  <class 'list'> ['price', 200]\n",
      "type -  <class 'list'> [('price', 200), ('qty', 20)]\n"
     ]
    }
   ],
   "source": [
    "priceTmp = {\n",
    "    'melon'   : {'price' : 100 , 'qty' : 10} , \n",
    "    'bravo'   : [200, 50] ,\n",
    "    'bibibig' : [('price' , 100) ,  ('qty', 20)]\n",
    "}\n",
    "\n",
    "melonData = priceTmp['melon']\n",
    "print('type - ' , type(melonData) , melonData)\n",
    "print()\n",
    "bibibigData = priceTmp['bibibig']\n",
    "print('type - ' , type(bibibigData) , bibibigData)\n",
    "\n",
    "# bibibigData[0][1] = 200 - error \n",
    "print()\n",
    "print('비비고의 가격을 200원으로 인상하고자 한다면? ') \n",
    "tmp = list(bibibigData[0])\n",
    "print('type - ' , type(tmp) , tmp)\n",
    "tmp[1] = 200\n",
    "print('type - ' , type(tmp) , tmp)\n",
    "bibibigData[0] = tuple(tmp)\n",
    "print('type - ' , type(bibibigData) , bibibigData)\n"
   ]
  },
  {
   "cell_type": "code",
   "execution_count": 129,
   "id": "2c6aa1b6",
   "metadata": {},
   "outputs": [
    {
     "name": "stdout",
     "output_type": "stream",
     "text": [
      "type -  <class 'dict'> casting -  True\n"
     ]
    }
   ],
   "source": [
    "dictTmp = dict( city = 'busan'  , expo = 2030 )\n",
    "print('type - ' , type(dictTmp) , 'casting - ' , bool(dictTmp))"
   ]
  },
  {
   "cell_type": "code",
   "execution_count": 149,
   "id": "dbdefbd6",
   "metadata": {},
   "outputs": [
    {
     "name": "stdout",
     "output_type": "stream",
     "text": [
      "type -  <class 'dict'> casting -  True\n",
      "data -  {'name': 'NiceMan', 'city': 'seoul'}\n",
      "\n",
      "key 접근 -  0\n"
     ]
    }
   ],
   "source": [
    "dictTmp = dict(\n",
    "[('name' , 'NiceMan') , ('city' , 'seoul')]\n",
    ")\n",
    "print('type - ' , type(dictTmp) , 'casting - ' , bool(dictTmp))\n",
    "print('data - ' , dictTmp)\n",
    "print()\n",
    "# print('key 접근 - ' , dictTmp['age'])\n",
    "print('key 접근 - ' , dictTmp.get('age'))"
   ]
  },
  {
   "cell_type": "markdown",
   "id": "13a5eac7",
   "metadata": {},
   "source": [
    "- 현업에서 활용하는 방법\n",
    "- zip()"
   ]
  },
  {
   "cell_type": "code",
   "execution_count": 3,
   "id": "e6050025",
   "metadata": {},
   "outputs": [
    {
     "name": "stdout",
     "output_type": "stream",
     "text": [
      "type -  <class 'dict'> casting -  True\n",
      "data -  {'key01': '섭섭해', 'key02': '김수현', 'key03': '손충모', 'key04': '신진섭', 'key05': '박영빈'}\n",
      "\n",
      "dir  -  ['__class__', '__class_getitem__', '__contains__', '__delattr__', '__delitem__', '__dir__', '__doc__', '__eq__', '__format__', '__ge__', '__getattribute__', '__getitem__', '__getstate__', '__gt__', '__hash__', '__init__', '__init_subclass__', '__ior__', '__iter__', '__le__', '__len__', '__lt__', '__ne__', '__new__', '__or__', '__reduce__', '__reduce_ex__', '__repr__', '__reversed__', '__ror__', '__setattr__', '__setitem__', '__sizeof__', '__str__', '__subclasshook__', 'clear', 'copy', 'fromkeys', 'get', 'items', 'keys', 'pop', 'popitem', 'setdefault', 'update', 'values']\n"
     ]
    }
   ],
   "source": [
    "keys  = ('key01' , 'key02' , 'key03' , 'key04' , 'key05')\n",
    "datas = ('섭섭해' , '김수현' , '손충모' , '신진섭' , '박영빈') \n",
    "\n",
    "zipTmp = dict(zip(keys, datas))\n",
    "\n",
    "print('type - ' , type(zipTmp) , 'casting - ' , bool(zipTmp))\n",
    "print('data - ' , zipTmp)\n",
    "print()\n",
    "print('dir  - ' , dir(zipTmp))"
   ]
  },
  {
   "cell_type": "code",
   "execution_count": 9,
   "id": "4ee37529",
   "metadata": {},
   "outputs": [
    {
     "name": "stdout",
     "output_type": "stream",
     "text": [
      "dict 타입도 순환반복을(for ~ in ) 구현할 수 있다. __iter__\n",
      "key01 섭섭해\tkey02 김수현\tkey03 손충모\tkey04 신진섭\tkey05 박영빈\t\n",
      "key01\tkey02\tkey03\tkey04\tkey05\t\n",
      "섭섭해\t김수현\t손충모\t신진섭\t박영빈\t\n",
      "key01 섭섭해\tkey02 김수현\tkey03 손충모\tkey04 신진섭\tkey05 박영빈\t"
     ]
    }
   ],
   "source": [
    "print('dict 타입도 순환반복을(for ~ in ) 구현할 수 있다. __iter__')\n",
    "\n",
    "for key in zipTmp : \n",
    "    print(key, zipTmp[key],  end=\"\\t\")\n",
    "\n",
    "print()\n",
    "\n",
    "for key in zipTmp.keys() : \n",
    "    print(key ,  end=\"\\t\")\n",
    "\n",
    "print()\n",
    "for data in zipTmp.values() : \n",
    "    print(data , end=\"\\t\")\n",
    "\n",
    "print()\n",
    "for key , data in zipTmp.items() : \n",
    "    print(key , data , end=\"\\t\")\n"
   ]
  },
  {
   "cell_type": "markdown",
   "id": "1d533533",
   "metadata": {},
   "source": [
    "- dict 돌발퀴즈(단언의 빈도수를 구하는 작업)"
   ]
  },
  {
   "cell_type": "code",
   "execution_count": 33,
   "id": "701bc712",
   "metadata": {},
   "outputs": [
    {
     "name": "stdout",
     "output_type": "stream",
     "text": [
      "data     -  ['dog', 'dog', 'cat', 'cat', 'word', 'dog', 'cat', 'DongA', 'DongA', 'cs', 'dog', 'cat', 'cs']\n",
      "출력예시 - { dog : 4, cat : 4 , word : 1 , DongA : 2 , cs : 2}\n"
     ]
    }
   ],
   "source": [
    "lstWord = ['dog' , 'dog', 'cat', 'cat', 'word', 'dog' , 'cat', 'DongA' , 'DongA' , 'cs' , 'dog', 'cat', 'cs'] \n",
    "print('data     - ' , lstWord)\n",
    "print('출력예시 - { dog : 4, cat : 4 , word : 1 , DongA : 2 , cs : 2}')"
   ]
  },
  {
   "cell_type": "code",
   "execution_count": 34,
   "id": "4d2431fa",
   "metadata": {},
   "outputs": [
    {
     "name": "stdout",
     "output_type": "stream",
     "text": [
      "case01 - \n",
      "\n",
      "answer -  {'dog': 4, 'cat': 4, 'word': 1, 'cs': 2, 'DongA': 2}\n"
     ]
    }
   ],
   "source": [
    "print('case01 - ') \n",
    "answer = {} \n",
    "answer['dog']   = lstWord.count('dog')\n",
    "answer['cat']   = lstWord.count('cat')\n",
    "answer['word']  = lstWord.count('word')\n",
    "answer['cs']    = lstWord.count('cs')\n",
    "answer['DongA'] = lstWord.count('DongA')\n",
    "print()\n",
    "print('answer - ' , answer)\n"
   ]
  },
  {
   "cell_type": "code",
   "execution_count": 43,
   "id": "13aa11e5",
   "metadata": {},
   "outputs": [
    {
     "name": "stdout",
     "output_type": "stream",
     "text": [
      "{'dog': 4, 'cat': 4, 'word': 1, 'DongA': 2, 'cs': 2}\n"
     ]
    }
   ],
   "source": [
    "for word in lstWord:\n",
    "    if word in answer: \n",
    "        answer[word] = answer[word]+1\n",
    "    else:\n",
    "        answer[word] = 1\n",
    "print(answer)"
   ]
  },
  {
   "cell_type": "code",
   "execution_count": 167,
   "id": "1499887f",
   "metadata": {},
   "outputs": [
    {
     "name": "stdout",
     "output_type": "stream",
     "text": [
      "case02 - \n",
      "{'dog': 4, 'cat': 4, 'word': 1, 'DongA': 2, 'cs': 2}\n",
      "\n",
      "{'dog': 4, 'cat': 4, 'word': 1, 'DongA': 2, 'cs': 2}\n"
     ]
    }
   ],
   "source": [
    "print('case02 - ') \n",
    "answer = {}\n",
    "for word in lstWord : \n",
    "    if word in answer : \n",
    "        answer[word] = answer[word]+1\n",
    "    else :\n",
    "        answer[word] = 1\n",
    "        \n",
    "\n",
    "print(answer)\n",
    "print()\n",
    "answer = {}\n",
    "for word in lstWord :\n",
    "    answer[word] = answer.get(word, 0)+1\n",
    "\n",
    "\n",
    "print(answer)"
   ]
  },
  {
   "cell_type": "markdown",
   "id": "64e12ada",
   "metadata": {},
   "source": [
    "#### set type \n",
    "- 선언 : {} , set()\n",
    "- 데이터의 중복을 허용하지 않는다\n",
    "- 순서 X (인덱싱, 슬라이싱)"
   ]
  },
  {
   "cell_type": "code",
   "execution_count": 176,
   "id": "fc14b5cf",
   "metadata": {},
   "outputs": [
    {
     "name": "stdout",
     "output_type": "stream",
     "text": [
      "type -  <class 'set'>\n",
      "data -  {3, 4, 6}\n",
      "dir  -  ['__and__', '__class__', '__class_getitem__', '__contains__', '__delattr__', '__dir__', '__doc__', '__eq__', '__format__', '__ge__', '__getattribute__', '__getstate__', '__gt__', '__hash__', '__iand__', '__init__', '__init_subclass__', '__ior__', '__isub__', '__iter__', '__ixor__', '__le__', '__len__', '__lt__', '__ne__', '__new__', '__or__', '__rand__', '__reduce__', '__reduce_ex__', '__repr__', '__ror__', '__rsub__', '__rxor__', '__setattr__', '__sizeof__', '__str__', '__sub__', '__subclasshook__', '__xor__', 'add', 'clear', 'copy', 'difference', 'difference_update', 'discard', 'intersection', 'intersection_update', 'isdisjoint', 'issubset', 'issuperset', 'pop', 'remove', 'symmetric_difference', 'symmetric_difference_update', 'union', 'update']\n",
      "\n"
     ]
    }
   ],
   "source": [
    "setTmp = {6,3,3,4}\n",
    "print('type - ' , type(setTmp))\n",
    "print('data - ' , setTmp)\n",
    "print('dir  - ' , dir(setTmp))\n",
    "print()\n",
    "\n",
    "# indexing error \n",
    "# print('indexing - ' , setTmp[0])"
   ]
  },
  {
   "cell_type": "code",
   "execution_count": 178,
   "id": "25c614df",
   "metadata": {},
   "outputs": [
    {
     "name": "stdout",
     "output_type": "stream",
     "text": [
      "중복을 제거하고 유니크한 값을 출력하라 - \n",
      "{'여', '남'}\n"
     ]
    }
   ],
   "source": [
    "print('중복을 제거하고 유니크한 값을 출력하라 - ') \n",
    "gender = ['남', '여', '여', '여', '남', '남']\n",
    "answer = set(gender)\n",
    "print(answer)"
   ]
  },
  {
   "cell_type": "code",
   "execution_count": 186,
   "id": "6a5addd9",
   "metadata": {},
   "outputs": [
    {
     "name": "stdout",
     "output_type": "stream",
     "text": [
      "case03 - set \n",
      "\n",
      "{'DongA': 2, 'cs': 2, 'cat': 4, 'word': 1, 'dog': 4}\n"
     ]
    }
   ],
   "source": [
    "print('case03 - set ') \n",
    "\n",
    "answer = {}\n",
    "lst = list(set(lstWord))\n",
    "for data in lst : \n",
    "    answer.update({ data : lstWord.count(data)})\n",
    "print()\n",
    "print(answer)"
   ]
  },
  {
   "cell_type": "code",
   "execution_count": 194,
   "id": "de293bd3",
   "metadata": {},
   "outputs": [
    {
     "name": "stdout",
     "output_type": "stream",
     "text": [
      "case04 - zip , list comprehension \n"
     ]
    },
    {
     "data": {
      "text/plain": [
       "{'DongA': 2, 'cs': 2, 'cat': 4, 'word': 1, 'dog': 4}"
      ]
     },
     "execution_count": 194,
     "metadata": {},
     "output_type": "execute_result"
    }
   ],
   "source": [
    "print('case04 - zip , list comprehension ') \n",
    "\n",
    "dict(zip(set(lstWord) , [ lstWord.count(data) for data in set(lstWord)]))\n"
   ]
  },
  {
   "cell_type": "code",
   "execution_count": null,
   "id": "bb31a351",
   "metadata": {},
   "outputs": [],
   "source": []
  },
  {
   "cell_type": "code",
   "execution_count": null,
   "id": "fe6fe609",
   "metadata": {},
   "outputs": [],
   "source": []
  },
  {
   "cell_type": "code",
   "execution_count": null,
   "id": "63720972",
   "metadata": {},
   "outputs": [],
   "source": []
  }
 ],
 "metadata": {
  "kernelspec": {
   "display_name": "Python 3 (ipykernel)",
   "language": "python",
   "name": "python3"
  },
  "language_info": {
   "codemirror_mode": {
    "name": "ipython",
    "version": 3
   },
   "file_extension": ".py",
   "mimetype": "text/x-python",
   "name": "python",
   "nbconvert_exporter": "python",
   "pygments_lexer": "ipython3",
   "version": "3.11.4"
  }
 },
 "nbformat": 4,
 "nbformat_minor": 5
}
