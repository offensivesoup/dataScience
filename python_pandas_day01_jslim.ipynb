{
 "cells": [
  {
   "cell_type": "markdown",
   "id": "71d64e48",
   "metadata": {},
   "source": [
    "#### 학습목표\n",
    "- 데이터 타입 : Series , DataFrame \n",
    "- Pandas 통해서 데이터분석과 시각화(matplotlib , seaborn, folium)\n",
    "- 분석 : 기술적 통계 분석 , 탐색적 데이터 분석(EDA)"
   ]
  },
  {
   "cell_type": "markdown",
   "id": "7412e4b2",
   "metadata": {},
   "source": [
    "- series(index + value) \n",
    "- pd.Serires() : 객체 생성 \n",
    "- index : 정수, 문자, 날짜, 시간 인덱스가 가능하고 인덱스는 중복을 허용하지 않는다 "
   ]
  },
  {
   "cell_type": "code",
   "execution_count": 7,
   "id": "df3a2239",
   "metadata": {},
   "outputs": [
    {
     "name": "stdout",
     "output_type": "stream",
     "text": [
      "numpy   version ,  1.24.3\n",
      "pandnas version ,  1.5.3\n"
     ]
    }
   ],
   "source": [
    "import numpy  as np\n",
    "import pandas as pd \n",
    "import matplotlib.pyplot as plt \n",
    "import json   as j \n",
    "\n",
    "import warnings\n",
    "warnings.filterwarnings('ignore')\n",
    "\n",
    "print('numpy   version , ' , np.__version__)\n",
    "print('pandnas version , ' , pd.__version__)"
   ]
  },
  {
   "cell_type": "code",
   "execution_count": 16,
   "id": "2c189667",
   "metadata": {},
   "outputs": [
    {
     "name": "stdout",
     "output_type": "stream",
     "text": [
      "type -  <class 'list'>\n",
      "type -  <class 'numpy.ndarray'>\n",
      "type -  <class 'pandas.core.series.Series'>\n",
      "\n",
      "0    1\n",
      "1    2\n",
      "2    3\n",
      "3    4\n",
      "4    5\n",
      "dtype: int32\n",
      "index  -  RangeIndex(start=0, stop=5, step=1)\n",
      "values -  [1 2 3 4 5] <class 'numpy.ndarray'>\n",
      "dtype  -  int32\n"
     ]
    }
   ],
   "source": [
    "lst = [1,2,3,4,5]\n",
    "print('type - ' , type(lst))\n",
    "ary = np.array(lst)\n",
    "print('type - ' , type(ary))\n",
    "series = pd.Series(ary) \n",
    "print('type - ' , type(series))\n",
    "print()\n",
    "print(series)\n",
    "print('index  - ' , series.index)\n",
    "print('values - ' , series.values , type(series.values))\n",
    "print('dtype  - ' , series.dtype)"
   ]
  },
  {
   "cell_type": "code",
   "execution_count": 19,
   "id": "6913e82a",
   "metadata": {},
   "outputs": [],
   "source": [
    "def aryInfo(ary) : \n",
    "    print('type - ' , type(ary)) \n",
    "    print('shape - ' , ary.shape)\n",
    "    print('ndim  - ' , ary.ndim)\n",
    "    print('dtype - ' , ary.dtype)\n",
    "    print()\n",
    "    print('data  -')\n",
    "    print(ary) \n",
    "\n",
    "def seriesInfo(s) :\n",
    "    print('type   - ' , type(s)) \n",
    "    print('index  - ' , s.index) \n",
    "    print('values - ' , s.values)\n",
    "    print('dtype  - ' , s.dtype)\n",
    "    print()\n",
    "    print('data  -')\n",
    "    print(s) \n",
    "    "
   ]
  },
  {
   "cell_type": "code",
   "execution_count": 22,
   "id": "554c213a",
   "metadata": {},
   "outputs": [
    {
     "name": "stdout",
     "output_type": "stream",
     "text": [
      "type   -  <class 'pandas.core.series.Series'>\n",
      "index  -  Index(['idx01', 'idx02', 'idx03'], dtype='object')\n",
      "values -  [1 2 3]\n",
      "dtype  -  int64\n",
      "\n",
      "data  -\n",
      "idx01    1\n",
      "idx02    2\n",
      "idx03    3\n",
      "dtype: int64\n"
     ]
    }
   ],
   "source": [
    "series = pd.Series({'idx01' : 1 , 'idx02' : 2 , 'idx03' : 3}) \n",
    "seriesInfo(series)"
   ]
  },
  {
   "cell_type": "code",
   "execution_count": 26,
   "id": "426df9ae",
   "metadata": {},
   "outputs": [
    {
     "name": "stdout",
     "output_type": "stream",
     "text": [
      "type   -  <class 'pandas.core.series.Series'>\n",
      "index  -  Index(['서초', '강남', '삼성', '송파', '서구'], dtype='object')\n",
      "values -  [1 2 3 4 5]\n",
      "dtype  -  int64\n",
      "\n",
      "data  -\n",
      "서초    1\n",
      "강남    2\n",
      "삼성    3\n",
      "송파    4\n",
      "서구    5\n",
      "dtype: int64\n"
     ]
    }
   ],
   "source": [
    "series = pd.Series(data  = [1,2,3,4,5] , \n",
    "                   index = ['서초', '강남', '삼성', '송파' , '서구'])\n",
    "seriesInfo(series)"
   ]
  },
  {
   "cell_type": "code",
   "execution_count": 31,
   "id": "eb0a3007",
   "metadata": {},
   "outputs": [
    {
     "name": "stdout",
     "output_type": "stream",
     "text": [
      "시리즈에 이름을 부여하는 것도 가능하다 - \n",
      "type   -  <class 'pandas.core.series.Series'>\n",
      "index  -  Index(['이름', '생년월일', '성별', '결혼여부'], dtype='object', name='신상정보')\n",
      "values -  ['임섭순' '2023-09-18' '남자' True]\n",
      "dtype  -  object\n",
      "\n",
      "data  -\n",
      "신상정보\n",
      "이름             임섭순\n",
      "생년월일    2023-09-18\n",
      "성별              남자\n",
      "결혼여부          True\n",
      "Name: 사용자 정보, dtype: object\n"
     ]
    }
   ],
   "source": [
    "print('시리즈에 이름을 부여하는 것도 가능하다 - ') \n",
    "series = pd.Series(data  = ('임섭순' , '2023-09-18' , '남자' , True) , \n",
    "                   index = ['이름', '생년월일', '성별', '결혼여부'])\n",
    "series.name = '사용자 정보'\n",
    "series.index.name = '신상정보' \n",
    "seriesInfo(series)"
   ]
  },
  {
   "cell_type": "code",
   "execution_count": 46,
   "id": "a38fe934",
   "metadata": {
    "collapsed": true
   },
   "outputs": [
    {
     "name": "stdout",
     "output_type": "stream",
     "text": [
      "신상정보\n",
      "이름             임섭순\n",
      "생년월일    2023-09-18\n",
      "성별              남자\n",
      "결혼여부          True\n",
      "Name: 사용자 정보, dtype: object\n",
      "\n",
      "indexing -\n",
      "임섭순 임섭순\n",
      "\n",
      "멀티 인덱싱하고 싶다면? - []\n",
      "신상정보\n",
      "이름    임섭순\n",
      "성별     남자\n",
      "Name: 사용자 정보, dtype: object type -  <class 'pandas.core.series.Series'>\n",
      "신상정보\n",
      "이름    임섭순\n",
      "성별     남자\n",
      "Name: 사용자 정보, dtype: object type -  <class 'pandas.core.series.Series'>\n",
      "\n",
      "범위 지정하여 인덱싱을하고 싶다면? - \n",
      "신상정보\n",
      "이름             임섭순\n",
      "생년월일    2023-09-18\n",
      "성별              남자\n",
      "Name: 사용자 정보, dtype: object\n"
     ]
    }
   ],
   "source": [
    "print(series)\n",
    "print()\n",
    "print('indexing -')\n",
    "print(series[0] , series['이름'])\n",
    "\n",
    "print()\n",
    "print('멀티 인덱싱하고 싶다면? - []') \n",
    "print(series[ [0,2] ] , 'type - ' , type(series[ [0,2] ]))\n",
    "print(series[ ['이름','성별'] ] , 'type - ' , type(series[ ['이름','성별'] ]))\n",
    "\n",
    "print()\n",
    "print('범위 지정하여 인덱싱을하고 싶다면? - ') \n",
    "print(series[0 : 3])\n"
   ]
  },
  {
   "cell_type": "code",
   "execution_count": 47,
   "id": "ca531e3b",
   "metadata": {
    "collapsed": true
   },
   "outputs": [
    {
     "name": "stdout",
     "output_type": "stream",
     "text": [
      "dir -  ['T', '_AXIS_LEN', '_AXIS_ORDERS', '_AXIS_TO_AXIS_NUMBER', '_HANDLED_TYPES', '__abs__', '__add__', '__and__', '__annotations__', '__array__', '__array_priority__', '__array_ufunc__', '__array_wrap__', '__bool__', '__class__', '__contains__', '__copy__', '__deepcopy__', '__delattr__', '__delitem__', '__dict__', '__dir__', '__divmod__', '__doc__', '__eq__', '__finalize__', '__float__', '__floordiv__', '__format__', '__ge__', '__getattr__', '__getattribute__', '__getitem__', '__getstate__', '__gt__', '__hash__', '__iadd__', '__iand__', '__ifloordiv__', '__imod__', '__imul__', '__init__', '__init_subclass__', '__int__', '__invert__', '__ior__', '__ipow__', '__isub__', '__iter__', '__itruediv__', '__ixor__', '__le__', '__len__', '__long__', '__lt__', '__matmul__', '__mod__', '__module__', '__mul__', '__ne__', '__neg__', '__new__', '__nonzero__', '__or__', '__pos__', '__pow__', '__radd__', '__rand__', '__rdivmod__', '__reduce__', '__reduce_ex__', '__repr__', '__rfloordiv__', '__rmatmul__', '__rmod__', '__rmul__', '__ror__', '__round__', '__rpow__', '__rsub__', '__rtruediv__', '__rxor__', '__setattr__', '__setitem__', '__setstate__', '__sizeof__', '__str__', '__sub__', '__subclasshook__', '__truediv__', '__weakref__', '__xor__', '_accessors', '_accum_func', '_add_numeric_operations', '_agg_by_level', '_agg_examples_doc', '_agg_see_also_doc', '_align_frame', '_align_series', '_append', '_arith_method', '_as_manager', '_attrs', '_binop', '_can_hold_na', '_check_inplace_and_allows_duplicate_labels', '_check_inplace_setting', '_check_is_chained_assignment_possible', '_check_label_or_level_ambiguity', '_check_setitem_copy', '_clear_item_cache', '_clip_with_one_bound', '_clip_with_scalar', '_cmp_method', '_consolidate', '_consolidate_inplace', '_construct_axes_dict', '_construct_axes_from_arguments', '_construct_result', '_constructor', '_constructor_expanddim', '_convert', '_convert_dtypes', '_data', '_dir_additions', '_dir_deletions', '_drop_axis', '_drop_labels_or_levels', '_duplicated', '_find_valid_index', '_flags', '_get_axis', '_get_axis_name', '_get_axis_number', '_get_axis_resolvers', '_get_block_manager_axis', '_get_bool_data', '_get_cacher', '_get_cleaned_column_resolvers', '_get_index_resolvers', '_get_label_or_level_values', '_get_numeric_data', '_get_value', '_get_values', '_get_values_tuple', '_get_with', '_gotitem', '_hidden_attrs', '_indexed_same', '_info_axis', '_info_axis_name', '_info_axis_number', '_init_dict', '_init_mgr', '_inplace_method', '_internal_names', '_internal_names_set', '_is_cached', '_is_copy', '_is_label_or_level_reference', '_is_label_reference', '_is_level_reference', '_is_mixed_type', '_is_view', '_item_cache', '_ixs', '_logical_func', '_logical_method', '_map_values', '_maybe_update_cacher', '_memory_usage', '_metadata', '_mgr', '_min_count_stat_function', '_name', '_needs_reindex_multi', '_protect_consolidate', '_reduce', '_reindex_axes', '_reindex_indexer', '_reindex_multi', '_reindex_with_indexers', '_rename', '_replace_single', '_repr_data_resource_', '_repr_latex_', '_reset_cache', '_reset_cacher', '_set_as_cached', '_set_axis', '_set_axis_name', '_set_axis_nocheck', '_set_is_copy', '_set_labels', '_set_name', '_set_value', '_set_values', '_set_with', '_set_with_engine', '_slice', '_stat_axis', '_stat_axis_name', '_stat_axis_number', '_stat_function', '_stat_function_ddof', '_take', '_take_with_is_copy', '_typ', '_update_inplace', '_validate_dtype', '_values', '_where', 'abs', 'add', 'add_prefix', 'add_suffix', 'agg', 'aggregate', 'align', 'all', 'any', 'append', 'apply', 'argmax', 'argmin', 'argsort', 'array', 'asfreq', 'asof', 'astype', 'at', 'at_time', 'attrs', 'autocorr', 'axes', 'backfill', 'between', 'between_time', 'bfill', 'bool', 'clip', 'combine', 'combine_first', 'compare', 'convert_dtypes', 'copy', 'corr', 'count', 'cov', 'cummax', 'cummin', 'cumprod', 'cumsum', 'describe', 'diff', 'div', 'divide', 'divmod', 'dot', 'drop', 'drop_duplicates', 'droplevel', 'dropna', 'dtype', 'dtypes', 'duplicated', 'empty', 'eq', 'equals', 'ewm', 'expanding', 'explode', 'factorize', 'ffill', 'fillna', 'filter', 'first', 'first_valid_index', 'flags', 'floordiv', 'ge', 'get', 'groupby', 'gt', 'hasnans', 'head', 'hist', 'iat', 'idxmax', 'idxmin', 'iloc', 'index', 'infer_objects', 'info', 'interpolate', 'is_monotonic', 'is_monotonic_decreasing', 'is_monotonic_increasing', 'is_unique', 'isin', 'isna', 'isnull', 'item', 'items', 'iteritems', 'keys', 'kurt', 'kurtosis', 'last', 'last_valid_index', 'le', 'loc', 'lt', 'mad', 'map', 'mask', 'max', 'mean', 'median', 'memory_usage', 'min', 'mod', 'mode', 'mul', 'multiply', 'name', 'nbytes', 'ndim', 'ne', 'nlargest', 'notna', 'notnull', 'nsmallest', 'nunique', 'pad', 'pct_change', 'pipe', 'plot', 'pop', 'pow', 'prod', 'product', 'quantile', 'radd', 'rank', 'ravel', 'rdiv', 'rdivmod', 'reindex', 'reindex_like', 'rename', 'rename_axis', 'reorder_levels', 'repeat', 'replace', 'resample', 'reset_index', 'rfloordiv', 'rmod', 'rmul', 'rolling', 'round', 'rpow', 'rsub', 'rtruediv', 'sample', 'searchsorted', 'sem', 'set_axis', 'set_flags', 'shape', 'shift', 'size', 'skew', 'slice_shift', 'sort_index', 'sort_values', 'squeeze', 'std', 'str', 'sub', 'subtract', 'sum', 'swapaxes', 'swaplevel', 'tail', 'take', 'to_clipboard', 'to_csv', 'to_dict', 'to_excel', 'to_frame', 'to_hdf', 'to_json', 'to_latex', 'to_list', 'to_markdown', 'to_numpy', 'to_period', 'to_pickle', 'to_sql', 'to_string', 'to_timestamp', 'to_xarray', 'transform', 'transpose', 'truediv', 'truncate', 'tz_convert', 'tz_localize', 'unique', 'unstack', 'update', 'value_counts', 'values', 'var', 'view', 'where', 'xs', '결혼여부', '생년월일', '성별', '이름']\n"
     ]
    }
   ],
   "source": [
    "print('dir - ' , dir(series))"
   ]
  },
  {
   "cell_type": "code",
   "execution_count": 53,
   "id": "f024cd90",
   "metadata": {},
   "outputs": [
    {
     "name": "stdout",
     "output_type": "stream",
     "text": [
      "key -  이름 임섭순\n",
      "key -  생년월일 2023-09-18\n",
      "key -  성별 남자\n",
      "key -  결혼여부 True\n",
      "\n",
      "values -  임섭순\n",
      "values -  2023-09-18\n",
      "values -  남자\n",
      "values -  True\n",
      "\n",
      "key -  이름 values -  임섭순\n",
      "key -  생년월일 values -  2023-09-18\n",
      "key -  성별 values -  남자\n",
      "key -  결혼여부 values -  True\n"
     ]
    }
   ],
   "source": [
    "for key in series.keys() : \n",
    "    print('key - ' , key , series[key])\n",
    "print()\n",
    "for value in series.values : \n",
    "    print('values - ' , value)\n",
    "print()\n",
    "for key, value in series.items() : \n",
    "    print('key - ' , key , 'values - ' , value)\n"
   ]
  },
  {
   "cell_type": "code",
   "execution_count": 66,
   "id": "c09fd5a4",
   "metadata": {},
   "outputs": [
    {
     "name": "stdout",
     "output_type": "stream",
     "text": [
      "series index  -  RangeIndex(start=0, stop=11, step=1)\n",
      "series values -  [10 11 12 13 14 15 16 17 18 19 20] <class 'numpy.ndarray'>\n",
      "벡터화 연산   -  [100 121 144 169 196 225 256 289 324 361 400]\n",
      "\n",
      "시리즈의 데이터가 배열이므로 \n",
      "벡터화 연산   -  0     100\n",
      "1     121\n",
      "2     144\n",
      "3     169\n",
      "4     196\n",
      "5     225\n",
      "6     256\n",
      "7     289\n",
      "8     324\n",
      "9     361\n",
      "10    400\n",
      "dtype: int64\n",
      "\n",
      "불리언 인덱싱 가능할까? - \n",
      "[10 12 14 16 18 20]\n",
      "0     10\n",
      "2     12\n",
      "4     14\n",
      "6     16\n",
      "8     18\n",
      "10    20\n",
      "dtype: int64\n"
     ]
    }
   ],
   "source": [
    "series = pd.Series( range(10, 21) )\n",
    "# seriesInfo(series)\n",
    "print('series index  - ' , series.index)\n",
    "print('series values - ' , series.values , type(series.values))\n",
    "print('벡터화 연산   - ' , series.values ** 2)\n",
    "print()\n",
    "print('시리즈의 데이터가 배열이므로 ')\n",
    "print('벡터화 연산   - ' , series ** 2)\n",
    "print()\n",
    "print('불리언 인덱싱 가능할까? - ') \n",
    "print(series.values[ series.values % 2 == 0 ])\n",
    "print(series[ series % 2 == 0 ])"
   ]
  },
  {
   "cell_type": "code",
   "execution_count": 83,
   "id": "9719b5a9",
   "metadata": {},
   "outputs": [
    {
     "name": "stdout",
     "output_type": "stream",
     "text": [
      "인덱스를 날짜로 사용하고 싶다면? - \n",
      "today -  2023-09-18\n",
      "\n",
      "오늘 날짜부터 10일간의 날짜를 생성하여 시리즈의 인덱스로 사용하고 싶다면 - \n",
      "idx -  <class 'list'> 2023-09-18\n"
     ]
    }
   ],
   "source": [
    "from datetime import date , datetime , timedelta\n",
    "print('인덱스를 날짜로 사용하고 싶다면? - ') \n",
    "\n",
    "today = date(2023 , 9 , 18)\n",
    "print('today - ' , today)\n",
    "\n",
    "# print(today + timedelta(days = 25))\n",
    "\n",
    "print()\n",
    "\n",
    "print('오늘 날짜부터 10일간의 날짜를 생성하여 시리즈의 인덱스로 사용하고 싶다면 - ')\n",
    "\n",
    "idx = [ today + timedelta(day) for day in range(10)]\n",
    "print('idx - ' , type(idx) , idx[0])"
   ]
  },
  {
   "cell_type": "code",
   "execution_count": 135,
   "id": "147f93b5",
   "metadata": {},
   "outputs": [
    {
     "name": "stdout",
     "output_type": "stream",
     "text": [
      "type   -  <class 'pandas.core.series.Series'>\n",
      "index  -  Index([2023-09-18, 2023-09-19, 2023-09-20, 2023-09-21, 2023-09-22, 2023-09-23,\n",
      "       2023-09-24, 2023-09-25, 2023-09-26, 2023-09-27],\n",
      "      dtype='object')\n",
      "values -  [148.89755859 127.48147921 125.24685465 118.74714467 113.34489616\n",
      " 121.73653425 117.87212756 118.68956714 131.99105348 120.88308844]\n",
      "dtype  -  float64\n",
      "\n",
      "data  -\n",
      "2023-09-18    148.897559\n",
      "2023-09-19    127.481479\n",
      "2023-09-20    125.246855\n",
      "2023-09-21    118.747145\n",
      "2023-09-22    113.344896\n",
      "2023-09-23    121.736534\n",
      "2023-09-24    117.872128\n",
      "2023-09-25    118.689567\n",
      "2023-09-26    131.991053\n",
      "2023-09-27    120.883088\n",
      "dtype: float64\n"
     ]
    }
   ],
   "source": [
    "# series = pd.Series(data  = [ np.random.randint(1, 100) for d in range(10)] , \n",
    "#                    index = idx )\n",
    "series01 = pd.Series(data  = np.random.normal(50 , 5, (10,))  , \n",
    "                     index = idx )\n",
    "\n",
    "series02 = pd.Series(data  = np.random.normal(70 , 8, (10,))  , \n",
    "                     index = idx )\n",
    "\n",
    "# seriesInfo(series)\n",
    "series03 = series01 + series02 \n",
    "seriesInfo(series03)"
   ]
  },
  {
   "cell_type": "code",
   "execution_count": 131,
   "id": "6e0366ff",
   "metadata": {},
   "outputs": [
    {
     "name": "stdout",
     "output_type": "stream",
     "text": [
      "데이터 갱신 - \n",
      "2023-09-18     90.000000\n",
      "2023-09-19    116.509073\n",
      "2023-09-20    120.048112\n",
      "2023-09-21    123.506467\n",
      "2023-09-22    117.756038\n",
      "2023-09-23    108.848374\n",
      "2023-09-24    115.946812\n",
      "2023-09-25    130.120267\n",
      "2023-09-26    126.754615\n",
      "2023-09-27    127.877384\n",
      "dtype: float64\n"
     ]
    }
   ],
   "source": [
    "print('데이터 갱신 - ') \n",
    "series03[0] = 90\n",
    "print(series03)"
   ]
  },
  {
   "cell_type": "code",
   "execution_count": 133,
   "id": "d6ea8046",
   "metadata": {},
   "outputs": [
    {
     "name": "stdout",
     "output_type": "stream",
     "text": [
      "type   -  <class 'pandas.core.series.Series'>\n",
      "index  -  Index([  2023-09-18,   2023-09-19,   2023-09-20,   2023-09-21,   2023-09-22,\n",
      "         2023-09-23,   2023-09-24,   2023-09-25,   2023-09-26,   2023-09-27,\n",
      "       '2023-09-18'],\n",
      "      dtype='object')\n",
      "values -  [ 90.         116.50907322 120.04811155 123.50646693 117.75603809\n",
      " 108.8483743  115.94681244 130.12026747 126.75461503 127.87738408\n",
      "  80.        ]\n",
      "dtype  -  float64\n",
      "\n",
      "data  -\n",
      "2023-09-18     90.000000\n",
      "2023-09-19    116.509073\n",
      "2023-09-20    120.048112\n",
      "2023-09-21    123.506467\n",
      "2023-09-22    117.756038\n",
      "2023-09-23    108.848374\n",
      "2023-09-24    115.946812\n",
      "2023-09-25    130.120267\n",
      "2023-09-26    126.754615\n",
      "2023-09-27    127.877384\n",
      "2023-09-18     80.000000\n",
      "dtype: float64\n"
     ]
    }
   ],
   "source": [
    "seriesInfo(series03)"
   ]
  },
  {
   "cell_type": "code",
   "execution_count": 136,
   "id": "0b5d17a7",
   "metadata": {},
   "outputs": [
    {
     "name": "stdout",
     "output_type": "stream",
     "text": [
      "type   -  <class 'pandas.core.series.Series'>\n",
      "index  -  Index([  2023-09-18,   2023-09-19,   2023-09-20,   2023-09-21,   2023-09-22,\n",
      "         2023-09-23,   2023-09-24,   2023-09-25,   2023-09-26,   2023-09-27,\n",
      "       '2023-09-18'],\n",
      "      dtype='object')\n",
      "values -  [148.89755859 127.48147921 125.24685465 118.74714467 113.34489616\n",
      " 121.73653425 117.87212756 118.68956714 131.99105348 120.88308844\n",
      "  80.        ]\n",
      "dtype  -  float64\n",
      "\n",
      "data  -\n",
      "2023-09-18    148.897559\n",
      "2023-09-19    127.481479\n",
      "2023-09-20    125.246855\n",
      "2023-09-21    118.747145\n",
      "2023-09-22    113.344896\n",
      "2023-09-23    121.736534\n",
      "2023-09-24    117.872128\n",
      "2023-09-25    118.689567\n",
      "2023-09-26    131.991053\n",
      "2023-09-27    120.883088\n",
      "2023-09-18     80.000000\n",
      "dtype: float64\n"
     ]
    }
   ],
   "source": [
    "series03['2023-09-18'] = 80\n",
    "seriesInfo(series03)"
   ]
  },
  {
   "cell_type": "code",
   "execution_count": 129,
   "id": "6813bce8",
   "metadata": {},
   "outputs": [
    {
     "name": "stdout",
     "output_type": "stream",
     "text": [
      "데이터 삭제 - \n",
      "2023-09-18     90.000000\n",
      "2023-09-19    125.415542\n",
      "2023-09-20    116.333673\n",
      "2023-09-21    124.251032\n",
      "2023-09-22    129.553765\n",
      "2023-09-23    109.631107\n",
      "2023-09-24    105.365968\n",
      "2023-09-25    131.377853\n",
      "2023-09-26    122.683935\n",
      "2023-09-27    117.264534\n",
      "2023-09-18     80.000000\n",
      "dtype: float64\n"
     ]
    }
   ],
   "source": [
    "print('데이터 삭제 - ') \n",
    "print(series03)"
   ]
  },
  {
   "cell_type": "code",
   "execution_count": 148,
   "id": "50aa021c",
   "metadata": {},
   "outputs": [
    {
     "data": {
      "text/plain": [
       "2023-09-18    148.897559\n",
       "2023-09-19    127.481479\n",
       "2023-09-20    125.246855\n",
       "2023-09-21    118.747145\n",
       "2023-09-22    113.344896\n",
       "2023-09-23    121.736534\n",
       "2023-09-24    117.872128\n",
       "2023-09-25    118.689567\n",
       "2023-09-26    131.991053\n",
       "2023-09-27    120.883088\n",
       "2023-09-18           NaN\n",
       "dtype: float64"
      ]
     },
     "execution_count": 148,
     "metadata": {},
     "output_type": "execute_result"
    }
   ],
   "source": [
    "series03['2023-09-18'] = np.NaN\n",
    "series03"
   ]
  },
  {
   "cell_type": "code",
   "execution_count": 150,
   "id": "a5339ed5",
   "metadata": {},
   "outputs": [
    {
     "name": "stdout",
     "output_type": "stream",
     "text": [
      "null - 결측값을 의미한다\n",
      "pd.isnull() - pd.notnull() \n",
      "2023-09-18    False\n",
      "2023-09-19    False\n",
      "2023-09-20    False\n",
      "2023-09-21    False\n",
      "2023-09-22    False\n",
      "2023-09-23    False\n",
      "2023-09-24    False\n",
      "2023-09-25    False\n",
      "2023-09-26    False\n",
      "2023-09-27    False\n",
      "2023-09-18    False\n",
      "dtype: bool\n",
      "\n",
      "2023-09-18    True\n",
      "2023-09-19    True\n",
      "2023-09-20    True\n",
      "2023-09-21    True\n",
      "2023-09-22    True\n",
      "2023-09-23    True\n",
      "2023-09-24    True\n",
      "2023-09-25    True\n",
      "2023-09-26    True\n",
      "2023-09-27    True\n",
      "2023-09-18    True\n",
      "dtype: bool\n",
      "\n",
      "2023-09-18    False\n",
      "2023-09-19    False\n",
      "2023-09-20    False\n",
      "2023-09-21    False\n",
      "2023-09-22    False\n",
      "2023-09-23    False\n",
      "2023-09-24    False\n",
      "2023-09-25    False\n",
      "2023-09-26    False\n",
      "2023-09-27    False\n",
      "2023-09-18    False\n",
      "dtype: bool\n"
     ]
    }
   ],
   "source": [
    "print('null - 결측값을 의미한다') \n",
    "print('pd.isnull() - pd.notnull() ') \n",
    "print(pd.isnull(series03))\n",
    "print()\n",
    "print(pd.notnull(series03))\n",
    "\n",
    "print()\n",
    "series03[ pd.isnull(series03) ] = np.mean(series03) \n",
    "print(pd.isnull(series03))"
   ]
  },
  {
   "cell_type": "code",
   "execution_count": 163,
   "id": "c3c74076",
   "metadata": {},
   "outputs": [
    {
     "name": "stdout",
     "output_type": "stream",
     "text": [
      "len  -  11\n",
      "mean -  float64 113.4220727562552\n",
      "\n",
      "fillna() - 결측값을 원하는 값으로 채우고자 할 때\n",
      "2023-09-18    148.897559\n",
      "2023-09-19    127.481479\n",
      "2023-09-20    125.246855\n",
      "2023-09-21    118.747145\n",
      "2023-09-22    113.344896\n",
      "2023-09-23           NaN\n",
      "2023-09-24    117.872128\n",
      "2023-09-25    118.689567\n",
      "2023-09-26    131.991053\n",
      "2023-09-27    120.883088\n",
      "2023-09-18    124.489030\n",
      "dtype: float64\n",
      "mean -  float64 124.76428003188073\n",
      "\n",
      "\n",
      "2023-09-18    148.897559\n",
      "2023-09-19    127.481479\n",
      "2023-09-20    125.246855\n",
      "2023-09-21    118.747145\n",
      "2023-09-22    113.344896\n",
      "2023-09-23      0.000000\n",
      "2023-09-24    117.872128\n",
      "2023-09-25    118.689567\n",
      "2023-09-26    131.991053\n",
      "2023-09-27    120.883088\n",
      "2023-09-18    124.489030\n",
      "dtype: float64\n",
      "mean -  float64 113.4220727562552\n"
     ]
    }
   ],
   "source": [
    "print('len  - ' , len(series03))\n",
    "print('mean - ' , series03.dtype , np.mean(series03))\n",
    "print()\n",
    "print('fillna() - 결측값을 원하는 값으로 채우고자 할 때') \n",
    "series03[5] = np.NaN\n",
    "print( series03 )\n",
    "print('mean - ' , series03.dtype , np.mean(series03))\n",
    "print()\n",
    "series03 = series03.fillna(0) \n",
    "print()\n",
    "print( series03 )\n",
    "print('mean - ' , series03.dtype , np.mean(series03))\n"
   ]
  },
  {
   "cell_type": "code",
   "execution_count": 165,
   "id": "5c283df6",
   "metadata": {},
   "outputs": [
    {
     "data": {
      "text/plain": [
       "2023-09-18    148.897559\n",
       "2023-09-19    127.481479\n",
       "2023-09-20    125.246855\n",
       "2023-09-21           NaN\n",
       "2023-09-22    113.344896\n",
       "2023-09-23      0.000000\n",
       "2023-09-24    117.872128\n",
       "2023-09-25    118.689567\n",
       "2023-09-26           NaN\n",
       "2023-09-27    120.883088\n",
       "2023-09-18    124.489030\n",
       "dtype: float64"
      ]
     },
     "execution_count": 165,
     "metadata": {},
     "output_type": "execute_result"
    }
   ],
   "source": [
    "series03[3] = np.NaN\n",
    "series03[8] = np.NaN\n",
    "series03"
   ]
  },
  {
   "cell_type": "code",
   "execution_count": 166,
   "id": "08a5b772",
   "metadata": {},
   "outputs": [
    {
     "name": "stdout",
     "output_type": "stream",
     "text": [
      "subset - 결측값을 제외한 \n"
     ]
    },
    {
     "data": {
      "text/plain": [
       "2023-09-18    148.897559\n",
       "2023-09-19    127.481479\n",
       "2023-09-20    125.246855\n",
       "2023-09-22    113.344896\n",
       "2023-09-23      0.000000\n",
       "2023-09-24    117.872128\n",
       "2023-09-25    118.689567\n",
       "2023-09-27    120.883088\n",
       "2023-09-18    124.489030\n",
       "dtype: float64"
      ]
     },
     "execution_count": 166,
     "metadata": {},
     "output_type": "execute_result"
    }
   ],
   "source": [
    "print('subset - 결측값을 제외한 ')\n",
    "series04 = series03[ pd.notnull(series03) ]\n",
    "series04"
   ]
  },
  {
   "cell_type": "code",
   "execution_count": 179,
   "id": "f3351837",
   "metadata": {},
   "outputs": [
    {
     "name": "stdout",
     "output_type": "stream",
     "text": [
      "type -  <class 'datetime.date'> 2023-09-18\n"
     ]
    },
    {
     "data": {
      "text/plain": [
       "2023-09-19    127.481479\n",
       "2023-09-20    125.246855\n",
       "2023-09-22    113.344896\n",
       "2023-09-23      0.000000\n",
       "2023-09-24    117.872128\n",
       "2023-09-25    118.689567\n",
       "2023-09-27    120.883088\n",
       "dtype: float64"
      ]
     },
     "execution_count": 179,
     "metadata": {},
     "output_type": "execute_result"
    }
   ],
   "source": [
    "dateIdx = date(2023, 9, 18) \n",
    "# datetime.strptime('2023-09-18' , '%Y-%m-%d')\n",
    "print('type - ' , type(dateIdx) , dateIdx ) \n",
    "del series04[dateIdx]\n",
    "series04"
   ]
  },
  {
   "cell_type": "code",
   "execution_count": null,
   "id": "a7404853",
   "metadata": {},
   "outputs": [],
   "source": []
  },
  {
   "cell_type": "code",
   "execution_count": null,
   "id": "627728bf",
   "metadata": {},
   "outputs": [],
   "source": []
  },
  {
   "cell_type": "code",
   "execution_count": null,
   "id": "a8c119b5",
   "metadata": {},
   "outputs": [],
   "source": []
  },
  {
   "cell_type": "code",
   "execution_count": null,
   "id": "cfe1900f",
   "metadata": {},
   "outputs": [],
   "source": []
  },
  {
   "cell_type": "code",
   "execution_count": null,
   "id": "6ae2db79",
   "metadata": {},
   "outputs": [],
   "source": []
  },
  {
   "cell_type": "code",
   "execution_count": null,
   "id": "9d86f821",
   "metadata": {},
   "outputs": [],
   "source": []
  },
  {
   "cell_type": "code",
   "execution_count": null,
   "id": "f3239cb2",
   "metadata": {},
   "outputs": [],
   "source": []
  },
  {
   "cell_type": "code",
   "execution_count": null,
   "id": "ab870f08",
   "metadata": {},
   "outputs": [],
   "source": []
  },
  {
   "cell_type": "code",
   "execution_count": null,
   "id": "2b522446",
   "metadata": {},
   "outputs": [],
   "source": []
  },
  {
   "cell_type": "code",
   "execution_count": null,
   "id": "a9f50a50",
   "metadata": {},
   "outputs": [],
   "source": []
  },
  {
   "cell_type": "code",
   "execution_count": null,
   "id": "6d42a54d",
   "metadata": {},
   "outputs": [],
   "source": []
  },
  {
   "cell_type": "code",
   "execution_count": null,
   "id": "347ec9a3",
   "metadata": {},
   "outputs": [],
   "source": []
  },
  {
   "cell_type": "code",
   "execution_count": null,
   "id": "318e5c55",
   "metadata": {},
   "outputs": [],
   "source": []
  },
  {
   "cell_type": "code",
   "execution_count": null,
   "id": "de6d8f54",
   "metadata": {},
   "outputs": [],
   "source": []
  },
  {
   "cell_type": "code",
   "execution_count": null,
   "id": "bc05b43d",
   "metadata": {},
   "outputs": [],
   "source": []
  },
  {
   "cell_type": "code",
   "execution_count": null,
   "id": "d01e6fcc",
   "metadata": {},
   "outputs": [],
   "source": []
  },
  {
   "cell_type": "code",
   "execution_count": null,
   "id": "da7f22cc",
   "metadata": {},
   "outputs": [],
   "source": []
  },
  {
   "cell_type": "code",
   "execution_count": null,
   "id": "a6ed3e96",
   "metadata": {},
   "outputs": [],
   "source": []
  },
  {
   "cell_type": "code",
   "execution_count": null,
   "id": "85cb8102",
   "metadata": {},
   "outputs": [],
   "source": []
  },
  {
   "cell_type": "code",
   "execution_count": null,
   "id": "6fbfcca0",
   "metadata": {},
   "outputs": [],
   "source": []
  },
  {
   "cell_type": "code",
   "execution_count": null,
   "id": "4992e4c7",
   "metadata": {},
   "outputs": [],
   "source": []
  },
  {
   "cell_type": "code",
   "execution_count": null,
   "id": "c6fb1085",
   "metadata": {},
   "outputs": [],
   "source": []
  },
  {
   "cell_type": "code",
   "execution_count": null,
   "id": "23c8ab1d",
   "metadata": {},
   "outputs": [],
   "source": []
  },
  {
   "cell_type": "code",
   "execution_count": null,
   "id": "6261b8d6",
   "metadata": {},
   "outputs": [],
   "source": []
  },
  {
   "cell_type": "code",
   "execution_count": null,
   "id": "e6aef011",
   "metadata": {},
   "outputs": [],
   "source": []
  },
  {
   "cell_type": "code",
   "execution_count": null,
   "id": "eace7448",
   "metadata": {},
   "outputs": [],
   "source": []
  },
  {
   "cell_type": "code",
   "execution_count": null,
   "id": "89bd906b",
   "metadata": {},
   "outputs": [],
   "source": []
  },
  {
   "cell_type": "code",
   "execution_count": null,
   "id": "23f5711b",
   "metadata": {},
   "outputs": [],
   "source": []
  },
  {
   "cell_type": "code",
   "execution_count": null,
   "id": "216a2597",
   "metadata": {},
   "outputs": [],
   "source": []
  },
  {
   "cell_type": "code",
   "execution_count": null,
   "id": "b4bfafa2",
   "metadata": {},
   "outputs": [],
   "source": []
  },
  {
   "cell_type": "code",
   "execution_count": null,
   "id": "aa70abeb",
   "metadata": {},
   "outputs": [],
   "source": []
  },
  {
   "cell_type": "code",
   "execution_count": null,
   "id": "c782ee74",
   "metadata": {},
   "outputs": [],
   "source": []
  },
  {
   "cell_type": "code",
   "execution_count": null,
   "id": "37ef6870",
   "metadata": {},
   "outputs": [],
   "source": []
  },
  {
   "cell_type": "code",
   "execution_count": null,
   "id": "4a55c623",
   "metadata": {},
   "outputs": [],
   "source": []
  },
  {
   "cell_type": "code",
   "execution_count": null,
   "id": "6565991f",
   "metadata": {},
   "outputs": [],
   "source": []
  },
  {
   "cell_type": "code",
   "execution_count": null,
   "id": "7d83f627",
   "metadata": {},
   "outputs": [],
   "source": []
  },
  {
   "cell_type": "code",
   "execution_count": null,
   "id": "0f842eb0",
   "metadata": {},
   "outputs": [],
   "source": []
  },
  {
   "cell_type": "code",
   "execution_count": null,
   "id": "dcb0e15a",
   "metadata": {},
   "outputs": [],
   "source": []
  },
  {
   "cell_type": "code",
   "execution_count": null,
   "id": "64098c6c",
   "metadata": {},
   "outputs": [],
   "source": []
  },
  {
   "cell_type": "code",
   "execution_count": null,
   "id": "a0ee9dbe",
   "metadata": {},
   "outputs": [],
   "source": []
  },
  {
   "cell_type": "code",
   "execution_count": null,
   "id": "e679d3e4",
   "metadata": {},
   "outputs": [],
   "source": []
  },
  {
   "cell_type": "code",
   "execution_count": null,
   "id": "8a91a125",
   "metadata": {},
   "outputs": [],
   "source": []
  },
  {
   "cell_type": "code",
   "execution_count": null,
   "id": "1980f460",
   "metadata": {},
   "outputs": [],
   "source": []
  },
  {
   "cell_type": "code",
   "execution_count": null,
   "id": "ae3521b0",
   "metadata": {},
   "outputs": [],
   "source": []
  },
  {
   "cell_type": "code",
   "execution_count": null,
   "id": "aa13bd4d",
   "metadata": {},
   "outputs": [],
   "source": []
  },
  {
   "cell_type": "code",
   "execution_count": null,
   "id": "99a04211",
   "metadata": {},
   "outputs": [],
   "source": []
  },
  {
   "cell_type": "code",
   "execution_count": null,
   "id": "ab61c9c7",
   "metadata": {},
   "outputs": [],
   "source": []
  },
  {
   "cell_type": "code",
   "execution_count": null,
   "id": "79b29423",
   "metadata": {},
   "outputs": [],
   "source": []
  }
 ],
 "metadata": {
  "kernelspec": {
   "display_name": "Python 3 (ipykernel)",
   "language": "python",
   "name": "python3"
  },
  "language_info": {
   "codemirror_mode": {
    "name": "ipython",
    "version": 3
   },
   "file_extension": ".py",
   "mimetype": "text/x-python",
   "name": "python",
   "nbconvert_exporter": "python",
   "pygments_lexer": "ipython3",
   "version": "3.11.4"
  }
 },
 "nbformat": 4,
 "nbformat_minor": 5
}
