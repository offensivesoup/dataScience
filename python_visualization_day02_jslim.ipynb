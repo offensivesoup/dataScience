{
 "cells": [
  {
   "cell_type": "code",
   "execution_count": 1,
   "id": "cacf8f2f",
   "metadata": {},
   "outputs": [
    {
     "name": "stdout",
     "output_type": "stream",
     "text": [
      "numpy   version ,  1.24.3\n",
      "pandnas version ,  1.5.3\n"
     ]
    }
   ],
   "source": [
    "import numpy  as np\n",
    "import pandas as pd \n",
    "import matplotlib.pyplot as plt \n",
    "import json   as j \n",
    "\n",
    "# \n",
    "import seaborn as sns \n",
    "import folium  as f \n",
    "\n",
    "import warnings\n",
    "warnings.filterwarnings('ignore')\n",
    "\n",
    "print('numpy   version , ' , np.__version__)\n",
    "print('pandnas version , ' , pd.__version__)\n",
    "\n",
    "%matplotlib inline\n",
    "\n",
    "# 한글 폰트 문제 해결\n",
    "import platform\n",
    "from matplotlib import font_manager, rc\n",
    "plt.rcParams['axes.unicode_minus'] = False\n",
    "\n",
    "if platform.system() == 'Darwin':\n",
    "    rc('font', family='AppleGothic')\n",
    "elif platform.system() == 'Windows':\n",
    "    path = \"c:/Windows/Fonts/malgun.ttf\"\n",
    "    font_name = font_manager.FontProperties(fname=path).get_name()\n",
    "    rc('font', family=font_name)\n",
    "else:\n",
    "    print('Unknown system... sorry~~~~') \n",
    "\n",
    "\n",
    "# 차트 축 <- 음수 부호 지원\n",
    "import matplotlib\n",
    "matplotlib.rcParams['axes.unicode_minus'] = False    \n",
    "    \n",
    "import warnings\n",
    "warnings.filterwarnings(action='ignore')    \n"
   ]
  },
  {
   "cell_type": "code",
   "execution_count": 78,
   "id": "6886e0e9",
   "metadata": {},
   "outputs": [
    {
     "data": {
      "text/html": [
       "<div>\n",
       "<style scoped>\n",
       "    .dataframe tbody tr th:only-of-type {\n",
       "        vertical-align: middle;\n",
       "    }\n",
       "\n",
       "    .dataframe tbody tr th {\n",
       "        vertical-align: top;\n",
       "    }\n",
       "\n",
       "    .dataframe thead th {\n",
       "        text-align: right;\n",
       "    }\n",
       "</style>\n",
       "<table border=\"1\" class=\"dataframe\">\n",
       "  <thead>\n",
       "    <tr style=\"text-align: right;\">\n",
       "      <th></th>\n",
       "      <th>manufacturer</th>\n",
       "      <th>model</th>\n",
       "      <th>displ</th>\n",
       "      <th>year</th>\n",
       "      <th>cyl</th>\n",
       "      <th>trans</th>\n",
       "      <th>drv</th>\n",
       "      <th>cty</th>\n",
       "      <th>hwy</th>\n",
       "      <th>fl</th>\n",
       "      <th>class</th>\n",
       "    </tr>\n",
       "  </thead>\n",
       "  <tbody>\n",
       "    <tr>\n",
       "      <th>1</th>\n",
       "      <td>audi</td>\n",
       "      <td>a4</td>\n",
       "      <td>1.8</td>\n",
       "      <td>1999</td>\n",
       "      <td>4</td>\n",
       "      <td>auto(l5)</td>\n",
       "      <td>f</td>\n",
       "      <td>18</td>\n",
       "      <td>29</td>\n",
       "      <td>p</td>\n",
       "      <td>compact</td>\n",
       "    </tr>\n",
       "    <tr>\n",
       "      <th>2</th>\n",
       "      <td>audi</td>\n",
       "      <td>a4</td>\n",
       "      <td>1.8</td>\n",
       "      <td>1999</td>\n",
       "      <td>4</td>\n",
       "      <td>manual(m5)</td>\n",
       "      <td>f</td>\n",
       "      <td>21</td>\n",
       "      <td>29</td>\n",
       "      <td>p</td>\n",
       "      <td>compact</td>\n",
       "    </tr>\n",
       "    <tr>\n",
       "      <th>3</th>\n",
       "      <td>audi</td>\n",
       "      <td>a4</td>\n",
       "      <td>2.0</td>\n",
       "      <td>2008</td>\n",
       "      <td>4</td>\n",
       "      <td>manual(m6)</td>\n",
       "      <td>f</td>\n",
       "      <td>20</td>\n",
       "      <td>31</td>\n",
       "      <td>p</td>\n",
       "      <td>compact</td>\n",
       "    </tr>\n",
       "    <tr>\n",
       "      <th>4</th>\n",
       "      <td>audi</td>\n",
       "      <td>a4</td>\n",
       "      <td>2.0</td>\n",
       "      <td>2008</td>\n",
       "      <td>4</td>\n",
       "      <td>auto(av)</td>\n",
       "      <td>f</td>\n",
       "      <td>21</td>\n",
       "      <td>30</td>\n",
       "      <td>p</td>\n",
       "      <td>compact</td>\n",
       "    </tr>\n",
       "    <tr>\n",
       "      <th>5</th>\n",
       "      <td>audi</td>\n",
       "      <td>a4</td>\n",
       "      <td>2.8</td>\n",
       "      <td>1999</td>\n",
       "      <td>6</td>\n",
       "      <td>auto(l5)</td>\n",
       "      <td>f</td>\n",
       "      <td>16</td>\n",
       "      <td>26</td>\n",
       "      <td>p</td>\n",
       "      <td>compact</td>\n",
       "    </tr>\n",
       "  </tbody>\n",
       "</table>\n",
       "</div>"
      ],
      "text/plain": [
       "  manufacturer model  displ  year  cyl       trans drv  cty  hwy fl    class\n",
       "1         audi    a4    1.8  1999    4    auto(l5)   f   18   29  p  compact\n",
       "2         audi    a4    1.8  1999    4  manual(m5)   f   21   29  p  compact\n",
       "3         audi    a4    2.0  2008    4  manual(m6)   f   20   31  p  compact\n",
       "4         audi    a4    2.0  2008    4    auto(av)   f   21   30  p  compact\n",
       "5         audi    a4    2.8  1999    6    auto(l5)   f   16   26  p  compact"
      ]
     },
     "execution_count": 78,
     "metadata": {},
     "output_type": "execute_result"
    }
   ],
   "source": [
    "mpgFrm = pd.read_excel('./data/mpg_visualization.xlsx' , \n",
    "                       index_col = 0)\n",
    "mpgFrm.head()"
   ]
  },
  {
   "cell_type": "code",
   "execution_count": 6,
   "id": "1b8d218b",
   "metadata": {},
   "outputs": [
    {
     "data": {
      "text/plain": [
       "Index(['manufacturer', 'model', 'displ', 'year', 'cyl', 'trans', 'drv', 'cty',\n",
       "       'hwy', 'fl', 'class'],\n",
       "      dtype='object')"
      ]
     },
     "execution_count": 6,
     "metadata": {},
     "output_type": "execute_result"
    }
   ],
   "source": [
    "mpgFrm.columns"
   ]
  },
  {
   "cell_type": "code",
   "execution_count": 13,
   "id": "e94b4993",
   "metadata": {},
   "outputs": [
    {
     "data": {
      "text/plain": [
       "array([4, 6, 8, 5], dtype=int64)"
      ]
     },
     "execution_count": 13,
     "metadata": {},
     "output_type": "execute_result"
    }
   ],
   "source": [
    "mpgFrm['cyl'].unique()"
   ]
  },
  {
   "cell_type": "code",
   "execution_count": 17,
   "id": "55fb0ca2",
   "metadata": {},
   "outputs": [
    {
     "data": {
      "text/plain": [
       "(234, 11)"
      ]
     },
     "execution_count": 17,
     "metadata": {},
     "output_type": "execute_result"
    }
   ],
   "source": [
    "mpgFrm.shape"
   ]
  },
  {
   "cell_type": "code",
   "execution_count": 18,
   "id": "dbecb39d",
   "metadata": {},
   "outputs": [
    {
     "data": {
      "text/html": [
       "<div>\n",
       "<style scoped>\n",
       "    .dataframe tbody tr th:only-of-type {\n",
       "        vertical-align: middle;\n",
       "    }\n",
       "\n",
       "    .dataframe tbody tr th {\n",
       "        vertical-align: top;\n",
       "    }\n",
       "\n",
       "    .dataframe thead th {\n",
       "        text-align: right;\n",
       "    }\n",
       "</style>\n",
       "<table border=\"1\" class=\"dataframe\">\n",
       "  <thead>\n",
       "    <tr style=\"text-align: right;\">\n",
       "      <th></th>\n",
       "      <th>displ</th>\n",
       "      <th>year</th>\n",
       "      <th>cyl</th>\n",
       "      <th>cty</th>\n",
       "      <th>hwy</th>\n",
       "    </tr>\n",
       "  </thead>\n",
       "  <tbody>\n",
       "    <tr>\n",
       "      <th>count</th>\n",
       "      <td>234.000000</td>\n",
       "      <td>234.000000</td>\n",
       "      <td>234.000000</td>\n",
       "      <td>234.000000</td>\n",
       "      <td>234.000000</td>\n",
       "    </tr>\n",
       "    <tr>\n",
       "      <th>mean</th>\n",
       "      <td>3.471795</td>\n",
       "      <td>2003.500000</td>\n",
       "      <td>5.888889</td>\n",
       "      <td>16.858974</td>\n",
       "      <td>23.440171</td>\n",
       "    </tr>\n",
       "    <tr>\n",
       "      <th>std</th>\n",
       "      <td>1.291959</td>\n",
       "      <td>4.509646</td>\n",
       "      <td>1.611534</td>\n",
       "      <td>4.255946</td>\n",
       "      <td>5.954643</td>\n",
       "    </tr>\n",
       "    <tr>\n",
       "      <th>min</th>\n",
       "      <td>1.600000</td>\n",
       "      <td>1999.000000</td>\n",
       "      <td>4.000000</td>\n",
       "      <td>9.000000</td>\n",
       "      <td>12.000000</td>\n",
       "    </tr>\n",
       "    <tr>\n",
       "      <th>25%</th>\n",
       "      <td>2.400000</td>\n",
       "      <td>1999.000000</td>\n",
       "      <td>4.000000</td>\n",
       "      <td>14.000000</td>\n",
       "      <td>18.000000</td>\n",
       "    </tr>\n",
       "    <tr>\n",
       "      <th>50%</th>\n",
       "      <td>3.300000</td>\n",
       "      <td>2003.500000</td>\n",
       "      <td>6.000000</td>\n",
       "      <td>17.000000</td>\n",
       "      <td>24.000000</td>\n",
       "    </tr>\n",
       "    <tr>\n",
       "      <th>75%</th>\n",
       "      <td>4.600000</td>\n",
       "      <td>2008.000000</td>\n",
       "      <td>8.000000</td>\n",
       "      <td>19.000000</td>\n",
       "      <td>27.000000</td>\n",
       "    </tr>\n",
       "    <tr>\n",
       "      <th>max</th>\n",
       "      <td>7.000000</td>\n",
       "      <td>2008.000000</td>\n",
       "      <td>8.000000</td>\n",
       "      <td>35.000000</td>\n",
       "      <td>44.000000</td>\n",
       "    </tr>\n",
       "  </tbody>\n",
       "</table>\n",
       "</div>"
      ],
      "text/plain": [
       "            displ         year         cyl         cty         hwy\n",
       "count  234.000000   234.000000  234.000000  234.000000  234.000000\n",
       "mean     3.471795  2003.500000    5.888889   16.858974   23.440171\n",
       "std      1.291959     4.509646    1.611534    4.255946    5.954643\n",
       "min      1.600000  1999.000000    4.000000    9.000000   12.000000\n",
       "25%      2.400000  1999.000000    4.000000   14.000000   18.000000\n",
       "50%      3.300000  2003.500000    6.000000   17.000000   24.000000\n",
       "75%      4.600000  2008.000000    8.000000   19.000000   27.000000\n",
       "max      7.000000  2008.000000    8.000000   35.000000   44.000000"
      ]
     },
     "execution_count": 18,
     "metadata": {},
     "output_type": "execute_result"
    }
   ],
   "source": [
    "mpgFrm.describe()"
   ]
  },
  {
   "cell_type": "markdown",
   "id": "d3ee1ef6",
   "metadata": {},
   "source": [
    "양적 자료(데이터)\n",
    "- 요약정보에 집계가 되는 컬럼으로 관측된 값이 수치 형태의 속성\n",
    "- box plot\n",
    "\n",
    "질적 자료(데이터)\n",
    "- 범주 또는 순서 형태의 속성을 가진 자료로 데이터의 분포를 확인해야하는 값들 \n",
    "- bar plot"
   ]
  },
  {
   "cell_type": "code",
   "execution_count": 24,
   "id": "530075ab",
   "metadata": {
    "collapsed": true
   },
   "outputs": [
    {
     "name": "stdout",
     "output_type": "stream",
     "text": [
      "양적자료만 추출하여 서브셋 구축 - \n"
     ]
    },
    {
     "data": {
      "text/plain": [
       "<Axes: >"
      ]
     },
     "execution_count": 24,
     "metadata": {},
     "output_type": "execute_result"
    },
    {
     "data": {
      "image/png": "[encoded data removed]",
      "text/plain": [
       "<Figure size 640x480 with 1 Axes>"
      ]
     },
     "metadata": {},
     "output_type": "display_data"
    }
   ],
   "source": [
    "print('양적자료만 추출하여 서브셋 구축 - ') \n",
    "subset = mpgFrm.loc[ :  , ['displ', 'cyl' , 'cty' , 'hwy']]\n",
    "# subset \n",
    "subset.boxplot(['cty'])"
   ]
  },
  {
   "cell_type": "code",
   "execution_count": 26,
   "id": "9598ae74",
   "metadata": {
    "collapsed": true
   },
   "outputs": [
    {
     "name": "stdout",
     "output_type": "stream",
     "text": [
      "질적자료 - 분포 value_counts() \n",
      "제조사의 분포를 확인하고 싶다 - \n"
     ]
    },
    {
     "data": {
      "text/plain": [
       "dodge         37\n",
       "toyota        34\n",
       "volkswagen    27\n",
       "ford          25\n",
       "chevrolet     19\n",
       "audi          18\n",
       "hyundai       14\n",
       "subaru        14\n",
       "nissan        13\n",
       "honda          9\n",
       "jeep           8\n",
       "pontiac        5\n",
       "land rover     4\n",
       "mercury        4\n",
       "lincoln        3\n",
       "Name: manufacturer, dtype: int64"
      ]
     },
     "execution_count": 26,
     "metadata": {},
     "output_type": "execute_result"
    }
   ],
   "source": [
    "print('질적자료 - 분포 value_counts() ')\n",
    "print('제조사의 분포를 확인하고 싶다 - ') \n",
    "mpgFrm['manufacturer'].value_counts()"
   ]
  },
  {
   "cell_type": "code",
   "execution_count": 29,
   "id": "76aa792c",
   "metadata": {},
   "outputs": [
    {
     "data": {
      "image/png": "[encoded data removed]",
      "text/plain": [
       "<Figure size 640x480 with 1 Axes>"
      ]
     },
     "metadata": {},
     "output_type": "display_data"
    }
   ],
   "source": [
    "plt.figure()\n",
    "\n",
    "plt.bar(mpgFrm['manufacturer'].value_counts().index , \n",
    "        mpgFrm['manufacturer'].value_counts().values)\n",
    "\n",
    "plt.show()\n",
    "plt.close()"
   ]
  },
  {
   "cell_type": "code",
   "execution_count": 36,
   "id": "f70c4b9d",
   "metadata": {},
   "outputs": [
    {
     "name": "stdout",
     "output_type": "stream",
     "text": [
      "Q1) 배기량(displ)에 따른 고속연비를 확인하고 한다\n",
      "배기량 4 이하인 자동차와 5이상인 자동차 중 고속도로 평균연비가 높은지를 확인한다면\n",
      "case01 - \n",
      "25.96319018404908\n",
      "18.07894736842105\n"
     ]
    }
   ],
   "source": [
    "print('Q1) 배기량(displ)에 따른 고속연비를 확인하고 한다')\n",
    "print('배기량 4 이하인 자동차와 5이상인 자동차 중 고속도로 평균연비가 높은지를 확인한다면')\n",
    "\n",
    "print('case01 - ') \n",
    "print(mpgFrm[ mpgFrm['displ'] <= 4 ]['hwy'].mean())\n",
    "print(mpgFrm[ mpgFrm['displ'] >= 5 ]['hwy'].mean())\n"
   ]
  },
  {
   "cell_type": "code",
   "execution_count": 39,
   "id": "b6a54554",
   "metadata": {},
   "outputs": [
    {
     "name": "stdout",
     "output_type": "stream",
     "text": [
      "Q2) 자동차 제조사에 따른 도시 연비를 비교할려고 한다\n",
      "audi , toyota 두 회사의 모든 차종에 대한 도시연비 평균을 비교 - \n",
      "17.61111111111111\n",
      "18.529411764705884\n"
     ]
    }
   ],
   "source": [
    "print('Q2) 자동차 제조사에 따른 도시 연비를 비교할려고 한다')\n",
    "print('audi , toyota 두 회사의 모든 차종에 대한 도시연비 평균을 비교 - ') \n",
    "print(mpgFrm[ mpgFrm['manufacturer'] == 'audi']['cty'].mean())\n",
    "print(mpgFrm[ mpgFrm['manufacturer'] == 'toyota' ]['cty'].mean())"
   ]
  },
  {
   "cell_type": "code",
   "execution_count": 55,
   "id": "a52fe4ba",
   "metadata": {},
   "outputs": [
    {
     "name": "stdout",
     "output_type": "stream",
     "text": [
      "Q3) chevrolet, ford, honda 제조사의 모든 차종에 대한 고속도로 연비 평균을 시각화\n"
     ]
    }
   ],
   "source": [
    "print('Q3) chevrolet, ford, honda 제조사의 모든 차종에 대한 고속도로 연비 평균을 시각화')\n",
    "\n",
    "c_idx = (mpgFrm['manufacturer'] == 'chevrolet')\n",
    "f_idx = (mpgFrm['manufacturer'] == 'ford')\n",
    "h_idx = (mpgFrm['manufacturer'] == 'honda')\n",
    "\n",
    "subset = mpgFrm.loc[ c_idx | f_idx | h_idx , : ]\n",
    "# subset['manufacturer'].unique()\n",
    "m_series = subset.groupby('manufacturer')['hwy'].mean()"
   ]
  },
  {
   "cell_type": "code",
   "execution_count": 56,
   "id": "3df581fc",
   "metadata": {
    "collapsed": true
   },
   "outputs": [
    {
     "data": {
      "image/png": "[encoded data removed]",
      "text/plain": [
       "<Figure size 640x480 with 1 Axes>"
      ]
     },
     "metadata": {},
     "output_type": "display_data"
    }
   ],
   "source": [
    "plt.figure()\n",
    "\n",
    "plt.bar(m_series.index , \n",
    "        m_series.values)\n",
    "\n",
    "plt.show()\n",
    "plt.close()"
   ]
  },
  {
   "cell_type": "code",
   "execution_count": 69,
   "id": "9067d2a7",
   "metadata": {
    "collapsed": true
   },
   "outputs": [
    {
     "name": "stdout",
     "output_type": "stream",
     "text": [
      "연료가격(price_fl) 파생변수를 추가할려고 한다 - \n",
      "c : 가스 2.35 , d : 2.38 , e : 2.11 , p : 3.45 , r : 2.22 \n"
     ]
    },
    {
     "data": {
      "text/html": [
       "<div>\n",
       "<style scoped>\n",
       "    .dataframe tbody tr th:only-of-type {\n",
       "        vertical-align: middle;\n",
       "    }\n",
       "\n",
       "    .dataframe tbody tr th {\n",
       "        vertical-align: top;\n",
       "    }\n",
       "\n",
       "    .dataframe thead th {\n",
       "        text-align: right;\n",
       "    }\n",
       "</style>\n",
       "<table border=\"1\" class=\"dataframe\">\n",
       "  <thead>\n",
       "    <tr style=\"text-align: right;\">\n",
       "      <th></th>\n",
       "      <th>fl</th>\n",
       "      <th>price_fl</th>\n",
       "    </tr>\n",
       "  </thead>\n",
       "  <tbody>\n",
       "    <tr>\n",
       "      <th>0</th>\n",
       "      <td>c</td>\n",
       "      <td>2.35</td>\n",
       "    </tr>\n",
       "    <tr>\n",
       "      <th>1</th>\n",
       "      <td>d</td>\n",
       "      <td>2.38</td>\n",
       "    </tr>\n",
       "    <tr>\n",
       "      <th>2</th>\n",
       "      <td>e</td>\n",
       "      <td>2.11</td>\n",
       "    </tr>\n",
       "    <tr>\n",
       "      <th>3</th>\n",
       "      <td>p</td>\n",
       "      <td>3.45</td>\n",
       "    </tr>\n",
       "    <tr>\n",
       "      <th>4</th>\n",
       "      <td>r</td>\n",
       "      <td>2.22</td>\n",
       "    </tr>\n",
       "  </tbody>\n",
       "</table>\n",
       "</div>"
      ],
      "text/plain": [
       "  fl  price_fl\n",
       "0  c      2.35\n",
       "1  d      2.38\n",
       "2  e      2.11\n",
       "3  p      3.45\n",
       "4  r      2.22"
      ]
     },
     "execution_count": 69,
     "metadata": {},
     "output_type": "execute_result"
    }
   ],
   "source": [
    "print('연료가격(price_fl) 파생변수를 추가할려고 한다 - ') \n",
    "print('c : 가스 2.35 , d : 2.38 , e : 2.11 , p : 3.45 , r : 2.22 ')\n",
    "\n",
    "priceFrm = pd.DataFrame({\n",
    "    'fl' : ['c','d','e','p','r'] ,\n",
    "    'price_fl' : [2.35, 2.38, 2.11, 3.45, 2.22]\n",
    "})\n",
    "priceFrm"
   ]
  },
  {
   "cell_type": "code",
   "execution_count": 79,
   "id": "527264cd",
   "metadata": {},
   "outputs": [],
   "source": [
    "mpgFrm = pd.merge(mpgFrm , priceFrm, how = 'inner' , on = 'fl')"
   ]
  },
  {
   "cell_type": "code",
   "execution_count": 80,
   "id": "2b874343",
   "metadata": {
    "collapsed": true
   },
   "outputs": [
    {
     "name": "stdout",
     "output_type": "stream",
     "text": [
      "<class 'pandas.core.frame.DataFrame'>\n",
      "Int64Index: 234 entries, 0 to 233\n",
      "Data columns (total 12 columns):\n",
      " #   Column        Non-Null Count  Dtype  \n",
      "---  ------        --------------  -----  \n",
      " 0   manufacturer  234 non-null    object \n",
      " 1   model         234 non-null    object \n",
      " 2   displ         234 non-null    float64\n",
      " 3   year          234 non-null    int64  \n",
      " 4   cyl           234 non-null    int64  \n",
      " 5   trans         234 non-null    object \n",
      " 6   drv           234 non-null    object \n",
      " 7   cty           234 non-null    int64  \n",
      " 8   hwy           234 non-null    int64  \n",
      " 9   fl            234 non-null    object \n",
      " 10  class         234 non-null    object \n",
      " 11  price_fl      234 non-null    float64\n",
      "dtypes: float64(2), int64(4), object(6)\n",
      "memory usage: 23.8+ KB\n"
     ]
    }
   ],
   "source": [
    "mpgFrm.info()"
   ]
  },
  {
   "cell_type": "code",
   "execution_count": 81,
   "id": "a3b9c773",
   "metadata": {},
   "outputs": [
    {
     "data": {
      "text/plain": [
       "manufacturer    0\n",
       "model           0\n",
       "displ           0\n",
       "year            0\n",
       "cyl             0\n",
       "trans           0\n",
       "drv             0\n",
       "cty             0\n",
       "hwy             0\n",
       "fl              0\n",
       "class           0\n",
       "price_fl        0\n",
       "dtype: int64"
      ]
     },
     "execution_count": 81,
     "metadata": {},
     "output_type": "execute_result"
    }
   ],
   "source": [
    "mpgFrm.isnull().sum()"
   ]
  },
  {
   "cell_type": "code",
   "execution_count": 82,
   "id": "ec12faf7",
   "metadata": {},
   "outputs": [],
   "source": [
    "mpgFrm.loc[65 , 'hwy'] = np.NaN\n",
    "mpgFrm.loc[120 , 'hwy'] = np.NaN\n",
    "mpgFrm.loc[154 , 'hwy'] = np.NaN\n",
    "mpgFrm.loc[189 , 'hwy'] = np.NaN\n",
    "mpgFrm.loc[219 , 'hwy'] = np.NaN\n",
    "mpgFrm.loc[230 , 'hwy'] = np.NaN"
   ]
  },
  {
   "cell_type": "code",
   "execution_count": 88,
   "id": "40dfd75d",
   "metadata": {
    "collapsed": true
   },
   "outputs": [
    {
     "name": "stdout",
     "output_type": "stream",
     "text": [
      "isnull , isna - \n"
     ]
    },
    {
     "data": {
      "text/plain": [
       "drv    0\n",
       "hwy    6\n",
       "dtype: int64"
      ]
     },
     "execution_count": 88,
     "metadata": {},
     "output_type": "execute_result"
    }
   ],
   "source": [
    "print('isnull , isna - ')\n",
    "mpgFrm[['drv' , 'hwy']].isna().sum()"
   ]
  },
  {
   "cell_type": "code",
   "execution_count": 98,
   "id": "4c1cb523",
   "metadata": {},
   "outputs": [
    {
     "name": "stdout",
     "output_type": "stream",
     "text": [
      "Q3) hwy 결측값을 제외하고 어떤 구동방식의 고속도로평균 연비가 높은지 확인한다면\n",
      "dropna - 결측값 제외\n",
      "drv\n",
      "4    19.174757\n",
      "f    27.960000\n",
      "r    21.000000\n",
      "Name: hwy, dtype: float64\n",
      "           hwy\n",
      "drv           \n",
      "4    19.174757\n",
      "f    27.960000\n",
      "r    21.000000\n"
     ]
    }
   ],
   "source": [
    "print('Q3) hwy 결측값을 제외하고 어떤 구동방식의 고속도로평균 연비가 높은지 확인한다면')\n",
    "print('dropna - 결측값 제외')\n",
    "print( mpgFrm.groupby('drv')['hwy'].mean())\n",
    "print( mpgFrm[['drv' , 'hwy']].dropna().groupby('drv').mean() )"
   ]
  },
  {
   "cell_type": "code",
   "execution_count": 105,
   "id": "30d08913",
   "metadata": {},
   "outputs": [
    {
     "name": "stdout",
     "output_type": "stream",
     "text": [
      "구동방식별 고속도로연비평균을 막대 그래프로 시각화 - \n"
     ]
    },
    {
     "data": {
      "text/plain": [
       "<Figure size 640x480 with 0 Axes>"
      ]
     },
     "metadata": {},
     "output_type": "display_data"
    },
    {
     "data": {
      "image/png": "[encoded data removed]",
      "text/plain": [
       "<Figure size 640x480 with 1 Axes>"
      ]
     },
     "metadata": {},
     "output_type": "display_data"
    }
   ],
   "source": [
    "print('구동방식별 고속도로연비평균을 막대 그래프로 시각화 - ')\n",
    "grpDrvFrm = mpgFrm[['drv' , 'hwy']].dropna().groupby('drv').mean()\n",
    "# grpDrvFrm\n",
    "\n",
    "plt.figure()\n",
    "\n",
    "grpDrvFrm.plot(kind = 'bar' , \n",
    "               rot  = 0)\n",
    "plt.grid()\n",
    "plt.show()\n",
    "plt.close()"
   ]
  },
  {
   "cell_type": "code",
   "execution_count": 111,
   "id": "23808f1d",
   "metadata": {},
   "outputs": [
    {
     "name": "stdout",
     "output_type": "stream",
     "text": [
      "Q4) 구동방식별 고속도로, 도시연비 평균을 서브셋을 만들고\n",
      "시각화 - multi bar \n"
     ]
    },
    {
     "data": {
      "text/plain": [
       "<Figure size 640x480 with 0 Axes>"
      ]
     },
     "metadata": {},
     "output_type": "display_data"
    },
    {
     "data": {
      "image/png": "[encoded data removed]",
      "text/plain": [
       "<Figure size 640x480 with 1 Axes>"
      ]
     },
     "metadata": {},
     "output_type": "display_data"
    }
   ],
   "source": [
    "print('Q4) 구동방식별 고속도로, 도시연비 평균을 서브셋을 만들고')\n",
    "print('시각화 - multi bar ') \n",
    "\n",
    "grpDrvFrm = mpgFrm[['drv' , 'hwy' , 'cty']].dropna().groupby('drv').mean()\n",
    "\n",
    "plt.figure()\n",
    "\n",
    "grpDrvFrm.plot(kind = 'bar' , \n",
    "               rot  = 0)\n",
    "plt.grid()\n",
    "plt.show()\n",
    "plt.close()"
   ]
  },
  {
   "cell_type": "code",
   "execution_count": 117,
   "id": "32cada54",
   "metadata": {},
   "outputs": [
    {
     "name": "stdout",
     "output_type": "stream",
     "text": [
      "Q5) 해당 클래스별 빈도수를 시각화 - \n"
     ]
    },
    {
     "data": {
      "image/png": "[encoded data removed]",
      "text/plain": [
       "<Figure size 640x480 with 1 Axes>"
      ]
     },
     "metadata": {},
     "output_type": "display_data"
    }
   ],
   "source": [
    "print('Q5) 해당 클래스별 빈도수를 시각화 - ')\n",
    "# mpgFrm['class'].unique()\n",
    "mpgFrm['class'].value_counts()\n",
    "\n",
    "plt.figure()\n",
    "\n",
    "plt.bar(mpgFrm['class'].value_counts().index , \n",
    "        mpgFrm['class'].value_counts().values)\n",
    "plt.grid()\n",
    "plt.show()\n",
    "plt.close()"
   ]
  },
  {
   "cell_type": "code",
   "execution_count": 134,
   "id": "46021069",
   "metadata": {},
   "outputs": [
    {
     "name": "stdout",
     "output_type": "stream",
     "text": [
      "Q6) 제조사별 SUV 도시연비 Top5 시각화 - \n",
      "type -  <class 'pandas.core.frame.DataFrame'>\n"
     ]
    },
    {
     "data": {
      "text/html": [
       "<div>\n",
       "<style scoped>\n",
       "    .dataframe tbody tr th:only-of-type {\n",
       "        vertical-align: middle;\n",
       "    }\n",
       "\n",
       "    .dataframe tbody tr th {\n",
       "        vertical-align: top;\n",
       "    }\n",
       "\n",
       "    .dataframe thead th {\n",
       "        text-align: right;\n",
       "    }\n",
       "</style>\n",
       "<table border=\"1\" class=\"dataframe\">\n",
       "  <thead>\n",
       "    <tr style=\"text-align: right;\">\n",
       "      <th></th>\n",
       "      <th>cty</th>\n",
       "    </tr>\n",
       "    <tr>\n",
       "      <th>manufacturer</th>\n",
       "      <th></th>\n",
       "    </tr>\n",
       "  </thead>\n",
       "  <tbody>\n",
       "    <tr>\n",
       "      <th>chevrolet</th>\n",
       "      <td>12.666667</td>\n",
       "    </tr>\n",
       "    <tr>\n",
       "      <th>dodge</th>\n",
       "      <td>11.857143</td>\n",
       "    </tr>\n",
       "    <tr>\n",
       "      <th>ford</th>\n",
       "      <td>12.888889</td>\n",
       "    </tr>\n",
       "    <tr>\n",
       "      <th>jeep</th>\n",
       "      <td>13.500000</td>\n",
       "    </tr>\n",
       "    <tr>\n",
       "      <th>land rover</th>\n",
       "      <td>11.500000</td>\n",
       "    </tr>\n",
       "    <tr>\n",
       "      <th>lincoln</th>\n",
       "      <td>11.333333</td>\n",
       "    </tr>\n",
       "    <tr>\n",
       "      <th>mercury</th>\n",
       "      <td>13.250000</td>\n",
       "    </tr>\n",
       "    <tr>\n",
       "      <th>nissan</th>\n",
       "      <td>13.750000</td>\n",
       "    </tr>\n",
       "    <tr>\n",
       "      <th>subaru</th>\n",
       "      <td>18.833333</td>\n",
       "    </tr>\n",
       "    <tr>\n",
       "      <th>toyota</th>\n",
       "      <td>14.375000</td>\n",
       "    </tr>\n",
       "  </tbody>\n",
       "</table>\n",
       "</div>"
      ],
      "text/plain": [
       "                    cty\n",
       "manufacturer           \n",
       "chevrolet     12.666667\n",
       "dodge         11.857143\n",
       "ford          12.888889\n",
       "jeep          13.500000\n",
       "land rover    11.500000\n",
       "lincoln       11.333333\n",
       "mercury       13.250000\n",
       "nissan        13.750000\n",
       "subaru        18.833333\n",
       "toyota        14.375000"
      ]
     },
     "metadata": {},
     "output_type": "display_data"
    },
    {
     "name": "stdout",
     "output_type": "stream",
     "text": [
      "\n",
      "\n"
     ]
    },
    {
     "data": {
      "text/html": [
       "<div>\n",
       "<style scoped>\n",
       "    .dataframe tbody tr th:only-of-type {\n",
       "        vertical-align: middle;\n",
       "    }\n",
       "\n",
       "    .dataframe tbody tr th {\n",
       "        vertical-align: top;\n",
       "    }\n",
       "\n",
       "    .dataframe thead th {\n",
       "        text-align: right;\n",
       "    }\n",
       "</style>\n",
       "<table border=\"1\" class=\"dataframe\">\n",
       "  <thead>\n",
       "    <tr style=\"text-align: right;\">\n",
       "      <th></th>\n",
       "      <th>cty</th>\n",
       "    </tr>\n",
       "    <tr>\n",
       "      <th>manufacturer</th>\n",
       "      <th></th>\n",
       "    </tr>\n",
       "  </thead>\n",
       "  <tbody>\n",
       "    <tr>\n",
       "      <th>subaru</th>\n",
       "      <td>18.833333</td>\n",
       "    </tr>\n",
       "    <tr>\n",
       "      <th>toyota</th>\n",
       "      <td>14.375000</td>\n",
       "    </tr>\n",
       "    <tr>\n",
       "      <th>nissan</th>\n",
       "      <td>13.750000</td>\n",
       "    </tr>\n",
       "    <tr>\n",
       "      <th>jeep</th>\n",
       "      <td>13.500000</td>\n",
       "    </tr>\n",
       "    <tr>\n",
       "      <th>mercury</th>\n",
       "      <td>13.250000</td>\n",
       "    </tr>\n",
       "  </tbody>\n",
       "</table>\n",
       "</div>"
      ],
      "text/plain": [
       "                    cty\n",
       "manufacturer           \n",
       "subaru        18.833333\n",
       "toyota        14.375000\n",
       "nissan        13.750000\n",
       "jeep          13.500000\n",
       "mercury       13.250000"
      ]
     },
     "metadata": {},
     "output_type": "display_data"
    }
   ],
   "source": [
    "print('Q6) 제조사별 SUV 도시연비 Top5 시각화 - ')\n",
    "# mpgFrm['manufacturer'].unique()\n",
    "\n",
    "# mpgFrm.groupby('manufacturer')['cty'].mean()\n",
    "\n",
    "subset = mpgFrm[ mpgFrm['class'] == 'suv' ].groupby('manufacturer')[['cty']].mean()\n",
    "print('type - ' , type(subset))\n",
    "display(subset)\n",
    "print()\n",
    "print()\n",
    "subset.sort_values(by='cty' , ascending = False , inplace = True)\n",
    "display(subset.head())\n"
   ]
  },
  {
   "cell_type": "code",
   "execution_count": 138,
   "id": "a099831d",
   "metadata": {},
   "outputs": [
    {
     "data": {
      "image/png": "[encoded data removed]",
      "text/plain": [
       "<Figure size 640x480 with 1 Axes>"
      ]
     },
     "metadata": {},
     "output_type": "display_data"
    }
   ],
   "source": [
    "subset.head(3).plot(kind = 'bar' , rot = 0)\n",
    "\n",
    "plt.grid()\n",
    "plt.show()\n",
    "plt.close()\n"
   ]
  },
  {
   "cell_type": "markdown",
   "id": "e5dde451",
   "metadata": {},
   "source": [
    "- 이상치 처리 "
   ]
  },
  {
   "cell_type": "code",
   "execution_count": 142,
   "id": "47c088fa",
   "metadata": {},
   "outputs": [
    {
     "data": {
      "text/plain": [
       "<Axes: >"
      ]
     },
     "execution_count": 142,
     "metadata": {},
     "output_type": "execute_result"
    },
    {
     "data": {
      "image/png": "[encoded data removed]",
      "text/plain": [
       "<Figure size 640x480 with 1 Axes>"
      ]
     },
     "metadata": {},
     "output_type": "display_data"
    }
   ],
   "source": [
    "subset = mpgFrm.loc[ :  , ['cty' , 'hwy']]\n",
    "# subset \n",
    "subset.boxplot()"
   ]
  },
  {
   "cell_type": "code",
   "execution_count": 148,
   "id": "04b004c7",
   "metadata": {},
   "outputs": [
    {
     "name": "stdout",
     "output_type": "stream",
     "text": [
      "IQR - \n"
     ]
    },
    {
     "data": {
      "text/plain": [
       "cty    14.0\n",
       "hwy    18.0\n",
       "Name: 0.25, dtype: float64"
      ]
     },
     "execution_count": 148,
     "metadata": {},
     "output_type": "execute_result"
    }
   ],
   "source": [
    "print('IQR - ') \n",
    "Q1 = subset.quantile(q=0.25)\n",
    "Q1"
   ]
  },
  {
   "cell_type": "code",
   "execution_count": 149,
   "id": "4b7cdc9b",
   "metadata": {},
   "outputs": [
    {
     "data": {
      "text/plain": [
       "cty    19.0\n",
       "hwy    27.0\n",
       "Name: 0.75, dtype: float64"
      ]
     },
     "execution_count": 149,
     "metadata": {},
     "output_type": "execute_result"
    }
   ],
   "source": [
    "Q3 = subset.quantile(q=0.75)\n",
    "Q3"
   ]
  },
  {
   "cell_type": "code",
   "execution_count": 150,
   "id": "aea163fd",
   "metadata": {},
   "outputs": [
    {
     "data": {
      "text/plain": [
       "cty    5.0\n",
       "hwy    9.0\n",
       "dtype: float64"
      ]
     },
     "execution_count": 150,
     "metadata": {},
     "output_type": "execute_result"
    }
   ],
   "source": [
    "IQR = Q3 - Q1 \n",
    "IQR"
   ]
  },
  {
   "cell_type": "code",
   "execution_count": 154,
   "id": "1cdb0f23",
   "metadata": {},
   "outputs": [
    {
     "name": "stdout",
     "output_type": "stream",
     "text": [
      "lower fence - 최저 한계치\n"
     ]
    },
    {
     "data": {
      "text/plain": [
       "cty    6.5\n",
       "hwy    4.5\n",
       "dtype: float64"
      ]
     },
     "execution_count": 154,
     "metadata": {},
     "output_type": "execute_result"
    }
   ],
   "source": [
    "print('lower fence - 최저 한계치')\n",
    "lower = Q1 - 1.5 * IQR\n",
    "lower"
   ]
  },
  {
   "cell_type": "code",
   "execution_count": 155,
   "id": "fcf96f52",
   "metadata": {},
   "outputs": [
    {
     "name": "stdout",
     "output_type": "stream",
     "text": [
      "upper fence - 최고 한계치\n"
     ]
    },
    {
     "data": {
      "text/plain": [
       "cty    26.5\n",
       "hwy    40.5\n",
       "dtype: float64"
      ]
     },
     "execution_count": 155,
     "metadata": {},
     "output_type": "execute_result"
    }
   ],
   "source": [
    "print('upper fence - 최고 한계치')\n",
    "upper = Q3 + 1.5 * IQR\n",
    "upper"
   ]
  },
  {
   "cell_type": "code",
   "execution_count": 162,
   "id": "fff4e3c3",
   "metadata": {},
   "outputs": [
    {
     "name": "stdout",
     "output_type": "stream",
     "text": [
      "lower fence 경계값을 얻어 본다면 - \n"
     ]
    },
    {
     "data": {
      "text/plain": [
       "cty     9.0\n",
       "hwy    12.0\n",
       "dtype: float64"
      ]
     },
     "execution_count": 162,
     "metadata": {},
     "output_type": "execute_result"
    }
   ],
   "source": [
    "print('lower fence 경계값을 얻어 본다면 - ')\n",
    "lower_outlier = subset[ subset > lower ].min()\n",
    "lower_outlier"
   ]
  },
  {
   "cell_type": "code",
   "execution_count": 163,
   "id": "005b897e",
   "metadata": {},
   "outputs": [
    {
     "name": "stdout",
     "output_type": "stream",
     "text": [
      "upper fence 경계값을 얻어 본다면 - \n"
     ]
    },
    {
     "data": {
      "text/plain": [
       "cty    26.0\n",
       "hwy    37.0\n",
       "dtype: float64"
      ]
     },
     "execution_count": 163,
     "metadata": {},
     "output_type": "execute_result"
    }
   ],
   "source": [
    "print('upper fence 경계값을 얻어 본다면 - ')\n",
    "upper_outlier = subset[ subset < upper ].max()\n",
    "upper_outlier"
   ]
  },
  {
   "cell_type": "code",
   "execution_count": 181,
   "id": "1db5faa9",
   "metadata": {},
   "outputs": [
    {
     "name": "stdout",
     "output_type": "stream",
     "text": [
      "cty outlier 확인 - \n"
     ]
    }
   ],
   "source": []
  },
  {
   "cell_type": "code",
   "execution_count": 182,
   "id": "2c0f603c",
   "metadata": {},
   "outputs": [
    {
     "name": "stdout",
     "output_type": "stream",
     "text": [
      "hwy outlier 확인 - \n"
     ]
    }
   ],
   "source": []
  },
  {
   "cell_type": "code",
   "execution_count": 287,
   "id": "8e7f65c7",
   "metadata": {},
   "outputs": [
    {
     "data": {
      "text/plain": [
       "cty    0\n",
       "hwy    6\n",
       "dtype: int64"
      ]
     },
     "execution_count": 287,
     "metadata": {},
     "output_type": "execute_result"
    }
   ],
   "source": [
    "cleanFrm = mpgFrm.copy()\n",
    "cleanFrm[['cty' , 'hwy']].isna().sum()\n"
   ]
  },
  {
   "cell_type": "code",
   "execution_count": 288,
   "id": "74dbd7f8",
   "metadata": {},
   "outputs": [
    {
     "name": "stdout",
     "output_type": "stream",
     "text": [
      "cty outlier 확인 - \n"
     ]
    }
   ],
   "source": [
    "print('cty outlier 확인 - ') \n",
    "cty_outlier = mpgFrm[ mpgFrm['cty'] > upper_outlier['cty'] ]\n",
    "for idx in cty_outlier.index : \n",
    "    cleanFrm.loc[idx , 'cty'] = np.NaN"
   ]
  },
  {
   "cell_type": "code",
   "execution_count": 289,
   "id": "58a45d60",
   "metadata": {},
   "outputs": [
    {
     "name": "stdout",
     "output_type": "stream",
     "text": [
      "hwy outlier 확인 - \n"
     ]
    }
   ],
   "source": [
    "print('hwy outlier 확인 - ')\n",
    "hwy_outlier = mpgFrm[ mpgFrm['hwy'] > upper_outlier['hwy'] ]\n",
    "for idx in hwy_outlier.index : \n",
    "    cleanFrm.loc[idx , 'hwy'] = np.NaN"
   ]
  },
  {
   "cell_type": "code",
   "execution_count": 290,
   "id": "c0137460",
   "metadata": {},
   "outputs": [
    {
     "data": {
      "text/plain": [
       "cty    5\n",
       "hwy    8\n",
       "dtype: int64"
      ]
     },
     "execution_count": 290,
     "metadata": {},
     "output_type": "execute_result"
    }
   ],
   "source": [
    "cleanFrm[['cty' , 'hwy']].isna().sum()\n",
    "# cleanFrm.isnull().sum()"
   ]
  },
  {
   "cell_type": "code",
   "execution_count": 294,
   "id": "428824ce",
   "metadata": {},
   "outputs": [
    {
     "name": "stdout",
     "output_type": "stream",
     "text": [
      "Q6) 결측값을 평균으로 대체 cty , hwy \n",
      "이상치 처리 후 구동방식별 도시,고속도로 연비 평균을 시각화 - \n"
     ]
    }
   ],
   "source": [
    "print('Q6) 결측값을 평균으로 대체 cty , hwy ')\n",
    "print('이상치 처리 후 구동방식별 도시,고속도로 연비 평균을 시각화 - ') \n",
    "\n",
    "cleanFrm.loc[ cleanFrm['cty'] != cleanFrm['cty'] , 'cty'] = cleanFrm['cty'].mean()\n",
    "cleanFrm.loc[ cleanFrm['hwy'] != cleanFrm['hwy'] , 'hwy'] = cleanFrm['hwy'].mean()\n"
   ]
  },
  {
   "cell_type": "code",
   "execution_count": 295,
   "id": "18b676ef",
   "metadata": {},
   "outputs": [
    {
     "data": {
      "text/plain": [
       "cty    0\n",
       "hwy    0\n",
       "dtype: int64"
      ]
     },
     "execution_count": 295,
     "metadata": {},
     "output_type": "execute_result"
    }
   ],
   "source": [
    "# cleanFrm.loc[119 , : ]\n",
    "cleanFrm[['cty' , 'hwy']].isnull().sum()\n"
   ]
  },
  {
   "cell_type": "code",
   "execution_count": 296,
   "id": "da40956b",
   "metadata": {},
   "outputs": [
    {
     "data": {
      "text/plain": [
       "<Axes: >"
      ]
     },
     "execution_count": 296,
     "metadata": {},
     "output_type": "execute_result"
    },
    {
     "data": {
      "image/png": "[encoded data removed]",
      "text/plain": [
       "<Figure size 640x480 with 1 Axes>"
      ]
     },
     "metadata": {},
     "output_type": "display_data"
    }
   ],
   "source": [
    "subset = cleanFrm.loc[ :  , ['cty' , 'hwy']]\n",
    "# subset \n",
    "subset.boxplot()"
   ]
  },
  {
   "cell_type": "code",
   "execution_count": 298,
   "id": "8c7b32ad",
   "metadata": {},
   "outputs": [
    {
     "data": {
      "text/plain": [
       "<Figure size 640x480 with 0 Axes>"
      ]
     },
     "metadata": {},
     "output_type": "display_data"
    },
    {
     "data": {
      "image/png": "[encoded data removed]",
      "text/plain": [
       "<Figure size 640x480 with 1 Axes>"
      ]
     },
     "metadata": {},
     "output_type": "display_data"
    }
   ],
   "source": [
    "# cleanFrm['drv'].unique()\n",
    "grpDrvFrm = cleanFrm[['drv' , 'hwy' , 'cty']].groupby('drv').mean()\n",
    "grpDrvFrm\n",
    "plt.figure()\n",
    "\n",
    "grpDrvFrm.plot(kind = 'bar' , \n",
    "                rot  = 0)\n",
    "plt.grid()\n",
    "plt.show()\n",
    "plt.close()"
   ]
  },
  {
   "cell_type": "code",
   "execution_count": null,
   "id": "4fc85e60",
   "metadata": {},
   "outputs": [],
   "source": []
  }
 ],
 "metadata": {
  "kernelspec": {
   "display_name": "Python 3 (ipykernel)",
   "language": "python",
   "name": "python3"
  },
  "language_info": {
   "codemirror_mode": {
    "name": "ipython",
    "version": 3
   },
   "file_extension": ".py",
   "mimetype": "text/x-python",
   "name": "python",
   "nbconvert_exporter": "python",
   "pygments_lexer": "ipython3",
   "version": "3.11.4"
  }
 },
 "nbformat": 4,
 "nbformat_minor": 5
}
