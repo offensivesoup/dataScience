{
 "cells": [
  {
   "cell_type": "markdown",
   "id": "1c5556d6",
   "metadata": {},
   "source": [
    "#### print() 기본출력함수\n",
    "- end, sep"
   ]
  },
  {
   "cell_type": "code",
   "execution_count": 2,
   "id": "7bd3e50b",
   "metadata": {},
   "outputs": [
    {
     "name": "stdout",
     "output_type": "stream",
     "text": [
      "월요일 시작해 볼까요\n",
      "2023 9 4\n",
      "True\n",
      "오늘은 월요일 입니다\n",
      "Seop's python\n"
     ]
    }
   ],
   "source": [
    "print(\"월요일 시작해 볼까요\")\n",
    "print(2023 , 9, 4)\n",
    "print(True)\n",
    "print(\"오늘은\", \"월요일\", \"입니다\")\n",
    "print(\"Seop's python\")"
   ]
  },
  {
   "cell_type": "code",
   "execution_count": 26,
   "id": "37d1c1f0",
   "metadata": {},
   "outputs": [
    {
     "name": "stdout",
     "output_type": "stream",
     "text": [
      "PYTHON\n",
      "P Y T H O N\n",
      "010 1234 5678\n",
      "010-1234-5678\n",
      "jslin9413@naver.com\n"
     ]
    }
   ],
   "source": [
    "print('P','Y',\"T\",'H','O','N', sep='')\n",
    "print('P','Y',\"T\",'H','O','N')\n",
    "print(\"010\",\"1234\",\"5678\")\n",
    "print(\"010\",\"1234\",\"5678\",sep='-') #sep 는 공백을 대체한다.\n",
    "print(\"jslin9413\",\"naver.com\",sep='@')\n"
   ]
  },
  {
   "cell_type": "code",
   "execution_count": 29,
   "id": "92efb441",
   "metadata": {},
   "outputs": [
    {
     "name": "stdout",
     "output_type": "stream",
     "text": [
      "print - println 차이로 이해하면 된다.\n",
      "Welcome To IT World\n"
     ]
    }
   ],
   "source": [
    "# end option\n",
    "print(\"print - println 차이로 이해하면 된다.\")\n",
    "print(\"Welcome To\", end=' ') #end 로 뒤에를 채워넣는다. 뒤 print를 같은 줄로 이해한다.\n",
    "print(\"IT World\")"
   ]
  },
  {
   "cell_type": "code",
   "execution_count": 35,
   "id": "e58245be",
   "metadata": {},
   "outputs": [
    {
     "name": "stdout",
     "output_type": "stream",
     "text": [
      "단일문장01\n",
      "단일문장02\n",
      "단일문장03\n"
     ]
    }
   ],
   "source": [
    "print('''단일문장01\n",
    "단일문장02\n",
    "단일문장03''')"
   ]
  },
  {
   "cell_type": "code",
   "execution_count": null,
   "id": "5785f035",
   "metadata": {},
   "outputs": [],
   "source": [
    "# 포멧형식을 이용한 출력\n",
    "# %s %f %d\n",
    "# ()\n",
    "print('%s %s' %('데이터01', '데이터02')) #s는 문자열, f는 실수, d는 정수\n",
    "print('{} {}'.format('데이터01', '데이터02')) #{}는 format함수로\n",
    "print('{1} {0} {2}'.format('데이터01', '데이터02', '데이터03')) # 순서 지정가능\n",
    "print('%10s' % ('nice')) # 6자리 공백 + 4자리 단어 (자릿수 지정)\n",
    "print('%5s' % ('PYTHONSTUDY')) # 5자리보다 길면 그대로 출력\n",
    "print('%.5s' % ('PYTHONSTUDY')) # .을 찍으면 절삭\n",
    "print()\n",
    "print('%d %d' % (100, 200)) # 앞에 있는 개수만큼, 같은 형식으로 출력해야함.(1개x, 문자x)\n",
    "print('%.3f' % (123.14195)) # 실수 자릿수는 .숫자로 설정 반올림"
   ]
  },
  {
   "cell_type": "markdown",
   "id": "9542c450",
   "metadata": {},
   "source": [
    "#### 숫자형 연산자\n",
    "- +,-,*,/,//(몫),%(나머지)"
   ]
  },
  {
   "cell_type": "code",
   "execution_count": 86,
   "id": "79843620",
   "metadata": {},
   "outputs": [
    {
     "name": "stdout",
     "output_type": "stream",
     "text": [
      "10\n",
      "20\n",
      "10 20\n",
      ">>>>>>>>> +\n",
      "10 값과 20 값의 연산의 결과는 = 30\n"
     ]
    }
   ],
   "source": [
    "value01 = 10\n",
    "value02 = 20\n",
    "print(value01)\n",
    "print(value02)\n",
    "print('{} {}'.format(value01, value02))\n",
    "print('>>>>>>>>> +')\n",
    "print('{} 값과 {} 값의 연산의 결과는 = {}'.format(value01, value02, value01+value02))\n"
   ]
  },
  {
   "cell_type": "markdown",
   "id": "51dd74c8",
   "metadata": {},
   "source": [
    "#### input()\n",
    "- 콘솔로부터 데이터를 입력 받을때 사용하는 함수\n",
    "- 왜 캐스팅 함수가 필요한지를 고민해보자"
   ]
  },
  {
   "cell_type": "code",
   "execution_count": 7,
   "id": "2f8fe5e3",
   "metadata": {},
   "outputs": [
    {
     "name": "stdout",
     "output_type": "stream",
     "text": [
      "100\n",
      "100\n",
      "100 <class 'str'>\n",
      "100 <class 'str'>\n",
      "\n",
      ">>>>>>>> + 200\n"
     ]
    }
   ],
   "source": [
    "intValue01 = input()\n",
    "intValue02 = input()\n",
    "print(intValue01, type(intValue01))\n",
    "print(intValue02, type(intValue02))\n",
    "print()\n",
    "print('>>>>>>>> +', (int(intValue01) + int(intValue02)))"
   ]
  },
  {
   "cell_type": "code",
   "execution_count": 8,
   "id": "6fc1299f",
   "metadata": {},
   "outputs": [
    {
     "name": "stdout",
     "output_type": "stream",
     "text": [
      "type =  <class 'str'>\n",
      "type =  오늘부터 파이썬을 배우고 있습니다.\n"
     ]
    }
   ],
   "source": [
    "#### Text Sequence(문자열) 자주 사용되어서 중요하다.\n",
    "str01 = '오늘부터 파이썬을 배우고 있습니다.'\n",
    "print('type = ', type(str01))\n",
    "print('type = ', str01)"
   ]
  },
  {
   "cell_type": "code",
   "execution_count": 11,
   "id": "b3f9392a",
   "metadata": {},
   "outputs": [
    {
     "name": "stdout",
     "output_type": "stream",
     "text": [
      "당신의 이름은 임정섭이고 나이는 24살 입니다.\n"
     ]
    }
   ],
   "source": [
    "name = '임정섭'\n",
    "age = 24\n",
    "print('당신의 이름은 {}이고 나이는 {}살 입니다.'.format(name, age))"
   ]
  },
  {
   "cell_type": "code",
   "execution_count": 13,
   "id": "d0034693",
   "metadata": {},
   "outputs": [
    {
     "name": "stdout",
     "output_type": "stream",
     "text": [
      "c:\\python\\study\\test.txt\n"
     ]
    }
   ],
   "source": [
    "rawData = r'c:\\python\\study\\test.txt' # r을 붙여야한다.\n",
    "print(rawData)\n",
    "#escape sequence "
   ]
  },
  {
   "cell_type": "code",
   "execution_count": 29,
   "id": "ccbbb5f4",
   "metadata": {},
   "outputs": [
    {
     "name": "stdout",
     "output_type": "stream",
     "text": [
      "dir = 인스턴스가 소유하고 있는 모든 구성요소를 보여준다.\n",
      "indexing - 맛\n",
      "slicing [:] - 맛점\n",
      "\n",
      "반복구문 - for - in\n",
      "index=0, date=맛\n",
      "index=1, date=점\n",
      "index=2, date=하\n",
      "index=3, date=세\n",
      "index=4, date=요\n"
     ]
    }
   ],
   "source": [
    "print('dir = 인스턴스가 소유하고 있는 모든 구성요소를 보여준다.')\n",
    "sayHello = \"맛점하세요\"\n",
    "# print(dir(sayHello))\n",
    "# 열거형(순서)이란 인덱싱과 슬라이싱이 가능하고\n",
    "# 반복구문 사용이 가능하다.\n",
    "print('indexing -',sayHello[0])\n",
    "print('slicing [:] -',sayHello[0:2]) # end index에서 -1이 된다.\n",
    "print()\n",
    "print('반복구문 - for - in')\n",
    "for idx, char in enumerate(sayHello):\n",
    "    print('index={}, date={}'.format(idx, char)) \n",
    "    #packing과 unpacking의 개념이다. tuple, enumerate가 tuple로 언패킹시켜서 index가 가능하도록 한다.\n"
   ]
  },
  {
   "cell_type": "code",
   "execution_count": null,
   "id": "04d7f2d6",
   "metadata": {},
   "outputs": [],
   "source": [
    "print(\"문자열의 길이 - len\")\n",
    "print(\"len =\", len(sayHello))\n",
    "print('돌발 퀴즈 = ')\n",
    "gender = '남여남여남여남여남여남여'\n",
    "print('answer =', gender[0:len(gender):2])"
   ]
  },
  {
   "cell_type": "code",
   "execution_count": 117,
   "id": "66d2b03a",
   "metadata": {},
   "outputs": [
    {
     "name": "stdout",
     "output_type": "stream",
     "text": [
      "남남남남남남"
     ]
    }
   ],
   "source": [
    "for idx, char in enumerate(gender):\n",
    "    if idx%2 == 0:\n",
    "        print(char, end='')"
   ]
  },
  {
   "cell_type": "code",
   "execution_count": 151,
   "id": "878f74d2",
   "metadata": {},
   "outputs": [
    {
     "name": "stdout",
     "output_type": "stream",
     "text": [
      "돌발퀴즈 - \n",
      "gender 값을 여남여남으로 출력한다면\n",
      "answer -  여남여남여남여남여남여남\n",
      "answer -  여남여남여남여남여남여남\n"
     ]
    }
   ],
   "source": [
    "print('돌발퀴즈 - ')\n",
    "print('gender 값을 여남여남으로 출력한다면')\n",
    "print('answer - ',gender[::-1])\n",
    "print('answer - ',gender[len(gender)::-1])\n",
    "#print('answer = ',gender[-1:0:-1])"
   ]
  },
  {
   "cell_type": "code",
   "execution_count": 118,
   "id": "be4cc0dc",
   "metadata": {},
   "outputs": [
    {
     "name": "stdout",
     "output_type": "stream",
     "text": [
      "문자열 함수 = lower(), upper(), count(), startswith(), endswith() etc....\n",
      "\n",
      "upper() -  PYTHON\n",
      "010 4803 2283 010-4803-2283\n",
      "python Python\n",
      "python Python\n"
     ]
    }
   ],
   "source": [
    "#oop는 프로그램을 만들어내는 것. 가상의 것을 만들어냄-명사적,동사적 특징 - 변수와 함수로 만든다.\n",
    "#class를 통해 gender라는 instance를 만든것, 문자열 객체가 제공하는 구성요소(변수,함수)에 접근할 수 있다.\n",
    "print('문자열 함수 = lower(), upper(), count(), startswith(), endswith() etc....')\n",
    "print()\n",
    "str = 'python' # string instance create\n",
    "print('upper() - ',str.upper()) #.을 찍는 것은 뒤에있는 것을 앞에 것이 소유한다. -> 문자열이 제공하는 함수\n",
    "phoneNumber = '010 4803 2283'\n",
    "print(phoneNumber, phoneNumber.replace(' ', '-')) #replace는 phoneNumber가 가진 구성요소.\n",
    "print(str, str.replace('p', 'P'))\n",
    "print(str, str.capitalize())"
   ]
  },
  {
   "cell_type": "code",
   "execution_count": 127,
   "id": "cf7579e3",
   "metadata": {},
   "outputs": [
    {
     "name": "stdout",
     "output_type": "stream",
     "text": [
      "http://www.samsung.com <class 'list'>\n",
      "http://www.samsung.com samsung\n"
     ]
    }
   ],
   "source": [
    "url = 'http://www.samsung.com'\n",
    "print(url, type(url.split()))\n",
    "print(url, url.split('.')[1])"
   ]
  },
  {
   "cell_type": "code",
   "execution_count": 141,
   "id": "c0bbf0e3",
   "metadata": {},
   "outputs": [
    {
     "name": "stdout",
     "output_type": "stream",
     "text": [
      "strip(), rstrip(), lstrip()\n",
      "len -  15 7 11 11\n",
      "조건문 - \n",
      "참\n"
     ]
    }
   ],
   "source": [
    "print('strip(), rstrip(), lstrip()')\n",
    "str01 = '    samsung    '\n",
    "str02 = 'samsung'\n",
    "print('len - ', len(str01),len(str02), len(str01.rstrip()),len(str01.lstrip()))\n",
    "print('조건문 - ')\n",
    "if str01.strip() == str02.strip():\n",
    "    print('참')\n",
    "else:\n",
    "    print('거짓')\n",
    "    "
   ]
  },
  {
   "cell_type": "code",
   "execution_count": 159,
   "id": "ac233a9d",
   "metadata": {},
   "outputs": [
    {
     "name": "stdout",
     "output_type": "stream",
     "text": [
      "startswith, endswith\n",
      "\n",
      "파일이 이름이 문자열로 정의되어 있을 때\n",
      "엑셀파일인지 아닌지, 시작문자가 2023인지 아닌지를 판단\n",
      "엑셀파일인지 아닌지 -  True\n",
      "시작문자가 2023인지 아닌지 -  True\n"
     ]
    }
   ],
   "source": [
    "print('startswith, endswith')\n",
    "print()\n",
    "print('파일이 이름이 문자열로 정의되어 있을 때')\n",
    "print('엑셀파일인지 아닌지, 시작문자가 2023인지 아닌지를 판단')\n",
    "\n",
    "fileName = '2023_데이터사이언스과정.xls'\n",
    "print('엑셀파일인지 아닌지 - ',fileName.endswith('xls')) # bool 값으로 리턴 (조건문과 연계)\n",
    "print('시작문자가 2023인지 아닌지 - ',fileName.startswith('2023')) # bool 값으로 리턴 (조건문과 연계)"
   ]
  },
  {
   "cell_type": "markdown",
   "id": "9be86b2e",
   "metadata": {},
   "source": [
    "#### 리스트\n",
    "- 파이썬은 배열을 제공하지 않는다.\n",
    "- 1차원 Vector\n",
    "- 리스트는 열거형, 인덱싱과 슬라이싱이 가능\n",
    "- 순서가 존재, 중복데이터를 허용, 수정과 삭제가 가능한(mutable)\n",
    "- 인덱스는 0 ~\n",
    "- 선언 : [], list()\n",
    "- 다양한 타입을 요소로 가질 수 있다."
   ]
  },
  {
   "cell_type": "code",
   "execution_count": 170,
   "id": "2b61c991",
   "metadata": {},
   "outputs": [
    {
     "name": "stdout",
     "output_type": "stream",
     "text": [
      "type -  <class 'list'> True\n"
     ]
    }
   ],
   "source": [
    "lstTmp = (1,2,3,4)\n",
    "list(lstTmp)\n",
    "print('type - ', type(list(lstTmp)), bool(lstTmp)) # 값이 없으면 False"
   ]
  },
  {
   "cell_type": "code",
   "execution_count": 186,
   "id": "2bd36ae1",
   "metadata": {},
   "outputs": [
    {
     "name": "stdout",
     "output_type": "stream",
     "text": [
      "dongA\n",
      "[100, 3.14, 'dongA']\n",
      "seop을 추출한다면? -  ['zzang', 'seop']\n",
      "\n",
      "elemnet -  0 100\n",
      "elemnet -  1 3.14\n",
      "elemnet -  2 dongA\n",
      "elemnet -  3 True\n",
      "elemnet -  4 ['captine', 'zzang', 'seop']\n",
      "\n",
      "\n"
     ]
    }
   ],
   "source": [
    "lstTmp = [100, 3.14, 'dongA', True, ['captine','zzang','seop']]\n",
    "print(lstTmp[2])\n",
    "print(lstTmp[0:3])\n",
    "print(\"seop을 추출한다면? - \", lstTmp[-1][1:3]) #리스트속의 리스트로 두번 인덱싱 할 수 있다. 슬라이싱을 하게되면 다시 리스트가 된다.\n",
    "print()\n",
    "for idx, element in enumerate(lstTmp):\n",
    "    print('elemnet - ',idx, element)\n",
    "print()\n",
    "print()\n",
    "\n",
    "#for idx in len(lstTmp):\n",
    "    #print(idx)\n",
    "    \n",
    "    "
   ]
  },
  {
   "cell_type": "code",
   "execution_count": 187,
   "id": "6e7037c3",
   "metadata": {},
   "outputs": [
    {
     "name": "stdout",
     "output_type": "stream",
     "text": [
      "list dir =  ['__add__', '__class__', '__class_getitem__', '__contains__', '__delattr__', '__delitem__', '__dir__', '__doc__', '__eq__', '__format__', '__ge__', '__getattribute__', '__getitem__', '__getstate__', '__gt__', '__hash__', '__iadd__', '__imul__', '__init__', '__init_subclass__', '__iter__', '__le__', '__len__', '__lt__', '__mul__', '__ne__', '__new__', '__reduce__', '__reduce_ex__', '__repr__', '__reversed__', '__rmul__', '__setattr__', '__setitem__', '__sizeof__', '__str__', '__subclasshook__', 'append', 'clear', 'copy', 'count', 'extend', 'index', 'insert', 'pop', 'remove', 'reverse', 'sort']\n"
     ]
    }
   ],
   "source": [
    "print('list dir = ', dir(lstTmp))"
   ]
  },
  {
   "cell_type": "code",
   "execution_count": 232,
   "id": "c05ce4b7",
   "metadata": {},
   "outputs": [
    {
     "name": "stdout",
     "output_type": "stream",
     "text": [
      "update =  [10, 2, 3, 4, 5, 6, 7, 8, 9]\n",
      "data -  [2, 3, 4, 5, 6, 7, 8, 9]\n",
      "append = 마지막 인덱스에 추가\n",
      "append = 마지막 인덱스에 추가 [2, 3, 4, 5, 6, 7, 8, 9, 100]\n",
      "insert = 사용자가 원하는 index에 추가 [2, 3, 4, 5, 6, 7, 8, 9, 100, 101]\n",
      "\n",
      "reverse - 역순으로 데이터를 출력 [101, 100, 9, 8, 7, 6, 5, 4, 3, 2]\n",
      "\n",
      "sort =  [9, 8, 7, 6, 5, 3, 2, 1]\n",
      "\n",
      "remove = 인덱스로 제거하는 것이 아닌, 값으로 제거한다 = \n",
      "lstTmp -  [9, 8, 7, 6, 5, 3, 2, 1]\n",
      "remonve - [9, 8, 6, 5, 3, 2, 1]\n",
      "\n",
      "pop - 값을 꺼내고 원본에서 삭제 \n",
      "[8, 6, 5, 3, 2, 1]\n",
      "1\n",
      "extend =  [8, 6, 5, 3, 2, 1, 1, 2, 3, 4, 5]\n"
     ]
    }
   ],
   "source": [
    "lstTmp = [1,2,3,4,5,6,7,8,9]\n",
    "lstTmp[0] = 10\n",
    "print('update = ' , lstTmp)\n",
    "del lstTmp[0] #수정\n",
    "print('data - ',lstTmp)\n",
    "print(\"append = 마지막 인덱스에 추가\")\n",
    "lstTmp.append(100)\n",
    "print(\"append = 마지막 인덱스에 추가\", lstTmp)\n",
    "lstTmp.insert(10, 101)\n",
    "print(\"insert = 사용자가 원하는 index에 추가\", lstTmp)\n",
    "print()\n",
    "lstTmp.reverse()\n",
    "print('reverse - 역순으로 데이터를 출력', lstTmp) #mutable 하다고 표현한다.\n",
    "print()\n",
    "\n",
    "lstTmp = [6,5,3,7,2,1,8,9] #재할당\n",
    "lstTmp.sort()\n",
    "#lstTmp.sort().reverse() attributeError : reverse는 list의 소유이기 때문이다.\n",
    "lstTmp.reverse() #오름차순으로 정렬해주는 기능\n",
    "print('sort = ', lstTmp)\n",
    "\n",
    "print()\n",
    "print('remove = 인덱스로 제거하는 것이 아닌, 값으로 제거한다 = ')\n",
    "print('lstTmp - ',lstTmp)\n",
    "lstTmp.remove(7)\n",
    "print('remonve -', lstTmp)\n",
    "\n",
    "print()\n",
    "print('pop - 값을 꺼내고 원본에서 삭제 ') # 인자를 넣지 않으면 마지막값, 넣으면 해당 인덱스의 값을 꺼낸다(제거).\n",
    "lstTmp.pop(0)\n",
    "print(lstTmp)\n",
    "\n",
    "print(lstTmp.count(3))\n",
    "\n",
    "secondTmp = [1,2,3,4,5]\n",
    "lstTmp.extend(secondTmp) # 추가하고자 하는 데이터가 list이면, append면 리스트 자체가 요소로, extend는 리스트 안의 값이 요소로 더해진다.\n",
    "print('extend = ', lstTmp)"
   ]
  },
  {
   "cell_type": "code",
   "execution_count": 67,
   "id": "9d04d419",
   "metadata": {},
   "outputs": [
    {
     "name": "stdout",
     "output_type": "stream",
     "text": [
      "퀴즈 -\n",
      "\n"
     ]
    }
   ],
   "source": [
    "print('퀴즈 -')\n",
    "print()\n",
    "lstMovies = ['엘리멘탈','밀수','오펜하이머','범죄도시3','타겟','명탐정코난']"
   ]
  },
  {
   "cell_type": "code",
   "execution_count": 68,
   "id": "4715387f",
   "metadata": {
    "scrolled": true
   },
   "outputs": [
    {
     "name": "stdout",
     "output_type": "stream",
     "text": [
      ">>>>>> 데이터 출력 :  ['엘리멘탈', '밀수', '오펜하이머', '범죄도시3', '타겟', '명탐정코난']\n",
      ">>>>>> 타입 :  <class 'list'>\n"
     ]
    }
   ],
   "source": [
    "print('>>>>>> 데이터 출력 : ', lstMovies)\n",
    "print('>>>>>> 타입 : ', type(lstMovies))"
   ]
  },
  {
   "cell_type": "code",
   "execution_count": 69,
   "id": "a1f2c08d",
   "metadata": {},
   "outputs": [
    {
     "name": "stdout",
     "output_type": "stream",
     "text": [
      "1. 마지막 인덱스에 아바타2를 추가하라\n",
      "2. 범죄도시3와 타겟 사이에 베트맨을 추가하라\n",
      "3. 밀수 영화를 삭제하라\n",
      "4. 오펜하이머를 하이머로 변경 - 문자열함수(replace)\n",
      "5. 9월 출시예정인 영화 두편을 리스트로 선언하고 기존 lstMovies 추가\n",
      "6. 5번까지 작성된 최종결과를 출력하고 역순으로 다시 출력하라\n",
      "7. 하이머와 범죄도시3을 삭제하라\n",
      "8. 리스트에 저장된 데이터의 개수를 출력하라\n",
      "9. 슬라이싱을 이용하여 인덱스가 홀수번지인 데이터만 출력하라\n",
      "10. 데이터를 공백이 아닌 -를 이용해서 출력\n"
     ]
    }
   ],
   "source": [
    "print('1. 마지막 인덱스에 아바타2를 추가하라')\n",
    "print('2. 범죄도시3와 타겟 사이에 베트맨을 추가하라')\n",
    "print('3. 밀수 영화를 삭제하라')\n",
    "print('4. 오펜하이머를 하이머로 변경 - 문자열함수(replace)')\n",
    "print('5. 9월 출시예정인 영화 두편을 리스트로 선언하고 기존 lstMovies 추가')\n",
    "print('6. 5번까지 작성된 최종결과를 출력하고 역순으로 다시 출력하라')\n",
    "print('7. 하이머와 범죄도시3을 삭제하라')\n",
    "print('8. 리스트에 저장된 데이터의 개수를 출력하라')\n",
    "print('9. 슬라이싱을 이용하여 인덱스가 홀수번지인 데이터만 출력하라')\n",
    "print('10. 데이터를 공백이 아닌 -를 이용해서 출력')"
   ]
  },
  {
   "cell_type": "code",
   "execution_count": 70,
   "id": "3709408b",
   "metadata": {},
   "outputs": [
    {
     "name": "stdout",
     "output_type": "stream",
     "text": [
      "['엘리멘탈', '밀수', '오펜하이머', '범죄도시3', '타겟', '명탐정코난', '아바타2']\n"
     ]
    }
   ],
   "source": [
    "#1.\n",
    "lstMovies.append('아바타2')\n",
    "print(lstMovies)"
   ]
  },
  {
   "cell_type": "code",
   "execution_count": 71,
   "id": "e2fb2e26",
   "metadata": {},
   "outputs": [
    {
     "name": "stdout",
     "output_type": "stream",
     "text": [
      "['엘리멘탈', '밀수', '오펜하이머', '범죄도시3', '베트맨', '타겟', '명탐정코난', '아바타2']\n"
     ]
    }
   ],
   "source": [
    "#2\n",
    "lstMovies.insert(4,\"베트맨\")\n",
    "print(lstMovies)"
   ]
  },
  {
   "cell_type": "code",
   "execution_count": 72,
   "id": "6b600ffd",
   "metadata": {},
   "outputs": [
    {
     "name": "stdout",
     "output_type": "stream",
     "text": [
      "['엘리멘탈', '오펜하이머', '범죄도시3', '베트맨', '타겟', '명탐정코난', '아바타2']\n"
     ]
    }
   ],
   "source": [
    "#3\n",
    "lstMovies.remove('밀수')\n",
    "print(lstMovies)"
   ]
  },
  {
   "cell_type": "code",
   "execution_count": 73,
   "id": "b9c4b2f8",
   "metadata": {},
   "outputs": [
    {
     "name": "stdout",
     "output_type": "stream",
     "text": [
      "['엘리멘탈', '하이머', '범죄도시3', '베트맨', '타겟', '명탐정코난', '아바타2']\n"
     ]
    }
   ],
   "source": [
    "#4\n",
    "lstMovies[1] = lstMovies[1].replace(\"오펜하이머\",\"하이머\")\n",
    "print(lstMovies)"
   ]
  },
  {
   "cell_type": "code",
   "execution_count": 74,
   "id": "3655b353",
   "metadata": {},
   "outputs": [
    {
     "name": "stdout",
     "output_type": "stream",
     "text": [
      "['엘리멘탈', '하이머', '범죄도시3', '베트맨', '타겟', '명탐정코난', '아바타2', '잠', '이노센트']\n"
     ]
    }
   ],
   "source": [
    "#5\n",
    "newLstMovies = ['잠','이노센트']\n",
    "lstMovies.extend(newLstMovies)\n",
    "print(lstMovies)"
   ]
  },
  {
   "cell_type": "code",
   "execution_count": 75,
   "id": "1d73fd6d",
   "metadata": {},
   "outputs": [
    {
     "name": "stdout",
     "output_type": "stream",
     "text": [
      "['하이머', '타겟', '잠', '이노센트', '엘리멘탈', '아바타2', '베트맨', '범죄도시3', '명탐정코난']\n"
     ]
    }
   ],
   "source": [
    "#6\n",
    "lstMovies.sort()\n",
    "lstMovies.reverse()\n",
    "print(lstMovies)"
   ]
  },
  {
   "cell_type": "code",
   "execution_count": 76,
   "id": "c666294c",
   "metadata": {},
   "outputs": [
    {
     "name": "stdout",
     "output_type": "stream",
     "text": [
      "['타겟', '잠', '이노센트', '엘리멘탈', '아바타2', '베트맨', '명탐정코난']\n"
     ]
    }
   ],
   "source": [
    "#7\n",
    "lstMovies.remove(\"하이머\")\n",
    "lstMovies.remove(\"범죄도시3\")\n",
    "print(lstMovies)"
   ]
  },
  {
   "cell_type": "code",
   "execution_count": 77,
   "id": "c383c422",
   "metadata": {},
   "outputs": [
    {
     "data": {
      "text/plain": [
       "7"
      ]
     },
     "execution_count": 77,
     "metadata": {},
     "output_type": "execute_result"
    }
   ],
   "source": [
    "#8\n",
    "len(lstMovies)"
   ]
  },
  {
   "cell_type": "code",
   "execution_count": 80,
   "id": "116ecc74",
   "metadata": {},
   "outputs": [
    {
     "data": {
      "text/plain": [
       "['잠', '엘리멘탈', '베트맨']"
      ]
     },
     "execution_count": 80,
     "metadata": {},
     "output_type": "execute_result"
    }
   ],
   "source": [
    "#9\n",
    "lstMovies[1:len(lstMovies):2]"
   ]
  },
  {
   "cell_type": "code",
   "execution_count": 84,
   "id": "913d6f4d",
   "metadata": {},
   "outputs": [
    {
     "name": "stdout",
     "output_type": "stream",
     "text": [
      "타겟-잠-이노센트-엘리멘탈-아바타2-베트맨-명탐정코난-"
     ]
    }
   ],
   "source": [
    "#10\n",
    "for element in lstMovies:\n",
    "    print(element,end='-')"
   ]
  },
  {
   "cell_type": "code",
   "execution_count": null,
   "id": "3d2749cc",
   "metadata": {},
   "outputs": [],
   "source": []
  },
  {
   "cell_type": "code",
   "execution_count": null,
   "id": "2a1be62e",
   "metadata": {},
   "outputs": [],
   "source": []
  }
 ],
 "metadata": {
  "kernelspec": {
   "display_name": "Python 3 (ipykernel)",
   "language": "python",
   "name": "python3"
  },
  "language_info": {
   "codemirror_mode": {
    "name": "ipython",
    "version": 3
   },
   "file_extension": ".py",
   "mimetype": "text/x-python",
   "name": "python",
   "nbconvert_exporter": "python",
   "pygments_lexer": "ipython3",
   "version": "3.11.4"
  }
 },
 "nbformat": 4,
 "nbformat_minor": 5
}
