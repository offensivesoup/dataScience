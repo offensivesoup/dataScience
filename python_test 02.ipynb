{
 "cells": [
  {
   "cell_type": "code",
   "execution_count": 5,
   "id": "c83c269e",
   "metadata": {},
   "outputs": [
    {
     "name": "stdout",
     "output_type": "stream",
     "text": [
      "study\n",
      "PYTHON\n",
      "language\n"
     ]
    }
   ],
   "source": [
    "tmpList = ['I' , 'AM' , 'study' , 'PYTHON' , 'language' , '!']\n",
    "\n",
    "for i in tmpList:\n",
    "    if len(i) >= 3:\n",
    "        print(i)\n",
    "    else:\n",
    "        pass"
   ]
  },
  {
   "cell_type": "code",
   "execution_count": 7,
   "id": "4ab2b2d9",
   "metadata": {},
   "outputs": [
    {
     "name": "stdout",
     "output_type": "stream",
     "text": [
      "greeting\n",
      "ex01\n",
      "intro\n",
      "bigdata\n"
     ]
    }
   ],
   "source": [
    "tmpList = ['greeting.py' , 'ex01.py' , 'intro.hwp' , 'bigdata.doc']\n",
    "\n",
    "for data in tmpList:\n",
    "    print(data.split('.')[0])"
   ]
  },
  {
   "cell_type": "code",
   "execution_count": 10,
   "id": "7f7c2f69",
   "metadata": {},
   "outputs": [
    {
     "name": "stdout",
     "output_type": "stream",
     "text": [
      "인덱스 : 0 요소값 : greeting.py\n",
      "인덱스 : 1 요소값 : ex01.py\n",
      "인덱스 : 2 요소값 : intro.hwp\n",
      "인덱스 : 3 요소값 : bigdata.doc\n"
     ]
    }
   ],
   "source": [
    "tmpList = ['greeting.py' , 'ex01.py' , 'intro.hwp' , 'bigdata.doc']\n",
    "\n",
    "for idx, data in enumerate(tmpList):\n",
    "    print('인덱스 : {} 요소값 : {}'.format(idx,data))"
   ]
  },
  {
   "cell_type": "code",
   "execution_count": 15,
   "id": "cec9a03a",
   "metadata": {},
   "outputs": [
    {
     "name": "stdout",
     "output_type": "stream",
     "text": [
      "32100\n",
      "32150\n",
      "32000\n",
      "32500\n"
     ]
    }
   ],
   "source": [
    "price_list = [32100, 32150, 32000, 32500]\n",
    "for data in range(len(price_list)):\n",
    "    print(price_list[data])\n"
   ]
  },
  {
   "cell_type": "code",
   "execution_count": 21,
   "id": "32c0cb0e",
   "metadata": {},
   "outputs": [
    {
     "name": "stdout",
     "output_type": "stream",
     "text": [
      "종목 : SK하이닉스, 문자열 길이 : 6\n",
      "종목 : 삼성전자, 문자열 길이 : 4\n",
      "종목 : LG전자, 문자열 길이 : 4\n"
     ]
    }
   ],
   "source": [
    "lst = [\"SK하이닉스\", \"삼성전자\", \"LG전자\"]\n",
    "\n",
    "for data in lst:\n",
    "    print(\"종목 : {}, 문자열 길이 : {}\".format(data, len(data)))"
   ]
  },
  {
   "cell_type": "code",
   "execution_count": 22,
   "id": "6d7d5232",
   "metadata": {},
   "outputs": [
    {
     "name": "stdout",
     "output_type": "stream",
     "text": [
      "동물 이름 : dog, 글자수 : 3\n",
      "동물 이름 : cat, 글자수 : 3\n",
      "동물 이름 : parrot, 글자수 : 6\n"
     ]
    }
   ],
   "source": [
    "lst = ['dog', 'cat', 'parrot']\n",
    "\n",
    "for data in lst:\n",
    "    print(\"동물 이름 : {}, 글자수 : {}\".format(data, len(data)))"
   ]
  },
  {
   "cell_type": "code",
   "execution_count": 27,
   "id": "7528dc9d",
   "metadata": {},
   "outputs": [
    {
     "name": "stdout",
     "output_type": "stream",
     "text": [
      "가\n",
      "다\n",
      "가\n",
      "다\n"
     ]
    }
   ],
   "source": [
    "lst = [\"가\", \"나\", \"다\", \"라\"]\n",
    "\n",
    "for idx, data in enumerate(lst):\n",
    "    if idx%2 == 0:\n",
    "        print(data)\n",
    "    else:\n",
    "        pass\n",
    "    \n",
    "for idx, data in enumerate(lst):\n",
    "    if idx%2 == 0:\n",
    "        print(data)\n",
    "    else:\n",
    "        pass"
   ]
  },
  {
   "cell_type": "code",
   "execution_count": 28,
   "id": "3d65d270",
   "metadata": {},
   "outputs": [
    {
     "name": "stdout",
     "output_type": "stream",
     "text": [
      "-20\n",
      "-3\n"
     ]
    }
   ],
   "source": [
    "lst = [3, -20, -3, 44]\n",
    "\n",
    "for data in lst:\n",
    "    if data < 0:\n",
    "        print(data)\n",
    "    else:\n",
    "        pass"
   ]
  },
  {
   "cell_type": "code",
   "execution_count": 30,
   "id": "286a527e",
   "metadata": {},
   "outputs": [
    {
     "name": "stdout",
     "output_type": "stream",
     "text": [
      "A\n",
      "D\n"
     ]
    }
   ],
   "source": [
    "lst = [\"A\", \"b\", \"c\", \"D\"]\n",
    "\n",
    "for data in lst:\n",
    "    if data.isupper() is True:\n",
    "        print(data)\n",
    "    else:\n",
    "        pass"
   ]
  },
  {
   "cell_type": "code",
   "execution_count": 29,
   "id": "3cd3b5a0",
   "metadata": {},
   "outputs": [
    {
     "name": "stdout",
     "output_type": "stream",
     "text": [
      "F\n",
      "I\n",
      "N\n",
      "E\n",
      "A\n",
      "P\n",
      "P\n",
      "L\n",
      "E\n"
     ]
    }
   ],
   "source": [
    "name = 'FineApplE'\n",
    "\n",
    "for char in name:\n",
    "    if char.islower() is True:\n",
    "        print(char.upper())\n",
    "    else:\n",
    "        print(char)\n",
    "        \n",
    "        "
   ]
  },
  {
   "cell_type": "code",
   "execution_count": 13,
   "id": "dac700e6",
   "metadata": {},
   "outputs": [
    {
     "name": "stdout",
     "output_type": "stream",
     "text": [
      "101호\n",
      "102호\n",
      "*****\n",
      "201호\n",
      "202호\n",
      "*****\n",
      "301호\n",
      "302호\n",
      "*****\n"
     ]
    }
   ],
   "source": [
    "apart = [ [\"101호\", \"102호\"], [\"201호\", \"202호\"], [\"301호\", \"302호\"] ]\n",
    "\n",
    "for data in apart:\n",
    "    for ho in data:\n",
    "        print(ho)\n",
    "    print('*'*5)"
   ]
  },
  {
   "cell_type": "code",
   "execution_count": 15,
   "id": "fe2142e8",
   "metadata": {},
   "outputs": [
    {
     "name": "stdout",
     "output_type": "stream",
     "text": [
      "구구단 -\n",
      "2 * 1 = 2 2 * 2 = 4 2 * 3 = 6 2 * 4 = 8 2 * 5 = 10 2 * 6 = 12 2 * 7 = 14 2 * 8 = 16 2 * 9 = 18 *****\n",
      "3 * 1 = 3 3 * 2 = 6 3 * 3 = 9 3 * 4 = 12 3 * 5 = 15 3 * 6 = 18 3 * 7 = 21 3 * 8 = 24 3 * 9 = 27 *****\n",
      "4 * 1 = 4 4 * 2 = 8 4 * 3 = 12 4 * 4 = 16 4 * 5 = 20 4 * 6 = 24 4 * 7 = 28 4 * 8 = 32 4 * 9 = 36 *****\n",
      "5 * 1 = 5 5 * 2 = 10 5 * 3 = 15 5 * 4 = 20 5 * 5 = 25 5 * 6 = 30 5 * 7 = 35 5 * 8 = 40 5 * 9 = 45 *****\n",
      "6 * 1 = 6 6 * 2 = 12 6 * 3 = 18 6 * 4 = 24 6 * 5 = 30 6 * 6 = 36 6 * 7 = 42 6 * 8 = 48 6 * 9 = 54 *****\n",
      "7 * 1 = 7 7 * 2 = 14 7 * 3 = 21 7 * 4 = 28 7 * 5 = 35 7 * 6 = 42 7 * 7 = 49 7 * 8 = 56 7 * 9 = 63 *****\n",
      "8 * 1 = 8 8 * 2 = 16 8 * 3 = 24 8 * 4 = 32 8 * 5 = 40 8 * 6 = 48 8 * 7 = 56 8 * 8 = 64 8 * 9 = 72 *****\n",
      "9 * 1 = 9 9 * 2 = 18 9 * 3 = 27 9 * 4 = 36 9 * 5 = 45 9 * 6 = 54 9 * 7 = 63 9 * 8 = 72 9 * 9 = 81 *****\n"
     ]
    }
   ],
   "source": [
    "print('구구단 -')\n",
    "\n",
    "# dan = int(input('단을 입력하세요 : '))\n",
    "# for gu in range(1, 10):\n",
    "#     print('{} * {} = {}'.format(dan, gu, (dan*gu)))\n",
    "\n",
    "i = 2\n",
    "while i < 10:\n",
    "    j = 0\n",
    "    while j < 9:\n",
    "        j = j+1\n",
    "        print('{} * {} = {}'.format(i,j,i*j), end=' ')\n",
    "    i = i+1\n",
    "    print('*'*5)"
   ]
  },
  {
   "cell_type": "code",
   "execution_count": 9,
   "id": "3cb15d0d",
   "metadata": {},
   "outputs": [
    {
     "name": "stdout",
     "output_type": "stream",
     "text": [
      "d\n",
      "c\n",
      "p\n"
     ]
    }
   ],
   "source": [
    "lst = ['dog', 'cat', 'parrot']\n",
    "\n",
    "for name in lst:\n",
    "    print(list(name)[0])"
   ]
  },
  {
   "cell_type": "code",
   "execution_count": null,
   "id": "937152e2",
   "metadata": {},
   "outputs": [],
   "source": []
  },
  {
   "cell_type": "code",
   "execution_count": null,
   "id": "f3dfe5bb",
   "metadata": {},
   "outputs": [],
   "source": []
  }
 ],
 "metadata": {
  "kernelspec": {
   "display_name": "Python 3 (ipykernel)",
   "language": "python",
   "name": "python3"
  },
  "language_info": {
   "codemirror_mode": {
    "name": "ipython",
    "version": 3
   },
   "file_extension": ".py",
   "mimetype": "text/x-python",
   "name": "python",
   "nbconvert_exporter": "python",
   "pygments_lexer": "ipython3",
   "version": "3.11.4"
  }
 },
 "nbformat": 4,
 "nbformat_minor": 5
}
