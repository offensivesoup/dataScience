{
 "cells": [
  {
   "cell_type": "code",
   "execution_count": 59,
   "id": "f02e5b17",
   "metadata": {},
   "outputs": [],
   "source": [
    "import numpy  as np\n",
    "import pandas as pd\n",
    "\n",
    "def aryInfo(ary) :\n",
    "    print('type -',type(ary))\n",
    "    print('shape -',ary.shape)\n",
    "    print('ndim -',ary.ndim)\n",
    "    print('dtype -',ary.dtype)\n",
    "    print()\n",
    "    print('data -')\n",
    "    print(ary)"
   ]
  },
  {
   "cell_type": "markdown",
   "id": "f4370c13",
   "metadata": {},
   "source": [
    "- 전치행렬(transpose matrix)\n",
    "- T"
   ]
  },
  {
   "cell_type": "code",
   "execution_count": 60,
   "id": "d699b95a",
   "metadata": {},
   "outputs": [
    {
     "name": "stdout",
     "output_type": "stream",
     "text": [
      "type - <class 'numpy.ndarray'>\n",
      "shape - (2, 3)\n",
      "ndim - 2\n",
      "dtype - int32\n",
      "\n",
      "data -\n",
      "[[1 2 3]\n",
      " [4 5 6]]\n",
      "\n",
      "type - <class 'numpy.ndarray'>\n",
      "shape - (3, 2)\n",
      "ndim - 2\n",
      "dtype - int32\n",
      "\n",
      "data -\n",
      "[[1 4]\n",
      " [2 5]\n",
      " [3 6]]\n"
     ]
    }
   ],
   "source": [
    "ary = np.arange(1,7).reshape(2,3)\n",
    "aryInfo(ary)\n",
    "print()\n",
    "transposeAry = ary.T\n",
    "aryInfo(transposeAry) # 2행3열이 3행2열로 바뀐다."
   ]
  },
  {
   "cell_type": "code",
   "execution_count": 61,
   "id": "2ac0ab8b",
   "metadata": {},
   "outputs": [
    {
     "name": "stdout",
     "output_type": "stream",
     "text": [
      "1차원 배열에 대한 전치행렬이 필요할까요?\n",
      "정답 : 필요하다\n",
      "이유는 : 함수의 인자로 배열 넘길 떄 타입이 맞아야 하므로\n",
      "type - <class 'numpy.ndarray'>\n",
      "shape - (6,)\n",
      "ndim - 1\n",
      "dtype - int32\n",
      "\n",
      "data -\n",
      "[1 2 3 4 5 6]\n",
      "type - <class 'numpy.ndarray'>\n",
      "shape - (6, 1)\n",
      "ndim - 2\n",
      "dtype - int32\n",
      "\n",
      "data -\n",
      "[[1]\n",
      " [2]\n",
      " [3]\n",
      " [4]\n",
      " [5]\n",
      " [6]]\n"
     ]
    }
   ],
   "source": [
    "print('1차원 배열에 대한 전치행렬이 필요할까요?')\n",
    "print('정답 : 필요하다')\n",
    "print('이유는 : 함수의 인자로 배열 넘길 떄 타입이 맞아야 하므로')\n",
    "ary = np.arange(1,7)\n",
    "aryInfo(ary)\n",
    "transposeAry = ary.reshape(1,6).T\n",
    "aryInfo(transposeAry) #1차원을 2차원으로 만들어서 Transpose 시키기 가능하다."
   ]
  },
  {
   "cell_type": "markdown",
   "id": "a41b5a8b",
   "metadata": {},
   "source": [
    "- flatten : 다차원 배열을 1차원으로 바꿀때 "
   ]
  },
  {
   "cell_type": "code",
   "execution_count": 62,
   "id": "b8a3e231",
   "metadata": {},
   "outputs": [
    {
     "name": "stdout",
     "output_type": "stream",
     "text": [
      "type - <class 'numpy.ndarray'>\n",
      "shape - (6,)\n",
      "ndim - 1\n",
      "dtype - int32\n",
      "\n",
      "data -\n",
      "[1 2 3 4 5 6]\n"
     ]
    }
   ],
   "source": [
    "aryInfo(transposeAry.flatten()) #기존 2차원 배열이 1차원으로 변경된다."
   ]
  },
  {
   "cell_type": "markdown",
   "id": "f6605020",
   "metadata": {},
   "source": [
    "- 주의사항) 차원에 대한 주의가 필요하다. "
   ]
  },
  {
   "cell_type": "code",
   "execution_count": 63,
   "id": "e3d65fc4",
   "metadata": {},
   "outputs": [
    {
     "name": "stdout",
     "output_type": "stream",
     "text": [
      "type - <class 'numpy.ndarray'>\n",
      "shape - (10,)\n",
      "ndim - 1\n",
      "dtype - int32\n",
      "\n",
      "data -\n",
      "[0 1 2 3 4 5 6 7 8 9]\n",
      "\n",
      "[[0 1 2 3 4 5 6 7 8 9]]\n",
      "[[0]\n",
      " [1]\n",
      " [2]\n",
      " [3]\n",
      " [4]\n",
      " [5]\n",
      " [6]\n",
      " [7]\n",
      " [8]\n",
      " [9]]\n",
      "\n",
      "차원의 변경이 아니라 차원증가 - np.newaxis\n",
      "\n",
      "[[0 1 2 3 4 5 6 7 8 9]]\n",
      "[[0]\n",
      " [1]\n",
      " [2]\n",
      " [3]\n",
      " [4]\n",
      " [5]\n",
      " [6]\n",
      " [7]\n",
      " [8]\n",
      " [9]]\n"
     ]
    }
   ],
   "source": [
    "ary = np.arange(10)\n",
    "aryInfo(ary)\n",
    "\n",
    "print()\n",
    "\n",
    "print(ary.reshape(1,10)) # 1행 10열의 2차원\n",
    "print(ary.reshape(10,1)) # 10행 1열의 2차원\n",
    "\n",
    "print()\n",
    "print('차원의 변경이 아니라 차원증가 - np.newaxis')\n",
    "print()\n",
    "print( ary[ np.newaxis , : ] ) # 차원증가를 통해 2차원으로 가능\n",
    "print( ary[ : , np.newaxis ] ) # 열방향의 2차원 증가 #배열의 축의 방향을 통해 2차원으로 증가시킬 수 있다."
   ]
  },
  {
   "cell_type": "markdown",
   "id": "c946f90f",
   "metadata": {},
   "source": [
    "- 배열연결 "
   ]
  },
  {
   "cell_type": "code",
   "execution_count": 64,
   "id": "625b5a38",
   "metadata": {},
   "outputs": [
    {
     "name": "stdout",
     "output_type": "stream",
     "text": [
      "hstack() - 행의 개수가 동일한 두개의 배열을 연결 - \n"
     ]
    }
   ],
   "source": [
    "print('hstack() - 행의 개수가 동일한 두개의 배열을 연결 - ')\n",
    "ary01 = np.ones((3,4)) # 튜플 형식으로 행,열을 지정\n",
    "ary02 = np.zeros((3,5))"
   ]
  },
  {
   "cell_type": "code",
   "execution_count": 65,
   "id": "2dc15943",
   "metadata": {},
   "outputs": [
    {
     "name": "stdout",
     "output_type": "stream",
     "text": [
      "type - <class 'numpy.ndarray'>\n",
      "shape - (3, 4)\n",
      "ndim - 2\n",
      "dtype - float64\n",
      "\n",
      "data -\n",
      "[[1. 1. 1. 1.]\n",
      " [1. 1. 1. 1.]\n",
      " [1. 1. 1. 1.]]\n",
      "type - <class 'numpy.ndarray'>\n",
      "shape - (3, 5)\n",
      "ndim - 2\n",
      "dtype - float64\n",
      "\n",
      "data -\n",
      "[[0. 0. 0. 0. 0.]\n",
      " [0. 0. 0. 0. 0.]\n",
      " [0. 0. 0. 0. 0.]]\n",
      "[[1. 1. 1. 1. 0. 0. 0. 0. 0.]\n",
      " [1. 1. 1. 1. 0. 0. 0. 0. 0.]\n",
      " [1. 1. 1. 1. 0. 0. 0. 0. 0.]]\n"
     ]
    }
   ],
   "source": [
    "aryInfo(ary01)\n",
    "aryInfo(ary02)\n",
    "print(np.hstack([ary01,ary02])) #리스트로 묶어주어야 한다., 행의 개수는 같아야 한다.\n",
    "\n"
   ]
  },
  {
   "cell_type": "code",
   "execution_count": 66,
   "id": "a7781218",
   "metadata": {},
   "outputs": [
    {
     "name": "stdout",
     "output_type": "stream",
     "text": [
      "vstack() - 열의 개수가 동일한 두개의 배열을 연결 - \n"
     ]
    }
   ],
   "source": [
    "print('vstack() - 열의 개수가 동일한 두개의 배열을 연결 - ')\n",
    "ary01 = np.ones((3,4)) # 튜플 형식으로 행,열을 지정\n",
    "ary02 = np.zeros((3,4))"
   ]
  },
  {
   "cell_type": "code",
   "execution_count": 67,
   "id": "f5cd83ac",
   "metadata": {},
   "outputs": [
    {
     "name": "stdout",
     "output_type": "stream",
     "text": [
      "type - <class 'numpy.ndarray'>\n",
      "shape - (3, 4)\n",
      "ndim - 2\n",
      "dtype - float64\n",
      "\n",
      "data -\n",
      "[[1. 1. 1. 1.]\n",
      " [1. 1. 1. 1.]\n",
      " [1. 1. 1. 1.]]\n",
      "type - <class 'numpy.ndarray'>\n",
      "shape - (3, 4)\n",
      "ndim - 2\n",
      "dtype - float64\n",
      "\n",
      "data -\n",
      "[[0. 0. 0. 0.]\n",
      " [0. 0. 0. 0.]\n",
      " [0. 0. 0. 0.]]\n",
      "[[1. 1. 1. 1.]\n",
      " [1. 1. 1. 1.]\n",
      " [1. 1. 1. 1.]\n",
      " [0. 0. 0. 0.]\n",
      " [0. 0. 0. 0.]\n",
      " [0. 0. 0. 0.]]\n"
     ]
    }
   ],
   "source": [
    "aryInfo(ary01)\n",
    "aryInfo(ary02)\n",
    "print(np.vstack([ary01,ary02]))"
   ]
  },
  {
   "cell_type": "code",
   "execution_count": 68,
   "id": "95a420a1",
   "metadata": {},
   "outputs": [
    {
     "name": "stdout",
     "output_type": "stream",
     "text": [
      "[[1. 1. 1. 1.]\n",
      " [1. 1. 1. 1.]\n",
      " [1. 1. 1. 1.]]\n",
      "\n",
      "[[0. 0. 0. 0.]\n",
      " [0. 0. 0. 0.]\n",
      " [0. 0. 0. 0.]]\n"
     ]
    }
   ],
   "source": [
    "print(ary01)\n",
    "print()\n",
    "print(ary02)"
   ]
  },
  {
   "cell_type": "code",
   "execution_count": 69,
   "id": "bf5e34e6",
   "metadata": {},
   "outputs": [
    {
     "name": "stdout",
     "output_type": "stream",
     "text": [
      "stack - 사용자가 지정한 축(x,y)\n",
      "축 axis = 0, axis = 1\n",
      "shpae axis=0, 2*3*4/3행4열2개, axis=1 3*2*4/2행4열3개, \n",
      "type - <class 'numpy.ndarray'>\n",
      "shape - (2, 3, 4)\n",
      "ndim - 3\n",
      "dtype - float64\n",
      "\n",
      "data -\n",
      "[[[1. 1. 1. 1.]\n",
      "  [1. 1. 1. 1.]\n",
      "  [1. 1. 1. 1.]]\n",
      "\n",
      " [[0. 0. 0. 0.]\n",
      "  [0. 0. 0. 0.]\n",
      "  [0. 0. 0. 0.]]]\n"
     ]
    }
   ],
   "source": [
    "print('stack - 사용자가 지정한 축(x,y)')\n",
    "print('축 axis = 0, axis = 1')\n",
    "print('shpae axis=0, 2*3*4/3행4열2개, axis=1 3*2*4/2행4열3개, ')\n",
    "ary01 = np.ones((3,4))\n",
    "ary02 = np.zeros((3,4))\n",
    "\n",
    "aryInfo(np.stack([ary01, ary02] , axis = 0))"
   ]
  },
  {
   "cell_type": "code",
   "execution_count": 70,
   "id": "deaacde3",
   "metadata": {},
   "outputs": [
    {
     "name": "stdout",
     "output_type": "stream",
     "text": [
      "tile() - 동일한 배열을 반복하여 연결\n"
     ]
    },
    {
     "data": {
      "text/plain": [
       "array([[1, 2, 3, 1, 2, 3, 1, 2, 3],\n",
       "       [4, 5, 6, 4, 5, 6, 4, 5, 6],\n",
       "       [1, 2, 3, 1, 2, 3, 1, 2, 3],\n",
       "       [4, 5, 6, 4, 5, 6, 4, 5, 6],\n",
       "       [1, 2, 3, 1, 2, 3, 1, 2, 3],\n",
       "       [4, 5, 6, 4, 5, 6, 4, 5, 6]])"
      ]
     },
     "execution_count": 70,
     "metadata": {},
     "output_type": "execute_result"
    }
   ],
   "source": [
    "print('tile() - 동일한 배열을 반복하여 연결')\n",
    "ary = np.arange(1,7).reshape(-1,3)\n",
    "np.tile(ary,(3,3)) #행과 열을 반복할 수 있음."
   ]
  },
  {
   "cell_type": "code",
   "execution_count": 71,
   "id": "12cffd56",
   "metadata": {},
   "outputs": [],
   "source": [
    "# 위 결과가 나올 수 있도록 함수를 이용하여 작성해 보세요~~~\n",
    "# array([[   0.,    0.,    0.,    1.,    1.],\n",
    "#        [   0.,    0.,    0.,    1.,    1.],\n",
    "#        [   0.,    0.,    0.,    1.,    1.],\n",
    "#        [  10.,   20.,   30.,   40.,   50.],\n",
    "#        [  60.,   70.,   80.,   90.,  100.],\n",
    "#        [ 110.,  120.,  130.,  140.,  150.],\n",
    "#        [   0.,    0.,    0.,    1.,    1.],\n",
    "#        [   0.,    0.,    0.,    1.,    1.],\n",
    "#        [   0.,    0.,    0.,    1.,    1.],\n",
    "#        [  10.,   20.,   30.,   40.,   50.],\n",
    "#        [  60.,   70.,   80.,   90.,  100.],\n",
    "#        [ 110.,  120.,  130.,  140.,  150.]])"
   ]
  },
  {
   "cell_type": "code",
   "execution_count": 72,
   "id": "1111c86e",
   "metadata": {},
   "outputs": [
    {
     "name": "stdout",
     "output_type": "stream",
     "text": [
      "[[  0.   0.   0.   1.   1.]\n",
      " [  0.   0.   0.   1.   1.]\n",
      " [  0.   0.   0.   1.   1.]\n",
      " [ 10.  20.  30.  40.  50.]\n",
      " [ 60.  70.  80.  90. 100.]\n",
      " [110. 120. 130. 140. 150.]\n",
      " [  0.   0.   0.   1.   1.]\n",
      " [  0.   0.   0.   1.   1.]\n",
      " [  0.   0.   0.   1.   1.]\n",
      " [ 10.  20.  30.  40.  50.]\n",
      " [ 60.  70.  80.  90. 100.]\n",
      " [110. 120. 130. 140. 150.]]\n"
     ]
    }
   ],
   "source": [
    "ary01 = np.zeros((3,3))\n",
    "ary02 = np.ones((3,2))\n",
    "# print(ary01)\n",
    "# print(ary02)\n",
    "ary03 = np.hstack([ary01,ary02])\n",
    "ary04 = np.arange(10,160,10).reshape(3,5)\n",
    "ary05 = np.vstack([ary03,ary04])\n",
    "# print(ary04)\n",
    "# print(ary05)\n",
    "ary06 = np.tile(ary05,(2,1))\n",
    "print(ary06)"
   ]
  },
  {
   "cell_type": "markdown",
   "id": "2f74a5af",
   "metadata": {},
   "source": [
    "데이터 삭제\n",
    "- delete()\n",
    "- 기준 axis = 0(행), axis = 1(열)\n",
    "- 기준을 정의하지 않는다면 1차원변경 삭제\n",
    "- 리턴이 있다(원본배열에 적용하는 것이 아니라 변경된 새로운 리턴)"
   ]
  },
  {
   "cell_type": "code",
   "execution_count": 73,
   "id": "1af01819",
   "metadata": {},
   "outputs": [
    {
     "name": "stdout",
     "output_type": "stream",
     "text": [
      "type - <class 'numpy.ndarray'>\n",
      "shape - (3, 4)\n",
      "ndim - 2\n",
      "dtype - int32\n",
      "\n",
      "data -\n",
      "[[8 9 2 5]\n",
      " [9 5 2 2]\n",
      " [2 0 1 8]]\n"
     ]
    }
   ],
   "source": [
    "ary = np.random.randint(0, 10, (3,4)) #random을 이용해 배열을 만들 수 있다.\n",
    "aryInfo(ary)"
   ]
  },
  {
   "cell_type": "code",
   "execution_count": 74,
   "id": "a26c7df3",
   "metadata": {},
   "outputs": [
    {
     "data": {
      "text/plain": [
       "array([[8, 9, 2, 5],\n",
       "       [2, 0, 1, 8]])"
      ]
     },
     "execution_count": 74,
     "metadata": {},
     "output_type": "execute_result"
    }
   ],
   "source": [
    "newAry = np.delete(ary, 1 , axis = 0)\n",
    "newAry"
   ]
  },
  {
   "cell_type": "code",
   "execution_count": 75,
   "id": "a1422f62",
   "metadata": {},
   "outputs": [
    {
     "data": {
      "text/plain": [
       "array([[8, 9, 2, 5],\n",
       "       [9, 5, 2, 2],\n",
       "       [2, 0, 1, 8]])"
      ]
     },
     "execution_count": 75,
     "metadata": {},
     "output_type": "execute_result"
    }
   ],
   "source": [
    "ary"
   ]
  },
  {
   "cell_type": "markdown",
   "id": "5adba9f2",
   "metadata": {},
   "source": [
    "통계함수(차원축소 함수 == dimension reduction)\n",
    "- 기술적통계(min, max, sum, mean, median, std, var, etc....)\n",
    "- all,any\n",
    "- 중요) argmin, argmax : 인덱스를 리턴한다."
   ]
  },
  {
   "cell_type": "code",
   "execution_count": 76,
   "id": "430db3fe",
   "metadata": {},
   "outputs": [
    {
     "name": "stdout",
     "output_type": "stream",
     "text": [
      "data   -  (10,) 1 int32\n",
      "sum    -  55\n",
      "mean   -  5.5\n",
      "median -  5.5\n",
      "max    -  10\n",
      "min    -  1\n",
      "var    -  8.25\n",
      "std    -  2.8722813232690143\n",
      "quartile -  1.0\n",
      "quartile -  10.0\n",
      "quartile -  3.25\n",
      "quartile -  5.5\n",
      "quartile -  7.75\n"
     ]
    }
   ],
   "source": [
    "ary = np.array([1,2,3,4,5,6,7,8,9,10]) #numpy의 함수값들로 이해할 것.\n",
    "print('data   - ',ary.shape, ary.ndim, ary.dtype)\n",
    "print('sum    - ',np.sum(ary))\n",
    "print('mean   - ',np.mean(ary))\n",
    "print('median - ',np.median(ary))\n",
    "print('max    - ',np.max(ary))\n",
    "print('min    - ',np.min(ary))\n",
    "print('var    - ',np.var(ary))\n",
    "print('std    - ',np.std(ary))\n",
    "print('quartile - ', np.percentile(ary,0))\n",
    "print('quartile - ', np.percentile(ary,100))\n",
    "print('quartile - ', np.percentile(ary,25)) # 1사분위\n",
    "print('quartile - ', np.percentile(ary,50)) # 2사분위\n",
    "print('quartile - ', np.percentile(ary,75)) # 3사분위\n"
   ]
  },
  {
   "cell_type": "code",
   "execution_count": 77,
   "id": "084854ba",
   "metadata": {},
   "outputs": [
    {
     "name": "stdout",
     "output_type": "stream",
     "text": [
      "argmin -  1\n",
      "argmax -  10\n",
      "\n",
      "any -  True\n",
      "all -  False\n"
     ]
    }
   ],
   "source": [
    "print('argmin - ',ary[np.argmin(ary)]) # idx\n",
    "print('argmax - ',ary[np.argmax(ary)])\n",
    "print()\n",
    "print('any - ',np.any([True,False,True])) # 하나라도 True가 있으면 True (or)\n",
    "print('all - ',np.all([True,False,True])) # and\n"
   ]
  },
  {
   "cell_type": "code",
   "execution_count": 78,
   "id": "c8b88592",
   "metadata": {},
   "outputs": [
    {
     "name": "stdout",
     "output_type": "stream",
     "text": [
      "[[ 1  2  3  4  5]\n",
      " [ 6  7  8  9 10]\n",
      " [11 12 13 14 15]\n",
      " [16 17 18 19 20]]\n"
     ]
    }
   ],
   "source": [
    "ary = np.arange(1,21).reshape(4,5)\n",
    "print(ary)"
   ]
  },
  {
   "cell_type": "code",
   "execution_count": 80,
   "id": "8b05cc4d",
   "metadata": {},
   "outputs": [
    {
     "name": "stdout",
     "output_type": "stream",
     "text": [
      "2차원 배열에서 차원축소함수를 적용하기 위해서는 axis 설정이 중요~\n",
      "sum -  [34 38 42 46 50] <class 'numpy.int32'>\n"
     ]
    }
   ],
   "source": [
    "print('2차원 배열에서 차원축소함수를 적용하기 위해서는 axis 설정이 중요~')\n",
    "print('sum - ',sum(ary), type(np.sum(ary)))"
   ]
  },
  {
   "cell_type": "code",
   "execution_count": 100,
   "id": "2d0c5138",
   "metadata": {},
   "outputs": [
    {
     "name": "stdout",
     "output_type": "stream",
     "text": [
      "sum -  [3133096 2667767 2079508 2172187 2909593 4086382] <class 'numpy.int32'>\n"
     ]
    }
   ],
   "source": [
    "print('sum - ',sum(ary), type(np.sum(ary)))"
   ]
  },
  {
   "cell_type": "markdown",
   "id": "7bad13ee",
   "metadata": {},
   "source": [
    "돌발퀴즈 "
   ]
  },
  {
   "cell_type": "code",
   "execution_count": 86,
   "id": "8b989635",
   "metadata": {},
   "outputs": [
    {
     "name": "stdout",
     "output_type": "stream",
     "text": [
      "type - <class 'numpy.ndarray'>\n",
      "shape - (5, 6)\n",
      "ndim - 2\n",
      "dtype - int32\n",
      "\n",
      "data -\n",
      "[[119399 356271 645555 837647 562740 704277]\n",
      " [701967 914337 564253 228816  26946 841344]\n",
      " [995145 291891  62243 511057 774890 988160]\n",
      " [895828 130848 713737 479700 798658 874441]\n",
      " [420757 974420  93720 114967 746359 678160]]\n"
     ]
    }
   ],
   "source": [
    "ary = np.random.randint(0, 1000000, (5,6))\n",
    "aryInfo(ary)"
   ]
  },
  {
   "cell_type": "code",
   "execution_count": 133,
   "id": "2dbf4966",
   "metadata": {},
   "outputs": [
    {
     "name": "stdout",
     "output_type": "stream",
     "text": [
      "전체 최대값 -  995145\n",
      "행 합 [3225889 3277663 3623386 3893212 3028383]\n",
      "행의 합을 열로 추가 [[3225889  119399  356271  645555  837647  562740  704277]\n",
      " [3277663  701967  914337  564253  228816   26946  841344]\n",
      " [3623386  995145  291891   62243  511057  774890  988160]\n",
      " [3893212  895828  130848  713737  479700  798658  874441]\n",
      " [3028383  420757  974420   93720  114967  746359  678160]]\n",
      "list comprehension - [3225889, 3277663, 3623386, 3893212, 3028383]\n",
      "각 행의 최대값 [837647 914337 995145 895828 974420]\n",
      "각 행의 최대값을 열로 추가 [[837647 119399 356271 645555 837647 562740 704277]\n",
      " [914337 701967 914337 564253 228816  26946 841344]\n",
      " [995145 995145 291891  62243 511057 774890 988160]\n",
      " [895828 895828 130848 713737 479700 798658 874441]\n",
      " [974420 420757 974420  93720 114967 746359 678160]]\n",
      "각 열의 평균 -  [626619.2 533553.4 415901.6 434437.4 581918.6 817276.4]\n",
      "각 열의 평균을 행으로 추가 [[626619.2 533553.4 415901.6 434437.4 581918.6 817276.4]\n",
      " [119399.  356271.  645555.  837647.  562740.  704277. ]\n",
      " [701967.  914337.  564253.  228816.   26946.  841344. ]\n",
      " [995145.  291891.   62243.  511057.  774890.  988160. ]\n",
      " [895828.  130848.  713737.  479700.  798658.  874441. ]\n",
      " [420757.  974420.   93720.  114967.  746359.  678160. ]]\n",
      "\n",
      "각 열의 최소값 - [119399 130848  62243 114967  26946 678160]\n"
     ]
    }
   ],
   "source": [
    "print('전체 최대값 - ',np.max(ary))\n",
    "print('행 합',np.sum(ary, axis = 1))\n",
    "print('행의 합을 열로 추가',np.hstack([np.sum(ary, axis = 1).reshape(-1,1), ary]))\n",
    "print('list comprehension -',[ary[idx].sum() for idx in range(ary.shape[0])])\n",
    "print('각 행의 최대값',np.max(ary, axis = 1))\n",
    "print('각 행의 최대값을 열로 추가',np.hstack([np.max(ary, axis = 1).reshape(5,1), ary]))\n",
    "print('각 열의 평균 - ',np.mean(ary, axis = 0))\n",
    "print('각 열의 평균을 행으로 추가',np.vstack([np.mean(ary, axis = 0).reshape(1,-1), ary]))\n",
    "print()\n",
    "print('각 열의 최소값 -',np.min(ary, axis = 0))"
   ]
  },
  {
   "cell_type": "markdown",
   "id": "dc464207",
   "metadata": {},
   "source": [
    "sorting\n",
    "- np.sort()  : 원본에 대한 변경 x(inplace = False)\n",
    "- ary.sort() : 원본에 대한 변경 o(inplace = True )"
   ]
  },
  {
   "cell_type": "code",
   "execution_count": 168,
   "id": "c2e6db89",
   "metadata": {},
   "outputs": [
    {
     "name": "stdout",
     "output_type": "stream",
     "text": [
      "[0 1 2 3 4 5 6 7 8 9]\n",
      "\n",
      "[1 2 4 5 9 0 8 3 6 7]\n",
      "np.sort - \n",
      "[0 1 2 3 4 5 6 7 8 9]\n",
      "ary -  [1 2 4 5 9 0 8 3 6 7]\n",
      "desc - \n",
      "[9 8 7 6 5 4 3 2 1 0]\n"
     ]
    }
   ],
   "source": [
    "ary = np.arange(10)\n",
    "print(ary)\n",
    "print()\n",
    "np.random.shuffle(ary) #배열이 셔플된다.\n",
    "print(ary)\n",
    "print('np.sort - ')\n",
    "newAry = np.sort(ary) #원본에 반영이 되지 않았다.\n",
    "print(newAry)\n",
    "print('ary - ', ary)\n",
    "print('desc - ')\n",
    "newAry = np.sort(ary)[::-1]\n",
    "print(newAry)"
   ]
  },
  {
   "cell_type": "code",
   "execution_count": 175,
   "id": "b1d0cd28",
   "metadata": {},
   "outputs": [
    {
     "name": "stdout",
     "output_type": "stream",
     "text": [
      "행렬에 대한 정렬 - \n",
      "[[11  1 16 13]\n",
      " [ 1  3 14  9]\n",
      " [10  8  6 14]\n",
      " [ 7 13 11 12]]\n",
      "\n",
      "열 정렬 - \n",
      "[[ 1  1  6  9]\n",
      " [ 7  3 11 12]\n",
      " [10  8 14 13]\n",
      " [11 13 16 14]]\n",
      "\n",
      "[[11  1 16 13]\n",
      " [ 1  3 14  9]\n",
      " [10  8  6 14]\n",
      " [ 7 13 11 12]]\n",
      "행 정렬 -\n",
      "[[ 1 11 13 16]\n",
      " [ 1  3  9 14]\n",
      " [ 6  8 10 14]\n",
      " [ 7 11 12 13]]\n"
     ]
    }
   ],
   "source": [
    "print('행렬에 대한 정렬 - ') # 행렬에 대한 정렬이 가능하다.\n",
    "ary = np.random.randint(1, 17, (4,4))\n",
    "print(ary)\n",
    "print()\n",
    "print('열 정렬 - ')\n",
    "print(np.sort(ary, axis = 0))\n",
    "print()\n",
    "print(ary)\n",
    "print('행 정렬 -')\n",
    "print(np.sort(ary, axis = 1))"
   ]
  },
  {
   "cell_type": "markdown",
   "id": "5e04cef8",
   "metadata": {},
   "source": [
    "- 만약, 정렬된 인덱스를 필요로 한다면?\n",
    "- np.argsort()"
   ]
  },
  {
   "cell_type": "code",
   "execution_count": 179,
   "id": "986255b9",
   "metadata": {},
   "outputs": [
    {
     "name": "stdout",
     "output_type": "stream",
     "text": [
      "[4 3 5 7]\n"
     ]
    }
   ],
   "source": [
    "ary = np.array([4,3,5,7])\n",
    "print(ary)"
   ]
  },
  {
   "cell_type": "code",
   "execution_count": 184,
   "id": "3d8dbafc",
   "metadata": {},
   "outputs": [
    {
     "name": "stdout",
     "output_type": "stream",
     "text": [
      "[1 0 2 3]\n",
      "[3 4 5 7]\n",
      "[7 5 4 3]\n"
     ]
    }
   ],
   "source": [
    "sortidx = np.argsort(ary)\n",
    "print(sortidx) #arg가 붙으면 value 대신 index를 return하게 된다.\n",
    "print(ary[sortidx])\n",
    "print(ary[sortidx][::-1])"
   ]
  },
  {
   "cell_type": "code",
   "execution_count": 189,
   "id": "3b2a7772",
   "metadata": {},
   "outputs": [
    {
     "name": "stdout",
     "output_type": "stream",
     "text": [
      "[[10 12 14  1]\n",
      " [14 11  3 12]\n",
      " [ 7 13  8  4]\n",
      " [ 8 13  6  2]]\n"
     ]
    }
   ],
   "source": [
    "ary = np.random.randint(1, 17, (4,4))\n",
    "print(ary)"
   ]
  },
  {
   "cell_type": "code",
   "execution_count": 193,
   "id": "17c20881",
   "metadata": {},
   "outputs": [
    {
     "data": {
      "text/plain": [
       "array([[2, 1, 1, 0],\n",
       "       [3, 0, 3, 3],\n",
       "       [0, 2, 2, 2],\n",
       "       [1, 3, 0, 1]], dtype=int64)"
      ]
     },
     "execution_count": 193,
     "metadata": {},
     "output_type": "execute_result"
    }
   ],
   "source": [
    "np.argsort(ary, axis = 0)"
   ]
  },
  {
   "cell_type": "markdown",
   "id": "0d1e4960",
   "metadata": {},
   "source": [
    "- 배열에 병합이 아닌 열, 행 추가하는 방법\n",
    "- np.concatenate() #추가\n",
    "- 축의 방향을 설정하여 추가 (axis)"
   ]
  },
  {
   "cell_type": "code",
   "execution_count": 195,
   "id": "8ecf8c37",
   "metadata": {},
   "outputs": [
    {
     "name": "stdout",
     "output_type": "stream",
     "text": [
      "type - <class 'numpy.ndarray'>\n",
      "shape - (2, 3)\n",
      "ndim - 2\n",
      "dtype - int32\n",
      "\n",
      "data -\n",
      "[[1 2 3]\n",
      " [4 5 6]]\n"
     ]
    }
   ],
   "source": [
    "ary = np.array([[1,2,3] , [4,5,6]])\n",
    "aryInfo(ary)"
   ]
  },
  {
   "cell_type": "code",
   "execution_count": 209,
   "id": "898cf1a0",
   "metadata": {},
   "outputs": [
    {
     "name": "stdout",
     "output_type": "stream",
     "text": [
      "[[1 2 3]\n",
      " [4 5 6]\n",
      " [7 8 9]]\n",
      "\n",
      "[[1 2 3]\n",
      " [4 5 6]\n",
      " [7 8 9]]\n",
      "[[ 1  2  3 10]\n",
      " [ 4  5  6 11]]\n",
      "[[ 1  2  3 10]\n",
      " [ 4  5  6 11]]\n"
     ]
    }
   ],
   "source": [
    "rowAry = np.array([7,8,9])\n",
    "np.vstack([ary, rowAry])\n",
    "print(np.concatenate( (ary, rowAry[ np.newaxis , : ]) , axis = 0))\n",
    "print()\n",
    "print(np.concatenate( (ary, rowAry.reshape(1,3)) , axis = 0))\n",
    "colAry = np.array([10,11])\n",
    "print(np.concatenate( (ary, colAry[ : , np.newaxis ]) , axis = 1))\n",
    "print(np.concatenate( (ary, colAry.reshape(2,1)) , axis = 1))"
   ]
  },
  {
   "cell_type": "code",
   "execution_count": null,
   "id": "760698dd",
   "metadata": {},
   "outputs": [],
   "source": []
  },
  {
   "cell_type": "code",
   "execution_count": null,
   "id": "eaaa6808",
   "metadata": {},
   "outputs": [],
   "source": []
  },
  {
   "cell_type": "code",
   "execution_count": null,
   "id": "567a7a29",
   "metadata": {},
   "outputs": [],
   "source": []
  },
  {
   "cell_type": "code",
   "execution_count": null,
   "id": "e2e663f4",
   "metadata": {},
   "outputs": [],
   "source": []
  }
 ],
 "metadata": {
  "kernelspec": {
   "display_name": "Python 3 (ipykernel)",
   "language": "python",
   "name": "python3"
  },
  "language_info": {
   "codemirror_mode": {
    "name": "ipython",
    "version": 3
   },
   "file_extension": ".py",
   "mimetype": "text/x-python",
   "name": "python",
   "nbconvert_exporter": "python",
   "pygments_lexer": "ipython3",
   "version": "3.11.4"
  }
 },
 "nbformat": 4,
 "nbformat_minor": 5
}
