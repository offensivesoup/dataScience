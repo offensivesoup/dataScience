{
 "cells": [
  {
   "cell_type": "markdown",
   "id": "70f0f45a",
   "metadata": {},
   "source": [
    "https://docs.python.org/ko/3/library/functions.html"
   ]
  },
  {
   "cell_type": "code",
   "execution_count": 16,
   "id": "57221479",
   "metadata": {},
   "outputs": [
    {
     "name": "stdout",
     "output_type": "stream",
     "text": [
      "type - <class 'list'> , casting - True\n",
      "\n",
      "max - 7\n",
      "min - 1\n",
      "sum - 28\n",
      "mean - 4\n"
     ]
    }
   ],
   "source": [
    "numLst = [1,2,3,4,5,6,7]\n",
    "print('type -',type(numLst), ', casting -', bool(numLst))\n",
    "\n",
    "print()\n",
    "\n",
    "print('max -', max(numLst))\n",
    "print('min -', min(numLst))\n",
    "print('sum -', sum(numLst))\n",
    "print('mean -', int(sum(numLst)/len(numLst)))\n",
    "\n",
    "#class는 설계도면"
   ]
  },
  {
   "cell_type": "code",
   "execution_count": 26,
   "id": "720d69ad",
   "metadata": {},
   "outputs": [
    {
     "name": "stdout",
     "output_type": "stream",
     "text": [
      "instance address = id() 1873893447168 1873893446272\n",
      "is 연산자 = 주소값을 비교하는 연산자,  False\n",
      "\n",
      "is 연산자 = 주소값을 비교하는 연산자,  True\n",
      "lstTmp01 = [1, 2, 3, 4]\n"
     ]
    }
   ],
   "source": [
    "lstTmp01 = [1,2,3]\n",
    "lstTmp02 = [1,2,3]\n",
    "\n",
    "print('instance address = id()', id(lstTmp01),  id(lstTmp02)) #서로 다른 주소값을 가진다.\n",
    "print('is 연산자 = 주소값을 비교하는 연산자, ',lstTmp01 is lstTmp02) #is로 주소값을 비교\n",
    "\n",
    "print()\n",
    "\n",
    "lstTmp03 = lstTmp01 #변수에는 변수를 할당할 수 있다.\n",
    "print('is 연산자 = 주소값을 비교하는 연산자, ',lstTmp03 is lstTmp01) #주소값이 할당되게 된다.\n",
    "#print(id(lstTmp03), id(lstTmp01))\n",
    "\n",
    "lstTmp03.append(4)\n",
    "print(\"lstTmp01 =\",lstTmp01)\n"
   ]
  },
  {
   "cell_type": "code",
   "execution_count": 29,
   "id": "b1cb8e7f",
   "metadata": {},
   "outputs": [
    {
     "name": "stdout",
     "output_type": "stream",
     "text": [
      "instance address = id() 1873893446272 1873893420864\n",
      "is 연산자 = 주소값을 비교하는 연산자,  False\n",
      "lstTmp04 = [1, 2, 3]\n"
     ]
    }
   ],
   "source": [
    "from copy import copy #파이썬의 라이브러리를 가져오고자 하는 것 form 모듈 import 모듈의 구성요소 #모듈은 파일, 같은 디렉토리에 있으면 패키지 #특정함수를 쓰기위한 선언\n",
    "\n",
    "lstTmp04 = copy(lstTmp02)\n",
    "\n",
    "print('instance address = id()', id(lstTmp02),  id(lstTmp04)) #서로 다른 주소값을 가진다.\n",
    "print('is 연산자 = 주소값을 비교하는 연산자, ',lstTmp02 is lstTmp04) #is로 주소값을 비교\n",
    "\n",
    "lstTmp02.append(4)\n",
    "print(\"lstTmp04 =\",lstTmp04)\n",
    "\n"
   ]
  },
  {
   "cell_type": "markdown",
   "id": "0e3a02af",
   "metadata": {},
   "source": [
    "#### 열거형\n",
    "- range(start)\n",
    "- range(start, end)\n",
    "- range(start, end, step)\n",
    "- 숫자형 열거형으로 값을 생성하는 객체"
   ]
  },
  {
   "cell_type": "code",
   "execution_count": 39,
   "id": "d02c5a8e",
   "metadata": {},
   "outputs": [
    {
     "name": "stdout",
     "output_type": "stream",
     "text": [
      "type      - <class 'range'>\n",
      "data      - range(1, 11, 2)\n",
      "in 연산자 - False\n",
      "dir       - ['__bool__', '__class__', '__contains__', '__delattr__', '__dir__', '__doc__', '__eq__', '__format__', '__ge__', '__getattribute__', '__getitem__', '__getstate__', '__gt__', '__hash__', '__init__', '__init_subclass__', '__iter__', '__le__', '__len__', '__lt__', '__ne__', '__new__', '__reduce__', '__reduce_ex__', '__repr__', '__reversed__', '__setattr__', '__sizeof__', '__str__', '__subclasshook__', 'count', 'index', 'start', 'step', 'stop']\n",
      "1\t3\t5\t7\t9\t"
     ]
    }
   ],
   "source": [
    "rangeTmp = range(1,11,2) #하나를 주면 end index 2개 start, end 3개 슬라이싱\n",
    "print('type      -',type(rangeTmp))\n",
    "print('data      -',rangeTmp) #0에서부터 10, 실질적으로 9까지 들어있음(endIndex와 동일)\n",
    "print('in 연산자 -', 10 in range(10)) # in은 들어있는지 확인\n",
    "print('dir       -',dir(range)) #iterate 반복가능\n",
    "\n",
    "for value in rangeTmp:\n",
    "    print(value, end ='\\t') #t는 탭\n",
    "    "
   ]
  },
  {
   "cell_type": "code",
   "execution_count": 43,
   "id": "142336b9",
   "metadata": {},
   "outputs": [
    {
     "name": "stdout",
     "output_type": "stream",
     "text": [
      "idx - 0 data - 10\n",
      "idx - 1 data - 20\n",
      "idx - 2 data - 30\n"
     ]
    }
   ],
   "source": [
    "tmp = [10,20,30]\n",
    "\n",
    "for idx in range(len(tmp)): #인덱스번지가 나오게 된다. -> 데이터를 꺼낼 수 있다.\n",
    "    print('idx -',idx, 'data -',tmp[idx])"
   ]
  },
  {
   "cell_type": "code",
   "execution_count": 165,
   "id": "bede9a15",
   "metadata": {},
   "outputs": [
    {
     "name": "stdout",
     "output_type": "stream",
     "text": [
      "data - [1, 2, 5, 2, 1, 5, 5, 2, 1, 3]\n",
      "sort - [5, 5, 5, 3, 2, 2, 2, 1, 1, 1]\n"
     ]
    }
   ],
   "source": [
    "import random # from import 는 패키지나 모듈에서 구성요소를 가져쓰는것, import는 모듈만 가져오는 것 (random 모듈을 가져옴)\n",
    "\n",
    "lst = []\n",
    "\n",
    "for idx in range(10):\n",
    "    lst.append(random.randint(1,5))\n",
    "    \n",
    "print('data -', lst)\n",
    "\n",
    "lst.sort(reverse = True)\n",
    "print('sort -', lst)\n",
    "\n",
    "#random.randint(1,5) # 모듈에 대한 구성요소에 대한 접근도 .을 사용한다\n"
   ]
  },
  {
   "cell_type": "code",
   "execution_count": 103,
   "id": "034db006",
   "metadata": {},
   "outputs": [
    {
     "name": "stdout",
     "output_type": "stream",
     "text": [
      "find\n"
     ]
    }
   ],
   "source": [
    "if 4 in lst:\n",
    "    print('find')\n",
    "else:\n",
    "    print(\"can't find\")"
   ]
  },
  {
   "cell_type": "markdown",
   "id": "d5f18fae",
   "metadata": {},
   "source": [
    "list Comprehension(중요)"
   ]
  },
  {
   "cell_type": "code",
   "execution_count": 168,
   "id": "5465054e",
   "metadata": {},
   "outputs": [
    {
     "name": "stdout",
     "output_type": "stream",
     "text": [
      "2\t4\t1\t5\t8\t4\t\n",
      "2\t4\t1\t5\t8\t4\t\n",
      "각 값의 제곱한 결과를 확인하고 싶다면\n",
      "result - [4, 16, 1, 25, 64, 16]\n",
      "list comprehesion -\n",
      "result - [4, 16, 1, 25, 64, 16]\n",
      "\n",
      "제곱한 결과에서 2의 배수인 값들만 추출한다면?\n",
      "result - [4, 16, 64, 16]\n"
     ]
    }
   ],
   "source": [
    "lst = [2,4,1,5,8,4]\n",
    "\n",
    "for data in lst:\n",
    "    print(data, end='\\t')\n",
    "    \n",
    "print()\n",
    "\n",
    "for idx in range(len(lst)):\n",
    "    print(lst[idx], end='\\t')\n",
    "    \n",
    "print()\n",
    "print('각 값의 제곱한 결과를 확인하고 싶다면')\n",
    "result = []\n",
    "for idx in range(len(lst)):\n",
    "    result.append(lst[idx]**2)\n",
    "print('result -', result)\n",
    "\n",
    "'''\n",
    "- [ 실행문 for 변수 in 열거형객체 ]\n",
    "- [ 실행문 for 변수 in 열거형객체 if 조건식]\n",
    "'''\n",
    "print('list comprehesion -')\n",
    "result = [data **2 for data in lst]\n",
    "print('result -',result)\n",
    "print()\n",
    "print('제곱한 결과에서 2의 배수인 값들만 추출한다면?')\n",
    "result = [data**2 for data in lst if data%2 == 0]\n",
    "print('result -',result)"
   ]
  },
  {
   "cell_type": "markdown",
   "id": "9eb43bc2",
   "metadata": {},
   "source": [
    "- 돌발퀴즈"
   ]
  },
  {
   "cell_type": "code",
   "execution_count": 169,
   "id": "a83ba266",
   "metadata": {},
   "outputs": [
    {
     "name": "stdout",
     "output_type": "stream",
     "text": [
      "for, list comprehension\n",
      "range() 함수를 이용해서 1~100 사이의 3의 배수만 출력하라 ~\n"
     ]
    }
   ],
   "source": [
    "print('for, list comprehension')\n",
    "print('range() 함수를 이용해서 1~100 사이의 3의 배수만 출력하라 ~')"
   ]
  },
  {
   "cell_type": "code",
   "execution_count": 183,
   "id": "096dfb73",
   "metadata": {},
   "outputs": [
    {
     "name": "stdout",
     "output_type": "stream",
     "text": [
      "\n",
      "[3, 6, 9, 12, 15, 18, 21, 24, 27, 30, 33, 36, 39, 42, 45, 48, 51, 54, 57, 60, 63, 66, 69, 72, 75, 78, 81, 84, 87, 90, 93, 96, 99]\n",
      "\n",
      "[3, 6, 9, 12, 15, 18, 21, 24, 27, 30, 33, 36, 39, 42, 45, 48, 51, 54, 57, 60, 63, 66, 69, 72, 75, 78, 81, 84, 87, 90, 93, 96, 99]\n"
     ]
    }
   ],
   "source": [
    "result2 = []\n",
    "for i in range(1,101):\n",
    "    if i%3==0:\n",
    "        result2.append(i)\n",
    "print()\n",
    "print(result2)\n",
    "print()\n",
    "\n",
    "result = [i for i in range(1,101) if i%3==0]\n",
    "print(result)"
   ]
  },
  {
   "cell_type": "markdown",
   "id": "6cd19ee8",
   "metadata": {},
   "source": [
    "#### tuple\n",
    "- 선언 : (), tuple()\n",
    "- 열거형(순서가 있기때문에 인덱싱, 슬라이싱 가능)\n",
    "- 중복데이터 허용\n",
    "- immutable(수정과 삭제가 불가능)\n",
    "- 읽기 전용\n",
    "- packing, unpacking"
   ]
  },
  {
   "cell_type": "code",
   "execution_count": 208,
   "id": "cc5cd18c",
   "metadata": {},
   "outputs": [
    {
     "name": "stdout",
     "output_type": "stream",
     "text": [
      "type - <class 'tuple'> casting - True\n",
      "data - (3, 2, 3, 1, 6, 3, 4, 3, 5, 3, 2, 3, 1, 3, 5)\n",
      "indexing - 3\n",
      "slicing - (3, 1, 6)\n",
      "\n",
      "튜플의 데이터를 삭제,수정하고 싶다면 어떻게 할까요?\n",
      "정답 : 형변환\n",
      "<class 'list'>\n",
      "data - [10, 2, 3, 1, 6, 3, 4, 3, 5, 3, 2, 3, 1, 3]\n",
      "data - (10, 2, 3, 1, 6, 3, 4, 3, 5, 3, 2, 3, 1, 3) type - <class 'tuple'>\n"
     ]
    }
   ],
   "source": [
    "tupleTmp = 3,2,3,1,6,3,4,3,5,3,2,3,1,3,5 #소괄호가 빠질수도 있다.\n",
    "print('type -',type(tupleTmp),'casting -',bool(tupleTmp)) #데이터가 없으면 무조건 false\n",
    "print('data -',tupleTmp) #중복데이터 허용, 순서 존재\n",
    "print('indexing -',tupleTmp[2])\n",
    "print('slicing -', tupleTmp[2:5])\n",
    "\n",
    "#tupleTmp[0] = 10 / typeError 튜플은 immutable\n",
    "#del tupleTmp[0] 도 안된다.\n",
    "\n",
    "print()\n",
    "print('튜플의 데이터를 삭제,수정하고 싶다면 어떻게 할까요?')\n",
    "print('정답 : 형변환')\n",
    "\n",
    "lstTmp = list(tupleTmp)\n",
    "print(type(lstTmp))\n",
    "lstTmp[0]=10\n",
    "del lstTmp[-1]\n",
    "print('data -', lstTmp)\n",
    "\n",
    "tupleTmp = tuple(lstTmp)\n",
    "print('data -',tupleTmp, 'type -',type(tupleTmp))"
   ]
  },
  {
   "cell_type": "code",
   "execution_count": 209,
   "id": "bdef4406",
   "metadata": {},
   "outputs": [
    {
     "data": {
      "text/plain": [
       "('김채아', '오세헌', '서한나', '문자영', '조소현', '최성훈')"
      ]
     },
     "execution_count": 209,
     "metadata": {},
     "output_type": "execute_result"
    }
   ],
   "source": [
    "packing = ('김채아', '오세헌', '서한나', '문자영', '조소현', '최성훈') #괄호가 빠져도 튜플\n",
    "packing"
   ]
  },
  {
   "cell_type": "code",
   "execution_count": 212,
   "id": "e7e1abf4",
   "metadata": {},
   "outputs": [
    {
     "name": "stdout",
     "output_type": "stream",
     "text": [
      "unpacking - 김채아 오세헌 ['서한나', '문자영', '조소현', '최성훈']\n"
     ]
    }
   ],
   "source": [
    "stu01, stu02, *stu03 = packing #*하게 된다면 나머지는 맵핑이 된다. 변수 타입은 리스트\n",
    "print('unpacking -', stu01, stu02, stu03)"
   ]
  },
  {
   "cell_type": "code",
   "execution_count": 2,
   "id": "42175816",
   "metadata": {},
   "outputs": [],
   "source": [
    "def userFunction():\n",
    "    numLst = [1,2,3,4,5,6,7]\n",
    "    \n",
    "    data_max = max(numLst)\n",
    "    data_min = min(numLst)\n",
    "    data_sum = sum(numLst)\n",
    "    data_mean = int(sum(numLst)/len(numLst))\n",
    "    \n",
    "    return (data_max, data_min, data_sum, data_mean)"
   ]
  },
  {
   "cell_type": "code",
   "execution_count": 3,
   "id": "881aa253",
   "metadata": {},
   "outputs": [
    {
     "name": "stdout",
     "output_type": "stream",
     "text": [
      "7 1 28 4\n"
     ]
    }
   ],
   "source": [
    "x1, x2, x3, x4 = userFunction()\n",
    "print(x1, x2, x3, x4)"
   ]
  },
  {
   "cell_type": "markdown",
   "id": "7b9f8348",
   "metadata": {},
   "source": [
    "#### dict\n",
    "- 선언 : {key : value , key : value}(set과 중복), dict()\n",
    "- dict = javascript object 형식과 동일\n",
    "- 열거형이 아니다(순서 x)\n",
    "- 키 중복을 허용하지 않는다\n",
    "- 수정, 삭제는 가능하다 (mutable)\n",
    "- 주의사항) 키값으로 불변(immutable)이 아닌타입은 정의할 수 없다.(list=x)\n",
    "\n"
   ]
  },
  {
   "cell_type": "code",
   "execution_count": 26,
   "id": "9d11a602",
   "metadata": {},
   "outputs": [
    {
     "name": "stdout",
     "output_type": "stream",
     "text": [
      "type - <class 'dict'> casting - True\n",
      "data - {'name': 'seop', 'phone': '010-1234-5678', 'birth': '990505'}\n",
      "in 연산자 ~ 키 유무를 판단 : True\n",
      "\n",
      "dir - ['__class__', '__class_getitem__', '__contains__', '__delattr__', '__delitem__', '__dir__', '__doc__', '__eq__', '__format__', '__ge__', '__getattribute__', '__getitem__', '__getstate__', '__gt__', '__hash__', '__init__', '__init_subclass__', '__ior__', '__iter__', '__le__', '__len__', '__lt__', '__ne__', '__new__', '__or__', '__reduce__', '__reduce_ex__', '__repr__', '__reversed__', '__ror__', '__setattr__', '__setitem__', '__sizeof__', '__str__', '__subclasshook__', 'clear', 'copy', 'fromkeys', 'get', 'items', 'keys', 'pop', 'popitem', 'setdefault', 'update', 'values']\n",
      "\n",
      "키를 통한 접근 - seop\n",
      "키를 통한 접근 - 010-1234-5678\n",
      "\n",
      "새로운 데이터 추가 -\n",
      "data - {'name': 'seop', 'phone': '010-1234-5678', 'birth': '990505', 'address': 'seoul'}\n"
     ]
    }
   ],
   "source": [
    "dictTmp = {'name' : 'seop', 'phone' : '010-1234-5678', 'birth' : '990505'}\n",
    "print('type -',type(dictTmp),'casting -',bool(dictTmp))\n",
    "print('data -',dictTmp)\n",
    "print('in 연산자 ~ 키 유무를 판단 :',  'name' in dictTmp)\n",
    "print()\n",
    "print('dir -',dir(dictTmp))\n",
    "print()\n",
    "print('키를 통한 접근 -',dictTmp['name']) #dict[]은 키를 통한 접근\n",
    "print('키를 통한 접근 -',dictTmp.get('phone'))\n",
    "print()\n",
    "print('새로운 데이터 추가 -')\n",
    "dictTmp['address'] = 'seoul'\n",
    "print('data -',dictTmp)\n"
   ]
  },
  {
   "cell_type": "code",
   "execution_count": 69,
   "id": "25aca943",
   "metadata": {},
   "outputs": [
    {
     "name": "stdout",
     "output_type": "stream",
     "text": [
      "type - <class 'dict'> {'price': 100, 'qty': 10}\n",
      "type - <class 'list'> [('price', 100), ('qty', 20)]\n",
      "비비고의 가격을 200원으로 인상하고자한다면\n",
      "data - [('price', 200), ('qty', 20)]\n"
     ]
    }
   ],
   "source": [
    "priceTmp = {\n",
    "    'melon'  : {'price' : 100, 'qty' : 10},\n",
    "    'brown'  : [200, 50],\n",
    "    'bibibig': [('price',100),('qty', 20)] #tuple을 key value 형식으로 쓰겠다고 봐야함.\n",
    "}\n",
    "\n",
    "melonData = priceTmp['melon']\n",
    "print('type -', type(melonData), melonData)\n",
    "bibibigData = priceTmp['bibibig']\n",
    "print('type -', type(bibibigData), bibibigData)\n",
    "# bibibigData[0][1] = 200 typeError 튜플은 읽기전용(수정이 안된다) list 안에 튜플이 들어있기 때문에\n",
    "print('비비고의 가격을 200원으로 인상하고자한다면')\n",
    "tmp = list(bibibigData[0]) #바꾸고자 하는 튜플을 리스트로 선언\n",
    "tmp[1]=200 #바뀐 리스트의 인덱싱을 변경\n",
    "bibibigData[0]=tuple(tmp) #리스트를 다시 튜플로 선언\n",
    "print('data -',bibibigData) #데이터 변경 확인"
   ]
  },
  {
   "cell_type": "code",
   "execution_count": 77,
   "id": "50ebc90a",
   "metadata": {},
   "outputs": [
    {
     "name": "stdout",
     "output_type": "stream",
     "text": [
      "type - <class 'dict'> casting - True\n"
     ]
    }
   ],
   "source": [
    "dictTmp = dict(city = 'busan', expo = 2030) #dict 함수를 활용하면 다른 문법을 사용 1.키값에''x 2.:대신 =사용\n",
    "print('type -', type(dictTmp), 'casting -', bool(dictTmp))"
   ]
  },
  {
   "cell_type": "code",
   "execution_count": 81,
   "id": "7352e48d",
   "metadata": {},
   "outputs": [
    {
     "name": "stdout",
     "output_type": "stream",
     "text": [
      "type - <class 'dict'> casting - True\n",
      "data - {'name': 'nicemin', 'city': 'seoul'}\n",
      "key를 통한 접근 None\n"
     ]
    }
   ],
   "source": [
    "dictTmp = dict(\n",
    "[('name','nicemin'),('city','seoul')]\n",
    ")\n",
    "print('type -', type(dictTmp), 'casting -', bool(dictTmp))\n",
    "print('data -', dictTmp)\n",
    "# print('key를 통한 접근 -',dictTmp['age']) - keyError\n",
    "print('key를 통한 접근',dictTmp.get('age')) # none으로 뜬다."
   ]
  },
  {
   "cell_type": "markdown",
   "id": "fdafc124",
   "metadata": {},
   "source": [
    "#### 현업에서 활용되는 방법\n",
    "- zip()"
   ]
  },
  {
   "cell_type": "code",
   "execution_count": 1,
   "id": "c0460771",
   "metadata": {},
   "outputs": [
    {
     "name": "stdout",
     "output_type": "stream",
     "text": [
      "type - <class 'dict'> casting - True\n",
      "data - {'key01': '섭섭해', 'key02': '김수현', 'key03': '송중모', 'key04': '신진섭', 'key05': '박영빈'}\n",
      "\n",
      "dir - ['__class__', '__class_getitem__', '__contains__', '__delattr__', '__delitem__', '__dir__', '__doc__', '__eq__', '__format__', '__ge__', '__getattribute__', '__getitem__', '__getstate__', '__gt__', '__hash__', '__init__', '__init_subclass__', '__ior__', '__iter__', '__le__', '__len__', '__lt__', '__ne__', '__new__', '__or__', '__reduce__', '__reduce_ex__', '__repr__', '__reversed__', '__ror__', '__setattr__', '__setitem__', '__sizeof__', '__str__', '__subclasshook__', 'clear', 'copy', 'fromkeys', 'get', 'items', 'keys', 'pop', 'popitem', 'setdefault', 'update', 'values']\n"
     ]
    }
   ],
   "source": [
    "keys = ('key01','key02','key03','key04','key05')\n",
    "datas = ('섭섭해', '김수현', '송중모', '신진섭','박영빈')\n",
    "\n",
    "zipTmp = dict(zip(keys,datas))\n",
    "print('type -',type(zipTmp), 'casting -',bool(zipTmp))\n",
    "print('data -',zipTmp)\n",
    "print()\n",
    "print('dir -',dir(zipTmp))"
   ]
  },
  {
   "cell_type": "code",
   "execution_count": 12,
   "id": "1b86709c",
   "metadata": {},
   "outputs": [
    {
     "name": "stdout",
     "output_type": "stream",
     "text": [
      "dict 타입도 순환반복을(for ~ in) 구현할 수 있다. __iter__\n",
      "key01 섭섭해\tkey02 김수현\tkey03 송중모\tkey04 신진섭\tkey05 박영빈\t\n",
      "key01\tkey02\tkey03\tkey04\tkey05\t\n",
      "섭섭해\t김수현\t송중모\t신진섭\t박영빈\t\n",
      "key01 섭섭해\tkey02 김수현\tkey03 송중모\tkey04 신진섭\tkey05 박영빈\t"
     ]
    }
   ],
   "source": [
    "print('dict 타입도 순환반복을(for ~ in) 구현할 수 있다. __iter__')\n",
    "\n",
    "for key in zipTmp:\n",
    "    print(key, zipTmp[key], end=\"\\t\")\n",
    "\n",
    "print()\n",
    "\n",
    "for key in zipTmp.keys():\n",
    "    print(key, end='\\t')    \n",
    "\n",
    "print()\n",
    "\n",
    "for data in zipTmp.values():\n",
    "    print(data, end=\"\\t\")\n",
    "    \n",
    "print()\n",
    "for key, data in zipTmp.items():\n",
    "    print(key, data, end= \"\\t\")\n"
   ]
  },
  {
   "cell_type": "markdown",
   "id": "9a2c6497",
   "metadata": {},
   "source": [
    "-dict돌발퀴즈(단어의 빈도수를 구하는 작업)"
   ]
  },
  {
   "cell_type": "code",
   "execution_count": 58,
   "id": "f9171a67",
   "metadata": {},
   "outputs": [
    {
     "name": "stdout",
     "output_type": "stream",
     "text": [
      "data - ['dog', 'dog', 'cat', 'cat', 'word', 'dog', 'cat', 'DongA', 'DongA', 'cs', 'dog', 'cat', 'cs']\n",
      "출력예시 - {dog : 4, cat : 4, word : 1, DongA : 2, cs : 2}\n"
     ]
    }
   ],
   "source": [
    "lstWord = ['dog','dog','cat','cat','word','dog','cat','DongA','DongA','cs','dog','cat','cs']\n",
    "print('data -', lstWord)\n",
    "print('출력예시 - {dog : 4, cat : 4, word : 1, DongA : 2, cs : 2}')\n",
    "\n",
    "#import collections\n",
    "#print(collections.Counter(lstWord))\n",
    "\n",
    "#keys : [dog, cat, word, DongA, cs]\n",
    "#values : [lstWord.count('dog'),lstWord.count(cat),lstWord.count(word),lstWord.count(DongA),lstWord.count(cs)]\n",
    "#lstWord2 : dict(zip(keys,values))"
   ]
  },
  {
   "cell_type": "code",
   "execution_count": 88,
   "id": "bd2c9104",
   "metadata": {},
   "outputs": [],
   "source": [
    "answer = {}\n",
    "for word in lstWord:\n",
    "    if word in answer:\n",
    "        answer[word] = answer[word]+1\n",
    "    else:\n",
    "        answer[word] = 1"
   ]
  },
  {
   "cell_type": "code",
   "execution_count": 83,
   "id": "aa34b3ee",
   "metadata": {},
   "outputs": [
    {
     "name": "stdout",
     "output_type": "stream",
     "text": [
      "{'dog': 4, 'cat': 4, 'word': 1, 'DongA': 2, 'cs': 2}\n",
      "\n"
     ]
    }
   ],
   "source": [
    "print(answer)\n",
    "print()\n",
    "for word in lstWord:\n",
    "    if word in answer:\n",
    "        answer[word] = answer.get(word,0)+1"
   ]
  },
  {
   "cell_type": "markdown",
   "id": "62e1007d",
   "metadata": {},
   "source": [
    "#### set type\n",
    "- 선언 : {}, set()\n",
    "- 데이터의 중복을 허용하지 않는다.\n",
    "- 순서 x (열거형이 아니다) - 인덱싱과 슬라이싱이 불가능하다.\n"
   ]
  },
  {
   "cell_type": "code",
   "execution_count": 76,
   "id": "3d23135e",
   "metadata": {},
   "outputs": [
    {
     "name": "stdout",
     "output_type": "stream",
     "text": [
      "type - <class 'set'>\n",
      "data - {3, 4, 6}\n",
      "dir - ['__and__', '__class__', '__class_getitem__', '__contains__', '__delattr__', '__dir__', '__doc__', '__eq__', '__format__', '__ge__', '__getattribute__', '__getstate__', '__gt__', '__hash__', '__iand__', '__init__', '__init_subclass__', '__ior__', '__isub__', '__iter__', '__ixor__', '__le__', '__len__', '__lt__', '__ne__', '__new__', '__or__', '__rand__', '__reduce__', '__reduce_ex__', '__repr__', '__ror__', '__rsub__', '__rxor__', '__setattr__', '__sizeof__', '__str__', '__sub__', '__subclasshook__', '__xor__', 'add', 'clear', 'copy', 'difference', 'difference_update', 'discard', 'intersection', 'intersection_update', 'isdisjoint', 'issubset', 'issuperset', 'pop', 'remove', 'symmetric_difference', 'symmetric_difference_update', 'union', 'update']\n"
     ]
    }
   ],
   "source": [
    "setTmp = {6,3,3,4} #중괄호에 key:value 형식이 아니면 set, 순서가 없다\n",
    "print('type -',type(setTmp))\n",
    "print('data -',setTmp)\n",
    "print('dir -',dir(setTmp)) #열거형은 아니지만 __iter__가 들어있다. 순환반복이 가능하다.\n",
    "#print('indexing -',setTmp[0]) - typeError 인덱싱, 슬라이싱 불가능"
   ]
  },
  {
   "cell_type": "code",
   "execution_count": 78,
   "id": "b240c792",
   "metadata": {},
   "outputs": [
    {
     "name": "stdout",
     "output_type": "stream",
     "text": [
      "중복을 제거하고 유니크한 값을 출력하라-\n",
      "{'여', '남'}\n"
     ]
    }
   ],
   "source": [
    "print('중복을 제거하고 유니크한 값을 출력하라-')\n",
    "gender = ['남','여','여','남','여']\n",
    "answer = set(gender)\n",
    "print(answer)"
   ]
  },
  {
   "cell_type": "code",
   "execution_count": 98,
   "id": "861e209c",
   "metadata": {},
   "outputs": [
    {
     "name": "stdout",
     "output_type": "stream",
     "text": [
      "case03 - set\n",
      "\n",
      "{'cs': 2, 'DongA': 2, 'dog': 4, 'word': 1, 'cat': 4}\n"
     ]
    }
   ],
   "source": [
    "print('case03 - set')\n",
    "\n",
    "answer = {}\n",
    "lst = list(set(lstWord))\n",
    "for data in lst :\n",
    "    answer.update({ data : lstWord.count(data)})\n",
    "print()\n",
    "print(answer)"
   ]
  },
  {
   "cell_type": "code",
   "execution_count": 104,
   "id": "dd2fdfdd",
   "metadata": {},
   "outputs": [
    {
     "name": "stdout",
     "output_type": "stream",
     "text": [
      "case04 - zip,list comprehension\n"
     ]
    },
    {
     "data": {
      "text/plain": [
       "{'cs': 2, 'DongA': 2, 'dog': 4, 'word': 1, 'cat': 4}"
      ]
     },
     "execution_count": 104,
     "metadata": {},
     "output_type": "execute_result"
    }
   ],
   "source": [
    "print('case04 - zip,list comprehension')\n",
    "\n",
    "dict(zip(set(lstWord), [lstWord.count(data) for data in set(lstWord)]))"
   ]
  },
  {
   "cell_type": "code",
   "execution_count": null,
   "id": "99dd1ab1",
   "metadata": {},
   "outputs": [],
   "source": []
  },
  {
   "cell_type": "code",
   "execution_count": null,
   "id": "69e215a2",
   "metadata": {},
   "outputs": [],
   "source": []
  },
  {
   "cell_type": "code",
   "execution_count": null,
   "id": "48d1d1a5",
   "metadata": {},
   "outputs": [],
   "source": []
  },
  {
   "cell_type": "code",
   "execution_count": null,
   "id": "11a5978e",
   "metadata": {},
   "outputs": [],
   "source": []
  }
 ],
 "metadata": {
  "kernelspec": {
   "display_name": "Python 3 (ipykernel)",
   "language": "python",
   "name": "python3"
  },
  "language_info": {
   "codemirror_mode": {
    "name": "ipython",
    "version": 3
   },
   "file_extension": ".py",
   "mimetype": "text/x-python",
   "name": "python",
   "nbconvert_exporter": "python",
   "pygments_lexer": "ipython3",
   "version": "3.11.4"
  }
 },
 "nbformat": 4,
 "nbformat_minor": 5
}
