{
 "cells": [
  {
   "cell_type": "code",
   "execution_count": 1,
   "id": "252fe777",
   "metadata": {},
   "outputs": [
    {
     "name": "stdout",
     "output_type": "stream",
     "text": [
      "numpy   version ,  1.24.3\n",
      "pandnas version ,  1.5.3\n"
     ]
    }
   ],
   "source": [
    "import numpy  as np\n",
    "import pandas as pd \n",
    "import matplotlib.pyplot as plt \n",
    "import json   as j \n",
    "\n",
    "# \n",
    "import seaborn as sns \n",
    "import folium  as f \n",
    "\n",
    "import warnings\n",
    "warnings.filterwarnings('ignore')\n",
    "\n",
    "print('numpy   version , ' , np.__version__)\n",
    "print('pandnas version , ' , pd.__version__)"
   ]
  },
  {
   "cell_type": "code",
   "execution_count": 2,
   "id": "a9950eba",
   "metadata": {},
   "outputs": [],
   "source": [
    "%matplotlib inline\n",
    "\n",
    "# 한글 폰트 문제 해결\n",
    "import platform\n",
    "from matplotlib import font_manager, rc\n",
    "plt.rcParams['axes.unicode_minus'] = False\n",
    "\n",
    "if platform.system() == 'Darwin':\n",
    "    rc('font', family='AppleGothic')\n",
    "elif platform.system() == 'Windows':\n",
    "    path = \"c:/Windows/Fonts/malgun.ttf\"\n",
    "    font_name = font_manager.FontProperties(fname=path).get_name()\n",
    "    rc('font', family=font_name)\n",
    "else:\n",
    "    print('Unknown system... sorry~~~~') \n",
    "\n",
    "\n",
    "# 차트 축 <- 음수 부호 지원\n",
    "import matplotlib\n",
    "matplotlib.rcParams['axes.unicode_minus'] = False    \n",
    "    \n",
    "import warnings\n",
    "warnings.filterwarnings(action='ignore')    "
   ]
  },
  {
   "cell_type": "code",
   "execution_count": 3,
   "id": "a6a10b1f",
   "metadata": {},
   "outputs": [
    {
     "data": {
      "text/html": [
       "<div>\n",
       "<style scoped>\n",
       "    .dataframe tbody tr th:only-of-type {\n",
       "        vertical-align: middle;\n",
       "    }\n",
       "\n",
       "    .dataframe tbody tr th {\n",
       "        vertical-align: top;\n",
       "    }\n",
       "\n",
       "    .dataframe thead th {\n",
       "        text-align: right;\n",
       "    }\n",
       "</style>\n",
       "<table border=\"1\" class=\"dataframe\">\n",
       "  <thead>\n",
       "    <tr style=\"text-align: right;\">\n",
       "      <th></th>\n",
       "      <th>manufacturer</th>\n",
       "      <th>model</th>\n",
       "      <th>displ</th>\n",
       "      <th>year</th>\n",
       "      <th>cyl</th>\n",
       "      <th>trans</th>\n",
       "      <th>drv</th>\n",
       "      <th>cty</th>\n",
       "      <th>hwy</th>\n",
       "      <th>fl</th>\n",
       "      <th>class</th>\n",
       "    </tr>\n",
       "  </thead>\n",
       "  <tbody>\n",
       "    <tr>\n",
       "      <th>1</th>\n",
       "      <td>audi</td>\n",
       "      <td>a4</td>\n",
       "      <td>1.8</td>\n",
       "      <td>1999</td>\n",
       "      <td>4</td>\n",
       "      <td>auto(l5)</td>\n",
       "      <td>f</td>\n",
       "      <td>18</td>\n",
       "      <td>29</td>\n",
       "      <td>p</td>\n",
       "      <td>compact</td>\n",
       "    </tr>\n",
       "    <tr>\n",
       "      <th>2</th>\n",
       "      <td>audi</td>\n",
       "      <td>a4</td>\n",
       "      <td>1.8</td>\n",
       "      <td>1999</td>\n",
       "      <td>4</td>\n",
       "      <td>manual(m5)</td>\n",
       "      <td>f</td>\n",
       "      <td>21</td>\n",
       "      <td>29</td>\n",
       "      <td>p</td>\n",
       "      <td>compact</td>\n",
       "    </tr>\n",
       "    <tr>\n",
       "      <th>3</th>\n",
       "      <td>audi</td>\n",
       "      <td>a4</td>\n",
       "      <td>2.0</td>\n",
       "      <td>2008</td>\n",
       "      <td>4</td>\n",
       "      <td>manual(m6)</td>\n",
       "      <td>f</td>\n",
       "      <td>20</td>\n",
       "      <td>31</td>\n",
       "      <td>p</td>\n",
       "      <td>compact</td>\n",
       "    </tr>\n",
       "    <tr>\n",
       "      <th>4</th>\n",
       "      <td>audi</td>\n",
       "      <td>a4</td>\n",
       "      <td>2.0</td>\n",
       "      <td>2008</td>\n",
       "      <td>4</td>\n",
       "      <td>auto(av)</td>\n",
       "      <td>f</td>\n",
       "      <td>21</td>\n",
       "      <td>30</td>\n",
       "      <td>p</td>\n",
       "      <td>compact</td>\n",
       "    </tr>\n",
       "    <tr>\n",
       "      <th>5</th>\n",
       "      <td>audi</td>\n",
       "      <td>a4</td>\n",
       "      <td>2.8</td>\n",
       "      <td>1999</td>\n",
       "      <td>6</td>\n",
       "      <td>auto(l5)</td>\n",
       "      <td>f</td>\n",
       "      <td>16</td>\n",
       "      <td>26</td>\n",
       "      <td>p</td>\n",
       "      <td>compact</td>\n",
       "    </tr>\n",
       "  </tbody>\n",
       "</table>\n",
       "</div>"
      ],
      "text/plain": [
       "  manufacturer model  displ  year  cyl       trans drv  cty  hwy fl    class\n",
       "1         audi    a4    1.8  1999    4    auto(l5)   f   18   29  p  compact\n",
       "2         audi    a4    1.8  1999    4  manual(m5)   f   21   29  p  compact\n",
       "3         audi    a4    2.0  2008    4  manual(m6)   f   20   31  p  compact\n",
       "4         audi    a4    2.0  2008    4    auto(av)   f   21   30  p  compact\n",
       "5         audi    a4    2.8  1999    6    auto(l5)   f   16   26  p  compact"
      ]
     },
     "execution_count": 3,
     "metadata": {},
     "output_type": "execute_result"
    }
   ],
   "source": [
    "mpgFrm = pd.read_excel('./data/mpg_visualization.xlsx' , \n",
    "                       index_col = 0)\n",
    "mpgFrm.head()"
   ]
  },
  {
   "cell_type": "code",
   "execution_count": 4,
   "id": "a7cfa2c8",
   "metadata": {},
   "outputs": [
    {
     "data": {
      "text/plain": [
       "Index(['manufacturer', 'model', 'displ', 'year', 'cyl', 'trans', 'drv', 'cty',\n",
       "       'hwy', 'fl', 'class'],\n",
       "      dtype='object')"
      ]
     },
     "execution_count": 4,
     "metadata": {},
     "output_type": "execute_result"
    }
   ],
   "source": [
    "mpgFrm.columns"
   ]
  },
  {
   "cell_type": "code",
   "execution_count": 5,
   "id": "32bfaf70",
   "metadata": {},
   "outputs": [
    {
     "data": {
      "text/plain": [
       "array([4, 6, 8, 5], dtype=int64)"
      ]
     },
     "execution_count": 5,
     "metadata": {},
     "output_type": "execute_result"
    }
   ],
   "source": [
    "mpgFrm['cyl'].unique()"
   ]
  },
  {
   "cell_type": "code",
   "execution_count": 6,
   "id": "fdfb0d3d",
   "metadata": {},
   "outputs": [
    {
     "data": {
      "text/plain": [
       "(234, 11)"
      ]
     },
     "execution_count": 6,
     "metadata": {},
     "output_type": "execute_result"
    }
   ],
   "source": [
    "mpgFrm.shape"
   ]
  },
  {
   "cell_type": "code",
   "execution_count": 7,
   "id": "6a63eaed",
   "metadata": {},
   "outputs": [
    {
     "data": {
      "text/html": [
       "<div>\n",
       "<style scoped>\n",
       "    .dataframe tbody tr th:only-of-type {\n",
       "        vertical-align: middle;\n",
       "    }\n",
       "\n",
       "    .dataframe tbody tr th {\n",
       "        vertical-align: top;\n",
       "    }\n",
       "\n",
       "    .dataframe thead th {\n",
       "        text-align: right;\n",
       "    }\n",
       "</style>\n",
       "<table border=\"1\" class=\"dataframe\">\n",
       "  <thead>\n",
       "    <tr style=\"text-align: right;\">\n",
       "      <th></th>\n",
       "      <th>displ</th>\n",
       "      <th>year</th>\n",
       "      <th>cyl</th>\n",
       "      <th>cty</th>\n",
       "      <th>hwy</th>\n",
       "    </tr>\n",
       "  </thead>\n",
       "  <tbody>\n",
       "    <tr>\n",
       "      <th>count</th>\n",
       "      <td>234.000000</td>\n",
       "      <td>234.000000</td>\n",
       "      <td>234.000000</td>\n",
       "      <td>234.000000</td>\n",
       "      <td>234.000000</td>\n",
       "    </tr>\n",
       "    <tr>\n",
       "      <th>mean</th>\n",
       "      <td>3.471795</td>\n",
       "      <td>2003.500000</td>\n",
       "      <td>5.888889</td>\n",
       "      <td>16.858974</td>\n",
       "      <td>23.440171</td>\n",
       "    </tr>\n",
       "    <tr>\n",
       "      <th>std</th>\n",
       "      <td>1.291959</td>\n",
       "      <td>4.509646</td>\n",
       "      <td>1.611534</td>\n",
       "      <td>4.255946</td>\n",
       "      <td>5.954643</td>\n",
       "    </tr>\n",
       "    <tr>\n",
       "      <th>min</th>\n",
       "      <td>1.600000</td>\n",
       "      <td>1999.000000</td>\n",
       "      <td>4.000000</td>\n",
       "      <td>9.000000</td>\n",
       "      <td>12.000000</td>\n",
       "    </tr>\n",
       "    <tr>\n",
       "      <th>25%</th>\n",
       "      <td>2.400000</td>\n",
       "      <td>1999.000000</td>\n",
       "      <td>4.000000</td>\n",
       "      <td>14.000000</td>\n",
       "      <td>18.000000</td>\n",
       "    </tr>\n",
       "    <tr>\n",
       "      <th>50%</th>\n",
       "      <td>3.300000</td>\n",
       "      <td>2003.500000</td>\n",
       "      <td>6.000000</td>\n",
       "      <td>17.000000</td>\n",
       "      <td>24.000000</td>\n",
       "    </tr>\n",
       "    <tr>\n",
       "      <th>75%</th>\n",
       "      <td>4.600000</td>\n",
       "      <td>2008.000000</td>\n",
       "      <td>8.000000</td>\n",
       "      <td>19.000000</td>\n",
       "      <td>27.000000</td>\n",
       "    </tr>\n",
       "    <tr>\n",
       "      <th>max</th>\n",
       "      <td>7.000000</td>\n",
       "      <td>2008.000000</td>\n",
       "      <td>8.000000</td>\n",
       "      <td>35.000000</td>\n",
       "      <td>44.000000</td>\n",
       "    </tr>\n",
       "  </tbody>\n",
       "</table>\n",
       "</div>"
      ],
      "text/plain": [
       "            displ         year         cyl         cty         hwy\n",
       "count  234.000000   234.000000  234.000000  234.000000  234.000000\n",
       "mean     3.471795  2003.500000    5.888889   16.858974   23.440171\n",
       "std      1.291959     4.509646    1.611534    4.255946    5.954643\n",
       "min      1.600000  1999.000000    4.000000    9.000000   12.000000\n",
       "25%      2.400000  1999.000000    4.000000   14.000000   18.000000\n",
       "50%      3.300000  2003.500000    6.000000   17.000000   24.000000\n",
       "75%      4.600000  2008.000000    8.000000   19.000000   27.000000\n",
       "max      7.000000  2008.000000    8.000000   35.000000   44.000000"
      ]
     },
     "execution_count": 7,
     "metadata": {},
     "output_type": "execute_result"
    }
   ],
   "source": [
    "mpgFrm.describe()"
   ]
  },
  {
   "cell_type": "markdown",
   "id": "7c124af4",
   "metadata": {},
   "source": [
    "양적 자료(데이터)\n",
    "- 요약정보에 집계가 되는 컬럼으로 관측된 값이 수치 형태의 속성\n",
    "- box plot\n",
    "\n",
    "질적 자료(데이터)\n",
    "- 범주 또는 순서 형태의 속성을 가진 자료로 데이터의 분포를 확인해야하는 값들\n",
    "- bar plot"
   ]
  },
  {
   "cell_type": "code",
   "execution_count": 8,
   "id": "e51ef19d",
   "metadata": {},
   "outputs": [
    {
     "name": "stdout",
     "output_type": "stream",
     "text": [
      "<class 'pandas.core.frame.DataFrame'>\n",
      "Int64Index: 234 entries, 1 to 234\n",
      "Data columns (total 11 columns):\n",
      " #   Column        Non-Null Count  Dtype  \n",
      "---  ------        --------------  -----  \n",
      " 0   manufacturer  234 non-null    object \n",
      " 1   model         234 non-null    object \n",
      " 2   displ         234 non-null    float64\n",
      " 3   year          234 non-null    int64  \n",
      " 4   cyl           234 non-null    int64  \n",
      " 5   trans         234 non-null    object \n",
      " 6   drv           234 non-null    object \n",
      " 7   cty           234 non-null    int64  \n",
      " 8   hwy           234 non-null    int64  \n",
      " 9   fl            234 non-null    object \n",
      " 10  class         234 non-null    object \n",
      "dtypes: float64(1), int64(4), object(6)\n",
      "memory usage: 21.9+ KB\n"
     ]
    }
   ],
   "source": [
    "mpgFrm.info()"
   ]
  },
  {
   "cell_type": "code",
   "execution_count": 9,
   "id": "f56e9c78",
   "metadata": {},
   "outputs": [
    {
     "name": "stdout",
     "output_type": "stream",
     "text": [
      "양적자료만 추출하여 서브셋 구축 - \n"
     ]
    },
    {
     "data": {
      "text/plain": [
       "<Axes: >"
      ]
     },
     "execution_count": 9,
     "metadata": {},
     "output_type": "execute_result"
    },
    {
     "data": {
      "image/png": "[encoded data removed]",
      "text/plain": [
       "<Figure size 640x480 with 1 Axes>"
      ]
     },
     "metadata": {},
     "output_type": "display_data"
    }
   ],
   "source": [
    "print('양적자료만 추출하여 서브셋 구축 - ')\n",
    "subset = mpgFrm.loc[:, ['displ','cyl','cty','hwy']]\n",
    "\n",
    "subset.boxplot() # boxplot은 사분위수로 봐야한다. 팬스 밖으로 나간 데이터는 이상치로 확인할 수 있음. --- 은 max, min, 박스의 3가지 선은 1,2,3사분위 / 박스 모양은 IQR"
   ]
  },
  {
   "cell_type": "code",
   "execution_count": 10,
   "id": "227fecd9",
   "metadata": {},
   "outputs": [
    {
     "name": "stdout",
     "output_type": "stream",
     "text": [
      "질적자료 - 분포 value_counts()\n",
      "제조사의 분포를 확인하고 싶다 - \n"
     ]
    },
    {
     "data": {
      "text/plain": [
       "array([37, 34, 27, 25, 19, 18, 14, 14, 13,  9,  8,  5,  4,  4,  3],\n",
       "      dtype=int64)"
      ]
     },
     "execution_count": 10,
     "metadata": {},
     "output_type": "execute_result"
    }
   ],
   "source": [
    "print('질적자료 - 분포 value_counts()')\n",
    "print('제조사의 분포를 확인하고 싶다 - ')\n",
    "mpgFrm['manufacturer'].value_counts() # 각각의 제조사에 대한 분포를 확인할 수 있다.\n",
    "mpgFrm['manufacturer'].value_counts().values\n"
   ]
  },
  {
   "cell_type": "code",
   "execution_count": 11,
   "id": "70aeb9bf",
   "metadata": {},
   "outputs": [
    {
     "data": {
      "image/png": "[encoded data removed]",
      "text/plain": [
       "<Figure size 640x480 with 1 Axes>"
      ]
     },
     "metadata": {},
     "output_type": "display_data"
    }
   ],
   "source": [
    "plt.figure()\n",
    "\n",
    "plt.bar(mpgFrm['manufacturer'].value_counts().index, \n",
    "        mpgFrm['manufacturer'].value_counts().values)\n",
    "\n",
    "plt.show()\n",
    "plt.close()"
   ]
  },
  {
   "cell_type": "code",
   "execution_count": 12,
   "id": "33fd32ad",
   "metadata": {},
   "outputs": [
    {
     "name": "stdout",
     "output_type": "stream",
     "text": [
      "Q1) 배기량(displ)에 따라 고속연비를 확인하고자 한다.\n",
      "배기량이 4 이하인 자동차와 5 이상인 자동차 중 고속도로 평균연비가 높은지를 확인한다면 \n",
      "\n",
      "case01 - \n"
     ]
    },
    {
     "data": {
      "text/plain": [
       "True"
      ]
     },
     "execution_count": 12,
     "metadata": {},
     "output_type": "execute_result"
    }
   ],
   "source": [
    "print('Q1) 배기량(displ)에 따라 고속연비를 확인하고자 한다.')\n",
    "print('배기량이 4 이하인 자동차와 5 이상인 자동차 중 고속도로 평균연비가 높은지를 확인한다면 ')\n",
    "print()\n",
    "print('case01 - ')\n",
    "mpgFrm['displ'].astype(int)\n",
    "hwy01 = mpgFrm[mpgFrm['displ'] <= 4]['hwy'].mean()\n",
    "hwy02 = mpgFrm[mpgFrm['displ'] >= 5]['hwy'].mean()\n",
    "hwy01 > hwy02"
   ]
  },
  {
   "cell_type": "code",
   "execution_count": 13,
   "id": "2c5d1a9f",
   "metadata": {},
   "outputs": [
    {
     "name": "stdout",
     "output_type": "stream",
     "text": [
      "Q2) 자동차 제조사에 따른 도시 연비를 비교하려고 한다.\n",
      "audi, toyota 두 회사의 모든 차종에 대한 도시연비 평균을 비교\n",
      "17.61111111111111\n",
      "18.529411764705884\n"
     ]
    }
   ],
   "source": [
    "print('Q2) 자동차 제조사에 따른 도시 연비를 비교하려고 한다.')\n",
    "print('audi, toyota 두 회사의 모든 차종에 대한 도시연비 평균을 비교')\n",
    "\n",
    "audiCty   = mpgFrm[mpgFrm['manufacturer'] == 'audi']['cty'].mean()\n",
    "toyotaCty = mpgFrm[mpgFrm['manufacturer'] == 'toyota']['cty'].mean()\n",
    "print(audiCty)\n",
    "print(toyotaCty)"
   ]
  },
  {
   "cell_type": "code",
   "execution_count": 14,
   "id": "1c3c5613",
   "metadata": {},
   "outputs": [
    {
     "name": "stdout",
     "output_type": "stream",
     "text": [
      "Q3) chevrolet, ford, honda 제조사의 모든 차종에 대한 고속도로 연비 평균을 시각화\n"
     ]
    },
    {
     "data": {
      "image/png": "[encoded data removed]",
      "text/plain": [
       "<Figure size 640x480 with 1 Axes>"
      ]
     },
     "metadata": {},
     "output_type": "display_data"
    }
   ],
   "source": [
    "print('Q3) chevrolet, ford, honda 제조사의 모든 차종에 대한 고속도로 연비 평균을 시각화')\n",
    "\n",
    "chevroletHwy = mpgFrm[mpgFrm['manufacturer'] == 'chevrolet']['hwy'].mean()\n",
    "fordHwy = mpgFrm[mpgFrm['manufacturer'] == 'ford']['hwy'].mean()\n",
    "hondaHwy = mpgFrm[mpgFrm['manufacturer'] == 'honda']['hwy'].mean()\n",
    "\n",
    "manufacture01 = ['chevroletHwy', 'fordHwy', 'hondaHwy']\n",
    "plt.figure()\n",
    "\n",
    "plt.bar(manufacture01,\n",
    "        [chevroletHwy, fordHwy, hondaHwy])\n",
    "\n",
    "\n",
    "plt.show()\n",
    "plt.close()"
   ]
  },
  {
   "cell_type": "code",
   "execution_count": 26,
   "id": "fadffc61",
   "metadata": {},
   "outputs": [
    {
     "data": {
      "image/png": "[encoded data removed]",
      "text/plain": [
       "<Figure size 640x480 with 1 Axes>"
      ]
     },
     "metadata": {},
     "output_type": "display_data"
    }
   ],
   "source": [
    "c_idx = (mpgFrm['manufacturer'] == 'chevrolet')\n",
    "f_idx = (mpgFrm['manufacturer'] == 'ford')\n",
    "h_idx = (mpgFrm['manufacturer'] == 'honda')\n",
    "\n",
    "subset = mpgFrm.loc[c_idx | f_idx | h_idx, : ]\n",
    "subset.groupby('manufacturer')['hwy'].mean()\n",
    "\n",
    "plt.figure()\n",
    "\n",
    "plt.bar(subset.groupby('manufacturer')['hwy'].mean().index,\n",
    "        subset.groupby('manufacturer')['hwy'].mean().values,\n",
    "        width = 0.2,\n",
    "        color = 'black'\n",
    "\n",
    ")\n",
    "\n",
    "plt.show()\n",
    "plt.close()"
   ]
  },
  {
   "cell_type": "code",
   "execution_count": 27,
   "id": "613ca5b9",
   "metadata": {},
   "outputs": [
    {
     "name": "stdout",
     "output_type": "stream",
     "text": [
      "연료가격(price_fl) 파생변수를 추가하려고 한다 - \n",
      "c : 가스 2.35 , d : 2.38, e : 2.11, p : 3.45, r : 2.22\n"
     ]
    },
    {
     "data": {
      "text/html": [
       "<div>\n",
       "<style scoped>\n",
       "    .dataframe tbody tr th:only-of-type {\n",
       "        vertical-align: middle;\n",
       "    }\n",
       "\n",
       "    .dataframe tbody tr th {\n",
       "        vertical-align: top;\n",
       "    }\n",
       "\n",
       "    .dataframe thead th {\n",
       "        text-align: right;\n",
       "    }\n",
       "</style>\n",
       "<table border=\"1\" class=\"dataframe\">\n",
       "  <thead>\n",
       "    <tr style=\"text-align: right;\">\n",
       "      <th></th>\n",
       "      <th>fl</th>\n",
       "      <th>price_fl</th>\n",
       "    </tr>\n",
       "  </thead>\n",
       "  <tbody>\n",
       "    <tr>\n",
       "      <th>0</th>\n",
       "      <td>c</td>\n",
       "      <td>2.35</td>\n",
       "    </tr>\n",
       "    <tr>\n",
       "      <th>1</th>\n",
       "      <td>d</td>\n",
       "      <td>2.38</td>\n",
       "    </tr>\n",
       "    <tr>\n",
       "      <th>2</th>\n",
       "      <td>e</td>\n",
       "      <td>2.11</td>\n",
       "    </tr>\n",
       "    <tr>\n",
       "      <th>3</th>\n",
       "      <td>p</td>\n",
       "      <td>3.45</td>\n",
       "    </tr>\n",
       "    <tr>\n",
       "      <th>4</th>\n",
       "      <td>r</td>\n",
       "      <td>2.22</td>\n",
       "    </tr>\n",
       "  </tbody>\n",
       "</table>\n",
       "</div>"
      ],
      "text/plain": [
       "  fl  price_fl\n",
       "0  c      2.35\n",
       "1  d      2.38\n",
       "2  e      2.11\n",
       "3  p      3.45\n",
       "4  r      2.22"
      ]
     },
     "execution_count": 27,
     "metadata": {},
     "output_type": "execute_result"
    }
   ],
   "source": [
    "print('연료가격(price_fl) 파생변수를 추가하려고 한다 - ')\n",
    "print('c : 가스 2.35 , d : 2.38, e : 2.11, p : 3.45, r : 2.22')\n",
    "# priceDict = {'c' : 2.35 , 'd' : 2.38, 'e' : 2.11, 'p' : 3.45, 'r' : 2.22}\n",
    "# key = priceDict.keys()\n",
    "# value = priceDict.values()\n",
    "# pd.DataFrame(key, value)\n",
    "\n",
    "priceFrm = pd.DataFrame({\n",
    "    'fl' : ['c','d','e','p','r'],\n",
    "    'price_fl' : [2.35, 2.38, 2.11, 3.45, 2.22]\n",
    "})\n",
    "\n",
    "priceFrm"
   ]
  },
  {
   "cell_type": "code",
   "execution_count": 28,
   "id": "9f238702",
   "metadata": {},
   "outputs": [
    {
     "name": "stdout",
     "output_type": "stream",
     "text": [
      "<class 'pandas.core.frame.DataFrame'>\n",
      "Int64Index: 234 entries, 1 to 234\n",
      "Data columns (total 11 columns):\n",
      " #   Column        Non-Null Count  Dtype  \n",
      "---  ------        --------------  -----  \n",
      " 0   manufacturer  234 non-null    object \n",
      " 1   model         234 non-null    object \n",
      " 2   displ         234 non-null    float64\n",
      " 3   year          234 non-null    int64  \n",
      " 4   cyl           234 non-null    int64  \n",
      " 5   trans         234 non-null    object \n",
      " 6   drv           234 non-null    object \n",
      " 7   cty           234 non-null    int64  \n",
      " 8   hwy           234 non-null    int64  \n",
      " 9   fl            234 non-null    object \n",
      " 10  class         234 non-null    object \n",
      "dtypes: float64(1), int64(4), object(6)\n",
      "memory usage: 21.9+ KB\n"
     ]
    }
   ],
   "source": [
    "# mpgFrm = pd.merge(mpgFrm, priceFrm, how = 'inner', on = 'fl')\n",
    "mpgFrm.info()"
   ]
  },
  {
   "cell_type": "code",
   "execution_count": 29,
   "id": "e6b723a8",
   "metadata": {},
   "outputs": [
    {
     "data": {
      "text/html": [
       "<div>\n",
       "<style scoped>\n",
       "    .dataframe tbody tr th:only-of-type {\n",
       "        vertical-align: middle;\n",
       "    }\n",
       "\n",
       "    .dataframe tbody tr th {\n",
       "        vertical-align: top;\n",
       "    }\n",
       "\n",
       "    .dataframe thead th {\n",
       "        text-align: right;\n",
       "    }\n",
       "</style>\n",
       "<table border=\"1\" class=\"dataframe\">\n",
       "  <thead>\n",
       "    <tr style=\"text-align: right;\">\n",
       "      <th></th>\n",
       "      <th>manufacturer</th>\n",
       "      <th>model</th>\n",
       "      <th>displ</th>\n",
       "      <th>year</th>\n",
       "      <th>cyl</th>\n",
       "      <th>trans</th>\n",
       "      <th>drv</th>\n",
       "      <th>cty</th>\n",
       "      <th>hwy</th>\n",
       "      <th>fl</th>\n",
       "      <th>class</th>\n",
       "    </tr>\n",
       "  </thead>\n",
       "  <tbody>\n",
       "    <tr>\n",
       "      <th>107</th>\n",
       "      <td>honda</td>\n",
       "      <td>civic</td>\n",
       "      <td>1.8</td>\n",
       "      <td>2008</td>\n",
       "      <td>4</td>\n",
       "      <td>auto(l5)</td>\n",
       "      <td>f</td>\n",
       "      <td>24</td>\n",
       "      <td>36</td>\n",
       "      <td>c</td>\n",
       "      <td>subcompact</td>\n",
       "    </tr>\n",
       "  </tbody>\n",
       "</table>\n",
       "</div>"
      ],
      "text/plain": [
       "    manufacturer  model  displ  year  cyl     trans drv  cty  hwy fl  \\\n",
       "107        honda  civic    1.8  2008    4  auto(l5)   f   24   36  c   \n",
       "\n",
       "          class  \n",
       "107  subcompact  "
      ]
     },
     "execution_count": 29,
     "metadata": {},
     "output_type": "execute_result"
    }
   ],
   "source": [
    "mpgFrm.groupby('fl').get_group('c')"
   ]
  },
  {
   "cell_type": "code",
   "execution_count": 30,
   "id": "dbef28b1",
   "metadata": {},
   "outputs": [],
   "source": [
    "priceFrm = pd.DataFrame({\n",
    "    'fl' : ['c','d','e','p','r'],\n",
    "    'price_fl' : [2.35, 2.38, 2.11, 3.45, 2.22]\n",
    "})\n",
    "mpgFrm['price_fl'] = mpgFrm['fl'].apply(lambda x : 3.45 if x == 'p' else 2.35 if x == 'c' else 2.38 if x == 'd' else 2.11 if x == 'e' else 2.22 if x == 'r' else x)"
   ]
  },
  {
   "cell_type": "code",
   "execution_count": 31,
   "id": "1d2a6a9d",
   "metadata": {},
   "outputs": [
    {
     "data": {
      "text/plain": [
       "manufacturer    0\n",
       "model           0\n",
       "displ           0\n",
       "year            0\n",
       "cyl             0\n",
       "trans           0\n",
       "drv             0\n",
       "cty             0\n",
       "hwy             0\n",
       "fl              0\n",
       "class           0\n",
       "price_fl        0\n",
       "dtype: int64"
      ]
     },
     "execution_count": 31,
     "metadata": {},
     "output_type": "execute_result"
    }
   ],
   "source": [
    "mpgFrm.isnull().sum()"
   ]
  },
  {
   "cell_type": "code",
   "execution_count": 32,
   "id": "2404abd6",
   "metadata": {},
   "outputs": [],
   "source": [
    "mpgFrm.loc[65 , 'hwy'] = np.NaN\n",
    "mpgFrm.loc[120 , 'hwy'] = np.NaN\n",
    "mpgFrm.loc[154 , 'hwy'] = np.NaN\n",
    "mpgFrm.loc[189 , 'hwy'] = np.NaN\n",
    "mpgFrm.loc[219 , 'hwy'] = np.NaN"
   ]
  },
  {
   "cell_type": "code",
   "execution_count": 33,
   "id": "bdfcb3ec",
   "metadata": {},
   "outputs": [
    {
     "name": "stdout",
     "output_type": "stream",
     "text": [
      "isnull , isna - \n"
     ]
    },
    {
     "data": {
      "text/plain": [
       "drv    0\n",
       "hwy    5\n",
       "dtype: int64"
      ]
     },
     "execution_count": 33,
     "metadata": {},
     "output_type": "execute_result"
    }
   ],
   "source": [
    "print('isnull , isna - ')\n",
    "mpgFrm[['drv','hwy']].isna().sum()"
   ]
  },
  {
   "cell_type": "code",
   "execution_count": 34,
   "id": "92e256a3",
   "metadata": {},
   "outputs": [
    {
     "name": "stdout",
     "output_type": "stream",
     "text": [
      "Q3) hwy 결측값을 제외하고 어떤 구동방식의 고속도로평균 연비가 높은지 확인한다면\n"
     ]
    },
    {
     "data": {
      "text/html": [
       "<div>\n",
       "<style scoped>\n",
       "    .dataframe tbody tr th:only-of-type {\n",
       "        vertical-align: middle;\n",
       "    }\n",
       "\n",
       "    .dataframe tbody tr th {\n",
       "        vertical-align: top;\n",
       "    }\n",
       "\n",
       "    .dataframe thead th {\n",
       "        text-align: right;\n",
       "    }\n",
       "</style>\n",
       "<table border=\"1\" class=\"dataframe\">\n",
       "  <thead>\n",
       "    <tr style=\"text-align: right;\">\n",
       "      <th></th>\n",
       "      <th>manufacturer</th>\n",
       "      <th>model</th>\n",
       "      <th>displ</th>\n",
       "      <th>year</th>\n",
       "      <th>cyl</th>\n",
       "      <th>trans</th>\n",
       "      <th>drv</th>\n",
       "      <th>cty</th>\n",
       "      <th>hwy</th>\n",
       "      <th>fl</th>\n",
       "      <th>class</th>\n",
       "      <th>price_fl</th>\n",
       "    </tr>\n",
       "  </thead>\n",
       "  <tbody>\n",
       "    <tr>\n",
       "      <th>1</th>\n",
       "      <td>audi</td>\n",
       "      <td>a4</td>\n",
       "      <td>1.8</td>\n",
       "      <td>1999</td>\n",
       "      <td>4</td>\n",
       "      <td>auto(l5)</td>\n",
       "      <td>f</td>\n",
       "      <td>18</td>\n",
       "      <td>29.0</td>\n",
       "      <td>p</td>\n",
       "      <td>compact</td>\n",
       "      <td>3.45</td>\n",
       "    </tr>\n",
       "    <tr>\n",
       "      <th>2</th>\n",
       "      <td>audi</td>\n",
       "      <td>a4</td>\n",
       "      <td>1.8</td>\n",
       "      <td>1999</td>\n",
       "      <td>4</td>\n",
       "      <td>manual(m5)</td>\n",
       "      <td>f</td>\n",
       "      <td>21</td>\n",
       "      <td>29.0</td>\n",
       "      <td>p</td>\n",
       "      <td>compact</td>\n",
       "      <td>3.45</td>\n",
       "    </tr>\n",
       "    <tr>\n",
       "      <th>3</th>\n",
       "      <td>audi</td>\n",
       "      <td>a4</td>\n",
       "      <td>2.0</td>\n",
       "      <td>2008</td>\n",
       "      <td>4</td>\n",
       "      <td>manual(m6)</td>\n",
       "      <td>f</td>\n",
       "      <td>20</td>\n",
       "      <td>31.0</td>\n",
       "      <td>p</td>\n",
       "      <td>compact</td>\n",
       "      <td>3.45</td>\n",
       "    </tr>\n",
       "    <tr>\n",
       "      <th>4</th>\n",
       "      <td>audi</td>\n",
       "      <td>a4</td>\n",
       "      <td>2.0</td>\n",
       "      <td>2008</td>\n",
       "      <td>4</td>\n",
       "      <td>auto(av)</td>\n",
       "      <td>f</td>\n",
       "      <td>21</td>\n",
       "      <td>30.0</td>\n",
       "      <td>p</td>\n",
       "      <td>compact</td>\n",
       "      <td>3.45</td>\n",
       "    </tr>\n",
       "    <tr>\n",
       "      <th>5</th>\n",
       "      <td>audi</td>\n",
       "      <td>a4</td>\n",
       "      <td>2.8</td>\n",
       "      <td>1999</td>\n",
       "      <td>6</td>\n",
       "      <td>auto(l5)</td>\n",
       "      <td>f</td>\n",
       "      <td>16</td>\n",
       "      <td>26.0</td>\n",
       "      <td>p</td>\n",
       "      <td>compact</td>\n",
       "      <td>3.45</td>\n",
       "    </tr>\n",
       "    <tr>\n",
       "      <th>...</th>\n",
       "      <td>...</td>\n",
       "      <td>...</td>\n",
       "      <td>...</td>\n",
       "      <td>...</td>\n",
       "      <td>...</td>\n",
       "      <td>...</td>\n",
       "      <td>...</td>\n",
       "      <td>...</td>\n",
       "      <td>...</td>\n",
       "      <td>...</td>\n",
       "      <td>...</td>\n",
       "      <td>...</td>\n",
       "    </tr>\n",
       "    <tr>\n",
       "      <th>230</th>\n",
       "      <td>volkswagen</td>\n",
       "      <td>passat</td>\n",
       "      <td>2.0</td>\n",
       "      <td>2008</td>\n",
       "      <td>4</td>\n",
       "      <td>auto(s6)</td>\n",
       "      <td>f</td>\n",
       "      <td>19</td>\n",
       "      <td>28.0</td>\n",
       "      <td>p</td>\n",
       "      <td>midsize</td>\n",
       "      <td>3.45</td>\n",
       "    </tr>\n",
       "    <tr>\n",
       "      <th>231</th>\n",
       "      <td>volkswagen</td>\n",
       "      <td>passat</td>\n",
       "      <td>2.0</td>\n",
       "      <td>2008</td>\n",
       "      <td>4</td>\n",
       "      <td>manual(m6)</td>\n",
       "      <td>f</td>\n",
       "      <td>21</td>\n",
       "      <td>29.0</td>\n",
       "      <td>p</td>\n",
       "      <td>midsize</td>\n",
       "      <td>3.45</td>\n",
       "    </tr>\n",
       "    <tr>\n",
       "      <th>232</th>\n",
       "      <td>volkswagen</td>\n",
       "      <td>passat</td>\n",
       "      <td>2.8</td>\n",
       "      <td>1999</td>\n",
       "      <td>6</td>\n",
       "      <td>auto(l5)</td>\n",
       "      <td>f</td>\n",
       "      <td>16</td>\n",
       "      <td>26.0</td>\n",
       "      <td>p</td>\n",
       "      <td>midsize</td>\n",
       "      <td>3.45</td>\n",
       "    </tr>\n",
       "    <tr>\n",
       "      <th>233</th>\n",
       "      <td>volkswagen</td>\n",
       "      <td>passat</td>\n",
       "      <td>2.8</td>\n",
       "      <td>1999</td>\n",
       "      <td>6</td>\n",
       "      <td>manual(m5)</td>\n",
       "      <td>f</td>\n",
       "      <td>18</td>\n",
       "      <td>26.0</td>\n",
       "      <td>p</td>\n",
       "      <td>midsize</td>\n",
       "      <td>3.45</td>\n",
       "    </tr>\n",
       "    <tr>\n",
       "      <th>234</th>\n",
       "      <td>volkswagen</td>\n",
       "      <td>passat</td>\n",
       "      <td>3.6</td>\n",
       "      <td>2008</td>\n",
       "      <td>6</td>\n",
       "      <td>auto(s6)</td>\n",
       "      <td>f</td>\n",
       "      <td>17</td>\n",
       "      <td>26.0</td>\n",
       "      <td>p</td>\n",
       "      <td>midsize</td>\n",
       "      <td>3.45</td>\n",
       "    </tr>\n",
       "  </tbody>\n",
       "</table>\n",
       "<p>234 rows × 12 columns</p>\n",
       "</div>"
      ],
      "text/plain": [
       "    manufacturer   model  displ  year  cyl       trans drv  cty   hwy fl  \\\n",
       "1           audi      a4    1.8  1999    4    auto(l5)   f   18  29.0  p   \n",
       "2           audi      a4    1.8  1999    4  manual(m5)   f   21  29.0  p   \n",
       "3           audi      a4    2.0  2008    4  manual(m6)   f   20  31.0  p   \n",
       "4           audi      a4    2.0  2008    4    auto(av)   f   21  30.0  p   \n",
       "5           audi      a4    2.8  1999    6    auto(l5)   f   16  26.0  p   \n",
       "..           ...     ...    ...   ...  ...         ...  ..  ...   ... ..   \n",
       "230   volkswagen  passat    2.0  2008    4    auto(s6)   f   19  28.0  p   \n",
       "231   volkswagen  passat    2.0  2008    4  manual(m6)   f   21  29.0  p   \n",
       "232   volkswagen  passat    2.8  1999    6    auto(l5)   f   16  26.0  p   \n",
       "233   volkswagen  passat    2.8  1999    6  manual(m5)   f   18  26.0  p   \n",
       "234   volkswagen  passat    3.6  2008    6    auto(s6)   f   17  26.0  p   \n",
       "\n",
       "       class  price_fl  \n",
       "1    compact      3.45  \n",
       "2    compact      3.45  \n",
       "3    compact      3.45  \n",
       "4    compact      3.45  \n",
       "5    compact      3.45  \n",
       "..       ...       ...  \n",
       "230  midsize      3.45  \n",
       "231  midsize      3.45  \n",
       "232  midsize      3.45  \n",
       "233  midsize      3.45  \n",
       "234  midsize      3.45  \n",
       "\n",
       "[234 rows x 12 columns]"
      ]
     },
     "execution_count": 34,
     "metadata": {},
     "output_type": "execute_result"
    }
   ],
   "source": [
    "print('Q3) hwy 결측값을 제외하고 어떤 구동방식의 고속도로평균 연비가 높은지 확인한다면')\n",
    "mpgFrm[mpgFrm['hwy'] != np.NaN]"
   ]
  },
  {
   "cell_type": "code",
   "execution_count": 35,
   "id": "13e51a5e",
   "metadata": {},
   "outputs": [
    {
     "name": "stdout",
     "output_type": "stream",
     "text": [
      "dropna - 결측값 제외\n",
      "drv\n",
      "4    19.217822\n",
      "f    28.165049\n",
      "r    21.000000\n",
      "Name: hwy, dtype: float64\n",
      "           hwy\n",
      "drv           \n",
      "4    19.217822\n",
      "f    28.165049\n",
      "r    21.000000\n"
     ]
    }
   ],
   "source": [
    "print('dropna - 결측값 제외')\n",
    "print(mpgFrm.groupby('drv')['hwy'].mean())\n",
    "print(mpgFrm[['drv','hwy']].dropna().groupby('drv').mean())"
   ]
  },
  {
   "cell_type": "code",
   "execution_count": 36,
   "id": "e419844b",
   "metadata": {},
   "outputs": [
    {
     "name": "stdout",
     "output_type": "stream",
     "text": [
      "구동방식별 고속도로 연비평균을 막대 그래프로 시각화 - \n"
     ]
    },
    {
     "data": {
      "text/plain": [
       "drv\n",
       "4    19.217822\n",
       "f    28.165049\n",
       "r    21.000000\n",
       "Name: hwy, dtype: float64"
      ]
     },
     "execution_count": 36,
     "metadata": {},
     "output_type": "execute_result"
    }
   ],
   "source": [
    "print('구동방식별 고속도로 연비평균을 막대 그래프로 시각화 - ')\n",
    "grpDrvFrm = mpgFrm[['drv','hwy']].dropna().groupby('drv').mean()\n",
    "grpDrvFrm['hwy']\n"
   ]
  },
  {
   "cell_type": "code",
   "execution_count": 19,
   "id": "40ad89c1",
   "metadata": {},
   "outputs": [
    {
     "data": {
      "text/plain": [
       "<Figure size 640x480 with 0 Axes>"
      ]
     },
     "metadata": {},
     "output_type": "display_data"
    },
    {
     "data": {
      "image/png": "[encoded data removed]",
      "text/plain": [
       "<Figure size 640x480 with 1 Axes>"
      ]
     },
     "metadata": {},
     "output_type": "display_data"
    }
   ],
   "source": [
    "plt.figure()\n",
    "\n",
    "grpDrvFrm.plot(kind = 'bar',\n",
    "               rot = 0)\n",
    "\n",
    "plt.grid()\n",
    "plt.show()\n",
    "plt.close()"
   ]
  },
  {
   "cell_type": "code",
   "execution_count": 20,
   "id": "dd711341",
   "metadata": {},
   "outputs": [
    {
     "name": "stdout",
     "output_type": "stream",
     "text": [
      "Q4) 구동방식별 고속도로, 도시연비 평균을 서브셋을 만들고\n",
      "시각화 - multi bar\n"
     ]
    }
   ],
   "source": [
    "print('Q4) 구동방식별 고속도로, 도시연비 평균을 서브셋을 만들고')\n",
    "print('시각화 - multi bar')"
   ]
  },
  {
   "cell_type": "code",
   "execution_count": 21,
   "id": "f539f082",
   "metadata": {},
   "outputs": [],
   "source": [
    "subsetFrm = mpgFrm[['drv','hwy','cty']].dropna()\n",
    "subsetFrm = subsetFrm.groupby('drv').mean()\n",
    "\n"
   ]
  },
  {
   "cell_type": "code",
   "execution_count": 22,
   "id": "2cfbc384",
   "metadata": {},
   "outputs": [
    {
     "data": {
      "text/plain": [
       "<Figure size 640x480 with 0 Axes>"
      ]
     },
     "metadata": {},
     "output_type": "display_data"
    },
    {
     "data": {
      "image/png": "[encoded data removed]",
      "text/plain": [
       "<Figure size 640x480 with 1 Axes>"
      ]
     },
     "metadata": {},
     "output_type": "display_data"
    }
   ],
   "source": [
    "plt.figure()\n",
    "\n",
    "subsetFrm.plot(kind = 'bar',\n",
    "               rot = 0)\n",
    "\n",
    "plt.grid()\n",
    "plt.show()\n",
    "plt.close()"
   ]
  },
  {
   "cell_type": "code",
   "execution_count": 23,
   "id": "3d688e61",
   "metadata": {},
   "outputs": [
    {
     "name": "stdout",
     "output_type": "stream",
     "text": [
      "Q5) 해당 클래스별 빈도수를 시각화 - \n"
     ]
    },
    {
     "data": {
      "text/plain": [
       "suv           62\n",
       "compact       47\n",
       "midsize       41\n",
       "subcompact    35\n",
       "pickup        33\n",
       "minivan       11\n",
       "2seater        5\n",
       "Name: class, dtype: int64"
      ]
     },
     "execution_count": 23,
     "metadata": {},
     "output_type": "execute_result"
    }
   ],
   "source": [
    "print('Q5) 해당 클래스별 빈도수를 시각화 - ')\n",
    "mpgFrm['class'].value_counts()"
   ]
  },
  {
   "cell_type": "code",
   "execution_count": 24,
   "id": "e068458a",
   "metadata": {},
   "outputs": [
    {
     "data": {
      "image/png": "[encoded data removed]",
      "text/plain": [
       "<Figure size 640x480 with 1 Axes>"
      ]
     },
     "metadata": {},
     "output_type": "display_data"
    }
   ],
   "source": [
    "plt.figure()\n",
    "\n",
    "mpgFrm['class'].value_counts().plot(kind = 'bar',\n",
    "                                       rot = 0,\n",
    "                                   color = 'black')\n",
    "plt.show()\n",
    "plt.close()"
   ]
  },
  {
   "cell_type": "code",
   "execution_count": 42,
   "id": "f5f6e5dd",
   "metadata": {},
   "outputs": [
    {
     "name": "stdout",
     "output_type": "stream",
     "text": [
      "Q6) 제조사별 suv 도시연비 Top5를 시각화\n",
      "                    cty\n",
      "manufacturer           \n",
      "chevrolet     12.666667\n",
      "dodge         11.857143\n",
      "ford          12.888889\n",
      "jeep          13.500000\n",
      "land rover    11.500000\n",
      "lincoln       11.333333\n",
      "mercury       13.250000\n",
      "nissan        13.750000\n",
      "subaru        18.833333\n",
      "toyota        14.375000\n",
      "\n",
      "\n"
     ]
    }
   ],
   "source": [
    "print('Q6) 제조사별 suv 도시연비 Top5를 시각화')\n",
    "subset = mpgFrm[mpgFrm['class'] =='suv'].groupby('manufacturer')[['cty']].mean()\n",
    "print(subset)\n",
    "print()\n",
    "print()\n",
    "subset.sort_values('cty', ascending = False, inplace = True)\n",
    "subset = subset.head()"
   ]
  },
  {
   "cell_type": "code",
   "execution_count": 43,
   "id": "7d3d4d23",
   "metadata": {},
   "outputs": [
    {
     "data": {
      "text/plain": [
       "<Figure size 640x480 with 0 Axes>"
      ]
     },
     "metadata": {},
     "output_type": "display_data"
    },
    {
     "data": {
      "image/png": "[encoded data removed]",
      "text/plain": [
       "<Figure size 640x480 with 1 Axes>"
      ]
     },
     "metadata": {},
     "output_type": "display_data"
    }
   ],
   "source": [
    "plt.figure()\n",
    "\n",
    "subset.plot(kind = 'bar', rot = 0, color = 'green')\n",
    "\n",
    "plt.grid()\n",
    "plt.show()\n",
    "plt.close()"
   ]
  },
  {
   "cell_type": "markdown",
   "id": "c7afa1ca",
   "metadata": {},
   "source": [
    "- 이상치 처리"
   ]
  },
  {
   "cell_type": "code",
   "execution_count": 44,
   "id": "7e9c4d19",
   "metadata": {},
   "outputs": [
    {
     "data": {
      "text/plain": [
       "<Axes: >"
      ]
     },
     "execution_count": 44,
     "metadata": {},
     "output_type": "execute_result"
    },
    {
     "data": {
      "image/png": "[encoded data removed]",
      "text/plain": [
       "<Figure size 640x480 with 1 Axes>"
      ]
     },
     "metadata": {},
     "output_type": "display_data"
    }
   ],
   "source": [
    "subset = mpgFrm.loc[:, ['cty','hwy']]\n",
    "#subset\n",
    "subset.boxplot()"
   ]
  },
  {
   "cell_type": "code",
   "execution_count": 45,
   "id": "91e1c55d",
   "metadata": {},
   "outputs": [
    {
     "name": "stdout",
     "output_type": "stream",
     "text": [
      "IQR - \n"
     ]
    },
    {
     "data": {
      "text/plain": [
       "cty    14.0\n",
       "hwy    18.0\n",
       "Name: 0.25, dtype: float64"
      ]
     },
     "execution_count": 45,
     "metadata": {},
     "output_type": "execute_result"
    }
   ],
   "source": [
    "print('IQR - ')\n",
    "Q1 = subset.quantile(q=0.25)\n",
    "Q1"
   ]
  },
  {
   "cell_type": "code",
   "execution_count": 46,
   "id": "6c28ec06",
   "metadata": {},
   "outputs": [
    {
     "data": {
      "text/plain": [
       "cty    19.0\n",
       "hwy    27.0\n",
       "Name: 0.75, dtype: float64"
      ]
     },
     "execution_count": 46,
     "metadata": {},
     "output_type": "execute_result"
    }
   ],
   "source": [
    "Q3 = subset.quantile(q=0.75)\n",
    "Q3"
   ]
  },
  {
   "cell_type": "code",
   "execution_count": 47,
   "id": "da3e57ad",
   "metadata": {},
   "outputs": [
    {
     "data": {
      "text/plain": [
       "cty    5.0\n",
       "hwy    9.0\n",
       "dtype: float64"
      ]
     },
     "execution_count": 47,
     "metadata": {},
     "output_type": "execute_result"
    }
   ],
   "source": [
    "IQR = Q3 - Q1\n",
    "IQR"
   ]
  },
  {
   "cell_type": "code",
   "execution_count": 48,
   "id": "1426016a",
   "metadata": {},
   "outputs": [
    {
     "name": "stdout",
     "output_type": "stream",
     "text": [
      "lower fence - 최저 한계치\n"
     ]
    }
   ],
   "source": [
    "print('lower fence - 최저 한계치')\n",
    "lower = Q1 - 1.5 * IQR\n"
   ]
  },
  {
   "cell_type": "code",
   "execution_count": 49,
   "id": "a6968778",
   "metadata": {},
   "outputs": [
    {
     "name": "stdout",
     "output_type": "stream",
     "text": [
      "upper fence - 최고 한계치\n"
     ]
    },
    {
     "data": {
      "text/plain": [
       "cty    26.5\n",
       "hwy    40.5\n",
       "dtype: float64"
      ]
     },
     "execution_count": 49,
     "metadata": {},
     "output_type": "execute_result"
    }
   ],
   "source": [
    "print('upper fence - 최고 한계치')\n",
    "upper = Q3 + 1.5 * IQR\n",
    "upper"
   ]
  },
  {
   "cell_type": "code",
   "execution_count": 50,
   "id": "dfec1a67",
   "metadata": {},
   "outputs": [
    {
     "name": "stdout",
     "output_type": "stream",
     "text": [
      "lower fence 경계값을 얻어 본다면 - \n"
     ]
    },
    {
     "data": {
      "text/plain": [
       "cty     9.0\n",
       "hwy    12.0\n",
       "dtype: float64"
      ]
     },
     "execution_count": 50,
     "metadata": {},
     "output_type": "execute_result"
    }
   ],
   "source": [
    "print('lower fence 경계값을 얻어 본다면 - ')\n",
    "lower_outlier = subset[ subset > lower ].min()\n",
    "lower_outlier"
   ]
  },
  {
   "cell_type": "code",
   "execution_count": 51,
   "id": "9f7c2ae4",
   "metadata": {},
   "outputs": [
    {
     "name": "stdout",
     "output_type": "stream",
     "text": [
      "upper fence 경계값을 얻어 본다면 - \n"
     ]
    },
    {
     "data": {
      "text/plain": [
       "cty    26.0\n",
       "hwy    37.0\n",
       "dtype: float64"
      ]
     },
     "execution_count": 51,
     "metadata": {},
     "output_type": "execute_result"
    }
   ],
   "source": [
    "print('upper fence 경계값을 얻어 본다면 - ')\n",
    "upper_outlier = subset[ subset < upper ].max()\n",
    "upper_outlier"
   ]
  },
  {
   "cell_type": "code",
   "execution_count": 52,
   "id": "8c060541",
   "metadata": {},
   "outputs": [
    {
     "data": {
      "text/plain": [
       "cty    0\n",
       "hwy    5\n",
       "dtype: int64"
      ]
     },
     "execution_count": 52,
     "metadata": {},
     "output_type": "execute_result"
    }
   ],
   "source": [
    "cleanFrm = mpgFrm.copy()\n",
    "cleanFrm[['cty','hwy']].isna().sum()"
   ]
  },
  {
   "cell_type": "code",
   "execution_count": 53,
   "id": "502485b0",
   "metadata": {},
   "outputs": [
    {
     "name": "stdout",
     "output_type": "stream",
     "text": [
      "cty outlier 확인 - \n"
     ]
    }
   ],
   "source": [
    "print('cty outlier 확인 - ')\n",
    "cty_outlier = mpgFrm[ mpgFrm['cty'] > upper_outlier['cty'] ]\n",
    "for idx in cty_outlier.index:\n",
    "    cleanFrm.loc[idx, 'cty'] = np.NaN"
   ]
  },
  {
   "cell_type": "code",
   "execution_count": 54,
   "id": "6b71c0f9",
   "metadata": {},
   "outputs": [
    {
     "name": "stdout",
     "output_type": "stream",
     "text": [
      "hwy outlier 확인 - \n"
     ]
    }
   ],
   "source": [
    "print('hwy outlier 확인 - ')\n",
    "hwy_outlier = mpgFrm[ mpgFrm['hwy'] > upper_outlier['hwy'] ]\n",
    "for idx in hwy_outlier.index:\n",
    "    cleanFrm.loc[idx, 'hwy'] = np.NaN"
   ]
  },
  {
   "cell_type": "code",
   "execution_count": 55,
   "id": "ab0bcb71",
   "metadata": {},
   "outputs": [
    {
     "data": {
      "text/plain": [
       "cty    5\n",
       "hwy    8\n",
       "dtype: int64"
      ]
     },
     "execution_count": 55,
     "metadata": {},
     "output_type": "execute_result"
    }
   ],
   "source": [
    "cleanFrm[['cty','hwy']].isna().sum()"
   ]
  },
  {
   "cell_type": "code",
   "execution_count": 56,
   "id": "b9cdebe1",
   "metadata": {},
   "outputs": [
    {
     "name": "stdout",
     "output_type": "stream",
     "text": [
      "Q6) 결측값을 평균으로 대체 cty, hwy\n",
      "이상치 처리 후 구동방식별 도시, 고속도로 연비 평균을 시각화 - \n"
     ]
    }
   ],
   "source": [
    "print('Q6) 결측값을 평균으로 대체 cty, hwy')\n",
    "print('이상치 처리 후 구동방식별 도시, 고속도로 연비 평균을 시각화 - ')"
   ]
  },
  {
   "cell_type": "code",
   "execution_count": 57,
   "id": "bcbab98f",
   "metadata": {},
   "outputs": [],
   "source": [
    "# cleanFrm[cleanFrm['cty'].isnull()] = cleanFrm['cty'].mean() # 결측값은 == 로 비교할 수 없다. 불리언인덱싱에 다시 열값을 넣으면 할당되지 않는다. \n",
    "# cleanFrm[cleanFrm['hwy'].isnull()] = cleanFrm['hwy'].mean()\n",
    "cleanFrm.loc[ cleanFrm['cty'] != cleanFrm['cty'] , 'cty'] = cleanFrm['cty'].mean()\n",
    "cleanFrm.loc[ cleanFrm['hwy'] != cleanFrm['hwy'] , 'hwy'] = cleanFrm['hwy'].mean()"
   ]
  },
  {
   "cell_type": "code",
   "execution_count": 58,
   "id": "ee117d4f",
   "metadata": {},
   "outputs": [
    {
     "data": {
      "text/plain": [
       "cty    0\n",
       "hwy    0\n",
       "dtype: int64"
      ]
     },
     "execution_count": 58,
     "metadata": {},
     "output_type": "execute_result"
    }
   ],
   "source": [
    "cleanFrm[['cty','hwy']].isnull().sum()"
   ]
  },
  {
   "cell_type": "code",
   "execution_count": 59,
   "id": "4d52fab1",
   "metadata": {
    "scrolled": false
   },
   "outputs": [
    {
     "data": {
      "text/plain": [
       "<Axes: >"
      ]
     },
     "execution_count": 59,
     "metadata": {},
     "output_type": "execute_result"
    },
    {
     "data": {
      "image/png": "[encoded data removed]",
      "text/plain": [
       "<Figure size 640x480 with 1 Axes>"
      ]
     },
     "metadata": {},
     "output_type": "display_data"
    }
   ],
   "source": [
    "subset = cleanFrm.loc[:, ['cty','hwy']]\n",
    "#subset\n",
    "subset.boxplot()"
   ]
  },
  {
   "cell_type": "code",
   "execution_count": 60,
   "id": "eede8804",
   "metadata": {},
   "outputs": [
    {
     "data": {
      "text/plain": [
       "<Figure size 640x480 with 0 Axes>"
      ]
     },
     "metadata": {},
     "output_type": "display_data"
    },
    {
     "data": {
      "image/png": "[encoded data removed]",
      "text/plain": [
       "<Figure size 640x480 with 1 Axes>"
      ]
     },
     "metadata": {},
     "output_type": "display_data"
    }
   ],
   "source": [
    "grpDrvFrm = cleanFrm[['drv','hwy','cty']].groupby('drv').mean()\n",
    "\n",
    "plt.figure()\n",
    "grpDrvFrm.plot(kind = 'bar')\n",
    "\n",
    "plt.show()\n",
    "plt.close()"
   ]
  },
  {
   "cell_type": "code",
   "execution_count": null,
   "id": "ab160eab",
   "metadata": {},
   "outputs": [],
   "source": []
  },
  {
   "cell_type": "code",
   "execution_count": null,
   "id": "57cb64f8",
   "metadata": {},
   "outputs": [],
   "source": []
  },
  {
   "cell_type": "code",
   "execution_count": null,
   "id": "f6dc3a16",
   "metadata": {},
   "outputs": [],
   "source": []
  },
  {
   "cell_type": "code",
   "execution_count": null,
   "id": "9f51ebcc",
   "metadata": {},
   "outputs": [],
   "source": []
  },
  {
   "cell_type": "code",
   "execution_count": null,
   "id": "4fbe113f",
   "metadata": {},
   "outputs": [],
   "source": []
  },
  {
   "cell_type": "code",
   "execution_count": null,
   "id": "5de2bf49",
   "metadata": {},
   "outputs": [],
   "source": []
  },
  {
   "cell_type": "code",
   "execution_count": null,
   "id": "8f0a1a40",
   "metadata": {},
   "outputs": [],
   "source": []
  },
  {
   "cell_type": "code",
   "execution_count": null,
   "id": "bbaaa9d5",
   "metadata": {},
   "outputs": [],
   "source": []
  },
  {
   "cell_type": "code",
   "execution_count": null,
   "id": "0f3610a3",
   "metadata": {},
   "outputs": [],
   "source": []
  }
 ],
 "metadata": {
  "kernelspec": {
   "display_name": "Python 3 (ipykernel)",
   "language": "python",
   "name": "python3"
  },
  "language_info": {
   "codemirror_mode": {
    "name": "ipython",
    "version": 3
   },
   "file_extension": ".py",
   "mimetype": "text/x-python",
   "name": "python",
   "nbconvert_exporter": "python",
   "pygments_lexer": "ipython3",
   "version": "3.11.4"
  }
 },
 "nbformat": 4,
 "nbformat_minor": 5
}
