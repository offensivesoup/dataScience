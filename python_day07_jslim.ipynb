{
 "cells": [
  {
   "cell_type": "markdown",
   "id": "b7694dad",
   "metadata": {},
   "source": [
    "- util함수(zip , map, reduce, filter)\n",
    "- map  : 리스트로부터 요소를 하나씩 꺼내서 함수에 적용시킨 다음, 그 결과를 새로운 리스트에 담아서 리턴\n",
    "- reduce : 누적값을 리턴하는 함수\n",
    "- filter : 조건에 만족하는 데이터만 리스트에 담아서 리턴 \n",
    "- 변수 = lamdba 인자 : 실행문\n",
    "- (lamdba 인자 : 실행문)(인자값)"
   ]
  },
  {
   "cell_type": "code",
   "execution_count": 14,
   "id": "bae19099",
   "metadata": {},
   "outputs": [
    {
     "name": "stdout",
     "output_type": "stream",
     "text": [
      "list comprehension -  [0, 1, 4, 9, 16]\n",
      "map -  <class 'list'> [0, 1, 4, 9, 16]\n",
      "\n",
      "\n",
      "reduce -  10\n",
      "reduce -  abcd\n",
      "filter -  [0, 3, 6, 9, 12, 15, 18]\n"
     ]
    }
   ],
   "source": [
    "from functools import reduce\n",
    "\n",
    "\n",
    "print('list comprehension - ' , [ data**2  for data in range(5) ] )\n",
    "mapTmp = list(map(lambda x : x**2  , range(5) ))\n",
    "print('map - ' , type(mapTmp) , mapTmp)\n",
    "print()\n",
    "print()\n",
    "print('reduce - ' , reduce(lambda x , y : x + y , range(5)))\n",
    "print('reduce - ' , reduce(lambda x , y : x + y , 'abcd'))\n",
    "\n",
    "print('filter - ' , list(filter( lambda x : x%3 == 0 , range(21) )))"
   ]
  },
  {
   "cell_type": "code",
   "execution_count": 19,
   "id": "bd0e92b4",
   "metadata": {},
   "outputs": [
    {
     "ename": "ImportError",
     "evalue": "cannot import name 'customerModule' from 'ds' (unknown location)",
     "output_type": "error",
     "traceback": [
      "\u001b[1;31m---------------------------------------------------------------------------\u001b[0m",
      "\u001b[1;31mImportError\u001b[0m                               Traceback (most recent call last)",
      "Cell \u001b[1;32mIn[19], line 1\u001b[0m\n\u001b[1;32m----> 1\u001b[0m \u001b[38;5;28;01mfrom\u001b[39;00m \u001b[38;5;21;01mds\u001b[39;00m \u001b[38;5;28;01mimport\u001b[39;00m customerModule \n\u001b[0;32m      3\u001b[0m customerModule\u001b[38;5;241m.\u001b[39mcharLength(\u001b[38;5;124m'\u001b[39m\u001b[38;5;124mgood day\u001b[39m\u001b[38;5;124m'\u001b[39m)\n",
      "\u001b[1;31mImportError\u001b[0m: cannot import name 'customerModule' from 'ds' (unknown location)"
     ]
    }
   ],
   "source": [
    "# 확인하고 설명 진행 \n",
    "from ds import customerModule \n",
    "\n",
    "customerModule.charLength('good day')"
   ]
  },
  {
   "cell_type": "code",
   "execution_count": 33,
   "id": "432e3b9a",
   "metadata": {},
   "outputs": [
    {
     "data": {
      "text/plain": [
       "'\\nOOP(Object Oriented Programming)\\n함수 < 클래스(변수, 메서드) < 모듈(xxxx.py) < package \\n클래스란?\\n- 함수의 모음\\n- 인스턴스의 고유한 변수와 고유한 함수(메서드)를 관리할 수 있게 된다\\n- 구성요소 : 초기화함수(생성자) , 변수 , 함수(메서드) \\n\\n결론, 파이썬의 모든 변수타입은 객체로 취급이된다. 즉, 객체로 취급된다라는건 클래스란 의미이다 \\n\\nOOP 4가지의 컨셉을 지향\\n- 은닉화\\n- 상속\\n- 다형성\\n- 추상화 \\n'"
      ]
     },
     "execution_count": 33,
     "metadata": {},
     "output_type": "execute_result"
    }
   ],
   "source": [
    "'''\n",
    "OOP(Object Oriented Programming)\n",
    "함수 < 클래스(변수, 메서드) < 모듈(xxxx.py) < package \n",
    "클래스란?\n",
    "- 함수의 모음\n",
    "- 인스턴스의 고유한 변수와 고유한 함수(메서드)를 관리할 수 있게 된다\n",
    "- 구성요소 : 초기화함수(생성자) , 변수 , 함수(메서드) \n",
    "\n",
    "결론, 파이썬의 모든 변수타입은 객체로 취급이된다. 즉, 객체로 취급된다라는건 클래스란 의미이다 \n",
    "\n",
    "OOP 4가지의 컨셉을 지향\n",
    "- 은닉화\n",
    "- 상속\n",
    "- 다형성\n",
    "- 추상화 \n",
    "'''"
   ]
  },
  {
   "cell_type": "code",
   "execution_count": 53,
   "id": "380d53ec",
   "metadata": {},
   "outputs": [],
   "source": [
    "class person : \n",
    "    \n",
    "#     def __init__(self) :\n",
    "#         print('객체생성시 호출되는 초기화 함수입니다.')\n",
    "    \n",
    "    # overriding : 부모에 정의된 메서드를 재정의하는 것을 의미한다.\n",
    "    # 인자를 받기 때문에 special initializer \n",
    "    # 이렇듯 special initializer 정의되면 자동으로(묵시적) default initializer 정의되지 않는다.\n",
    "    def __init__(self , name, age, gender) :\n",
    "        print('객체생성시 호출되는 초기화 함수입니다.')\n",
    "        self.name   = name \n",
    "        self.age    = age \n",
    "        self.gender = gender\n",
    "    \n",
    "    def doing(self) : \n",
    "        print('열심히 공부하고 있습니다.') "
   ]
  },
  {
   "cell_type": "code",
   "execution_count": 54,
   "id": "a77a1226",
   "metadata": {},
   "outputs": [
    {
     "name": "stdout",
     "output_type": "stream",
     "text": [
      "객체생성시 호출되는 초기화 함수입니다.\n",
      "type -  <class '__main__.person'>\n",
      "dir  -  ['__class__', '__delattr__', '__dict__', '__dir__', '__doc__', '__eq__', '__format__', '__ge__', '__getattribute__', '__getstate__', '__gt__', '__hash__', '__init__', '__init_subclass__', '__le__', '__lt__', '__module__', '__ne__', '__new__', '__reduce__', '__reduce_ex__', '__repr__', '__setattr__', '__sizeof__', '__str__', '__subclasshook__', '__weakref__', 'age', 'doing', 'gender', 'name']\n",
      "열심히 공부하고 있습니다.\n",
      "name   -  임정섭\n",
      "age    -  20\n",
      "gender -  남성\n"
     ]
    }
   ],
   "source": [
    "# lst = list()\n",
    "\n",
    "person = person('임정섭' , 20 , '남성') # 인스턴스 생성\n",
    "print('type - ' , type(person))\n",
    "print('dir  - ' , dir(person))\n",
    "\n",
    "person.doing()\n",
    "print('name   - ' , person.name)\n",
    "print('age    - ' , person.age)\n",
    "print('gender - ' , person.gender)\n"
   ]
  },
  {
   "cell_type": "code",
   "execution_count": 38,
   "id": "81f5a46c",
   "metadata": {},
   "outputs": [],
   "source": [
    "def userPrint() : \n",
    "    print('모듈에 정의된 함수') "
   ]
  },
  {
   "cell_type": "code",
   "execution_count": 39,
   "id": "48bcbccb",
   "metadata": {},
   "outputs": [],
   "source": [
    "def working() : \n",
    "    userPrint() "
   ]
  },
  {
   "cell_type": "code",
   "execution_count": 40,
   "id": "f3f12e1f",
   "metadata": {},
   "outputs": [
    {
     "name": "stdout",
     "output_type": "stream",
     "text": [
      "caller - \n",
      "모듈에 정의된 함수\n"
     ]
    }
   ],
   "source": [
    "print('caller - ') \n",
    "working()"
   ]
  },
  {
   "cell_type": "markdown",
   "id": "cbc86ccc",
   "metadata": {},
   "source": [
    "돌발퀴즈\n",
    "- account 클래스를 정의하고 싶다(입금하다, 출금하다 , 잔액, 계좌번호) "
   ]
  },
  {
   "cell_type": "code",
   "execution_count": 73,
   "id": "b1c39536",
   "metadata": {},
   "outputs": [],
   "source": [
    "class account : \n",
    "    def __init__(self, accountNum , accountBalance) : \n",
    "        self.accountNum     = accountNum\n",
    "        self.accountBalance = accountBalance\n",
    "    \n",
    "    def accountInfo(self) :\n",
    "        print('{} 계좌의 계좌 잔액은 {} 입니다.'.format(self.accountNum , self.accountBalance))\n",
    "        \n",
    "    def withDraw(self , money) :\n",
    "        if self.accountBalance > money :\n",
    "            self.accountBalance =  self.accountBalance - money\n",
    "        else :\n",
    "            print('잔액이 부족하여 출금이 불가합니다..더 열심히 돈 벌어 오세요')\n",
    "    \n",
    "    def deposit(self , money) : \n",
    "        self.accountBalance =  self.accountBalance + money"
   ]
  },
  {
   "cell_type": "code",
   "execution_count": 74,
   "id": "782e913a",
   "metadata": {},
   "outputs": [
    {
     "name": "stdout",
     "output_type": "stream",
     "text": [
      "111-2222-2222 계좌의 계좌 잔액은 10000 입니다.\n",
      "\n",
      "출금 - \n",
      "잔액이 부족하여 출금이 불가합니다..더 열심히 돈 벌어 오세요\n",
      "\n",
      "입금 - \n",
      "\n",
      "111-2222-2222 계좌의 계좌 잔액은 20000 입니다.\n"
     ]
    }
   ],
   "source": [
    "seopAcc = account('111-2222-2222' , 10000)\n",
    "# print('seop Account - ' , seopAcc.accountNum)\n",
    "# print('seop Account - ' , seopAcc.accountBalance)\n",
    "seopAcc.accountInfo()\n",
    "print()\n",
    "print('출금 - ')\n",
    "seopAcc.withDraw(50000)\n",
    "print()\n",
    "print('입금 - ')\n",
    "seopAcc.deposit(10000)\n",
    "print()\n",
    "seopAcc.accountInfo()"
   ]
  },
  {
   "cell_type": "code",
   "execution_count": null,
   "id": "ef8d50c4",
   "metadata": {},
   "outputs": [],
   "source": [
    "'''\n",
    "파이썬에서 예외란 XXXXXXXError - Exception \n",
    "예외처리를 하는 이유\n",
    "- 시스템의 비정상적인 종료를 막고 정상적이 흐름으로 시스템을 종료 시키기 위해서 \n",
    "\n",
    "try : \n",
    "    예외발생 코드 \n",
    "except : \n",
    "    try 블럭에서 발생된 예외를 처리하는 영역\n",
    "else :\n",
    "    예외가 발생하지 않았을 때 수행하는 영역\n",
    "finally : \n",
    "    예외 발생여부와 상관없이 항상 수행하는 영역\n",
    "'''"
   ]
  },
  {
   "cell_type": "code",
   "execution_count": 83,
   "id": "a353bb57",
   "metadata": {},
   "outputs": [
    {
     "name": "stdout",
     "output_type": "stream",
     "text": [
      "1\n",
      "2\n",
      "3\n",
      "발생된 예외는 list index out of range 이고 해당 블록에서 예외를 처리하였습니다.\n",
      "항상 수행되는 영역\n",
      "system exit\n"
     ]
    }
   ],
   "source": [
    "lst = [1,2,3] \n",
    "\n",
    "try :\n",
    "    \n",
    "    for idx in range(len(lst) + 1) : \n",
    "        print(lst[idx])\n",
    "\n",
    "except IndexError as e :\n",
    "    print('발생된 예외는 {} 이고 해당 블록에서 예외를 처리하였습니다.'.format(e))\n",
    "\n",
    "else  : \n",
    "    print('예외발생하지 않을 때 수행하는 영역')\n",
    "\n",
    "finally : \n",
    "    print('항상 수행되는 영역')\n",
    "print('system exit')"
   ]
  },
  {
   "cell_type": "code",
   "execution_count": 105,
   "id": "fe42857c",
   "metadata": {},
   "outputs": [],
   "source": [
    "def inputAge() : \n",
    "    age = 0 \n",
    "    try :\n",
    "        age = int(input('나이를 입력하세요 : '))\n",
    "    except Exception as e : \n",
    "        print('발생된 예외를 부모가 처리합니다.')\n",
    "        age = inputAge()\n",
    "    \n",
    "    print('>>>>> debug , ' , age) \n",
    "    \n",
    "    return age "
   ]
  },
  {
   "cell_type": "code",
   "execution_count": 106,
   "id": "823341f3",
   "metadata": {},
   "outputs": [
    {
     "name": "stdout",
     "output_type": "stream",
     "text": [
      "나이를 입력하세요 : jslim\n",
      "발생된 예외를 부모가 처리합니다.\n",
      "나이를 입력하세요 : 20\n",
      ">>>>> debug ,  20\n",
      ">>>>> debug ,  20\n",
      "당신의 나이는 20 살 입니다\n"
     ]
    }
   ],
   "source": [
    "age = inputAge()\n",
    "print('당신의 나이는 {} 살 입니다'.format(age)) "
   ]
  },
  {
   "cell_type": "code",
   "execution_count": null,
   "id": "92637435",
   "metadata": {},
   "outputs": [],
   "source": [
    "돌발퀴즈\n",
    "- 매개변수로 넘겨받은 각 요소번지의 값에 제곱한 결과를 출력하고싶다\n",
    "- 예외처리를 통해서 문자열의 제곱을 제외한 결과를 출력"
   ]
  },
  {
   "cell_type": "code",
   "execution_count": 113,
   "id": "d387d799",
   "metadata": {},
   "outputs": [],
   "source": [
    "def lstPrint(lst : list) -> None :\n",
    "    for data in lst :\n",
    "        try :\n",
    "            print(data**2)\n",
    "        except Exception as e : \n",
    "            print(e) \n",
    "            \n",
    "    print('>>> function call end <<<')"
   ]
  },
  {
   "cell_type": "code",
   "execution_count": 114,
   "id": "191da397",
   "metadata": {},
   "outputs": [
    {
     "name": "stdout",
     "output_type": "stream",
     "text": [
      "100\n",
      "400\n",
      "900\n",
      "unsupported operand type(s) for ** or pow(): 'str' and 'int'\n",
      "1600\n",
      "2500\n",
      ">>> function call end <<<\n"
     ]
    }
   ],
   "source": [
    "tmp = [10, 20, 30, 'seop' , 40, 50]\n",
    "lstPrint(tmp)"
   ]
  },
  {
   "cell_type": "code",
   "execution_count": 116,
   "id": "8293dcd0",
   "metadata": {},
   "outputs": [
    {
     "ename": "SyntaxError",
     "evalue": "unterminated string literal (detected at line 2) (3634459405.py, line 2)",
     "output_type": "error",
     "traceback": [
      "\u001b[1;36m  Cell \u001b[1;32mIn[116], line 2\u001b[1;36m\u001b[0m\n\u001b[1;33m    print('error)\u001b[0m\n\u001b[1;37m          ^\u001b[0m\n\u001b[1;31mSyntaxError\u001b[0m\u001b[1;31m:\u001b[0m unterminated string literal (detected at line 2)\n"
     ]
    }
   ],
   "source": [
    "# print(100 / 0)\n",
    "# print('error)\n"
   ]
  },
  {
   "cell_type": "markdown",
   "id": "6dd88fc8",
   "metadata": {},
   "source": [
    "#### 파일 입출력 \n",
    "- 예외발생이 많다 \n",
    "- 텍스트파일 , json 형식의 입출력\n",
    "- csv, xls : 분석을 위한 데이터타입 필요하다(Pandas - DataFrame 통한 입출력 ) \n",
    "- open(filePath , mode = 'r|w|a|b' , encoding = '') \n",
    "- r : read , w : write , a : append\n",
    "- with open() as file : "
   ]
  },
  {
   "cell_type": "code",
   "execution_count": 144,
   "id": "8fa897dc",
   "metadata": {},
   "outputs": [
    {
     "name": "stdout",
     "output_type": "stream",
     "text": [
      "파일이 존재합니다.\n",
      "type -  <class '_io.TextIOWrapper'>\n",
      "\n",
      "dir -  ['_CHUNK_SIZE', '__class__', '__del__', '__delattr__', '__dict__', '__dir__', '__doc__', '__enter__', '__eq__', '__exit__', '__format__', '__ge__', '__getattribute__', '__getstate__', '__gt__', '__hash__', '__init__', '__init_subclass__', '__iter__', '__le__', '__lt__', '__ne__', '__new__', '__next__', '__reduce__', '__reduce_ex__', '__repr__', '__setattr__', '__sizeof__', '__str__', '__subclasshook__', '_checkClosed', '_checkReadable', '_checkSeekable', '_checkWritable', '_finalizing', 'buffer', 'close', 'closed', 'detach', 'encoding', 'errors', 'fileno', 'flush', 'isatty', 'line_buffering', 'mode', 'name', 'newlines', 'read', 'readable', 'readline', 'readlines', 'reconfigure', 'seek', 'seekable', 'tell', 'truncate', 'writable', 'write', 'write_through', 'writelines']\n",
      "readlines - \n",
      "['내일은 코테를 보는 날이다\\n', '아마도 멘붕이 오지않을까?\\n', '슬프지만 즐기자\\n', '오늘 수업도 재미있었다\\n', '거짓말이다\\n', '사실은 하나도 모르겠다\\n', '하지만 혈맥과 함께 한다면 어쩌면 기회가 오지 않을까']\n"
     ]
    }
   ],
   "source": [
    "try :\n",
    "    path = './data/greeting.txt'\n",
    "    file = open(path , mode = 'r' , encoding = 'UTF-8')\n",
    "except Exception as e :\n",
    "    print('디렉토리 경로를 확인해 주세요')\n",
    "else : \n",
    "    print('파일이 존재합니다.') \n",
    "    print('type - ' , type(file))\n",
    "    print()\n",
    "    print('dir - ' , dir(file))\n",
    "    # print('read - ') \n",
    "    # txt = file.read()\n",
    "    # strInfo(txt)\n",
    "    # lst = txt.split('\\n')\n",
    "    # lstInfo(lst)\n",
    "    # print('readline - ')\n",
    "    # print( file.readline() )\n",
    "    # print( file.readline() )\n",
    "    # print( file.readline() )\n",
    "    print('readlines - ') \n",
    "    print( file.readlines() )\n",
    "    \n",
    "    \n",
    "file.close()"
   ]
  },
  {
   "cell_type": "code",
   "execution_count": 124,
   "id": "f53bb77b",
   "metadata": {},
   "outputs": [],
   "source": [
    "with open('./data/greeting.txt' , mode = 'r' , encoding = 'utf-8') as file : \n",
    "    pass"
   ]
  },
  {
   "cell_type": "code",
   "execution_count": 138,
   "id": "c960b43b",
   "metadata": {},
   "outputs": [],
   "source": [
    "def strInfo(tmp : str ) -> None : \n",
    "    print('type - ' , type(tmp))\n",
    "    print()\n",
    "    print(tmp) \n",
    "\n",
    "def lstInfo(tmp : list ) -> None : \n",
    "    print('type - ' , type(tmp))\n",
    "    print()\n",
    "    print(tmp) \n",
    "    \n",
    "    for sentence in tmp : \n",
    "        print('len - ' , len(sentence.split()))"
   ]
  },
  {
   "cell_type": "code",
   "execution_count": null,
   "id": "b07929b6",
   "metadata": {},
   "outputs": [],
   "source": []
  },
  {
   "cell_type": "code",
   "execution_count": null,
   "id": "5e7a0956",
   "metadata": {},
   "outputs": [],
   "source": []
  },
  {
   "cell_type": "code",
   "execution_count": null,
   "id": "7a63d671",
   "metadata": {},
   "outputs": [],
   "source": []
  },
  {
   "cell_type": "code",
   "execution_count": null,
   "id": "01e01b99",
   "metadata": {},
   "outputs": [],
   "source": []
  },
  {
   "cell_type": "code",
   "execution_count": null,
   "id": "50f244c0",
   "metadata": {},
   "outputs": [],
   "source": []
  }
 ],
 "metadata": {
  "kernelspec": {
   "display_name": "Python 3 (ipykernel)",
   "language": "python",
   "name": "python3"
  },
  "language_info": {
   "codemirror_mode": {
    "name": "ipython",
    "version": 3
   },
   "file_extension": ".py",
   "mimetype": "text/x-python",
   "name": "python",
   "nbconvert_exporter": "python",
   "pygments_lexer": "ipython3",
   "version": "3.11.4"
  }
 },
 "nbformat": 4,
 "nbformat_minor": 5
}
