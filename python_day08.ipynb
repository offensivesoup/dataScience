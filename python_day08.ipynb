{
 "cells": [
  {
   "cell_type": "code",
   "execution_count": 27,
   "id": "cf282861",
   "metadata": {},
   "outputs": [],
   "source": [
    "def readFile(path, encoding) :\n",
    "    with open(path, mode = \"r\" , encoding = encoding) as file:\n",
    "        # file.read() - str, file.realine() - 한문장, file.readlines() - list\n",
    "        # print('dir -',dir(file))\n",
    "        \n",
    "        print('case01 - ')\n",
    "#         txt = file.readline()\n",
    "#         while txt != '' :\n",
    "#             print(txt)\n",
    "#             txt = file.readline()\n",
    "        \n",
    "        print('case02 - ')\n",
    "        print('readlines() -')\n",
    "        lst = file.readlines()\n",
    "        for idx, sentence in enumerate(lst) :\n",
    "            print('idx - ', idx, sentence)\n",
    "            \n",
    "def writeFile(path, encoding) :\n",
    "    with open(path, mode = \"w\" , encoding = encoding) as file:\n",
    "        # print('dir - ',dir(file))\n",
    "        data = input(\"데이터를 입력하세요 : \")\n",
    "        while data != '':\n",
    "            file.write(data+'\\n') # write는 기존껄 클리어 시키고 새롭게 작성하는 것. +\\n을 하면 개행이 된다.\n",
    "            data = input('데이터를 입력하세요 : ')\n",
    "\n",
    "def appendFile(path, encoding) :\n",
    "    with open(path, mode = \"a\" , encoding = encoding) as file:\n",
    "        # print('dir - ',dir(file))\n",
    "        data = input(\"데이터를 입력하세요 : \")\n",
    "        while data != '':\n",
    "            file.write(data+'\\n') # write는 기존껄 클리어 시키고 새롭게 작성하는 것. +\\n을 하면 개행이 된다.\n",
    "            data = input('데이터를 입력하세요 : ')\n",
    "\n",
    "def fileSampleFunc(path, mode, encoding):    \n",
    "    if   mode == 'r':\n",
    "        readFile(path, encoding)\n",
    "    elif mode == 'w':\n",
    "        writeFile(path, encoding)\n",
    "    else:\n",
    "        appendFile(path, encoding)"
   ]
  },
  {
   "cell_type": "code",
   "execution_count": 28,
   "id": "2eb48dd5",
   "metadata": {},
   "outputs": [
    {
     "name": "stdout",
     "output_type": "stream",
     "text": [
      "mode = r 읽기 -\n",
      "case01 - \n",
      "case02 - \n",
      "readlines() -\n",
      "idx -  0 내일은 코테를 보는 날이다\n",
      "\n",
      "idx -  1 아마도 멘붕이 오지 않을까?\n",
      "\n",
      "idx -  2 슬프지만 즐기자\n",
      "\n",
      "idx -  3 오늘 수업도 재미있었다.\n",
      "\n",
      "idx -  4 거짓말이다.\n",
      "\n",
      "idx -  5 사실은 하나도 모르겠다.\n",
      "\n",
      "idx -  6 하지만 혈맥과 함께 한다면 어쩌면 기회가 오지 않을까?\n",
      "\n",
      "idx -  7 \n",
      "\n",
      "idx -  8 \n",
      "\n"
     ]
    }
   ],
   "source": [
    "print('mode = r 읽기 -')\n",
    "fileSampleFunc('./data/greeting.txt', 'r' , 'UTF-8')"
   ]
  },
  {
   "cell_type": "code",
   "execution_count": 29,
   "id": "a793ab38",
   "metadata": {},
   "outputs": [
    {
     "name": "stdout",
     "output_type": "stream",
     "text": [
      "mode = w 쓰기 -\n",
      "데이터를 입력하세요 : 입력\n",
      "데이터를 입력하세요 : 출력\n",
      "데이터를 입력하세요 : \n"
     ]
    }
   ],
   "source": [
    "print('mode = w 쓰기 -')\n",
    "fileSampleFunc('./data/testing.txt', 'w' , 'UTF-8')"
   ]
  },
  {
   "cell_type": "code",
   "execution_count": 30,
   "id": "68393526",
   "metadata": {},
   "outputs": [
    {
     "name": "stdout",
     "output_type": "stream",
     "text": [
      "mode = a 추가 -\n",
      "데이터를 입력하세요 : 추가\n",
      "데이터를 입력하세요 : 했다\n",
      "데이터를 입력하세요 : \n"
     ]
    }
   ],
   "source": [
    "print('mode = a 추가 -')\n",
    "fileSampleFunc('./data/testing.txt', 'a' , 'UTF-8')"
   ]
  },
  {
   "cell_type": "markdown",
   "id": "055749aa",
   "metadata": {},
   "source": [
    "돌발퀴즈\n",
    "- with open 구문과 input 함수를 이용해서 exit 문자가 들어오기 전까지 입력된 데이터에 파일에 저장\n",
    "- 파일위치 및 파일명('./data/multline.txt')\n",
    "- 정상적으로 출력이 되었으면 파일을 읽어보자(read())"
   ]
  },
  {
   "cell_type": "code",
   "execution_count": 52,
   "id": "e1e8ded4",
   "metadata": {},
   "outputs": [
    {
     "name": "stdout",
     "output_type": "stream",
     "text": [
      "데이터를 입력하세요 : 나는\n",
      "데이터를 입력하세요 : 오늘도\n",
      "데이터를 입력하세요 : 집에 가고싶다\n",
      "데이터를 입력하세요 : exit\n"
     ]
    }
   ],
   "source": [
    "with open('./data/multline.txt', mode = \"w\", encoding = 'UTF-8') as file:\n",
    "    \n",
    "    isFlag = True\n",
    "    while isFlag:\n",
    "        data = input(\"데이터를 입력하세요 : \")\n",
    "        if data == \"exit\":\n",
    "            isFlag = False\n",
    "        else:\n",
    "            file.write(data+'\\n')"
   ]
  },
  {
   "cell_type": "code",
   "execution_count": 56,
   "id": "897b9184",
   "metadata": {},
   "outputs": [
    {
     "name": "stdout",
     "output_type": "stream",
     "text": [
      "나는\n",
      "오늘도\n",
      "집에 가고싶다\n",
      "\n",
      "dir - ['__add__', '__class__', '__contains__', '__delattr__', '__dir__', '__doc__', '__eq__', '__format__', '__ge__', '__getattribute__', '__getitem__', '__getnewargs__', '__getstate__', '__gt__', '__hash__', '__init__', '__init_subclass__', '__iter__', '__le__', '__len__', '__lt__', '__mod__', '__mul__', '__ne__', '__new__', '__reduce__', '__reduce_ex__', '__repr__', '__rmod__', '__rmul__', '__setattr__', '__sizeof__', '__str__', '__subclasshook__', 'capitalize', 'casefold', 'center', 'count', 'encode', 'endswith', 'expandtabs', 'find', 'format', 'format_map', 'index', 'isalnum', 'isalpha', 'isascii', 'isdecimal', 'isdigit', 'isidentifier', 'islower', 'isnumeric', 'isprintable', 'isspace', 'istitle', 'isupper', 'join', 'ljust', 'lower', 'lstrip', 'maketrans', 'partition', 'removeprefix', 'removesuffix', 'replace', 'rfind', 'rindex', 'rjust', 'rpartition', 'rsplit', 'rstrip', 'split', 'splitlines', 'startswith', 'strip', 'swapcase', 'title', 'translate', 'upper', 'zfill']\n",
      "type - <class 'list'>\n",
      "나는\n",
      "오늘도\n",
      "집에 가고싶다\n",
      "\n"
     ]
    }
   ],
   "source": [
    "with open('./data/multline.txt', mode = \"r\", encoding = 'UTF-8') as file:\n",
    "    txt = file.read()\n",
    "    print(txt)\n",
    "    print('dir -',dir(txt))\n",
    "    lst = txt.split('\\n')\n",
    "    print('type -',type(lst))\n",
    "    for data in lst:\n",
    "        print(data)"
   ]
  },
  {
   "cell_type": "markdown",
   "id": "b070c0e5",
   "metadata": {},
   "source": [
    "돌발퀴즈\n",
    "- word_cnt.txt 파일로부터 줄 단위로(readline()) 데이터를 읽어서 단어의 길이가 10 이상인 데이터를 카운팅한다면?"
   ]
  },
  {
   "cell_type": "code",
   "execution_count": 97,
   "id": "7984cd95",
   "metadata": {},
   "outputs": [
    {
     "name": "stdout",
     "output_type": "stream",
     "text": [
      "10자 이상의 단어의 개수는 :  7\n"
     ]
    }
   ],
   "source": [
    "with open('./data/word_cnt.txt', mode = \"r\" , encoding = \"UTF-8\") as file:\n",
    "    cnt = 0\n",
    "    for line in file: #__iter를 포함한다면 for로 바로 순환반복 출력이 가능하다.\n",
    "        word = line.strip('\\n')\n",
    "        if len(word) >= 10:\n",
    "            cnt += 1\n",
    "    print('10자 이상의 단어의 개수는 : ',cnt)\n",
    "    \n",
    "    \n",
    "#     txt = file.readline()\n",
    "#     while txt != '' :\n",
    "#         txt = file.readline()\n",
    "#         lst = txt.split('\\n')\n",
    "#         if len(lst[0]) >= 10:\n",
    "#             print(lst[0])\n",
    "#         else:\n",
    "#             pass\n",
    "            "
   ]
  },
  {
   "cell_type": "markdown",
   "id": "09de403b",
   "metadata": {},
   "source": [
    "- 제공된 special_words.txt 파일로부터 문자'c'가 포함된 단어를 각 줄에 출력한다면?\n",
    "- 단어를 출력할 때 등장한 순서대로 출력\n",
    "- 특수문자를 제거하기 위해 정규표현식(re)를 사용"
   ]
  },
  {
   "cell_type": "code",
   "execution_count": 139,
   "id": "52c1203f",
   "metadata": {},
   "outputs": [
    {
     "name": "stdout",
     "output_type": "stream",
     "text": [
      "dictator\n",
      "subjects\n",
      "change\n",
      "costume\n",
      "elegance\n",
      "accepted\n"
     ]
    }
   ],
   "source": [
    "with open('./data/special_words.txt', mode = 'r', encoding = \"UTF-8\") as file:\n",
    "#     text = file.readlines()\n",
    "#     lst = []\n",
    "#     for data in text:\n",
    "#         pdata = data.split(' ')\n",
    "#         for data02 in pdata:\n",
    "#             if \"c\" in data02:\n",
    "#                 print(data02)\n",
    "#             else:\n",
    "#                 pass\n",
    "\n",
    "    words = file.read().split()\n",
    "    words = [ word.strip('.,') for word in words ]\n",
    "    # print(words)\n",
    "    for word in words:\n",
    "        if 'c' in word:\n",
    "            print(word)"
   ]
  },
  {
   "cell_type": "code",
   "execution_count": 140,
   "id": "164b7d5f",
   "metadata": {},
   "outputs": [
    {
     "data": {
      "text/plain": [
       "'\\n회문(Palindrome) #앞으로가나 뒤로가나 똑같은 단어들\\nsos\\nmadam\\n\\nidx = len(word) // 2 = 몫\\n0 1 2 3 4 5 6 7 8 9 10\\nm u l t i c a m p u s \\n11 10 9 8 7 6 5 4 3 2 1 (-)\\n\\n'"
      ]
     },
     "execution_count": 140,
     "metadata": {},
     "output_type": "execute_result"
    }
   ],
   "source": [
    "'''\n",
    "회문(Palindrome) #앞으로가나 뒤로가나 똑같은 단어들\n",
    "sos\n",
    "madam\n",
    "\n",
    "idx = len(word) // 2 = 몫\n",
    "0 1 2 3 4 5 6 7 8 9 10\n",
    "m u l t i c a m p u s \n",
    "11 10 9 8 7 6 5 4 3 2 1 (-)\n",
    "\n",
    "'''"
   ]
  },
  {
   "cell_type": "code",
   "execution_count": 145,
   "id": "8e5fd3da",
   "metadata": {},
   "outputs": [
    {
     "name": "stdout",
     "output_type": "stream",
     "text": [
      "false\n",
      "\n",
      "\n",
      "false\n"
     ]
    }
   ],
   "source": [
    "word = 'jslim9413'\n",
    "if list(reversed(word)) == list(word):\n",
    "    print('true')\n",
    "else:\n",
    "    print('false')\n",
    "    \n",
    "print()\n",
    "print()\n",
    "\n",
    "if word == word[::-1]:\n",
    "    print('true')\n",
    "else:\n",
    "    print('false')\n",
    "    \n"
   ]
  },
  {
   "cell_type": "markdown",
   "id": "f05a0ed1",
   "metadata": {},
   "source": [
    "돌발퀴즈\n",
    "- 제공되는 파일을 읽어들여서 회문인 단어를 출력학, 회문인 단어에 개수를 카운팅하고 싶다면?\n",
    "- 주의) 단어의 줄 바꿈이 발생되는데 해결하라"
   ]
  },
  {
   "cell_type": "code",
   "execution_count": 162,
   "id": "fc0b9c78",
   "metadata": {},
   "outputs": [
    {
     "name": "stdout",
     "output_type": "stream",
     "text": [
      "did\n",
      "noon\n",
      "refer\n",
      "회문인 단어의 개수 :  3\n"
     ]
    }
   ],
   "source": [
    "with open('./data/palindrome_words.txt', mode = 'r', encoding = 'UTF-8') as file:\n",
    "#     word = file.read().split('\\n')\n",
    "#     cnt = 0\n",
    "#     for data in word:\n",
    "#         if data == data[::-1]:\n",
    "#             print(data)\n",
    "#             cnt += 1\n",
    "#         else:\n",
    "#             pass\n",
    "#     print('회문인 단어의 개수 :',cnt)\n",
    "\n",
    "    cnt = 0\n",
    "    for word in file:\n",
    "        if word.strip() == word.strip()[::-1]:\n",
    "            print(word.strip())\n",
    "            cnt += 1\n",
    "\n",
    "    print('회문인 단어의 개수 : ',cnt)"
   ]
  },
  {
   "cell_type": "code",
   "execution_count": null,
   "id": "80d2d89b",
   "metadata": {},
   "outputs": [],
   "source": [
    "'''\n",
    "- json(Java Standard Object Notation)\n",
    "- 네트워크 상에서 표준으로 사용되는\n",
    "- encoding : python(dict) -> json : dumps()\n",
    "\n",
    "- decoding : json -> python(dict, list) : loads() \n",
    "'''\n"
   ]
  },
  {
   "cell_type": "code",
   "execution_count": 168,
   "id": "872f8394",
   "metadata": {},
   "outputs": [
    {
     "name": "stdout",
     "output_type": "stream",
     "text": [
      "type - <class 'dict'>\n",
      "\n",
      "type -  <class 'str'> {\"id\": \"jslim\", \"alias\": \"\\uc12d\\uc12d\\ud574\"}\n",
      "type - <class 'dict'> {'id': 'jslim', 'alias': '섭섭해'}\n"
     ]
    }
   ],
   "source": [
    "import json as j\n",
    "\n",
    "tmp = {'id' : 'jslim', 'alias' : '섭섭해'}\n",
    "print('type -',type(tmp))\n",
    "\n",
    "print()\n",
    "tmpJson = j.dumps(tmp) # dumps를 통해 json으로 부르면 str(문자열)이 된다.\n",
    "print('type - ',type(tmpJson),tmpJson)\n",
    "\n",
    "pyJson = j.loads(tmpJson) # loads를 통해 dict로 바꾸어주어야 한다.\n",
    "print('type -',type(pyJson), pyJson)"
   ]
  },
  {
   "cell_type": "markdown",
   "id": "6d72a641",
   "metadata": {},
   "source": [
    "돌발퀴즈\n",
    "- zipcode.txt\n",
    "- input() 함수를 이용해서 동 이름을 입력 (startswith)\n",
    "- 해당하는 동의 주소를 출력하는 함수(searchAddr())를 정의\n",
    "- 해당하는 동이 존재하지 않는다면 예외처리\n"
   ]
  },
  {
   "cell_type": "code",
   "execution_count": 6,
   "id": "8ad33b0a",
   "metadata": {},
   "outputs": [
    {
     "name": "stdout",
     "output_type": "stream",
     "text": [
      "working - \n"
     ]
    }
   ],
   "source": [
    "with open('/')\n",
    "# print('working - ')\n",
    "# def searchAddr() :\n",
    "#     dong = input('동을 입력하세요 : ')\n",
    "#     print(dong)\n",
    "#     #with open \n",
    "#     pass"
   ]
  },
  {
   "cell_type": "code",
   "execution_count": 7,
   "id": "15067d6f",
   "metadata": {},
   "outputs": [
    {
     "name": "stdout",
     "output_type": "stream",
     "text": [
      "caller - \n",
      "동을 입력하세요 : ehd\n",
      "ehd\n"
     ]
    }
   ],
   "source": [
    "print('caller - ')\n",
    "searchAddr()"
   ]
  },
  {
   "cell_type": "code",
   "execution_count": null,
   "id": "bb128d25",
   "metadata": {},
   "outputs": [],
   "source": []
  },
  {
   "cell_type": "code",
   "execution_count": null,
   "id": "61649e7b",
   "metadata": {},
   "outputs": [],
   "source": []
  },
  {
   "cell_type": "code",
   "execution_count": null,
   "id": "e21058c2",
   "metadata": {},
   "outputs": [],
   "source": []
  },
  {
   "cell_type": "code",
   "execution_count": null,
   "id": "7b1bb228",
   "metadata": {},
   "outputs": [],
   "source": []
  },
  {
   "cell_type": "code",
   "execution_count": null,
   "id": "9d18f8c7",
   "metadata": {},
   "outputs": [],
   "source": []
  },
  {
   "cell_type": "code",
   "execution_count": null,
   "id": "ca428e01",
   "metadata": {},
   "outputs": [],
   "source": []
  },
  {
   "cell_type": "code",
   "execution_count": null,
   "id": "7800cb15",
   "metadata": {},
   "outputs": [],
   "source": []
  },
  {
   "cell_type": "code",
   "execution_count": null,
   "id": "43d827ed",
   "metadata": {},
   "outputs": [],
   "source": []
  },
  {
   "cell_type": "code",
   "execution_count": null,
   "id": "ce0271da",
   "metadata": {},
   "outputs": [],
   "source": []
  }
 ],
 "metadata": {
  "kernelspec": {
   "display_name": "Python 3 (ipykernel)",
   "language": "python",
   "name": "python3"
  },
  "language_info": {
   "codemirror_mode": {
    "name": "ipython",
    "version": 3
   },
   "file_extension": ".py",
   "mimetype": "text/x-python",
   "name": "python",
   "nbconvert_exporter": "python",
   "pygments_lexer": "ipython3",
   "version": "3.11.4"
  }
 },
 "nbformat": 4,
 "nbformat_minor": 5
}
