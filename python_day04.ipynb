{
 "cells": [
  {
   "cell_type": "markdown",
   "id": "b7a6f6d0",
   "metadata": {},
   "source": [
    "#### boolean type\n",
    "- True | False\n",
    "- 논리 연산자 (not, and(*논리곱 연산자), or())\n",
    "- 비교 연산자 (~,&,|)\n",
    "- '',[],{},(),0,None -> False로 취급 이외에는 전부 True"
   ]
  },
  {
   "cell_type": "code",
   "execution_count": 7,
   "id": "e7599577",
   "metadata": {},
   "outputs": [
    {
     "name": "stdout",
     "output_type": "stream",
     "text": [
      "비교연산 - 0\n",
      "비교연산 - 5\n"
     ]
    }
   ],
   "source": [
    "intValue01 = 5 #0101\n",
    "intValue02 = 0 #0000\n",
    "print('비교연산 -' , intValue01 & intValue02) # &는 논리곱 False 0\n",
    "print('비교연산 -' , intValue01 | intValue02) # |는 논리합 5\n"
   ]
  },
  {
   "cell_type": "code",
   "execution_count": 8,
   "id": "e95655eb",
   "metadata": {},
   "outputs": [
    {
     "name": "stdout",
     "output_type": "stream",
     "text": [
      "False False False False False\n"
     ]
    }
   ],
   "source": [
    "lstTmp  = []\n",
    "strTmp  = ''\n",
    "dictTmp = {}\n",
    "boolTmp = False\n",
    "intTmp  = 0\n",
    "\n",
    "print(bool(lstTmp),bool(strTmp),bool(dictTmp),boolTmp,bool(intTmp)) # 선언만 되고 데이터가 없으면 False"
   ]
  },
  {
   "cell_type": "code",
   "execution_count": 10,
   "id": "5bc7bad0",
   "metadata": {},
   "outputs": [
    {
     "name": "stdout",
     "output_type": "stream",
     "text": [
      "True True True True True\n"
     ]
    }
   ],
   "source": [
    "lstTmp  = [1,2]\n",
    "strTmp  = 'str'\n",
    "dictTmp = {'key':'value'}\n",
    "boolTmp = True\n",
    "intTmp  = 1\n",
    "\n",
    "print(bool(lstTmp),bool(strTmp),bool(dictTmp),boolTmp,bool(intTmp)) # 선언만 되고 데이터가 없으면 False\n"
   ]
  },
  {
   "cell_type": "code",
   "execution_count": 14,
   "id": "8815753b",
   "metadata": {},
   "outputs": [
    {
     "name": "stdout",
     "output_type": "stream",
     "text": [
      "논리연산자 -\n",
      "and - False\n",
      "or - True\n",
      "not - False\n"
     ]
    }
   ],
   "source": [
    "print(\"논리연산자 -\")\n",
    "trueTmp = True\n",
    "falseTmp = False\n",
    "\n",
    "print('and -',trueTmp and falseTmp) # 논리곱 True * False = False\n",
    "print('or -',trueTmp or falseTmp) # 논리더하기 True + False = True\n",
    "print('not -', not trueTmp) # not은 반대로 출력"
   ]
  },
  {
   "cell_type": "markdown",
   "id": "cb2cf665",
   "metadata": {},
   "source": [
    "#### 프로그램의 흐름을 제어하는 제어구문과 반복문\n",
    "- 제어구문(if ~,if ~ in)\n",
    "- 반복구문(for ~)\n",
    "- 블럭을 의미하는 기호 :\n",
    "- 들여쓰기 주의 (indentation)"
   ]
  },
  {
   "cell_type": "code",
   "execution_count": 17,
   "id": "ddccc677",
   "metadata": {},
   "outputs": [
    {
     "name": "stdout",
     "output_type": "stream",
     "text": [
      "제어구문 ~\n"
     ]
    }
   ],
   "source": [
    "print('제어구문 ~')\n",
    "if True: # = 할당연산자, ==로 비교해야함\n",
    "    pass # 아무것도 없으면 pass를 줘야함\n",
    "else:    # False 일때 수행함\n",
    "    pass\n",
    "\n",
    "if True:\n",
    "    pass\n",
    "elif True: # elif == else if \n",
    "    if True: # if 안에 또다른 if : 중첩구문\n",
    "        pass\n",
    "    else:\n",
    "        pass\n",
    "else:\n",
    "    pass"
   ]
  },
  {
   "cell_type": "code",
   "execution_count": 21,
   "id": "0a7eeacf",
   "metadata": {},
   "outputs": [
    {
     "name": "stdout",
     "output_type": "stream",
     "text": [
      "Good\n"
     ]
    }
   ],
   "source": [
    "if True:\n",
    "    print('Good')\n",
    "else:\n",
    "    print('Bad')"
   ]
  },
  {
   "cell_type": "code",
   "execution_count": 30,
   "id": "303d1235",
   "metadata": {},
   "outputs": [
    {
     "name": "stdout",
     "output_type": "stream",
     "text": [
      "점수를 입력하세요 :90\n",
      "90\n",
      "\n",
      "pass\n"
     ]
    }
   ],
   "source": [
    "score = int(input('점수를 입력하세요 :'))\n",
    "print(score)\n",
    "print()\n",
    "\n",
    "if score >=60:\n",
    "    print('pass')\n",
    "else:\n",
    "    print('non-pass')"
   ]
  },
  {
   "cell_type": "markdown",
   "id": "577bacb9",
   "metadata": {},
   "source": [
    "#### 돌발퀴즈\n",
    "-input 함수를 이용하여 점수를 입력받아 학점을 출려하는 제어구문을 작성하시오.\n",
    "60 미만이면 F학점"
   ]
  },
  {
   "cell_type": "code",
   "execution_count": 38,
   "id": "4667400b",
   "metadata": {},
   "outputs": [
    {
     "name": "stdout",
     "output_type": "stream",
     "text": [
      "점수를 입력하시오 :93\n",
      "a- 학점\n"
     ]
    }
   ],
   "source": [
    "score = int(input('점수를 입력하시오 :'))\n",
    "\n",
    "if score <60:\n",
    "    print(\"f 학점\")\n",
    "elif score >=60 and score <70:\n",
    "    print(\"d 학점\")\n",
    "elif score >= 70 and score <80:\n",
    "    print(\"c 학점\")\n",
    "elif score >=80 and score <90:\n",
    "    print(\"b 학점\")\n",
    "elif score >= 90 and score <=95:\n",
    "    print(\"a- 학점\")\n",
    "else:\n",
    "    print(\"a+ 학점\")"
   ]
  },
  {
   "cell_type": "code",
   "execution_count": 40,
   "id": "d0b87d88",
   "metadata": {},
   "outputs": [
    {
     "name": "stdout",
     "output_type": "stream",
     "text": [
      "점수를 입력하시오90\n",
      "a- 학점\n"
     ]
    }
   ],
   "source": [
    "score = int(input('점수를 입력하시오 :'))\n",
    "\n",
    "if score >= 90:\n",
    "    if score >= 95:\n",
    "        print(\"a+ 학점\")\n",
    "    else:\n",
    "        print(\"a- 학점\")\n",
    "elif score >= 80:\n",
    "    print(\"b 학점\")\n",
    "elif score >= 70:\n",
    "    print(\"c 학점\")\n",
    "elif score >= 60:\n",
    "    print(\"d 학점\")\n",
    "else:\n",
    "    print(\"f 학점\")"
   ]
  },
  {
   "cell_type": "code",
   "execution_count": 42,
   "id": "7c8a79d0",
   "metadata": {},
   "outputs": [
    {
     "name": "stdout",
     "output_type": "stream",
     "text": [
      "if -in\n",
      "지역을 입력하세요 :광주\n",
      "광주 지역은 대상이 아닙니다.\n"
     ]
    }
   ],
   "source": [
    "print('if -in')\n",
    "areas = ['서울','경기','부산']\n",
    "region = input(\"지역을 입력하세요 :\")\n",
    "\n",
    "if region in areas:\n",
    "    print(\"존재\")\n",
    "else:\n",
    "    print(\"{} 지역은 대상이 아닙니다.\".format(region))\n"
   ]
  },
  {
   "cell_type": "code",
   "execution_count": 47,
   "id": "003df6ab",
   "metadata": {},
   "outputs": [
    {
     "name": "stdout",
     "output_type": "stream",
     "text": [
      "banana은(는) 대상이 아닙니다.\n"
     ]
    }
   ],
   "source": [
    "dictTmp = {'melon':100, 'bravo':200, 'bibibig':300}\n",
    "target = 'banana'\n",
    "\n",
    "if target in dictTmp:\n",
    "    print(dictTmp[target])\n",
    "else:\n",
    "    print('{}은(는) 대상이 아닙니다.'.format(target))\n",
    "\n"
   ]
  },
  {
   "cell_type": "markdown",
   "id": "9dc4f5ea",
   "metadata": {},
   "source": [
    "- 돌발퀴즈\n",
    "- 연산자 %, ==, and, or\n",
    "- 윤년의 조건 : 4의 배수이고, 100의배수가 아니거나, 400의 배수일때\n",
    "- input 함수를 이용해서 년도를 입력받아 윤년인지 아닌지를 판단하고 싶다면?"
   ]
  },
  {
   "cell_type": "code",
   "execution_count": 67,
   "id": "6a0fba7f",
   "metadata": {},
   "outputs": [
    {
     "name": "stdout",
     "output_type": "stream",
     "text": [
      "년도를 입력하세요 :1900\n",
      "윤년이 아닙니다.\n",
      "\n",
      "윤년이 아닙니다.\n"
     ]
    }
   ],
   "source": [
    "year = int(input(\"년도를 입력하세요 :\"))\n",
    "\n",
    "if year%4 == 0 and year%100 != 0 or year%400 == 0: #!=는 not\n",
    "    print(\"윤년입니다\")\n",
    "else:\n",
    "    print(\"윤년이 아닙니다.\")\n",
    "    \n",
    "print()\n",
    "\n",
    "if year%4 == 0 and year%100 != 0:\n",
    "    print(\"윤년입니다\")\n",
    "elif year%400 == 0: #!=는 not\n",
    "    print(\"윤년입니다\")\n",
    "else:\n",
    "    print(\"윤년이 아닙니다.\")\n",
    "    "
   ]
  },
  {
   "cell_type": "markdown",
   "id": "bcc457b5",
   "metadata": {},
   "source": [
    "- 돌발퀴즈(확장)\n",
    "- input 함수를 이용해서 년도, 월 입력받아서 월의 마지막 날을 출력하라"
   ]
  },
  {
   "cell_type": "code",
   "execution_count": 71,
   "id": "eeff8ab7",
   "metadata": {},
   "outputs": [
    {
     "name": "stdout",
     "output_type": "stream",
     "text": [
      "년도를 입력하세요 :2001\n",
      "월을 입력하세요 :2\n",
      "28\n"
     ]
    }
   ],
   "source": [
    "year = int(input(\"년도를 입력하세요 :\"))\n",
    "month = int(input(\"월을 입력하세요 :\"))\n",
    "\n",
    "if year%4 == 0 and year%100 != 0 or year%400 == 0:\n",
    "    if month == 2:\n",
    "        print(29)\n",
    "    elif month%2 == 0 and month < 8:\n",
    "        print(30)\n",
    "    elif month%2 == 0 and month >= 8:\n",
    "        print(31)\n",
    "    elif month%2 == 1 and month < 8:\n",
    "        print(31)\n",
    "    elif month%2 == 1 and month >= 8:\n",
    "        print(30)\n",
    "else:\n",
    "    if month == 2:\n",
    "        print(28)\n",
    "    elif month%2 == 0 and month < 8:\n",
    "        print(30)\n",
    "    elif month%2 == 0 and month >= 8:\n",
    "        print(31)\n",
    "    elif month%2 == 1 and month < 8:\n",
    "        print(31)\n",
    "    elif month%2 == 1 and month >= 8:\n",
    "        print(30)\n",
    "        pass\n",
    "    pass"
   ]
  },
  {
   "cell_type": "code",
   "execution_count": 74,
   "id": "2f65c11b",
   "metadata": {},
   "outputs": [
    {
     "name": "stdout",
     "output_type": "stream",
     "text": [
      "년도 입력하세요 :2023\n",
      "월 입력하세요 :2\n",
      "2023년 2월의 마지막날은 28일 입니다.\n"
     ]
    }
   ],
   "source": [
    "yearMonths = [31, 28, 31, 30, 31, 30, 31, 31, 30, 31, 30, 31]\n",
    "leapYearMonths = [31, 29, 31, 30, 31, 30, 31, 31, 30, 31, 30, 31]\n",
    "\n",
    "year = int(input('년도 입력하세요 :'))\n",
    "month = int(input('월 입력하세요 :'))\n",
    "\n",
    "if year%4 == 0 and year%100 != 0:\n",
    "    print(\"{}년 {}월의 마지막날은 {}일 입니다.\".format(year, month, leapYearMonths[month-1]))\n",
    "elif year%400 == 0: #!=는 not\n",
    "    print(\"{}년 {}월의 마지막날은 {}일 입니다.\".format(year, month, leapYearMonths[month-1]))\n",
    "else:\n",
    "    print(\"{}년 {}월의 마지막날은 {}일 입니다.\".format(year, month, yearMonths[month-1]))"
   ]
  },
  {
   "cell_type": "markdown",
   "id": "ad226d9e",
   "metadata": {},
   "source": [
    "- date, datetime 날짜관련 모듈이 있다.\n",
    "- xxxxxxx.py(module) - 변수, 함수, 클래스\n",
    "- import, from ~ import ~\n",
    "- package : 여러개의 모듈을 묶는 것\n",
    "- 함수 < 모듈 < 패키지\n",
    "#### from import의 형식\n",
    "- 형식) import 모듈\n",
    "- 형식) from 패키지.모듈 import 함수 , 클래스\n",
    "- 형식) from 패키지      import 모듈\n",
    "- 형식) from 모듈        import 함수 , 클래스"
   ]
  },
  {
   "cell_type": "code",
   "execution_count": 103,
   "id": "0a2fb5d8",
   "metadata": {},
   "outputs": [
    {
     "name": "stdout",
     "output_type": "stream",
     "text": [
      "dir - ['__add__', '__class__', '__delattr__', '__dir__', '__doc__', '__eq__', '__format__', '__ge__', '__getattribute__', '__getstate__', '__gt__', '__hash__', '__init__', '__init_subclass__', '__le__', '__lt__', '__ne__', '__new__', '__radd__', '__reduce__', '__reduce_ex__', '__repr__', '__rsub__', '__setattr__', '__sizeof__', '__str__', '__sub__', '__subclasshook__', 'ctime', 'day', 'fromisocalendar', 'fromisoformat', 'fromordinal', 'fromtimestamp', 'isocalendar', 'isoformat', 'isoweekday', 'max', 'min', 'month', 'replace', 'resolution', 'strftime', 'timetuple', 'today', 'toordinal', 'weekday', 'year'] <class 'datetime.date'>\n",
      "\n",
      "today - 2023-09-06\n",
      "2023 9 6\n",
      "\n",
      "today - 2023-09-06 13:21:50.400703\n"
     ]
    }
   ],
   "source": [
    "from datetime import date, datetime #모듈, 함수2 #패키지, 모듈(o) #없으면 설치해야함. pip, conda,,,, 관리자 권한으로 prompt 실행\n",
    "\n",
    "today = date.today()\n",
    "print(\"dir -\", dir(today), type(today))\n",
    "print()\n",
    "print('today -',today)\n",
    "print(today.year, today.month, today.day)\n",
    "\n",
    "print()\n",
    "today = datetime.today()\n",
    "print('today -',today)"
   ]
  },
  {
   "cell_type": "code",
   "execution_count": 115,
   "id": "c3244a7d",
   "metadata": {},
   "outputs": [
    {
     "name": "stdout",
     "output_type": "stream",
     "text": [
      "날짜에 대한 연산을 도와주는 함수\n",
      "2023-09-08\n",
      "\n",
      "\n",
      "2025-10-07\n"
     ]
    }
   ],
   "source": [
    "print('날짜에 대한 연산을 도와주는 함수')\n",
    "from datetime import timedelta #모듈, 함수\n",
    "from dateutil.relativedelta import relativedelta #패키지.모듈, 함수\n",
    "\n",
    "today = date.today()\n",
    "\n",
    "day = timedelta(days = 2)\n",
    "\n",
    "print(today + day) #연산이 가능해진다.\n",
    "\n",
    "print()\n",
    "print()\n",
    "\n",
    "day   = relativedelta(days   = 1)\n",
    "month = relativedelta(months = 1)\n",
    "year  = relativedelta(years  = 2) \n",
    "\n",
    "# print(today + year + month + day)\n",
    "\n",
    "today = today + year\n",
    "today = today + month\n",
    "today = today + day\n",
    "print(today)\n"
   ]
  },
  {
   "cell_type": "code",
   "execution_count": 125,
   "id": "648230dc",
   "metadata": {},
   "outputs": [
    {
     "name": "stdout",
     "output_type": "stream",
     "text": [
      "문자 -> 날짜\n",
      "type - <class 'str'>\n",
      "\n",
      "2023-09-06 00:00:00 <class 'datetime.datetime'>\n",
      "날짜 -> 문자\n",
      "2023-09-06 <class 'str'>\n"
     ]
    }
   ],
   "source": [
    "print('문자 -> 날짜')\n",
    "strDate = '2023-09-06'\n",
    "print('type -',type(strDate))\n",
    "\n",
    "print()\n",
    "\n",
    "datetime.strptime(strDate , '%Y-%m-%d')\n",
    "\n",
    "castingDate = datetime.strptime(strDate, '%Y-%m-%d')\n",
    "print(castingDate,type(castingDate))\n",
    "\n",
    "print('날짜 -> 문자')\n",
    "print(castingDate.strftime('%Y-%m-%d'), type(castingDate.strftime('%Y-%m-%day')))"
   ]
  },
  {
   "cell_type": "code",
   "execution_count": 145,
   "id": "52269e5a",
   "metadata": {},
   "outputs": [
    {
     "name": "stdout",
     "output_type": "stream",
     "text": [
      "년도 입력하세요 :2023\n",
      "월 입력하세요 :9\n",
      "input date - 2023-10 <class 'str'>\n",
      "casting date - 2023-10-01 00:00:00 <class 'datetime.datetime'>\n",
      "lastday - 30\n",
      "2023년 9월의 마지막날은 30일 입니다.\n"
     ]
    }
   ],
   "source": [
    "year = int(input('년도 입력하세요 :'))\n",
    "month = int(input('월 입력하세요 :'))\n",
    "\n",
    "yearMonth = '{}-{}'.format(year,month + 1)\n",
    "print(\"input date -\",yearMonth,type(yearMonth))\n",
    "\n",
    "yearMonthDate = datetime.strptime(yearMonth , '%Y-%m')\n",
    "print('casting date -', yearMonthDate, type(yearMonthDate))\n",
    "\n",
    "lastDay = yearMonthDate - relativedelta(days = 1)\n",
    "lastDay = lastDay.day\n",
    "print('lastday -',lastDay)\n",
    "\n",
    "print(\"{}년 {}월의 마지막날은 {}일 입니다.\".format(year, month, lastDay))"
   ]
  },
  {
   "cell_type": "markdown",
   "id": "29d5689a",
   "metadata": {},
   "source": [
    "- 3항 연산자 : (조건식) : 참 : 거짓\n",
    "- python : 참 if (조건식) else 거짓"
   ]
  },
  {
   "cell_type": "code",
   "execution_count": null,
   "id": "c908d485",
   "metadata": {},
   "outputs": [],
   "source": [
    "tmp = 9\n",
    "\n",
    "# if tmp >= 5:\n",
    "#     print(tmp * 2)\n",
    "# else:\n",
    "#     print(tmp + 2)\n",
    "# pass\n",
    "\n",
    "print()\n",
    "result = tmp*2 if tmp >=5 else tmp + 2\n",
    "print(result)"
   ]
  },
  {
   "cell_type": "code",
   "execution_count": null,
   "id": "c8407248",
   "metadata": {},
   "outputs": [],
   "source": []
  },
  {
   "cell_type": "markdown",
   "id": "47bfa686",
   "metadata": {},
   "source": [
    "- 돌발퀴즈\n",
    "- 011 SK, 016 Kt, 019 LG\n",
    "- input 함수로 011-xxxx-xxxx\n",
    "- 통신사를 판단하고 싶다면?\n",
    "- 출력예시) 당신이 사용하는 통신사는 SK입니다."
   ]
  },
  {
   "cell_type": "code",
   "execution_count": 184,
   "id": "78e11759",
   "metadata": {},
   "outputs": [
    {
     "name": "stdout",
     "output_type": "stream",
     "text": [
      "휴대폰 번호를 입력하시오 : 011-1234-1234\n",
      "당신이 사용하는 통신사는 SK입니다.\n"
     ]
    }
   ],
   "source": [
    "phoneNumber = input('휴대폰 번호를 입력하시오 : ')\n",
    "brand = phoneNumber.split('-')\n",
    "if brand[0] == '011':\n",
    "    print(\"당신이 사용하는 통신사는 SK입니다.\")\n",
    "elif brand[0] == '016':\n",
    "    print(\"당신이 사용하는 통신사는 KT입니다.\")\n",
    "elif brand[0] == '019':\n",
    "    print(\"당신이 사용하는 통신사는 LG입니다.\")\n",
    "else:\n",
    "    print(\"당신이 사용하는 통신사는 존재하지 않습니다.\")\n",
    "     \n",
    "# if phoneNumber.startswith('011'):\n",
    "#     print(\"당신이 사용하는 통신사는 SK입니다.\")\n",
    "# elif phoneNumber.startswith('016'):\n",
    "#     print(\"당신이 사용하는 통신사는 KT입니다.\")\n",
    "# elif phoneNumber.startswith('019'):\n",
    "#     print(\"당신이 사용하는 통신사는 LG입니다.\")\n",
    "# else:\n",
    "#     print(\"당신이 사용하는 통신사는 존재하지 않습니다.\")\n",
    "\n",
    "\n",
    "# print(\"당신이 사용하는 통신사는 SK입니다.\") if phoneNumber.startswith('011') else print(\"당신이 사용하는 통신사는 KT입니다.\") if phoneNumber.startswith('016') else print(\"당신이 사용하는 통신사는 LG입니다.\") if phoneNumber.startswith('019') else print(\"당신이 사용하는 통신사는 존재하지 않습니다.\")\n",
    "\n"
   ]
  },
  {
   "cell_type": "markdown",
   "id": "ed5fa018",
   "metadata": {},
   "source": [
    "- in, not in "
   ]
  },
  {
   "cell_type": "code",
   "execution_count": 198,
   "id": "6b9b1383",
   "metadata": {},
   "outputs": [
    {
     "name": "stdout",
     "output_type": "stream",
     "text": [
      "TRUE\n"
     ]
    }
   ],
   "source": [
    "lstTmp = [10,20,30]\n",
    "dictTmp = {'name' : 'seop', 'address' : 'busan'}\n",
    "setTmp = {10,12,24}\n",
    "tupleTmp = (1,2,3,4)\n",
    "\n",
    "if 1 in tupleTmp:\n",
    "    print(\"TRUE\")\n",
    "else:\n",
    "    print(\"FALSE\")"
   ]
  },
  {
   "cell_type": "markdown",
   "id": "544c5b28",
   "metadata": {},
   "source": [
    "- 관계연산자 : >, >=, <, <=, ==, !=\n",
    "    "
   ]
  },
  {
   "cell_type": "code",
   "execution_count": 202,
   "id": "5140f2b7",
   "metadata": {},
   "outputs": [
    {
     "name": "stdout",
     "output_type": "stream",
     "text": [
      " == 양 변이 같을 때 False\n",
      " != 양 변이 다를 때 True\n",
      " > 왼쪽이 클 때 True\n"
     ]
    }
   ],
   "source": [
    "x = 15\n",
    "y = 10\n",
    "\n",
    "print(' == 양 변이 같을 때', x == y)\n",
    "print(' != 양 변이 다를 때', x != y)\n",
    "print(' > 왼쪽이 클 때'    , x >  y)\n",
    "print(' >= 왼쪽이 크거나 같을 때', x > y)\n",
    "print(' < 오른쪽이 클 때'    , x < y)\n",
    "print(' <= 오른쪽이 크거나 같을 때', x <= y)\n"
   ]
  },
  {
   "cell_type": "code",
   "execution_count": 208,
   "id": "c64cdd12",
   "metadata": {},
   "outputs": [
    {
     "name": "stdout",
     "output_type": "stream",
     "text": [
      "연산자는 우선순위를 가진다.\n",
      "산술 > 관계 > 논리\n",
      "False\n",
      "True\n",
      "pass\n"
     ]
    }
   ],
   "source": [
    "print('연산자는 우선순위를 가진다.')\n",
    "print('산술 > 관계 > 논리')\n",
    "print((3+4) > (7+3))\n",
    "print((5+3) > 3 and (7+3) ==10)\n",
    "\n",
    "score = 90\n",
    "grade = 'A'\n",
    "\n",
    "if score >= 90 and grade == 'A':\n",
    "    print(\"pass\")"
   ]
  },
  {
   "cell_type": "markdown",
   "id": "e8697cc3",
   "metadata": {},
   "source": []
  },
  {
   "cell_type": "code",
   "execution_count": null,
   "id": "55fbe98f",
   "metadata": {},
   "outputs": [],
   "source": []
  },
  {
   "cell_type": "code",
   "execution_count": null,
   "id": "2d3157fe",
   "metadata": {},
   "outputs": [],
   "source": []
  },
  {
   "cell_type": "code",
   "execution_count": null,
   "id": "d273ea00",
   "metadata": {},
   "outputs": [],
   "source": []
  },
  {
   "cell_type": "code",
   "execution_count": null,
   "id": "924e181b",
   "metadata": {},
   "outputs": [],
   "source": []
  }
 ],
 "metadata": {
  "kernelspec": {
   "display_name": "Python 3 (ipykernel)",
   "language": "python",
   "name": "python3"
  },
  "language_info": {
   "codemirror_mode": {
    "name": "ipython",
    "version": 3
   },
   "file_extension": ".py",
   "mimetype": "text/x-python",
   "name": "python",
   "nbconvert_exporter": "python",
   "pygments_lexer": "ipython3",
   "version": "3.11.4"
  }
 },
 "nbformat": 4,
 "nbformat_minor": 5
}
