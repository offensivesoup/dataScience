{
 "cells": [
  {
   "cell_type": "markdown",
   "id": "7e57cfc5",
   "metadata": {},
   "source": [
    "Numpy 학습목표\n",
    "- 배열의 데이터 타입(인공지능에서 사용하게 되는 데이터타입) \n",
    "- 생성, 다루는 방법\n",
    "- 통계에 관련된 함수를 지원\n",
    "- 벡터화 연산 , 행렬 연산 \n",
    "- 파이선의 리스트와는 다르다(요소의 타입이 같아야 한다) \n",
    "- 원소의 갯수를 변경할 수 없다(resizing X) \n",
    "- 배열의 차원, 크기, 타입(ndim , shape , dtype) "
   ]
  },
  {
   "cell_type": "code",
   "execution_count": 1,
   "id": "457411a6",
   "metadata": {},
   "outputs": [],
   "source": [
    "import numpy  as np \n",
    "import pandas as pd"
   ]
  },
  {
   "cell_type": "markdown",
   "id": "d8029585",
   "metadata": {},
   "source": [
    "- 배열을 생성하는 함수 : array() , arange() , reshape() "
   ]
  },
  {
   "cell_type": "code",
   "execution_count": 6,
   "id": "575ca17b",
   "metadata": {},
   "outputs": [
    {
     "name": "stdout",
     "output_type": "stream",
     "text": [
      "type -  <class 'list'>\n",
      "type  -  <class 'numpy.ndarray'>\n",
      "shape -  (5,)\n",
      "ndim  -  1\n",
      "dtype -  int32\n"
     ]
    }
   ],
   "source": [
    "lst = [1,2,3,4,5] \n",
    "print('type - ' , type(lst))\n",
    "\n",
    "ary = np.array(lst)\n",
    "print('type  - ' , type(ary))\n",
    "print('shape - ' , ary.shape)\n",
    "print('ndim  - ' , ary.ndim)\n",
    "print('dtype - ' , ary.dtype)"
   ]
  },
  {
   "cell_type": "code",
   "execution_count": 7,
   "id": "0fbf72c6",
   "metadata": {},
   "outputs": [],
   "source": [
    "def aryInfo(ary) : \n",
    "    print('type - ' , type(ary)) \n",
    "    print('shape - ' , ary.shape)\n",
    "    print('ndim  - ' , ary.ndim)\n",
    "    print('dtype - ' , ary.dtype)\n",
    "    print()\n",
    "    print('data  -')\n",
    "    print(ary) "
   ]
  },
  {
   "cell_type": "code",
   "execution_count": 8,
   "id": "7f4d61d7",
   "metadata": {},
   "outputs": [
    {
     "name": "stdout",
     "output_type": "stream",
     "text": [
      "type -  <class 'numpy.ndarray'>\n",
      "shape -  (5,)\n",
      "ndim  -  1\n",
      "dtype -  int32\n",
      "\n",
      "data  -\n",
      "[1 2 3 4 5]\n"
     ]
    }
   ],
   "source": [
    "aryInfo(ary)"
   ]
  },
  {
   "cell_type": "code",
   "execution_count": 51,
   "id": "7722f0da",
   "metadata": {},
   "outputs": [
    {
     "name": "stdout",
     "output_type": "stream",
     "text": [
      "[1, 2, 3, 4, 5, 6, 7, 8, 9, 1, 2, 3, 4, 5, 6, 7, 8, 9]\n"
     ]
    },
    {
     "ename": "NameError",
     "evalue": "name 'array' is not defined",
     "output_type": "error",
     "traceback": [
      "\u001b[1;31m---------------------------------------------------------------------------\u001b[0m",
      "\u001b[1;31mNameError\u001b[0m                                 Traceback (most recent call last)",
      "Cell \u001b[1;32mIn[51], line 4\u001b[0m\n\u001b[0;32m      1\u001b[0m lst \u001b[38;5;241m=\u001b[39m [\u001b[38;5;241m1\u001b[39m,\u001b[38;5;241m2\u001b[39m,\u001b[38;5;241m3\u001b[39m,\u001b[38;5;241m4\u001b[39m,\u001b[38;5;241m5\u001b[39m,\u001b[38;5;241m6\u001b[39m,\u001b[38;5;241m7\u001b[39m,\u001b[38;5;241m8\u001b[39m,\u001b[38;5;241m9\u001b[39m] \n\u001b[0;32m      2\u001b[0m \u001b[38;5;28mprint\u001b[39m(lst \u001b[38;5;241m*\u001b[39m \u001b[38;5;241m2\u001b[39m) \n\u001b[1;32m----> 4\u001b[0m ary \u001b[38;5;241m=\u001b[39m array(lst) \n\u001b[0;32m      5\u001b[0m \u001b[38;5;28mprint\u001b[39m(ary \u001b[38;5;241m*\u001b[39m  \u001b[38;5;241m2\u001b[39m)\n",
      "\u001b[1;31mNameError\u001b[0m: name 'array' is not defined"
     ]
    }
   ],
   "source": [
    "lst = [1,2,3,4,5,6,7,8,9] \n",
    "print(lst * 2) \n",
    "\n",
    "ary = array(lst) \n",
    "print(ary *  2)"
   ]
  },
  {
   "cell_type": "code",
   "execution_count": 14,
   "id": "93a98abc",
   "metadata": {},
   "outputs": [
    {
     "name": "stdout",
     "output_type": "stream",
     "text": [
      "산술연산 - \n",
      "[11 22 33 44 55]\n"
     ]
    }
   ],
   "source": [
    "print('산술연산 - ') \n",
    "ary01 = np.array([1 ,2, 3, 4, 5])\n",
    "ary02 = np.array([10, 20, 30, 40, 50]) \n",
    "\n",
    "print(ary01 + ary02) "
   ]
  },
  {
   "cell_type": "code",
   "execution_count": 22,
   "id": "bc5855d3",
   "metadata": {},
   "outputs": [
    {
     "name": "stdout",
     "output_type": "stream",
     "text": [
      "비교연산 - \n",
      "[False  True False False False]\n",
      "[False  True False False False]\n",
      "indexing -  1\n",
      "indexing -  2\n",
      "slicing  -  [1 2 3]\n",
      "boolean indexing -  [2]\n"
     ]
    }
   ],
   "source": [
    "print('비교연산 - ') \n",
    "print( ary01 == 2 ) \n",
    "\n",
    "booleanMasking = (ary01 == 2) \n",
    "print(booleanMasking)\n",
    "\n",
    "print('indexing - ' , ary01[0] )\n",
    "print('indexing - ' , ary01[1] )\n",
    "print('slicing  - ' , ary01[0 : 3])\n",
    "print('boolean indexing - ' , ary01[booleanMasking])"
   ]
  },
  {
   "cell_type": "code",
   "execution_count": 26,
   "id": "41679522",
   "metadata": {},
   "outputs": [
    {
     "name": "stdout",
     "output_type": "stream",
     "text": [
      "논리연산 - \n",
      "[False  True  True  True  True]\n",
      "\n",
      "[False  True False False False]\n",
      "[False  True  True  True  True]\n",
      "[False  True False False False]\n",
      "[False  True  True  True  True]\n"
     ]
    }
   ],
   "source": [
    "print('논리연산 - ')\n",
    "\n",
    "print( ary02 > 10) \n",
    "print()\n",
    "print( (ary01 == 2) )\n",
    "print( (ary02 > 10) )\n",
    "print( (ary01 == 2) & (ary02 > 10) )\n",
    "print( (ary01 == 2) | (ary02 > 10) )"
   ]
  },
  {
   "cell_type": "markdown",
   "id": "e92c749c",
   "metadata": {},
   "source": [
    "- 2차원 배열(행렬, matrix) : list of list "
   ]
  },
  {
   "cell_type": "code",
   "execution_count": 33,
   "id": "ff8e7522",
   "metadata": {},
   "outputs": [
    {
     "name": "stdout",
     "output_type": "stream",
     "text": [
      "2 * 3 배열을 생성하고 싶다면 ? \n",
      "1\t2\t3\t\n",
      "4\t5\t6\t\n"
     ]
    }
   ],
   "source": [
    "print('2 * 3 배열을 생성하고 싶다면 ? ') \n",
    "\n",
    "lst = [[1,2,3],[4,5,6]] \n",
    "for rIdx , row in enumerate(lst) : \n",
    "    for cIdx , col in enumerate(row) : \n",
    "        # print(rIdx , cIdx)\n",
    "        # print(col, end=\"\\t\")\n",
    "        print(lst[rIdx][cIdx] , end = '\\t')\n",
    "    print()"
   ]
  },
  {
   "cell_type": "code",
   "execution_count": 37,
   "id": "f903e96e",
   "metadata": {},
   "outputs": [
    {
     "name": "stdout",
     "output_type": "stream",
     "text": [
      "type -  <class 'numpy.ndarray'>\n",
      "shape -  (2, 3)\n",
      "ndim  -  2\n",
      "dtype -  int32\n",
      "\n",
      "data  -\n",
      "[[1 2 3]\n",
      " [4 5 6]]\n",
      "\n",
      "2\n",
      "3\n",
      "3\n"
     ]
    }
   ],
   "source": [
    "ary = np.array(lst)\n",
    "aryInfo(ary)\n",
    "print()\n",
    "print( len(ary) ) \n",
    "print( len(ary[0]) ) \n",
    "print( len(ary[1]) ) \n"
   ]
  },
  {
   "cell_type": "code",
   "execution_count": 52,
   "id": "aa530aa1",
   "metadata": {},
   "outputs": [
    {
     "name": "stdout",
     "output_type": "stream",
     "text": [
      "2 * 3 * 4 배열을 생성하고 싶다면 ? \n",
      "type -  <class 'numpy.ndarray'>\n",
      "shape -  (2, 3, 4)\n",
      "ndim  -  3\n",
      "dtype -  object\n",
      "\n",
      "data  -\n",
      "[[[1 2 3 4]\n",
      "  [5 6 7 8]\n",
      "  [9 10 11 12]]\n",
      "\n",
      " [[13 14 15 16]\n",
      "  [17 18 19 20]\n",
      "  [21 22 23 24]]]\n",
      "\n",
      "2\n",
      "3\n",
      "3\n"
     ]
    }
   ],
   "source": [
    "print('2 * 3 * 4 배열을 생성하고 싶다면 ? ') \n",
    "lst = [ [[1,2,3,4],[5,6,7,8],[9,10,11,12]] , \n",
    "        [[13,14,15,16],[17,18,19,20],[21,22,23,24]]\n",
    "      ]\n",
    "\n",
    "ary = np.array(lst , dtype = object) \n",
    "aryInfo(ary)\n",
    "print()\n",
    "print( len(ary) ) \n",
    "print( len(ary[0])) \n",
    "print( len(ary[1])) \n"
   ]
  },
  {
   "cell_type": "markdown",
   "id": "cf9aa08c",
   "metadata": {},
   "source": [
    "- astype() : 요소의 타입을 변경할 때 \n",
    "- 1차원, 2차원 적용이 가능"
   ]
  },
  {
   "cell_type": "code",
   "execution_count": 55,
   "id": "4755de20",
   "metadata": {},
   "outputs": [
    {
     "name": "stdout",
     "output_type": "stream",
     "text": [
      "type -  <class 'numpy.ndarray'>\n",
      "shape -  (2, 3, 4)\n",
      "ndim  -  3\n",
      "dtype -  int32\n",
      "\n",
      "data  -\n",
      "[[[ 1  2  3  4]\n",
      "  [ 5  6  7  8]\n",
      "  [ 9 10 11 12]]\n",
      "\n",
      " [[13 14 15 16]\n",
      "  [17 18 19 20]\n",
      "  [21 22 23 24]]]\n"
     ]
    }
   ],
   "source": [
    "aryInfo( ary.astype(np.int32) )"
   ]
  },
  {
   "cell_type": "markdown",
   "id": "449841b6",
   "metadata": {},
   "source": [
    "- 배열에서 인덱싱, 슬라이싱"
   ]
  },
  {
   "cell_type": "code",
   "execution_count": 70,
   "id": "cdda3ac1",
   "metadata": {},
   "outputs": [
    {
     "name": "stdout",
     "output_type": "stream",
     "text": [
      "2차원 배열의 인덱싱 - [행,열]\n",
      "type -  <class 'numpy.ndarray'>\n",
      "shape -  (2, 4)\n",
      "ndim  -  2\n",
      "dtype -  int32\n",
      "\n",
      "data  -\n",
      "[[1 2 3 4]\n",
      " [5 6 7 8]]\n",
      "\n",
      "첫번째 행의 첫번째 열을 값을 추출 -  1 1\n",
      "두번째 행의 첫번째 열을 값을 추출 -  5 5\n",
      "마지막 행의 마지막 열을 값을 추출 -  8 8\n",
      "첫번째 행의 전체 열을 값을 추출   -  [1 2 3 4] [1 2 3 4]\n",
      "두번째 행의 전체 열을 값을 추출   -  [5 6 7 8] [5 6 7 8]\n",
      "두번째 행의 두번재 열부터 끝까지의 값을 추출 -  [6 7 8] [6 7 8]\n"
     ]
    }
   ],
   "source": [
    "print('2차원 배열의 인덱싱 - [행,열]')\n",
    "\n",
    "ary = np.array( [ [1,2,3,4] , [5,6,7,8] ] ) \n",
    "aryInfo(ary)\n",
    "print()\n",
    "print('첫번째 행의 첫번째 열을 값을 추출 - ' , ary[0,0] , ary[0][0])\n",
    "print('두번째 행의 첫번째 열을 값을 추출 - ' , ary[1,0] , ary[1][0])\n",
    "print('마지막 행의 마지막 열을 값을 추출 - ' , ary[-1,-1] , ary[-1][-1])\n",
    "print('첫번째 행의 전체 열을 값을 추출   - ' , ary[0 , : ] , ary[0][:])\n",
    "print('두번째 행의 전체 열을 값을 추출   - ' , ary[1 , : ] , ary[1][:])\n",
    "print('두번째 행의 두번재 열부터 끝까지의 값을 추출 - ' , ary[1 , 1 : ] , ary[1][ 1 :])\n"
   ]
  },
  {
   "cell_type": "code",
   "execution_count": 79,
   "id": "01e1f3d3",
   "metadata": {},
   "outputs": [
    {
     "name": "stdout",
     "output_type": "stream",
     "text": [
      "fancy indexing - 정수배열 인덱싱(첨자) , 불리언배열 인덱싱(T|F) \n",
      "\n",
      "type -  <class 'numpy.ndarray'>\n",
      "shape -  (10,)\n",
      "ndim  -  1\n",
      "dtype -  int32\n",
      "\n",
      "data  -\n",
      "[0 1 2 3 4 5 6 7 8 9]\n",
      "\n",
      "2의 배수인것들만 출력한다면 - \n",
      "boolean indexing -  [0 2 4 6 8]\n",
      "정수배열 인덱싱  -  [0 2 4 6 8]\n"
     ]
    }
   ],
   "source": [
    "print('fancy indexing - 정수배열 인덱싱(첨자) , 불리언배열 인덱싱(T|F) ') \n",
    "print()\n",
    "ary = np.array([0,1,2,3,4,5,6,7,8,9]) \n",
    "aryInfo(ary)\n",
    "print()\n",
    "print('2의 배수인것들만 출력한다면 - ') \n",
    "# print('dir - ' , dir(ary))\n",
    "\n",
    "# for data in ary : \n",
    "#     if data%2 == 0 :\n",
    "#         print(data)\n",
    "\n",
    "print('boolean indexing - ' , ary[ ary%2==0 ] )\n",
    "evenIdx = np.array([0,2,4,6,8])\n",
    "\n",
    "print('정수배열 인덱싱  - ' , ary[evenIdx])"
   ]
  },
  {
   "cell_type": "markdown",
   "id": "c6f4af37",
   "metadata": {},
   "source": [
    "돌발퀴즈\n",
    "- 3의 배수만 출력\n",
    "- 4로 나누어 1이 남는 값들만 출력\n",
    "- 3의 배수이고 4로 나누어 1이 남는 값들만 출력"
   ]
  },
  {
   "cell_type": "code",
   "execution_count": 86,
   "id": "29db0b8e",
   "metadata": {},
   "outputs": [
    {
     "name": "stdout",
     "output_type": "stream",
     "text": [
      "type -  <class 'numpy.ndarray'>\n",
      "shape -  (20,)\n",
      "ndim  -  1\n",
      "dtype -  int32\n",
      "\n",
      "data  -\n",
      "[ 1  2  3  4  5  6  7  8  9 10 11 12 13 14 15 16 17 18 19 20]\n",
      "3의 배수만 출력 -  [ 3  6  9 12 15 18]\n",
      "4로 나누어 1이 남는 값들만 출력 -  [ 1  5  9 13 17]\n",
      "3의 배수이고 4로 나누어 1이 남는 값들만 출력 -  [9]\n"
     ]
    }
   ],
   "source": [
    "ary = np.arange(1, 21)\n",
    "aryInfo(ary)\n",
    "print('3의 배수만 출력 - ' , ary[ary%3 == 0] )\n",
    "print('4로 나누어 1이 남는 값들만 출력 - ' , ary[ary%4 == 1] )\n",
    "print('3의 배수이고 4로 나누어 1이 남는 값들만 출력 - ' , ary[ (ary%3 == 0) & (ary%4 == 1) ])\n"
   ]
  },
  {
   "cell_type": "markdown",
   "id": "b4cdd0bd",
   "metadata": {},
   "source": [
    "- reshape() : 배열의 변형"
   ]
  },
  {
   "cell_type": "code",
   "execution_count": 95,
   "id": "8df6b6f2",
   "metadata": {},
   "outputs": [
    {
     "name": "stdout",
     "output_type": "stream",
     "text": [
      "type -  <class 'numpy.ndarray'>\n",
      "shape -  (3, 4)\n",
      "ndim  -  2\n",
      "dtype -  int32\n",
      "\n",
      "data  -\n",
      "[[ 1  2  3  4]\n",
      " [ 5  6  7  8]\n",
      " [ 9 10 11 12]]\n"
     ]
    }
   ],
   "source": [
    "ary = np.arange(1, 13).reshape(3,4)\n",
    "aryInfo(ary)\n",
    "print()\n",
    "print('정수배열인덱싱을   이용해서 모든행의 0,3 열 값 출력')\n",
    "print('불리언배열인덱싱을 이용해서 모든행의 0,3 열 값 출력')\n",
    "print('5 값 추출')\n",
    "print('[2 10] 값 추출') \n",
    "print('[[2] [10]] 값 추출')\n",
    "print('[[1 3] [9 11]] 값 추출') "
   ]
  },
  {
   "cell_type": "code",
   "execution_count": null,
   "id": "4466b8cc",
   "metadata": {},
   "outputs": [],
   "source": []
  }
 ],
 "metadata": {
  "kernelspec": {
   "display_name": "Python 3 (ipykernel)",
   "language": "python",
   "name": "python3"
  },
  "language_info": {
   "codemirror_mode": {
    "name": "ipython",
    "version": 3
   },
   "file_extension": ".py",
   "mimetype": "text/x-python",
   "name": "python",
   "nbconvert_exporter": "python",
   "pygments_lexer": "ipython3",
   "version": "3.11.4"
  }
 },
 "nbformat": 4,
 "nbformat_minor": 5
}
