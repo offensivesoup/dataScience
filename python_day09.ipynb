{
 "cells": [
  {
   "cell_type": "code",
   "execution_count": null,
   "id": "c43025c3",
   "metadata": {},
   "outputs": [],
   "source": [
    "import json\n",
    "\n",
    "with open ('./data/usagov_bitly.txt', 'r', encoding = 'UTF-8') as file :\n",
    "    lines = file.readlines() # 리스트로 출력\n",
    "    lines = [ json.loads(line) for line in lines]\n",
    "    print(lines[0], type(lines[0])) # type이 str -> json 임포트하고, loads를 이용해서 dict로 바꾸어준다.\n",
    "    print(lines[0]['a']) # dict로 바꾸어서 key에 대한 접근이 가능해진다.\n",
    "    \n",
    "    for line in lines:\n",
    "        try:\n",
    "            print(line['r'])\n",
    "        except Exception as e:\n",
    "            print(e)"
   ]
  },
  {
   "cell_type": "markdown",
   "id": "a9ccd600",
   "metadata": {},
   "source": [
    "돌발퀴즈\n",
    "- zipcode.txt\n",
    "- input() 함수를 이용해서 동 이름을 입력 (startswith)\n",
    "- 해당하는 동의 주소를 출력하는 함수(searchAddr())를 정의\n",
    "- 해당하는 동이 존재하지 않는다면 예외처리\n"
   ]
  },
  {
   "cell_type": "code",
   "execution_count": 65,
   "id": "1a406c9f",
   "metadata": {},
   "outputs": [],
   "source": [
    "def searchAddr() :\n",
    "    \n",
    "    dong = input()\n",
    "    print(dong)\n",
    "    \n",
    "    with open('./data/zipcode.txt','r',encoding = 'UTF-8') as file :\n",
    "        addr = file.readline()\n",
    "       \n",
    "        while addr :\n",
    "            addr = addr.split()\n",
    "            if addr[3].startswith(dong) :\n",
    "                print(addr)\n",
    "                    \n",
    "            addr = file.readline()"
   ]
  },
  {
   "cell_type": "code",
   "execution_count": 66,
   "id": "f3dea807",
   "metadata": {},
   "outputs": [
    {
     "name": "stdout",
     "output_type": "stream",
     "text": [
      "caller - \n",
      "개포\n",
      "개포\n",
      "['\\ufeff135-806', '서울', '강남구', '개포1동', '경남아파트', '1']\n",
      "존재하지 않는 동입니다.\n"
     ]
    }
   ],
   "source": [
    "print('caller - ')\n",
    "searchAddr()"
   ]
  },
  {
   "cell_type": "code",
   "execution_count": null,
   "id": "5a8ed62c",
   "metadata": {},
   "outputs": [],
   "source": []
  },
  {
   "cell_type": "code",
   "execution_count": null,
   "id": "01792088",
   "metadata": {},
   "outputs": [],
   "source": []
  },
  {
   "cell_type": "code",
   "execution_count": null,
   "id": "036b69cd",
   "metadata": {},
   "outputs": [],
   "source": []
  },
  {
   "cell_type": "code",
   "execution_count": null,
   "id": "ecf18d4e",
   "metadata": {},
   "outputs": [],
   "source": []
  }
 ],
 "metadata": {
  "kernelspec": {
   "display_name": "Python 3 (ipykernel)",
   "language": "python",
   "name": "python3"
  },
  "language_info": {
   "codemirror_mode": {
    "name": "ipython",
    "version": 3
   },
   "file_extension": ".py",
   "mimetype": "text/x-python",
   "name": "python",
   "nbconvert_exporter": "python",
   "pygments_lexer": "ipython3",
   "version": "3.11.4"
  }
 },
 "nbformat": 4,
 "nbformat_minor": 5
}
