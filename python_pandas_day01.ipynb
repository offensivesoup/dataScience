{
 "cells": [
  {
   "cell_type": "markdown",
   "id": "1dc513f7",
   "metadata": {},
   "source": [
    "#### 학습목표\n",
    "- 데이터 타입 : Series, DataFrame\n",
    "- Pandas 통해서 데이터분석과 시각화(matplotib, seaborn, folium)\n",
    "- 분석 : 기술적 통계 분석, 탐색적 데이터 분석(EDA)"
   ]
  },
  {
   "cell_type": "markdown",
   "id": "0ba4148c",
   "metadata": {},
   "source": [
    "- series(index + value)\n",
    "- pd.Series() : 객체 생성\n",
    "- index : 정수, 문자, 날짜, 시간 인덱스가 가능하고 인덱스는 중복을 허용하지 않는다."
   ]
  },
  {
   "cell_type": "code",
   "execution_count": 1,
   "id": "7ba025cd",
   "metadata": {},
   "outputs": [
    {
     "name": "stdout",
     "output_type": "stream",
     "text": [
      "numpy version  ,  1.24.3\n",
      "pandas version ,  1.5.3\n"
     ]
    }
   ],
   "source": [
    "import numpy  as np\n",
    "import pandas as pd\n",
    "import matplotlib.pyplot as plt\n",
    "import json as j\n",
    "\n",
    "import warnings \n",
    "warnings.filterwarnings # warning 메세지를 무시한다.\n",
    "\n",
    "print('numpy version  , ' , np.__version__)\n",
    "print('pandas version , ' , pd.__version__)"
   ]
  },
  {
   "cell_type": "code",
   "execution_count": 2,
   "id": "b65590d6",
   "metadata": {},
   "outputs": [
    {
     "name": "stdout",
     "output_type": "stream",
     "text": [
      "type -  <class 'list'>\n",
      "type -  <class 'numpy.ndarray'>\n",
      "type -  <class 'pandas.core.series.Series'>\n",
      "\n",
      "0    1\n",
      "1    2\n",
      "2    3\n",
      "3    4\n",
      "4    5\n",
      "dtype: int32\n",
      "index -  RangeIndex(start=0, stop=5, step=1)\n",
      "value -  [1 2 3 4 5] <class 'numpy.ndarray'>\n",
      "dtype -  int32\n"
     ]
    }
   ],
   "source": [
    "lst = [1,2,3,4,5]\n",
    "print('type - ', type(lst))\n",
    "ary = np.array(lst)\n",
    "print('type - ',type(ary))\n",
    "series = pd.Series(ary)\n",
    "print('type - ',type(series)) # 시리즈를 만들때는 배열이나 리스트가 모두 들어갈 수 있다.\n",
    "print()\n",
    "print(series) # 인덱스와 벨류값이 나오게된다.\n",
    "print('index - ', series.index)\n",
    "print('value - ', series.values, type(series.values)) #values의 타입은 numpy.ndarray\n",
    "print('dtype - ', series.dtype)"
   ]
  },
  {
   "cell_type": "code",
   "execution_count": 3,
   "id": "e413f0d4",
   "metadata": {},
   "outputs": [],
   "source": [
    "def aryInfo(ary) :\n",
    "    print('type -',type(ary))\n",
    "    print('shape -',ary.shape)\n",
    "    print('ndim -',ary.ndim)\n",
    "    print('dtype -',ary.dtype)\n",
    "    print()\n",
    "    print('data -')\n",
    "    print(ary)\n",
    "    \n",
    "def seriesInfo(s) :\n",
    "    print('type - ',type(s))\n",
    "    print('index -',s.index)\n",
    "    print('value -',s.values)\n",
    "    print('dtype -',s.dtype)\n",
    "    print()\n",
    "    print('data -')\n",
    "    print(s)"
   ]
  },
  {
   "cell_type": "code",
   "execution_count": 4,
   "id": "e169c95e",
   "metadata": {},
   "outputs": [
    {
     "name": "stdout",
     "output_type": "stream",
     "text": [
      "type -  <class 'pandas.core.series.Series'>\n",
      "index - Index(['idx01', 'idx03'], dtype='object')\n",
      "value - [2 3]\n",
      "dtype - int64\n",
      "\n",
      "data -\n",
      "idx01    2\n",
      "idx03    3\n",
      "dtype: int64\n"
     ]
    }
   ],
   "source": [
    "series = pd.Series({'idx01' : 1, 'idx01' : 2, 'idx03' : 3}) # 시리즈의 인덱싱은 숫자 인덱싱도 가능하다., 인덱스는 중복을 허용하지 않는다., dict를 넣으면 key가 인덱스가 된다.\n",
    "seriesInfo(series)\n"
   ]
  },
  {
   "cell_type": "code",
   "execution_count": 5,
   "id": "5d6c72a4",
   "metadata": {},
   "outputs": [
    {
     "name": "stdout",
     "output_type": "stream",
     "text": [
      "type -  <class 'pandas.core.series.Series'>\n",
      "index - Index(['서초', '강남', '삼성', '송파', '서구'], dtype='object')\n",
      "value - [1 2 3 4 5]\n",
      "dtype - int64\n",
      "\n",
      "data -\n",
      "서초    1\n",
      "강남    2\n",
      "삼성    3\n",
      "송파    4\n",
      "서구    5\n",
      "dtype: int64\n"
     ]
    }
   ],
   "source": [
    "series = pd.Series(data = [1,2,3,4,5],\n",
    "                  index = ['서초','강남','삼성','송파','서구']) # index와 data의 개수가 맞아야 한다.\n",
    "seriesInfo(series)"
   ]
  },
  {
   "cell_type": "code",
   "execution_count": 6,
   "id": "5f779f4c",
   "metadata": {},
   "outputs": [
    {
     "name": "stdout",
     "output_type": "stream",
     "text": [
      "시리즈에 이름을 부여하는 것도 가능하다 - \n",
      "type -  <class 'pandas.core.series.Series'>\n",
      "index - Index(['이름', '생년월일', '성별', '결혼여부'], dtype='object', name='신상정보')\n",
      "value - ['임섭순' '2023-09-29' '남자' True]\n",
      "dtype - object\n",
      "\n",
      "data -\n",
      "신상정보\n",
      "이름             임섭순\n",
      "생년월일    2023-09-29\n",
      "성별              남자\n",
      "결혼여부          True\n",
      "Name: 사용자 정보, dtype: object\n"
     ]
    }
   ],
   "source": [
    "print('시리즈에 이름을 부여하는 것도 가능하다 - ')\n",
    "series = pd.Series(data = ('임섭순','2023-09-29','남자',True),\n",
    "                  index = ['이름','생년월일','성별','결혼여부'])\n",
    "series.name = '사용자 정보' # 시리즈에 이름을 마킹할 수 있다.\n",
    "series.index.name = '신상정보' # 인덱스에도 이름을 마킹할 수 있다.\n",
    "seriesInfo(series)"
   ]
  },
  {
   "cell_type": "code",
   "execution_count": 7,
   "id": "db73bdd0",
   "metadata": {},
   "outputs": [
    {
     "name": "stdout",
     "output_type": "stream",
     "text": [
      "신상정보\n",
      "이름             임섭순\n",
      "생년월일    2023-09-29\n",
      "성별              남자\n",
      "결혼여부          True\n",
      "Name: 사용자 정보, dtype: object\n",
      "\n",
      "indexing - \n",
      "임섭순 임섭순\n",
      "\n",
      "멀티 인덱싱하고 싶다면? - []\n",
      "신상정보\n",
      "이름    임섭순\n",
      "성별     남자\n",
      "Name: 사용자 정보, dtype: object type - <class 'pandas.core.series.Series'>\n",
      "신상정보\n",
      "이름    임섭순\n",
      "성별     남자\n",
      "Name: 사용자 정보, dtype: object type - <class 'pandas.core.series.Series'>\n",
      "\n",
      "범위 지정하여 인덱싱하고 싶다면? - \n",
      "신상정보\n",
      "이름             임섭순\n",
      "생년월일    2023-09-29\n",
      "성별              남자\n",
      "Name: 사용자 정보, dtype: object\n"
     ]
    }
   ],
   "source": [
    "print(series)\n",
    "print()\n",
    "print('indexing - ')\n",
    "print(series[0] , series['이름']) # 시리즈도 인덱싱이 가능, 문자와 정수형 모두 가능.\n",
    "print()\n",
    "print('멀티 인덱싱하고 싶다면? - []')\n",
    "print(series[[0,2]],'type -' , type(series[[0,2]])) # 대괄호 형식으로 들어가면 된다., 시리즈의 멀티인덱싱 값도 시리즈이다.\n",
    "print(series[['이름','성별']],'type -' , type(series[['이름','성별']]))\n",
    "\n",
    "print()\n",
    "print('범위 지정하여 인덱싱하고 싶다면? - ')\n",
    "print(series[0 : 3]) # 슬라이싱 가능.\n"
   ]
  },
  {
   "cell_type": "code",
   "execution_count": 8,
   "id": "296993e6",
   "metadata": {},
   "outputs": [
    {
     "name": "stdout",
     "output_type": "stream",
     "text": [
      "dir -  ['T', '_AXIS_LEN', '_AXIS_ORDERS', '_AXIS_TO_AXIS_NUMBER', '_HANDLED_TYPES', '__abs__', '__add__', '__and__', '__annotations__', '__array__', '__array_priority__', '__array_ufunc__', '__array_wrap__', '__bool__', '__class__', '__contains__', '__copy__', '__deepcopy__', '__delattr__', '__delitem__', '__dict__', '__dir__', '__divmod__', '__doc__', '__eq__', '__finalize__', '__float__', '__floordiv__', '__format__', '__ge__', '__getattr__', '__getattribute__', '__getitem__', '__getstate__', '__gt__', '__hash__', '__iadd__', '__iand__', '__ifloordiv__', '__imod__', '__imul__', '__init__', '__init_subclass__', '__int__', '__invert__', '__ior__', '__ipow__', '__isub__', '__iter__', '__itruediv__', '__ixor__', '__le__', '__len__', '__long__', '__lt__', '__matmul__', '__mod__', '__module__', '__mul__', '__ne__', '__neg__', '__new__', '__nonzero__', '__or__', '__pos__', '__pow__', '__radd__', '__rand__', '__rdivmod__', '__reduce__', '__reduce_ex__', '__repr__', '__rfloordiv__', '__rmatmul__', '__rmod__', '__rmul__', '__ror__', '__round__', '__rpow__', '__rsub__', '__rtruediv__', '__rxor__', '__setattr__', '__setitem__', '__setstate__', '__sizeof__', '__str__', '__sub__', '__subclasshook__', '__truediv__', '__weakref__', '__xor__', '_accessors', '_accum_func', '_add_numeric_operations', '_agg_by_level', '_agg_examples_doc', '_agg_see_also_doc', '_align_frame', '_align_series', '_append', '_arith_method', '_as_manager', '_attrs', '_binop', '_can_hold_na', '_check_inplace_and_allows_duplicate_labels', '_check_inplace_setting', '_check_is_chained_assignment_possible', '_check_label_or_level_ambiguity', '_check_setitem_copy', '_clear_item_cache', '_clip_with_one_bound', '_clip_with_scalar', '_cmp_method', '_consolidate', '_consolidate_inplace', '_construct_axes_dict', '_construct_axes_from_arguments', '_construct_result', '_constructor', '_constructor_expanddim', '_convert', '_convert_dtypes', '_data', '_dir_additions', '_dir_deletions', '_drop_axis', '_drop_labels_or_levels', '_duplicated', '_find_valid_index', '_flags', '_get_axis', '_get_axis_name', '_get_axis_number', '_get_axis_resolvers', '_get_block_manager_axis', '_get_bool_data', '_get_cacher', '_get_cleaned_column_resolvers', '_get_index_resolvers', '_get_label_or_level_values', '_get_numeric_data', '_get_value', '_get_values', '_get_values_tuple', '_get_with', '_gotitem', '_hidden_attrs', '_indexed_same', '_info_axis', '_info_axis_name', '_info_axis_number', '_init_dict', '_init_mgr', '_inplace_method', '_internal_names', '_internal_names_set', '_is_cached', '_is_copy', '_is_label_or_level_reference', '_is_label_reference', '_is_level_reference', '_is_mixed_type', '_is_view', '_item_cache', '_ixs', '_logical_func', '_logical_method', '_map_values', '_maybe_update_cacher', '_memory_usage', '_metadata', '_mgr', '_min_count_stat_function', '_name', '_needs_reindex_multi', '_protect_consolidate', '_reduce', '_reindex_axes', '_reindex_indexer', '_reindex_multi', '_reindex_with_indexers', '_rename', '_replace_single', '_repr_data_resource_', '_repr_latex_', '_reset_cache', '_reset_cacher', '_set_as_cached', '_set_axis', '_set_axis_name', '_set_axis_nocheck', '_set_is_copy', '_set_labels', '_set_name', '_set_value', '_set_values', '_set_with', '_set_with_engine', '_slice', '_stat_axis', '_stat_axis_name', '_stat_axis_number', '_stat_function', '_stat_function_ddof', '_take', '_take_with_is_copy', '_typ', '_update_inplace', '_validate_dtype', '_values', '_where', 'abs', 'add', 'add_prefix', 'add_suffix', 'agg', 'aggregate', 'align', 'all', 'any', 'append', 'apply', 'argmax', 'argmin', 'argsort', 'array', 'asfreq', 'asof', 'astype', 'at', 'at_time', 'attrs', 'autocorr', 'axes', 'backfill', 'between', 'between_time', 'bfill', 'bool', 'clip', 'combine', 'combine_first', 'compare', 'convert_dtypes', 'copy', 'corr', 'count', 'cov', 'cummax', 'cummin', 'cumprod', 'cumsum', 'describe', 'diff', 'div', 'divide', 'divmod', 'dot', 'drop', 'drop_duplicates', 'droplevel', 'dropna', 'dtype', 'dtypes', 'duplicated', 'empty', 'eq', 'equals', 'ewm', 'expanding', 'explode', 'factorize', 'ffill', 'fillna', 'filter', 'first', 'first_valid_index', 'flags', 'floordiv', 'ge', 'get', 'groupby', 'gt', 'hasnans', 'head', 'hist', 'iat', 'idxmax', 'idxmin', 'iloc', 'index', 'infer_objects', 'info', 'interpolate', 'is_monotonic', 'is_monotonic_decreasing', 'is_monotonic_increasing', 'is_unique', 'isin', 'isna', 'isnull', 'item', 'items', 'iteritems', 'keys', 'kurt', 'kurtosis', 'last', 'last_valid_index', 'le', 'loc', 'lt', 'mad', 'map', 'mask', 'max', 'mean', 'median', 'memory_usage', 'min', 'mod', 'mode', 'mul', 'multiply', 'name', 'nbytes', 'ndim', 'ne', 'nlargest', 'notna', 'notnull', 'nsmallest', 'nunique', 'pad', 'pct_change', 'pipe', 'plot', 'pop', 'pow', 'prod', 'product', 'quantile', 'radd', 'rank', 'ravel', 'rdiv', 'rdivmod', 'reindex', 'reindex_like', 'rename', 'rename_axis', 'reorder_levels', 'repeat', 'replace', 'resample', 'reset_index', 'rfloordiv', 'rmod', 'rmul', 'rolling', 'round', 'rpow', 'rsub', 'rtruediv', 'sample', 'searchsorted', 'sem', 'set_axis', 'set_flags', 'shape', 'shift', 'size', 'skew', 'slice_shift', 'sort_index', 'sort_values', 'squeeze', 'std', 'str', 'sub', 'subtract', 'sum', 'swapaxes', 'swaplevel', 'tail', 'take', 'to_clipboard', 'to_csv', 'to_dict', 'to_excel', 'to_frame', 'to_hdf', 'to_json', 'to_latex', 'to_list', 'to_markdown', 'to_numpy', 'to_period', 'to_pickle', 'to_sql', 'to_string', 'to_timestamp', 'to_xarray', 'transform', 'transpose', 'truediv', 'truncate', 'tz_convert', 'tz_localize', 'unique', 'unstack', 'update', 'value_counts', 'values', 'var', 'view', 'where', 'xs', '결혼여부', '생년월일', '성별', '이름']\n"
     ]
    }
   ],
   "source": [
    "print('dir - ',dir(series)) # T, items, keys, values 등 딕셔너리의 함수들이 많다. 시리즈를, 딕셔너리로 생각할 수 있다. (for loop 가능)"
   ]
  },
  {
   "cell_type": "code",
   "execution_count": 9,
   "id": "c34dca63",
   "metadata": {},
   "outputs": [
    {
     "name": "stdout",
     "output_type": "stream",
     "text": [
      "key -  이름 임섭순\n",
      "key -  생년월일 2023-09-29\n",
      "key -  성별 남자\n",
      "key -  결혼여부 True\n",
      "\n",
      "values -  임섭순\n",
      "values -  2023-09-29\n",
      "values -  남자\n",
      "values -  True\n",
      "key -  이름 values -  임섭순\n",
      "key -  생년월일 values -  2023-09-29\n",
      "key -  성별 values -  남자\n",
      "key -  결혼여부 values -  True\n"
     ]
    }
   ],
   "source": [
    "for key in series.keys():\n",
    "    print('key - ',key, series[key])\n",
    "print()\n",
    "for value in series.values : # values에는 ()가 붙지 않는다.\n",
    "    print('values - ',  value)\n",
    "for key, value in series.items() : \n",
    "    print('key - ', key, 'values - ', value)\n"
   ]
  },
  {
   "cell_type": "code",
   "execution_count": 10,
   "id": "6312efa5",
   "metadata": {},
   "outputs": [
    {
     "name": "stdout",
     "output_type": "stream",
     "text": [
      "series index  -  RangeIndex(start=0, stop=11, step=1) <class 'pandas.core.indexes.range.RangeIndex'>\n",
      "series values -  [10 11 12 13 14 15 16 17 18 19 20] <class 'numpy.ndarray'>\n",
      "벡터화 연산    -  [100 121 144 169 196 225 256 289 324 361 400]\n",
      "\n",
      "\n",
      "시리즈의 데이터가 배열이므로 \n",
      "벡터화 연산    -  0     100\n",
      "1     121\n",
      "2     144\n",
      "3     169\n",
      "4     196\n",
      "5     225\n",
      "6     256\n",
      "7     289\n",
      "8     324\n",
      "9     361\n",
      "10    400\n",
      "dtype: int64\n",
      "\n",
      "불리언 인덱싱이 가능할까? - \n",
      "[10 12 14 16 18 20]\n",
      "0     10\n",
      "2     12\n",
      "4     14\n",
      "6     16\n",
      "8     18\n",
      "10    20\n",
      "dtype: int64\n"
     ]
    }
   ],
   "source": [
    "series = pd.Series(range(10, 21))\n",
    "# seriesInfo(series)\n",
    "print('series index  - ', series.index , type(series.index))\n",
    "print('series values - ', series.values, type(series.values)) # 따로 떼는 벨류는 배열이다., 인덱스는 시리즈\n",
    "print('벡터화 연산    - ', series.values ** 2 ) # 벨류값에 따로 연산이 가능하다.(배열이기 때문에)\n",
    "print()\n",
    "print()\n",
    "print('시리즈의 데이터가 배열이므로 ')\n",
    "print('벡터화 연산    - ', series ** 2 ) # 시리즈 자체에도 연산이 가능하다.\n",
    "print()\n",
    "print('불리언 인덱싱이 가능할까? - ')\n",
    "print(series.values[series.values %2 == 0])\n",
    "print(series[series %2 == 0]) # 리턴되는 결과값의 타입만 다르고, 결과는 같다.(series = series, values = array)"
   ]
  },
  {
   "cell_type": "code",
   "execution_count": 11,
   "id": "dd24564b",
   "metadata": {},
   "outputs": [
    {
     "name": "stdout",
     "output_type": "stream",
     "text": [
      "인덱스를 날짜로 사용하고 싶다면? - \n",
      "today -  2023-09-18\n",
      "2023-09-28\n",
      "\n",
      "오늘 날짜부터 10일간의 날짜를 생성하여 시리즈의 인덱스로 사용하고 싶다면? - \n",
      "2023-09-18     1\n",
      "2023-09-19     2\n",
      "2023-09-20     3\n",
      "2023-09-21     4\n",
      "2023-09-22     5\n",
      "2023-09-23     6\n",
      "2023-09-24     7\n",
      "2023-09-25     8\n",
      "2023-09-26     9\n",
      "2023-09-27    10\n",
      "dtype: int64\n"
     ]
    }
   ],
   "source": [
    "from datetime import date, datetime , timedelta\n",
    "\n",
    "print('인덱스를 날짜로 사용하고 싶다면? - ')\n",
    "\n",
    "today = date(2023, 9, 18)\n",
    "print('today - ', today)\n",
    "print(today + timedelta(days = 10))\n",
    "print()\n",
    "print('오늘 날짜부터 10일간의 날짜를 생성하여 시리즈의 인덱스로 사용하고 싶다면? - ')\n",
    "idx = [today + timedelta(i) for i in range(10)]\n",
    "series = pd.Series(data = (1,2,3,4,5,6,7,8,9,10),\n",
    "                  index = [today + timedelta(i) for i in range(10)])\n",
    "print(series)"
   ]
  },
  {
   "cell_type": "code",
   "execution_count": 12,
   "id": "f0eb5d10",
   "metadata": {},
   "outputs": [
    {
     "name": "stdout",
     "output_type": "stream",
     "text": [
      "벡터화 연산 - \n",
      "2023-09-18    120.919681\n",
      "2023-09-19    111.870519\n",
      "2023-09-20    106.493732\n",
      "2023-09-21    129.137491\n",
      "2023-09-22    133.014137\n",
      "dtype: float64\n"
     ]
    }
   ],
   "source": [
    "# series = pd.Series(data = [np.random.randint(1,100) for d in range(10)],\n",
    "#                   index = idx)\n",
    "series01 = pd.Series(data = np.random.normal(50, 5, (10,)),\n",
    "                    index = idx)\n",
    "series02 = pd.Series(data = np.random.normal(70, 8, (10,)),\n",
    "                    index = idx) # 인덱스가 다른 경우 NaN으로 나오게 된다.\n",
    "# seriesInfo(series)\n",
    "print('벡터화 연산 - ')\n",
    "series03 = series01 + series02\n",
    "print(series03[0:5])"
   ]
  },
  {
   "cell_type": "code",
   "execution_count": 13,
   "id": "cf1e896e",
   "metadata": {},
   "outputs": [
    {
     "name": "stdout",
     "output_type": "stream",
     "text": [
      "27\n",
      "69\n",
      "48\n",
      "25\n",
      "3\n",
      "51\n",
      "47\n",
      "26\n",
      "24\n",
      "66\n"
     ]
    }
   ],
   "source": [
    "for d in range(10):\n",
    "    print(np.random.randint(1,100))\n",
    "    # print(d) # int형은 iter가 없어서 안된다."
   ]
  },
  {
   "cell_type": "code",
   "execution_count": 14,
   "id": "3920759d",
   "metadata": {},
   "outputs": [
    {
     "name": "stdout",
     "output_type": "stream",
     "text": [
      "series03 - \n",
      "2023-09-18    120.919681\n",
      "dtype: float64\n",
      "데이터 갱신 - \n",
      "type -  <class 'pandas.core.series.Series'>\n",
      "index - Index([2023-09-18, 2023-09-19, 2023-09-20, 2023-09-21, 2023-09-22, 2023-09-23,\n",
      "       2023-09-24, 2023-09-25, 2023-09-26, 2023-09-27],\n",
      "      dtype='object')\n",
      "value - [ 90.         111.87051942 106.49373221 129.13749118 133.01413702\n",
      " 127.85701367 118.7981686  110.25778527 121.06074014 118.25734151]\n",
      "dtype - float64\n",
      "\n",
      "data -\n",
      "2023-09-18     90.000000\n",
      "2023-09-19    111.870519\n",
      "2023-09-20    106.493732\n",
      "2023-09-21    129.137491\n",
      "2023-09-22    133.014137\n",
      "2023-09-23    127.857014\n",
      "2023-09-24    118.798169\n",
      "2023-09-25    110.257785\n",
      "2023-09-26    121.060740\n",
      "2023-09-27    118.257342\n",
      "dtype: float64\n"
     ]
    }
   ],
   "source": [
    "print('series03 - ')\n",
    "print(series03[[0]])\n",
    "print('데이터 갱신 - ')\n",
    "series03[0] = 90\n",
    "#print(series03)\n",
    "seriesInfo(series03)\n",
    "series03['2023-09-18'] = 80 # 내부적으로 관리되는 타입이 다르기 때문에 갱신이 아닌 입력이 된다.\n",
    "# print(series03)"
   ]
  },
  {
   "cell_type": "code",
   "execution_count": 15,
   "id": "638fa8ef",
   "metadata": {},
   "outputs": [
    {
     "name": "stdout",
     "output_type": "stream",
     "text": [
      "데이터 갱신 - \n",
      "a     1\n",
      "b     2\n",
      "c     3\n",
      "d    10\n",
      "dtype: int64\n"
     ]
    }
   ],
   "source": [
    "print('데이터 갱신 - ')\n",
    "tmp = pd.Series(data = [1,2,3],\n",
    "               index = ['a','b','c'])\n",
    "tmp['d'] = 10 # 갱신, 추가가 될 수 있다. (기존 키의 유무에 따라서)\n",
    "print(tmp)"
   ]
  },
  {
   "cell_type": "code",
   "execution_count": 16,
   "id": "1e37ece1",
   "metadata": {},
   "outputs": [
    {
     "name": "stdout",
     "output_type": "stream",
     "text": [
      "2023-09-18     90.000000\n",
      "2023-09-19    111.870519\n",
      "2023-09-20    106.493732\n",
      "2023-09-21    129.137491\n",
      "2023-09-22    133.014137\n",
      "2023-09-23    127.857014\n",
      "2023-09-24    118.798169\n",
      "2023-09-25    110.257785\n",
      "2023-09-26    121.060740\n",
      "2023-09-27    118.257342\n",
      "2023-09-18           NaN\n",
      "dtype: float64\n"
     ]
    }
   ],
   "source": [
    "series03['2023-09-18'] = np.NaN #NaN은 결측값으로 보게 된다. 결측값이 존재하면 database의 row자체를 삭제해야 하기 때문에, 보편적으로 결측값을 중위수, 최대값, 최소값으로 처리시켜줘야 한다.\n",
    "print(series03)"
   ]
  },
  {
   "cell_type": "code",
   "execution_count": 17,
   "id": "67b18ef6",
   "metadata": {},
   "outputs": [
    {
     "name": "stdout",
     "output_type": "stream",
     "text": [
      "null - 결측값을 의미한다\n",
      "pd.isnull() - \n",
      "2023-09-18    False\n",
      "2023-09-19    False\n",
      "2023-09-20    False\n",
      "2023-09-21    False\n",
      "2023-09-22    False\n",
      "2023-09-23    False\n",
      "2023-09-24    False\n",
      "2023-09-25    False\n",
      "2023-09-26    False\n",
      "2023-09-27    False\n",
      "2023-09-18     True\n",
      "dtype: bool\n",
      "\n",
      "2023-09-18     True\n",
      "2023-09-19     True\n",
      "2023-09-20     True\n",
      "2023-09-21     True\n",
      "2023-09-22     True\n",
      "2023-09-23     True\n",
      "2023-09-24     True\n",
      "2023-09-25     True\n",
      "2023-09-26     True\n",
      "2023-09-27     True\n",
      "2023-09-18    False\n",
      "dtype: bool\n",
      "\n",
      "2023-09-18    False\n",
      "2023-09-19    False\n",
      "2023-09-20    False\n",
      "2023-09-21    False\n",
      "2023-09-22    False\n",
      "2023-09-23    False\n",
      "2023-09-24    False\n",
      "2023-09-25    False\n",
      "2023-09-26    False\n",
      "2023-09-27    False\n",
      "2023-09-18    False\n",
      "dtype: bool\n"
     ]
    }
   ],
   "source": [
    "print('null - 결측값을 의미한다')\n",
    "print('pd.isnull() - ')\n",
    "print(pd.isnull(series03)) # boolean 형식을 리턴한다.\n",
    "print()\n",
    "print(pd.notnull(series03)) # null이 아니면 true\n",
    "print()\n",
    "series03[pd.isnull(series03)] = np.mean(series03)\n",
    "print(pd.isnull(series03))"
   ]
  },
  {
   "cell_type": "code",
   "execution_count": 18,
   "id": "92f891e8",
   "metadata": {},
   "outputs": [
    {
     "name": "stdout",
     "output_type": "stream",
     "text": [
      "len  -  11\n",
      "mean -  float64 116.67469290107215\n",
      "fillna() - 결측값을 원하는 값으로 채우고자 할 때\n",
      "mean -  float64 115.55646082415095\n",
      "2023-09-18     90.000000\n",
      "2023-09-19    111.870519\n",
      "2023-09-20    106.493732\n",
      "2023-09-21    129.137491\n",
      "2023-09-22    133.014137\n",
      "2023-09-23           NaN\n",
      "2023-09-24    118.798169\n",
      "2023-09-25    110.257785\n",
      "2023-09-26    121.060740\n",
      "2023-09-27    118.257342\n",
      "2023-09-18    116.674693\n",
      "dtype: float64\n",
      "\n",
      "2023-09-18     90.000000\n",
      "2023-09-19    111.870519\n",
      "2023-09-20    106.493732\n",
      "2023-09-21    129.137491\n",
      "2023-09-22    133.014137\n",
      "2023-09-23      0.000000\n",
      "2023-09-24    118.798169\n",
      "2023-09-25    110.257785\n",
      "2023-09-26    121.060740\n",
      "2023-09-27    118.257342\n",
      "2023-09-18    116.674693\n",
      "dtype: float64\n",
      "mean -  float64 105.0513280219554\n"
     ]
    }
   ],
   "source": [
    "print('len  - ',len(series03))\n",
    "print('mean - ',series03.dtype, np.mean(series03))\n",
    "print('fillna() - 결측값을 원하는 값으로 채우고자 할 때')\n",
    "series03[5] = np.NaN\n",
    "print('mean - ', series03.dtype, np.mean(series03))\n",
    "print(series03)\n",
    "series03 = series03.fillna(0) # 모든 결측값을 0으로 바꾼다., fillna한 값을 새로운 변수로 받아주어야 원본에 반영이 된다.\n",
    "print()\n",
    "print(series03)\n",
    "print('mean - ', series03.dtype, np.mean(series03)) # 결측값을 처리하고, 안하고의 결과 차이가 발생한다."
   ]
  },
  {
   "cell_type": "code",
   "execution_count": 19,
   "id": "5435788a",
   "metadata": {},
   "outputs": [
    {
     "name": "stdout",
     "output_type": "stream",
     "text": [
      "2023-09-18     90.000000\n",
      "2023-09-19    111.870519\n",
      "2023-09-20    106.493732\n",
      "2023-09-21           NaN\n",
      "2023-09-22    133.014137\n",
      "2023-09-23      0.000000\n",
      "2023-09-24    118.798169\n",
      "2023-09-25    110.257785\n",
      "2023-09-26           NaN\n",
      "2023-09-27    118.257342\n",
      "2023-09-18    116.674693\n",
      "dtype: float64\n"
     ]
    }
   ],
   "source": [
    "series03[3] = np.NaN\n",
    "series03[8] = np.NaN\n",
    "print(series03)"
   ]
  },
  {
   "cell_type": "code",
   "execution_count": 20,
   "id": "57566914",
   "metadata": {},
   "outputs": [
    {
     "name": "stdout",
     "output_type": "stream",
     "text": [
      "subset - 결측값을 제외한 \n",
      "2023-09-18     1\n",
      "2023-09-19     2\n",
      "2023-09-20     3\n",
      "2023-09-22     5\n",
      "2023-09-23     6\n",
      "2023-09-24     7\n",
      "2023-09-25     8\n",
      "2023-09-27    10\n",
      "dtype: int64\n"
     ]
    }
   ],
   "source": [
    "print('subset - 결측값을 제외한 ')\n",
    "series04 = series[pd.notnull(series03)] # 불리언 인덱싱을 할 경우에 notnull로 처리해야 결측값이 아닌 경우 True가 반영되어 출력된다.\n",
    "print(series04) \n",
    "# 이후 series를 통해 DataFrame을 만들 수 있다."
   ]
  },
  {
   "cell_type": "code",
   "execution_count": 21,
   "id": "13679fa1",
   "metadata": {},
   "outputs": [
    {
     "name": "stdout",
     "output_type": "stream",
     "text": [
      "type -  <class 'datetime.date'>\n",
      "2023-09-19     2\n",
      "2023-09-20     3\n",
      "2023-09-22     5\n",
      "2023-09-23     6\n",
      "2023-09-24     7\n",
      "2023-09-25     8\n",
      "2023-09-27    10\n",
      "dtype: int64\n"
     ]
    }
   ],
   "source": [
    "dateIdx = date(2023,9,18)\n",
    "\n",
    "# dateIdx = date.strptime('2023-09-18', '%Y-%m-%d')\n",
    "print('type - ',type(dateIdx))\n",
    "del series04[dateIdx] # del하기 위해선 해당 index의 지수형식외의 인덱스를 사용해야 한다.\n",
    "print(series04)"
   ]
  },
  {
   "cell_type": "code",
   "execution_count": null,
   "id": "750f17df",
   "metadata": {},
   "outputs": [],
   "source": []
  },
  {
   "cell_type": "code",
   "execution_count": null,
   "id": "ef053943",
   "metadata": {},
   "outputs": [],
   "source": []
  }
 ],
 "metadata": {
  "kernelspec": {
   "display_name": "Python 3 (ipykernel)",
   "language": "python",
   "name": "python3"
  },
  "language_info": {
   "codemirror_mode": {
    "name": "ipython",
    "version": 3
   },
   "file_extension": ".py",
   "mimetype": "text/x-python",
   "name": "python",
   "nbconvert_exporter": "python",
   "pygments_lexer": "ipython3",
   "version": "3.11.4"
  }
 },
 "nbformat": 4,
 "nbformat_minor": 5
}
