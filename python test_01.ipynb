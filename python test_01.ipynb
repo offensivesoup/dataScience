{
 "cells": [
  {
   "cell_type": "code",
   "execution_count": 12,
   "id": "a4520a67",
   "metadata": {},
   "outputs": [
    {
     "name": "stdout",
     "output_type": "stream",
     "text": [
      "값을 입력하시오300\n",
      "255\n"
     ]
    }
   ],
   "source": [
    "question = int(input('값을 입력하시오 :'))\n",
    "answer = question - 20\n",
    "if answer > 255:\n",
    "    print(255)\n",
    "elif answer < 0:\n",
    "    print(0)\n",
    "else:\n",
    "    print(answer)"
   ]
  },
  {
   "cell_type": "code",
   "execution_count": 20,
   "id": "07bd8872",
   "metadata": {},
   "outputs": [
    {
     "name": "stdout",
     "output_type": "stream",
     "text": [
      "현재 시각을 입력하시오 :20:01\n",
      "정각이 아닙니다.\n"
     ]
    }
   ],
   "source": [
    "question = input(\"현재 시각을 입력하시오 :\")\n",
    "answer = question.split(\":\")\n",
    "if answer[1] == \"00\":\n",
    "    print(\"정각입니다.\")\n",
    "else:\n",
    "    print(\"정각이 아닙니다.\")"
   ]
  },
  {
   "cell_type": "code",
   "execution_count": 22,
   "id": "8bd7e7ad",
   "metadata": {},
   "outputs": [
    {
     "name": "stdout",
     "output_type": "stream",
     "text": [
      "과일을 입력하시오 :용과\n",
      "오답입니다.\n"
     ]
    }
   ],
   "source": [
    "fruit = [\"사과\",\"포도\",\"홍시\"]\n",
    "question = input(\"과일을 입력하시오 :\")\n",
    "if question in fruit:\n",
    "    print(\"정답입니다.\")\n",
    "else:\n",
    "    print(\"오답입니다.\")"
   ]
  },
  {
   "cell_type": "code",
   "execution_count": 73,
   "id": "76d3d2d3",
   "metadata": {},
   "outputs": [
    {
     "name": "stdout",
     "output_type": "stream",
     "text": [
      "우편번호를 입력하시오 :014000\n",
      "도봉구 입니다.\n"
     ]
    }
   ],
   "source": [
    "question = input(\"우편번호를 입력하시오 :\")\n",
    "gang = ['0','1','2']\n",
    "dobong = ['3','4','5']\n",
    "nowon = ['6','7','8','9']\n",
    "answer = list(question)\n",
    "\n",
    "if answer[2] in gang:\n",
    "    print(\"강북구 입니다.\")\n",
    "elif answer[2] in dobong:\n",
    "    print(\"도봉구 입니다.\")\n",
    "elif answer[2] in nowon:\n",
    "    print(\"노원구 입니다.\")\n"
   ]
  },
  {
   "cell_type": "code",
   "execution_count": 38,
   "id": "69cac1dc",
   "metadata": {},
   "outputs": [
    {
     "name": "stdout",
     "output_type": "stream",
     "text": [
      "주민번호를 입력하시오 :821010-2535210\n",
      "여자입니다.\n"
     ]
    }
   ],
   "source": [
    "question = input(\"주민번호를 입력하시오 :\")\n",
    "answer = question.split('-')\n",
    "if answer[1].startswith('1') or answer[1].startswith('3'):\n",
    "    print(\"남자입니다.\")\n",
    "else:\n",
    "    print(\"여자입니다.\")\n",
    "    "
   ]
  },
  {
   "cell_type": "code",
   "execution_count": 76,
   "id": "3b21ec64",
   "metadata": {},
   "outputs": [
    {
     "name": "stdout",
     "output_type": "stream",
     "text": [
      "주민번호를 입력하시오 :821010-1635210\n",
      "다른 지역 입니다.\n"
     ]
    }
   ],
   "source": [
    "question = input(\"주민번호를 입력하시오 :\")\n",
    "answer = list(question) #8,9\n",
    "print(\"서울입니다.\") if int(answer[8]) == 0 and int(answer[9]) <= 8 else print(\"다른 지역 입니다.\")\n",
    "# elif int(answer[8]) == 0 and int(answer[9]) > 8:\n",
    "#     print(\"부산입니다.\")\n",
    "# elif int(answer[8]) == 1 and int(answer[9]) <= 2:\n",
    "#     print(\"부산입니다.\")\n",
    "   # pass\n"
   ]
  },
  {
   "cell_type": "code",
   "execution_count": 49,
   "id": "7d49bc80",
   "metadata": {},
   "outputs": [
    {
     "name": "stdout",
     "output_type": "stream",
     "text": [
      "투자종목을 입력하시오 :Nexon\n",
      "투자 경고 종목이 아닙니다.\n"
     ]
    }
   ],
   "source": [
    "question = input(\"투자종목을 입력하시오 :\")\n",
    "answer = question\n",
    "warnInvestmentLst = [\"Microsoft\", \"Google\", \"Naver\", \"Kakao\", \"SAMSUNG\", \"LG\"]\n",
    "if answer in warnInvestmentLst:\n",
    "    print(\"투자 경고 종목입니다.\")\n",
    "else:\n",
    "    print(\"투자 경고 종목이 아닙니다.\")"
   ]
  },
  {
   "cell_type": "code",
   "execution_count": 57,
   "id": "2b834309",
   "metadata": {},
   "outputs": [
    {
     "name": "stdout",
     "output_type": "stream",
     "text": [
      "과일을 입력하시오 :봄\n",
      "오답입니다.\n"
     ]
    }
   ],
   "source": [
    "question = input(\"과일을 입력하시오 :\")\n",
    "fruit = {\"봄\" : \"딸기\", \"여름\" : \"토마토\", \"가을\" : \"사과\"}\n",
    "ansewr = question\n",
    "if answer in fruit.keys():\n",
    "    print(\"정답입니다.\")\n",
    "else:\n",
    "    print(\"오답입니다.\")"
   ]
  },
  {
   "cell_type": "code",
   "execution_count": 60,
   "id": "f335f40f",
   "metadata": {},
   "outputs": [
    {
     "name": "stdout",
     "output_type": "stream",
     "text": [
      "문자 하나를 입력하시오 :a\n",
      "A\n"
     ]
    }
   ],
   "source": [
    "question = input(\"문자 하나를 입력하시오:\")\n",
    "answer = question\n",
    "if answer.islower() is True:\n",
    "    print(answer.upper())\n",
    "else:\n",
    "    print(answer.lower())"
   ]
  },
  {
   "cell_type": "code",
   "execution_count": 82,
   "id": "b301279a",
   "metadata": {},
   "outputs": [
    {
     "name": "stdout",
     "output_type": "stream",
     "text": [
      "점수를 입력하시오: 100\n",
      "A\n"
     ]
    }
   ],
   "source": [
    "question = input(\"점수를 입력하시오: \")\n",
    "score = int(question)\n",
    "\n",
    "if score >= 81 and score <= 100:\n",
    "    print(\"A\")\n",
    "elif score >= 61:\n",
    "    print(\"B\")\n",
    "elif score >= 41:\n",
    "    print(\"C\")\n",
    "elif score >= 21:\n",
    "    print(\"D\")\n",
    "else:\n",
    "    print(\"E\")\n",
    "    pass\n"
   ]
  },
  {
   "cell_type": "code",
   "execution_count": 63,
   "id": "62ad21ad",
   "metadata": {},
   "outputs": [
    {
     "name": "stdout",
     "output_type": "stream",
     "text": [
      "첫번째 숫자를 입력하시오10\n",
      "두번째 숫자를 입력하시오12\n",
      "세번째 숫자를 입력하시오11\n",
      "12\n"
     ]
    }
   ],
   "source": [
    "question1 = int(input(\"첫번째 숫자를 입력하시오\"))\n",
    "question2 = int(input(\"두번째 숫자를 입력하시오\"))\n",
    "question3 = int(input(\"세번째 숫자를 입력하시오\"))\n",
    "\n",
    "answer1 = question1\n",
    "answer2 = question2\n",
    "answer3 = question3\n",
    "\n",
    "if answer1 > answer2 and answer1 > answer3:\n",
    "    print(answer1)\n",
    "elif answer2 > answer1 and answer2 > answer3:\n",
    "    print(answer2)\n",
    "else:\n",
    "    print(answer3)"
   ]
  },
  {
   "cell_type": "code",
   "execution_count": 66,
   "id": "1ffc9401",
   "metadata": {},
   "outputs": [
    {
     "name": "stdout",
     "output_type": "stream",
     "text": [
      "숫자를 입력하시오 :1\n",
      "홀수입니다.\n"
     ]
    }
   ],
   "source": [
    "question = int(input(\"숫자를 입력하시오 :\"))\n",
    "answer = question\n",
    "\n",
    "if answer%2 == 0:\n",
    "    print(\"짝수입니다.\")\n",
    "else:\n",
    "    print(\"홀수입니다.\")"
   ]
  },
  {
   "cell_type": "code",
   "execution_count": null,
   "id": "31607105",
   "metadata": {},
   "outputs": [],
   "source": []
  },
  {
   "cell_type": "code",
   "execution_count": null,
   "id": "eb3aba8c",
   "metadata": {},
   "outputs": [],
   "source": []
  }
 ],
 "metadata": {
  "kernelspec": {
   "display_name": "Python 3 (ipykernel)",
   "language": "python",
   "name": "python3"
  },
  "language_info": {
   "codemirror_mode": {
    "name": "ipython",
    "version": 3
   },
   "file_extension": ".py",
   "mimetype": "text/x-python",
   "name": "python",
   "nbconvert_exporter": "python",
   "pygments_lexer": "ipython3",
   "version": "3.11.4"
  }
 },
 "nbformat": 4,
 "nbformat_minor": 5
}
