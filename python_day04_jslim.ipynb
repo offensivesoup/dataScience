{
 "cells": [
  {
   "cell_type": "markdown",
   "id": "36407dc9",
   "metadata": {},
   "source": [
    "#### boolean type\n",
    "- True | False \n",
    "- 논리연산자 (not, and , or )\n",
    "- 비교연산자 (~ , & , |)\n",
    "- '', [] , {} , 0, () , None -> False"
   ]
  },
  {
   "cell_type": "code",
   "execution_count": 3,
   "id": "92501083",
   "metadata": {},
   "outputs": [
    {
     "name": "stdout",
     "output_type": "stream",
     "text": [
      "비교연산 -  0\n",
      "비교연산 -  5\n"
     ]
    }
   ],
   "source": [
    "intValue01 = 5 # 0101\n",
    "intValue02 = 0 # 0000\n",
    "print('비교연산 - ' , intValue01 & intValue02)\n",
    "print('비교연산 - ' , intValue01 | intValue02)"
   ]
  },
  {
   "cell_type": "code",
   "execution_count": 5,
   "id": "999c0511",
   "metadata": {},
   "outputs": [
    {
     "name": "stdout",
     "output_type": "stream",
     "text": [
      "False False False False False\n"
     ]
    }
   ],
   "source": [
    "lstTmp  = []\n",
    "strTmp  = ''\n",
    "dictTmp = {}\n",
    "boolTmp = False \n",
    "intTmp  = 0 \n",
    "\n",
    "print(bool(lstTmp) , bool(strTmp) , bool(dictTmp) , boolTmp , bool(intTmp))"
   ]
  },
  {
   "cell_type": "code",
   "execution_count": 6,
   "id": "c6dd26c6",
   "metadata": {},
   "outputs": [
    {
     "name": "stdout",
     "output_type": "stream",
     "text": [
      "True True True True True\n"
     ]
    }
   ],
   "source": [
    "lstTmp  = [1,2]\n",
    "strTmp  = 'str'\n",
    "dictTmp = { 'key' : 'value'}\n",
    "boolTmp = True \n",
    "intTmp  = 1 \n",
    "\n",
    "print(bool(lstTmp) , bool(strTmp) , bool(dictTmp) , boolTmp , bool(intTmp))"
   ]
  },
  {
   "cell_type": "code",
   "execution_count": 9,
   "id": "44ef61cd",
   "metadata": {},
   "outputs": [
    {
     "name": "stdout",
     "output_type": "stream",
     "text": [
      "논리연산자 - \n",
      "and -  False\n",
      "or  -  True\n",
      "not -  False\n"
     ]
    }
   ],
   "source": [
    "print('논리연산자 - ') \n",
    "trueTmp  = True \n",
    "falseTmp = False\n",
    "\n",
    "print('and - ' , trueTmp and falseTmp )\n",
    "print('or  - ' , trueTmp or  falseTmp )\n",
    "print('not - ' , not trueTmp )"
   ]
  },
  {
   "cell_type": "markdown",
   "id": "97adddb7",
   "metadata": {},
   "source": [
    "#### 프로그램의 흐름을 제어하는 제어구문과 반복문 \n",
    "- 제어구문(if ~  , if ~ in)\n",
    "- 반복구문(for ~)\n",
    "- 블럭을 의미하는 기호 :\n",
    "- 들여쓰기 주의 (indentation)\n"
   ]
  },
  {
   "cell_type": "code",
   "execution_count": 14,
   "id": "9c5731f9",
   "metadata": {},
   "outputs": [
    {
     "name": "stdout",
     "output_type": "stream",
     "text": [
      "제어구문 형식 - \n"
     ]
    }
   ],
   "source": [
    "print('제어구문 형식 - ') \n",
    "if True :\n",
    "    pass\n",
    "else :\n",
    "    pass\n",
    "    \n",
    "if True :\n",
    "    pass\n",
    "elif True :\n",
    "    pass\n",
    "elif True : \n",
    "    pass\n",
    "\n",
    "if True :\n",
    "    if True :\n",
    "        pass\n",
    "    else :\n",
    "        pass\n",
    "else :\n",
    "    if True :\n",
    "        pass\n",
    "    else :\n",
    "        pass"
   ]
  },
  {
   "cell_type": "code",
   "execution_count": 18,
   "id": "c7fb2a65",
   "metadata": {},
   "outputs": [
    {
     "name": "stdout",
     "output_type": "stream",
     "text": [
      "Good\n"
     ]
    }
   ],
   "source": [
    "if True :\n",
    "    print('Good')\n",
    "else :\n",
    "    print('Bad')"
   ]
  },
  {
   "cell_type": "code",
   "execution_count": 23,
   "id": "8c08e61f",
   "metadata": {},
   "outputs": [
    {
     "name": "stdout",
     "output_type": "stream",
     "text": [
      "점수를 입력하세요50\n",
      "50 <class 'int'>\n",
      "\n",
      "non-pass\n"
     ]
    }
   ],
   "source": [
    "score = int(input('점수를 입력하세요'))\n",
    "print(score , type(score))\n",
    "print()\n",
    "if score >= 60 :\n",
    "    print('pass')\n",
    "else :\n",
    "    print('non-pass')"
   ]
  },
  {
   "cell_type": "markdown",
   "id": "56fe524f",
   "metadata": {},
   "source": [
    "- 돌발퀴즈\n",
    "- input 함수를 이용하여 점수를 입력받아 학점을 출력하는 제어구문을 작성하시오\n",
    "- 60 미만이면 F 학점"
   ]
  },
  {
   "cell_type": "code",
   "execution_count": 28,
   "id": "649cbba5",
   "metadata": {},
   "outputs": [
    {
     "name": "stdout",
     "output_type": "stream",
     "text": [
      "점수를 입력하세요93\n",
      "93 <class 'int'>\n",
      "\n",
      "A- 학점\n"
     ]
    }
   ],
   "source": [
    "score = int(input('점수를 입력하세요'))\n",
    "print(score , type(score))\n",
    "\n",
    "print()\n",
    "\n",
    "if score >= 90 :\n",
    "    if score >= 95 : \n",
    "        print('A+ 학점')\n",
    "    else :\n",
    "        print('A- 학점')\n",
    "elif score >= 80 :\n",
    "    print('B 학점')\n",
    "elif score >= 70 :\n",
    "    print('C 학점')\n",
    "elif score >= 60 :\n",
    "    print('D 학점')\n",
    "else :\n",
    "    print('F 학점')"
   ]
  },
  {
   "cell_type": "code",
   "execution_count": 32,
   "id": "6e1f84f7",
   "metadata": {},
   "outputs": [
    {
     "name": "stdout",
     "output_type": "stream",
     "text": [
      "if ~ in \n",
      "지역을 입력하세요 : 서울\n",
      "존재\n"
     ]
    }
   ],
   "source": [
    "print('if ~ in ')\n",
    "areas = ['서울' , '경기' , '부산'] \n",
    "region = input('지역을 입력하세요 : ') \n",
    "\n",
    "if region in areas : \n",
    "    print('존재')\n",
    "else :\n",
    "    print('{} 지역은 대상이 아닙니다.'.format(region))"
   ]
  },
  {
   "cell_type": "code",
   "execution_count": 34,
   "id": "27758592",
   "metadata": {},
   "outputs": [
    {
     "name": "stdout",
     "output_type": "stream",
     "text": [
      "banana 키는 존재하지 않습니다.\n"
     ]
    }
   ],
   "source": [
    "dictTmp = {'melon' : 100 , 'bravo' : 200 , 'bibibig' : 300 } \n",
    "target  = 'banana' \n",
    "\n",
    "if target in dictTmp : \n",
    "    print( dictTmp[target] )\n",
    "else :\n",
    "    print('{} 키는 존재하지 않습니다.'.format(target))"
   ]
  },
  {
   "cell_type": "markdown",
   "id": "cd4419c8",
   "metadata": {},
   "source": [
    "- 돌발퀴즈 \n",
    "- 연산자 % , == , and , or \n",
    "- 윤년의 조건 : 4의배수이고 100의 배수가 아니거나 400의 배수일 때 \n",
    "- input 함수를 이용해서 년도를 입력받아 윤년인지 아닌지를 판단하고 싶다면?    "
   ]
  },
  {
   "cell_type": "code",
   "execution_count": 42,
   "id": "4e789b23",
   "metadata": {},
   "outputs": [
    {
     "name": "stdout",
     "output_type": "stream",
     "text": [
      "년도 입력하세요 : 2023\n",
      "not leap year\n",
      "\n",
      "not leap year\n"
     ]
    }
   ],
   "source": [
    "year = int(input('년도 입력하세요 : ')) \n",
    "\n",
    "if ((year%4 == 0) and (year%100 != 0)) or (year%400 == 0) : \n",
    "    print('leap year')\n",
    "else :\n",
    "    print('not leap year')\n",
    "\n",
    "print()\n",
    "if ((year%4 == 0) and (year%100 != 0)) :\n",
    "    print('leap year')\n",
    "elif (year%400 == 0) : \n",
    "    print('leap year')\n",
    "else :\n",
    "    print('not leap year')\n"
   ]
  },
  {
   "cell_type": "markdown",
   "id": "33bb1381",
   "metadata": {},
   "source": [
    "- 돌발퀴즈(확장)\n",
    "- input 함수를 이용해서 년도, 월 입력받아서 월의 마지막 날을 출력하라"
   ]
  },
  {
   "cell_type": "code",
   "execution_count": 43,
   "id": "dcc0c852",
   "metadata": {},
   "outputs": [
    {
     "name": "stdout",
     "output_type": "stream",
     "text": [
      "년도 입력하세요 : 2023\n",
      "월   입력하세요 : 2\n",
      "2023 년 2 월의 마지막날은 28일 입니다\n"
     ]
    }
   ],
   "source": [
    "yearMonths     = [31, 28, 31, 30, 31, 30, 31, 31, 30, 31, 30, 31]\n",
    "leapYearMonths = [31, 29, 31, 30, 31, 30, 31, 31, 30, 31, 30, 31]\n",
    "\n",
    "year  = int(input('년도 입력하세요 : ')) \n",
    "month = int(input('월   입력하세요 : ')) \n",
    "\n",
    "if ((year%4 == 0) and (year%100 != 0)) :\n",
    "    print('{} 년 {} 월의 마지막날은 {}일 입니다'.format(year, month , leapYearMonths[month-1] ))\n",
    "elif (year%400 == 0) : \n",
    "    print('{} 년 {} 월의 마지막날은 {}일 입니다'.format(year, month , leapYearMonths[month-1] ))\n",
    "else :\n",
    "    print('{} 년 {} 월의 마지막날은 {}일 입니다'.format(year, month , yearMonths[month-1] ))"
   ]
  },
  {
   "cell_type": "markdown",
   "id": "9c59f0eb",
   "metadata": {},
   "source": [
    "- date, datetime 날짜관련 모듈이 있다\n",
    "- xxxxxxxx.py(module) - 변수, 함수, 클래스 \n",
    "- import , from ~ import \n",
    "- package : 여러개의 모듈을 묶는 것 \n",
    "- 함수 < 모듈 < 패키지 \n",
    "- 형식) import 모듈\n",
    "- 형식) from 패키지.모듈 import 함수 , 클래스\n",
    "- 형식) from 패키지      import 모듈\n",
    "- 형식) from 모듈        import 함수 , 클래스 \n",
    "\n"
   ]
  },
  {
   "cell_type": "code",
   "execution_count": 58,
   "id": "0c355a44",
   "metadata": {},
   "outputs": [
    {
     "name": "stdout",
     "output_type": "stream",
     "text": [
      "dir -  ['__add__', '__class__', '__delattr__', '__dir__', '__doc__', '__eq__', '__format__', '__ge__', '__getattribute__', '__getstate__', '__gt__', '__hash__', '__init__', '__init_subclass__', '__le__', '__lt__', '__ne__', '__new__', '__radd__', '__reduce__', '__reduce_ex__', '__repr__', '__rsub__', '__setattr__', '__sizeof__', '__str__', '__sub__', '__subclasshook__', 'ctime', 'day', 'fromisocalendar', 'fromisoformat', 'fromordinal', 'fromtimestamp', 'isocalendar', 'isoformat', 'isoweekday', 'max', 'min', 'month', 'replace', 'resolution', 'strftime', 'timetuple', 'today', 'toordinal', 'weekday', 'year'] <class 'datetime.date'>\n",
      "\n",
      "today -  2023-09-06\n",
      "2023 9 6\n",
      "\n",
      "today -  2023-09-06 13:22:42.033507\n",
      "dir -  ['__add__', '__class__', '__delattr__', '__dir__', '__doc__', '__eq__', '__format__', '__ge__', '__getattribute__', '__getstate__', '__gt__', '__hash__', '__init__', '__init_subclass__', '__le__', '__lt__', '__ne__', '__new__', '__radd__', '__reduce__', '__reduce_ex__', '__repr__', '__rsub__', '__setattr__', '__sizeof__', '__str__', '__sub__', '__subclasshook__', 'astimezone', 'combine', 'ctime', 'date', 'day', 'dst', 'fold', 'fromisocalendar', 'fromisoformat', 'fromordinal', 'fromtimestamp', 'hour', 'isocalendar', 'isoformat', 'isoweekday', 'max', 'microsecond', 'min', 'minute', 'month', 'now', 'replace', 'resolution', 'second', 'strftime', 'strptime', 'time', 'timestamp', 'timetuple', 'timetz', 'today', 'toordinal', 'tzinfo', 'tzname', 'utcfromtimestamp', 'utcnow', 'utcoffset', 'utctimetuple', 'weekday', 'year']\n"
     ]
    }
   ],
   "source": [
    "from datetime import date, datetime\n",
    "\n",
    "today = date.today()\n",
    "print('dir - ' , dir(today) , type(today))\n",
    "print()\n",
    "print('today - ' , today) \n",
    "\n",
    "print(today.year , today.month , today.day)\n",
    "\n",
    "print()\n",
    "today = datetime.today()\n",
    "print('today - ' , today)\n",
    "print('dir - ' , dir(today))\n"
   ]
  },
  {
   "cell_type": "code",
   "execution_count": 65,
   "id": "1e002117",
   "metadata": {},
   "outputs": [
    {
     "name": "stdout",
     "output_type": "stream",
     "text": [
      "날짜에 대한 연산을 도와주는 함수\n",
      "2023-09-07\n",
      "\n",
      "\n",
      "2025-10-07\n"
     ]
    }
   ],
   "source": [
    "print('날짜에 대한 연산을 도와주는 함수')\n",
    "from datetime import timedelta \n",
    "from dateutil.relativedelta import relativedelta\n",
    "\n",
    "today = date.today()\n",
    "\n",
    "day = timedelta(days = 1)\n",
    "\n",
    "print(today + day)\n",
    "\n",
    "print()\n",
    "print()\n",
    "\n",
    "day   = relativedelta(days   = 1)\n",
    "month = relativedelta(months = 1)\n",
    "year  = relativedelta(years  = 2)\n",
    "# print(today + year , today + month , today + day)\n",
    "today = today + year\n",
    "today = today + month\n",
    "today = today + day\n",
    "print(today)"
   ]
  },
  {
   "cell_type": "code",
   "execution_count": 71,
   "id": "ee251522",
   "metadata": {},
   "outputs": [
    {
     "name": "stdout",
     "output_type": "stream",
     "text": [
      "문자 -> 날짜\n",
      "type -  <class 'str'>\n",
      "\n",
      "2023-09-06 00:00:00 <class 'datetime.datetime'>\n",
      "날짜 -> 문자\n",
      "2023-09-06 <class 'str'>\n"
     ]
    }
   ],
   "source": [
    "print('문자 -> 날짜')\n",
    "\n",
    "strDate = '2023-09-06'\n",
    "print('type - ' , type(strDate))\n",
    "\n",
    "print()\n",
    "\n",
    "castingDate = datetime.strptime(strDate , '%Y-%m-%d')\n",
    "print(castingDate , type(castingDate))\n",
    "\n",
    "print('날짜 -> 문자') \n",
    "print(castingDate.strftime('%Y-%m-%d') , type( castingDate.strftime('%Y-%m-%d') ) )"
   ]
  },
  {
   "cell_type": "code",
   "execution_count": 81,
   "id": "8f4d2e3e",
   "metadata": {},
   "outputs": [
    {
     "name": "stdout",
     "output_type": "stream",
     "text": [
      "년도 입력하세요 : 2023\n",
      "월   입력하세요 : 2\n",
      "input date -  2023-3 <class 'str'>\n",
      "casting date -  2023-03-01 00:00:00 <class 'datetime.datetime'>\n",
      "lastDay -  28\n",
      "2023 년 2 월의 마지막날은 28일 입니다\n"
     ]
    }
   ],
   "source": [
    "year  = int(input('년도 입력하세요 : ')) \n",
    "month = int(input('월   입력하세요 : ')) \n",
    "\n",
    "yearMonth = '{}-{}'.format(year, month + 1) \n",
    "print('input date - ' , yearMonth , type(yearMonth))\n",
    "\n",
    "yearMonthDate = datetime.strptime(yearMonth , '%Y-%m')\n",
    "print('casting date - ' , yearMonthDate , type(yearMonthDate))\n",
    "\n",
    "lastDay = yearMonthDate - relativedelta(days = 1)\n",
    "lastDay = lastDay.day\n",
    "print('lastDay - ' , lastDay)\n",
    "\n",
    "if ((year%4 == 0) and (year%100 != 0)) :\n",
    "    print('{} 년 {} 월의 마지막날은 {}일 입니다'.format(year, month , lastDay ))\n",
    "elif (year%400 == 0) : \n",
    "    print('{} 년 {} 월의 마지막날은 {}일 입니다'.format(year, month , lastDay ))\n",
    "else :\n",
    "    print('{} 년 {} 월의 마지막날은 {}일 입니다'.format(year, month , lastDay ))"
   ]
  },
  {
   "cell_type": "markdown",
   "id": "b8bf8626",
   "metadata": {},
   "source": [
    "- 3항 연산자 :  (조건식) ? 참 : 거짓\n",
    "- python     :  참 if (조건식) else 거짓 "
   ]
  },
  {
   "cell_type": "code",
   "execution_count": 84,
   "id": "265da146",
   "metadata": {},
   "outputs": [
    {
     "name": "stdout",
     "output_type": "stream",
     "text": [
      "18\n",
      "\n",
      "3항 연산자로 변경\n",
      "18\n"
     ]
    }
   ],
   "source": [
    "tmp = 9 \n",
    "\n",
    "if tmp >= 5 : \n",
    "    print(tmp * 2)\n",
    "else :\n",
    "    print(tmp + 2) \n",
    "\n",
    "print()\n",
    "print('3항 연산자로 변경') \n",
    "\n",
    "result = tmp * 2 if tmp > 5 else tmp + 2\n",
    "print(result) "
   ]
  },
  {
   "cell_type": "markdown",
   "id": "c068f354",
   "metadata": {},
   "source": [
    "- 돌발퀴즈 \n",
    "- 011 SK , 016 KT , 019 LG\n",
    "- input 함수로 011-xxxx-xxxxx \n",
    "- 통신사를 판단하고 싶다면? \n",
    "- 출력예시) 당신이 사용하는 통신사는 SK 입니다 .\n"
   ]
  },
  {
   "cell_type": "code",
   "execution_count": 96,
   "id": "1c86d04c",
   "metadata": {},
   "outputs": [
    {
     "name": "stdout",
     "output_type": "stream",
     "text": [
      "번호를 입력하세요 : 019-1234-1234\n",
      "number -  019-1234-1234 <class 'str'>\n",
      "당신이 사용하는 통신사는 LG 입니다 .\n",
      "\n",
      "LG\n"
     ]
    }
   ],
   "source": [
    "phoneNumber = input('번호를 입력하세요 : ') \n",
    "print('number - ' , phoneNumber , type(phoneNumber))\n",
    "brand = phoneNumber.split('-')[0]\n",
    "if brand == '011' : \n",
    "    print('당신이 사용하는 통신사는 SK 입니다 .')\n",
    "elif brand == '016' : \n",
    "    print('당신이 사용하는 통신사는 KT 입니다 .')\n",
    "elif brand == '019' : \n",
    "    print('당신이 사용하는 통신사는 LG 입니다 .')\n",
    "\n",
    "print()\n",
    "print('SK') if brand == '011' \n",
    "            else print('KT') if brand == '016' \n",
    "            else print('LG') if brand == '019' \n",
    "            else print('알뜰폰')"
   ]
  },
  {
   "cell_type": "markdown",
   "id": "85fc544e",
   "metadata": {},
   "source": [
    "- in , not in "
   ]
  },
  {
   "cell_type": "code",
   "execution_count": 106,
   "id": "4c0b3328",
   "metadata": {},
   "outputs": [
    {
     "name": "stdout",
     "output_type": "stream",
     "text": [
      "TRUE\n"
     ]
    }
   ],
   "source": [
    "lstTmp   = [10, 20, 30]\n",
    "dictTmp  = { 'name' : 'seop' , 'address' : 'busan'} \n",
    "setTmp   = {10, 12, 24} \n",
    "tupleTmp = (1,2,3,4) \n",
    "\n",
    "if 1 in tupleTmp : \n",
    "    print('TRUE')\n",
    "else : \n",
    "    print('FALSE') \n",
    "    "
   ]
  },
  {
   "cell_type": "markdown",
   "id": "94bd107e",
   "metadata": {},
   "source": [
    "- 관계연산자 : > , >= , < , <= , == , != "
   ]
  },
  {
   "cell_type": "code",
   "execution_count": 114,
   "id": "8ea5f114",
   "metadata": {},
   "outputs": [
    {
     "name": "stdout",
     "output_type": "stream",
     "text": [
      " == 양 변이 같을 때  False\n",
      " != 양 변이 다를 때  True\n",
      " >  왼쪽이 클    때  True\n",
      " >= 왼쪽이 크거나 같을 때 True\n",
      " <  오른쪽이 클  때  False\n",
      " <= 오른쪽이 크거나 같을 때 False\n"
     ]
    }
   ],
   "source": [
    "x = 15 \n",
    "y = 10 \n",
    "\n",
    "print(' == 양 변이 같을 때 ' , x == y)\n",
    "print(' != 양 변이 다를 때 ' , x != y)\n",
    "print(' >  왼쪽이 클    때 ' , x > y)\n",
    "print(' >= 왼쪽이 크거나 같을 때' , x >= y)\n",
    "print(' <  오른쪽이 클  때 ' , x < y)\n",
    "print(' <= 오른쪽이 크거나 같을 때' , x <= y)\n"
   ]
  },
  {
   "cell_type": "code",
   "execution_count": 117,
   "id": "750a8562",
   "metadata": {},
   "outputs": [
    {
     "name": "stdout",
     "output_type": "stream",
     "text": [
      "연산자는 우선순위 가진다 - \n",
      "산술 > 관계 > 논리\n",
      "False\n",
      "True\n",
      "pass\n"
     ]
    }
   ],
   "source": [
    "print('연산자는 우선순위 가진다 - ') \n",
    "print('산술 > 관계 > 논리')\n",
    "print( (3 + 4) > (7 + 3))\n",
    "\n",
    "print( ((5 + 10) > 3) and  ((7 + 3) == 10) ) \n",
    "\n",
    "score = 90 \n",
    "grade = 'A' \n",
    "\n",
    "if score >= 90 and grade == 'A' :\n",
    "    print('pass')"
   ]
  },
  {
   "cell_type": "code",
   "execution_count": null,
   "id": "eb2ba87e",
   "metadata": {},
   "outputs": [],
   "source": []
  },
  {
   "cell_type": "code",
   "execution_count": null,
   "id": "60cfa20c",
   "metadata": {},
   "outputs": [],
   "source": []
  },
  {
   "cell_type": "code",
   "execution_count": null,
   "id": "121ab49f",
   "metadata": {},
   "outputs": [],
   "source": []
  }
 ],
 "metadata": {
  "kernelspec": {
   "display_name": "Python 3 (ipykernel)",
   "language": "python",
   "name": "python3"
  },
  "language_info": {
   "codemirror_mode": {
    "name": "ipython",
    "version": 3
   },
   "file_extension": ".py",
   "mimetype": "text/x-python",
   "name": "python",
   "nbconvert_exporter": "python",
   "pygments_lexer": "ipython3",
   "version": "3.11.4"
  }
 },
 "nbformat": 4,
 "nbformat_minor": 5
}
