{
 "cells": [
  {
   "cell_type": "code",
   "execution_count": 1,
   "id": "58af78fe",
   "metadata": {},
   "outputs": [],
   "source": [
    "import numpy  as np \n",
    "import pandas as pd\n",
    "\n",
    "def aryInfo(ary) : \n",
    "    print('type - ' , type(ary)) \n",
    "    print('shape - ' , ary.shape)\n",
    "    print('ndim  - ' , ary.ndim)\n",
    "    print('dtype - ' , ary.dtype)\n",
    "    print()\n",
    "    print('data  -')\n",
    "    print(ary) "
   ]
  },
  {
   "cell_type": "markdown",
   "id": "7e99476c",
   "metadata": {},
   "source": [
    "- 전치행렬(transpose matirx)\n",
    "- T"
   ]
  },
  {
   "cell_type": "code",
   "execution_count": 5,
   "id": "cf8033cb",
   "metadata": {},
   "outputs": [
    {
     "name": "stdout",
     "output_type": "stream",
     "text": [
      "type -  <class 'numpy.ndarray'>\n",
      "shape -  (2, 3)\n",
      "ndim  -  2\n",
      "dtype -  int32\n",
      "\n",
      "data  -\n",
      "[[1 2 3]\n",
      " [4 5 6]]\n",
      "\n",
      "type -  <class 'numpy.ndarray'>\n",
      "shape -  (3, 2)\n",
      "ndim  -  2\n",
      "dtype -  int32\n",
      "\n",
      "data  -\n",
      "[[1 4]\n",
      " [2 5]\n",
      " [3 6]]\n"
     ]
    }
   ],
   "source": [
    "ary = np.arange(1,7).reshape(2,3)\n",
    "aryInfo(ary)\n",
    "print()\n",
    "transposeAry = ary.T\n",
    "aryInfo(transposeAry)\n"
   ]
  },
  {
   "cell_type": "code",
   "execution_count": 11,
   "id": "9eba213b",
   "metadata": {},
   "outputs": [
    {
     "name": "stdout",
     "output_type": "stream",
     "text": [
      "1차원 배열에 대한 전치행렬이 필요할까요? \n",
      "정답 : 필요하다 \n",
      "이유는 : 함수의 인자로 배열 넘길때 타입이 맞아야 하므로\n",
      "type -  <class 'numpy.ndarray'>\n",
      "shape -  (6,)\n",
      "ndim  -  1\n",
      "dtype -  int32\n",
      "\n",
      "data  -\n",
      "[1 2 3 4 5 6]\n",
      "type -  <class 'numpy.ndarray'>\n",
      "shape -  (6, 1)\n",
      "ndim  -  2\n",
      "dtype -  int32\n",
      "\n",
      "data  -\n",
      "[[1]\n",
      " [2]\n",
      " [3]\n",
      " [4]\n",
      " [5]\n",
      " [6]]\n"
     ]
    }
   ],
   "source": [
    "print('1차원 배열에 대한 전치행렬이 필요할까요? ') \n",
    "print('정답 : 필요하다 ')\n",
    "print('이유는 : 함수의 인자로 배열 넘길때 타입이 맞아야 하므로') \n",
    "ary = np.arange(1 , 7)\n",
    "aryInfo(ary)\n",
    "\n",
    "transposeAry = ary.reshape(1,6).T\n",
    "aryInfo(transposeAry)"
   ]
  },
  {
   "cell_type": "markdown",
   "id": "343b2321",
   "metadata": {},
   "source": [
    "- flatten : 다차원 배열을 1차원으로 바꿀때"
   ]
  },
  {
   "cell_type": "code",
   "execution_count": 13,
   "id": "c8f7e2df",
   "metadata": {},
   "outputs": [
    {
     "name": "stdout",
     "output_type": "stream",
     "text": [
      "type -  <class 'numpy.ndarray'>\n",
      "shape -  (6,)\n",
      "ndim  -  1\n",
      "dtype -  int32\n",
      "\n",
      "data  -\n",
      "[1 2 3 4 5 6]\n"
     ]
    }
   ],
   "source": [
    "aryInfo(transposeAry.flatten() )"
   ]
  },
  {
   "cell_type": "markdown",
   "id": "f71d06e9",
   "metadata": {},
   "source": [
    "- 주의사항) 차원에 대한 주의가 필요함"
   ]
  },
  {
   "cell_type": "code",
   "execution_count": 17,
   "id": "d3817808",
   "metadata": {},
   "outputs": [
    {
     "name": "stdout",
     "output_type": "stream",
     "text": [
      "type -  <class 'numpy.ndarray'>\n",
      "shape -  (10,)\n",
      "ndim  -  1\n",
      "dtype -  int32\n",
      "\n",
      "data  -\n",
      "[0 1 2 3 4 5 6 7 8 9]\n",
      "\n",
      "[[0 1 2 3 4 5 6 7 8 9]]\n",
      "[[0]\n",
      " [1]\n",
      " [2]\n",
      " [3]\n",
      " [4]\n",
      " [5]\n",
      " [6]\n",
      " [7]\n",
      " [8]\n",
      " [9]]\n",
      "\n",
      "차원의 변경이 아니라 차원증가 - np.newaxis\n",
      "\n",
      "[[0 1 2 3 4 5 6 7 8 9]]\n",
      "[[0]\n",
      " [1]\n",
      " [2]\n",
      " [3]\n",
      " [4]\n",
      " [5]\n",
      " [6]\n",
      " [7]\n",
      " [8]\n",
      " [9]]\n"
     ]
    }
   ],
   "source": [
    "ary = np.arange(10)\n",
    "aryInfo(ary)\n",
    "\n",
    "print()\n",
    "\n",
    "print( ary.reshape(1, 10))\n",
    "print( ary.reshape(10, 1))\n",
    "\n",
    "print()\n",
    "print('차원의 변경이 아니라 차원증가 - np.newaxis')\n",
    "print()\n",
    "print( ary[ np.newaxis , : ] )\n",
    "print( ary[ : ,  np.newaxis ] )\n"
   ]
  },
  {
   "cell_type": "markdown",
   "id": "481d0d80",
   "metadata": {},
   "source": [
    "- 배열연결"
   ]
  },
  {
   "cell_type": "code",
   "execution_count": 28,
   "id": "5cccd0d1",
   "metadata": {},
   "outputs": [
    {
     "name": "stdout",
     "output_type": "stream",
     "text": [
      "hstack() - 행의갯수가 동일한 두개의 배열을 연결 - \n"
     ]
    }
   ],
   "source": [
    "print('hstack() - 행의갯수가 동일한 두개의 배열을 연결 - ') \n",
    "ary01 = np.ones((3,4))\n",
    "ary02 = np.zeros((3,4))"
   ]
  },
  {
   "cell_type": "code",
   "execution_count": 29,
   "id": "13104379",
   "metadata": {},
   "outputs": [
    {
     "name": "stdout",
     "output_type": "stream",
     "text": [
      "type -  <class 'numpy.ndarray'>\n",
      "shape -  (3, 4)\n",
      "ndim  -  2\n",
      "dtype -  float64\n",
      "\n",
      "data  -\n",
      "[[1. 1. 1. 1.]\n",
      " [1. 1. 1. 1.]\n",
      " [1. 1. 1. 1.]]\n",
      "\n",
      "type -  <class 'numpy.ndarray'>\n",
      "shape -  (3, 4)\n",
      "ndim  -  2\n",
      "dtype -  float64\n",
      "\n",
      "data  -\n",
      "[[0. 0. 0. 0.]\n",
      " [0. 0. 0. 0.]\n",
      " [0. 0. 0. 0.]]\n",
      "\n",
      "hstack - \n",
      "[[1. 1. 1. 1. 0. 0. 0. 0.]\n",
      " [1. 1. 1. 1. 0. 0. 0. 0.]\n",
      " [1. 1. 1. 1. 0. 0. 0. 0.]]\n"
     ]
    }
   ],
   "source": [
    "aryInfo(ary01)\n",
    "print()\n",
    "aryInfo(ary02)\n",
    "print()\n",
    "print('hstack - ')\n",
    "print( np.hstack([ary01, ary02]))"
   ]
  },
  {
   "cell_type": "code",
   "execution_count": 30,
   "id": "41f8521c",
   "metadata": {},
   "outputs": [
    {
     "name": "stdout",
     "output_type": "stream",
     "text": [
      "vstack() - 열의갯수가 동일한 두개의 배열을 연결 - \n"
     ]
    }
   ],
   "source": [
    "print('vstack() - 열의갯수가 동일한 두개의 배열을 연결 - ') \n",
    "ary01 = np.ones((3,4))\n",
    "ary02 = np.zeros((3,4))"
   ]
  },
  {
   "cell_type": "code",
   "execution_count": 31,
   "id": "bad6bc99",
   "metadata": {},
   "outputs": [
    {
     "name": "stdout",
     "output_type": "stream",
     "text": [
      "vstack - \n",
      "[[1. 1. 1. 1.]\n",
      " [1. 1. 1. 1.]\n",
      " [1. 1. 1. 1.]\n",
      " [0. 0. 0. 0.]\n",
      " [0. 0. 0. 0.]\n",
      " [0. 0. 0. 0.]]\n"
     ]
    }
   ],
   "source": [
    "print('vstack - ')\n",
    "print( np.vstack([ary01, ary02]))"
   ]
  },
  {
   "cell_type": "code",
   "execution_count": 37,
   "id": "74c27506",
   "metadata": {},
   "outputs": [
    {
     "name": "stdout",
     "output_type": "stream",
     "text": [
      "[[1. 1. 1. 1.]\n",
      " [1. 1. 1. 1.]\n",
      " [1. 1. 1. 1.]]\n",
      "\n",
      "[[0. 0. 0. 0.]\n",
      " [0. 0. 0. 0.]\n",
      " [0. 0. 0. 0.]]\n"
     ]
    }
   ],
   "source": [
    "print(ary01)\n",
    "print()\n",
    "print(ary02)"
   ]
  },
  {
   "cell_type": "code",
   "execution_count": 40,
   "id": "5801dcfa",
   "metadata": {},
   "outputs": [
    {
     "name": "stdout",
     "output_type": "stream",
     "text": [
      "stack - 사용자가 지정한 축(x,y)\n",
      "축 axis = 0 , axis = 1\n",
      "shape axis=0 - 2*3*4 , axis=1 3*2*4 \n",
      "type -  <class 'numpy.ndarray'>\n",
      "shape -  (3, 2, 4)\n",
      "ndim  -  3\n",
      "dtype -  float64\n",
      "\n",
      "data  -\n",
      "[[[1. 1. 1. 1.]\n",
      "  [0. 0. 0. 0.]]\n",
      "\n",
      " [[1. 1. 1. 1.]\n",
      "  [0. 0. 0. 0.]]\n",
      "\n",
      " [[1. 1. 1. 1.]\n",
      "  [0. 0. 0. 0.]]]\n"
     ]
    }
   ],
   "source": [
    "print('stack - 사용자가 지정한 축(x,y)')\n",
    "print('축 axis = 0 , axis = 1')\n",
    "print('shape axis=0 - 2*3*4 , axis=1 3*2*4 ')\n",
    "ary01 = np.ones((3,4))\n",
    "ary02 = np.zeros((3,4))\n",
    "\n",
    "aryInfo( np.stack([ary01, ary02] , axis =1))"
   ]
  },
  {
   "cell_type": "code",
   "execution_count": 44,
   "id": "5523bd48",
   "metadata": {},
   "outputs": [
    {
     "name": "stdout",
     "output_type": "stream",
     "text": [
      "tile() - 동일한 배열을 반복하여 연결\n"
     ]
    },
    {
     "data": {
      "text/plain": [
       "array([[1, 2, 3, 1, 2, 3, 1, 2, 3],\n",
       "       [4, 5, 6, 4, 5, 6, 4, 5, 6],\n",
       "       [1, 2, 3, 1, 2, 3, 1, 2, 3],\n",
       "       [4, 5, 6, 4, 5, 6, 4, 5, 6],\n",
       "       [1, 2, 3, 1, 2, 3, 1, 2, 3],\n",
       "       [4, 5, 6, 4, 5, 6, 4, 5, 6]])"
      ]
     },
     "execution_count": 44,
     "metadata": {},
     "output_type": "execute_result"
    }
   ],
   "source": [
    "print('tile() - 동일한 배열을 반복하여 연결') \n",
    "ary = np.arange(1,7).reshape(-1,3)\n",
    "np.tile(ary , (3,3))"
   ]
  },
  {
   "cell_type": "markdown",
   "id": "a033fb83",
   "metadata": {},
   "source": [
    "- 돌발퀴즈"
   ]
  },
  {
   "cell_type": "code",
   "execution_count": null,
   "id": "571fcb37",
   "metadata": {},
   "outputs": [],
   "source": [
    "# 아래 결과가 나올 수 있도록 np.함수()를 이용하여 작성해 보세요~~~\n",
    "# \n",
    "# array([[   0.,    0.,    0.,    1.,    1.],\n",
    "#        [   0.,    0.,    0.,    1.,    1.],\n",
    "#        [   0.,    0.,    0.,    1.,    1.],\n",
    "#        [  10.,   20.,   30.,   40.,   50.],\n",
    "#        [  60.,   70.,   80.,   90.,  100.],\n",
    "#        [ 110.,  120.,  130.,  140.,  150.],\n",
    "#        [   0.,    0.,    0.,    1.,    1.],\n",
    "#        [   0.,    0.,    0.,    1.,    1.],\n",
    "#        [   0.,    0.,    0.,    1.,    1.],\n",
    "#        [  10.,   20.,   30.,   40.,   50.],\n",
    "#        [  60.,   70.,   80.,   90.,  100.],\n",
    "#        [ 110.,  120.,  130.,  140.,  150.]])"
   ]
  },
  {
   "cell_type": "code",
   "execution_count": 53,
   "id": "009707cb",
   "metadata": {},
   "outputs": [
    {
     "name": "stdout",
     "output_type": "stream",
     "text": [
      "[[  0.   0.   0.   1.   1.]\n",
      " [  0.   0.   0.   1.   1.]\n",
      " [  0.   0.   0.   1.   1.]\n",
      " [ 10.  20.  30.  40.  50.]\n",
      " [ 60.  70.  80.  90. 100.]\n",
      " [110. 120. 130. 140. 150.]\n",
      " [  0.   0.   0.   1.   1.]\n",
      " [  0.   0.   0.   1.   1.]\n",
      " [  0.   0.   0.   1.   1.]\n",
      " [ 10.  20.  30.  40.  50.]\n",
      " [ 60.  70.  80.  90. 100.]\n",
      " [110. 120. 130. 140. 150.]]\n"
     ]
    }
   ],
   "source": [
    "ary01 = np.zeros((3,3))\n",
    "ary02 = np.ones((3,2))\n",
    "ary03 = np.hstack([ary01 , ary02])\n",
    "# print(ary03)\n",
    "ary04 = np.arange(10, 160 , 10).reshape(3,5) \n",
    "ary05 = np.vstack([ary03 , ary04])\n",
    "# print(ary05)\n",
    "answerAry = np.tile(ary05 , (2,1))\n",
    "print(answerAry)"
   ]
  },
  {
   "cell_type": "markdown",
   "id": "273921ca",
   "metadata": {},
   "source": [
    "데이터 삭제\n",
    "- delete()\n",
    "- 기준 axis = 0(행) , axis = 1(열) \n",
    "- 기준을 정의하지 않는다면 1차원변경 삭제\n",
    "- 리턴이 있다(원본배열에 적용하는 것이 아니라 변경된 새로운 리턴) "
   ]
  },
  {
   "cell_type": "code",
   "execution_count": 79,
   "id": "e9a3c9c7",
   "metadata": {},
   "outputs": [
    {
     "name": "stdout",
     "output_type": "stream",
     "text": [
      "type -  <class 'numpy.ndarray'>\n",
      "shape -  (3, 4)\n",
      "ndim  -  2\n",
      "dtype -  int32\n",
      "\n",
      "data  -\n",
      "[[3 9 3 0]\n",
      " [6 1 1 8]\n",
      " [5 8 1 6]]\n"
     ]
    }
   ],
   "source": [
    "ary = np.random.randint(0, 10 , (3,4))\n",
    "aryInfo(ary)"
   ]
  },
  {
   "cell_type": "code",
   "execution_count": 82,
   "id": "71e63c5f",
   "metadata": {},
   "outputs": [
    {
     "data": {
      "text/plain": [
       "array([[3, 9, 3, 0],\n",
       "       [5, 8, 1, 6]])"
      ]
     },
     "execution_count": 82,
     "metadata": {},
     "output_type": "execute_result"
    }
   ],
   "source": [
    "newAry = np.delete(ary , 1 , axis = 0)\n",
    "newAry"
   ]
  },
  {
   "cell_type": "code",
   "execution_count": 84,
   "id": "e0dd4737",
   "metadata": {},
   "outputs": [
    {
     "data": {
      "text/plain": [
       "array([3, 3, 0, 6, 1, 1, 8, 5, 8, 1, 6])"
      ]
     },
     "execution_count": 84,
     "metadata": {},
     "output_type": "execute_result"
    }
   ],
   "source": [
    "np.delete(ary , 1)"
   ]
  },
  {
   "cell_type": "markdown",
   "id": "70ed29fa",
   "metadata": {},
   "source": [
    "통계함수(차원축소 함수 == dimension reduction)\n",
    "- 기술적통계(min, max, sum, mean, median, std, var, etc...) \n",
    "- all, any\n",
    "- 중요) argmin , argmax : 인덱스를 리턴한다"
   ]
  },
  {
   "cell_type": "code",
   "execution_count": 98,
   "id": "0a218302",
   "metadata": {},
   "outputs": [
    {
     "name": "stdout",
     "output_type": "stream",
     "text": [
      "data   -  (10,) 1 int32\n",
      "sum    -  55 55\n",
      "mean   -  5.5\n",
      "median -  5.5\n",
      "max    -  10\n",
      "min    -  1\n",
      "var    -  8.25\n",
      "std    -  2.8722813232690143\n",
      "quartile -  1.0\n",
      "quartile -  3.25\n",
      "quartile -  5.5\n",
      "quartile -  7.75\n",
      "quartile -  10.0\n"
     ]
    }
   ],
   "source": [
    "ary = np.array([1,2,3,4,5,6,7,8,9,10]) \n",
    "print('data   - ' , ary.shape , ary.ndim , ary.dtype)\n",
    "print('sum    - ' , np.sum(ary) , ary.sum())\n",
    "print('mean   - ' , np.mean(ary))\n",
    "print('median - ' , np.median(ary))\n",
    "print('max    - ' , np.max(ary))\n",
    "print('min    - ' , np.min(ary))\n",
    "print('var    - ' , np.var(ary))\n",
    "print('std    - ' , np.std(ary))\n",
    "print('quartile - ' , np.percentile(ary, 0))\n",
    "print('quartile - ' , np.percentile(ary, 25))\n",
    "print('quartile - ' , np.percentile(ary, 50))\n",
    "print('quartile - ' , np.percentile(ary, 75))\n",
    "print('quartile - ' , np.percentile(ary, 100))\n"
   ]
  },
  {
   "cell_type": "code",
   "execution_count": 104,
   "id": "d891e821",
   "metadata": {},
   "outputs": [
    {
     "name": "stdout",
     "output_type": "stream",
     "text": [
      "argmin -  1\n",
      "argmax -  10\n",
      "\n",
      "any -  True\n",
      "all -  False\n"
     ]
    }
   ],
   "source": [
    "print('argmin - ' , ary[ np.argmin(ary) ] )\n",
    "print('argmax - ' , ary[ np.argmax(ary) ] )\n",
    "print()\n",
    "print('any - ' , np.any([True , False , True]))\n",
    "print('all - ' , np.all([True , False , True]))"
   ]
  },
  {
   "cell_type": "code",
   "execution_count": 105,
   "id": "5d7f16e0",
   "metadata": {},
   "outputs": [
    {
     "name": "stdout",
     "output_type": "stream",
     "text": [
      "type -  <class 'numpy.ndarray'>\n",
      "shape -  (4, 5)\n",
      "ndim  -  2\n",
      "dtype -  int32\n",
      "\n",
      "data  -\n",
      "[[ 1  2  3  4  5]\n",
      " [ 6  7  8  9 10]\n",
      " [11 12 13 14 15]\n",
      " [16 17 18 19 20]]\n"
     ]
    }
   ],
   "source": [
    "ary = np.arange(1, 21).reshape(4, -1)\n",
    "aryInfo(ary)"
   ]
  },
  {
   "cell_type": "code",
   "execution_count": 112,
   "id": "daed0571",
   "metadata": {},
   "outputs": [
    {
     "name": "stdout",
     "output_type": "stream",
     "text": [
      "2차원 배열에서 차원축소함수를 적용하기 위해서는 axis 설정이 중요 - \n",
      "0 : 열 , 1 : 행\n",
      "sum -  210 <class 'numpy.int32'>\n",
      "sum -  [34 38 42 46 50] <class 'numpy.ndarray'>\n",
      "sum -  [15 40 65 90] <class 'numpy.ndarray'>\n"
     ]
    }
   ],
   "source": [
    "print('2차원 배열에서 차원축소함수를 적용하기 위해서는 axis 설정이 중요 - ') \n",
    "print('0 : 열 , 1 : 행')\n",
    "print('sum - ' , np.sum(ary) , type(np.sum(ary)))\n",
    "print('sum - ' , np.sum(ary , axis = 0) , type(np.sum(ary , axis = 0)))\n",
    "print('sum - ' , np.sum(ary , axis = 1) , type(np.sum(ary , axis = 0)))\n"
   ]
  },
  {
   "cell_type": "markdown",
   "id": "087beded",
   "metadata": {},
   "source": [
    "돌발퀴즈"
   ]
  },
  {
   "cell_type": "code",
   "execution_count": 113,
   "id": "18ed03c8",
   "metadata": {},
   "outputs": [
    {
     "name": "stdout",
     "output_type": "stream",
     "text": [
      "type -  <class 'numpy.ndarray'>\n",
      "shape -  (5, 6)\n",
      "ndim  -  2\n",
      "dtype -  int32\n",
      "\n",
      "data  -\n",
      "[[490192 818226 403137 924966   6165 220678]\n",
      " [928877 214309 532538 228294 408598 220458]\n",
      " [ 71960 472782 508188 721393  16703 290552]\n",
      " [255931 765501 857310 289099 721990 294127]\n",
      " [677181 791233 156309 594153 846434 529179]]\n"
     ]
    }
   ],
   "source": [
    "ary = np.random.randint(0, 1000000 , (5,6))\n",
    "aryInfo(ary)"
   ]
  },
  {
   "cell_type": "code",
   "execution_count": 143,
   "id": "02591b6d",
   "metadata": {},
   "outputs": [
    {
     "name": "stdout",
     "output_type": "stream",
     "text": [
      "전체의 최대값 -  928877\n",
      "행 합 -  [2863364 2533074 2081578 3183958 3594489] (5,)\n",
      "행 합을 열로 추가 - \n",
      "[[ 490192  818226  403137  924966    6165  220678 2863364]\n",
      " [ 928877  214309  532538  228294  408598  220458 2533074]\n",
      " [  71960  472782  508188  721393   16703  290552 2081578]\n",
      " [ 255931  765501  857310  289099  721990  294127 3183958]\n",
      " [ 677181  791233  156309  594153  846434  529179 3594489]]\n",
      "[2863364 2863364 2863364 2863364 2863364]\n",
      "\n",
      "\n",
      "각 행의 최대값 -  [924966 928877 721393 857310 846434]\n",
      "각 행의 최대값 열로 추가 -  [[490192 818226 403137 924966   6165 220678 924966]\n",
      " [928877 214309 532538 228294 408598 220458 928877]\n",
      " [ 71960 472782 508188 721393  16703 290552 721393]\n",
      " [255931 765501 857310 289099 721990 294127 857310]\n",
      " [677181 791233 156309 594153 846434 529179 846434]]\n",
      "각 열의 평균 -  [484828.2 612410.2 491496.4 551581.  399978.  310998.8]\n",
      "meanAry shape -  (1, 6)\n",
      "\n",
      "각 열의 평균을 행으로 추가 -  [[490192.  818226.  403137.  924966.    6165.  220678. ]\n",
      " [928877.  214309.  532538.  228294.  408598.  220458. ]\n",
      " [ 71960.  472782.  508188.  721393.   16703.  290552. ]\n",
      " [255931.  765501.  857310.  289099.  721990.  294127. ]\n",
      " [677181.  791233.  156309.  594153.  846434.  529179. ]\n",
      " [484828.2 612410.2 491496.4 551581.  399978.  310998.8]]\n",
      "\n",
      "각 열의 최소값 -  [ 71960 214309 156309 228294   6165 220458]\n"
     ]
    }
   ],
   "source": [
    "print('전체의 최대값 - ' , np.max(ary))\n",
    "print('행 합 - ' , np.sum(ary , axis = 1) , np.sum(ary , axis = 1).shape)\n",
    "sumAry = np.sum(ary , axis = 1).reshape(5, -1)\n",
    "print('행 합을 열로 추가 - ')  \n",
    "print(np.hstack([ary , sumAry]))\n",
    "\n",
    "print( np.array([ ary[idx].sum() for idx in range(ary.shape[0])]) )\n",
    "\n",
    "print()\n",
    "print()\n",
    "print('각 행의 최대값 - ' , np.max(ary , axis = 1))\n",
    "maxAry = np.max(ary , axis = 1).reshape(5, -1)\n",
    "print('각 행의 최대값 열로 추가 - ' , np.hstack( [ary , maxAry]))\n",
    "print('각 열의 평균 - ' , np.mean(ary, axis = 0))\n",
    "meanAry = np.mean(ary, axis = 0).reshape(1, -1)\n",
    "print('meanAry shape - ' , meanAry.shape)\n",
    "print()\n",
    "print('각 열의 평균을 행으로 추가 - ' , np.vstack([ary , meanAry]))\n",
    "print()\n",
    "print('각 열의 최소값 - ' , np.min(ary , axis = 0))"
   ]
  },
  {
   "cell_type": "markdown",
   "id": "59a6638d",
   "metadata": {},
   "source": [
    "sorting\n",
    "- np.sort()  : 원본에 대한 변경 X(inplace = False) \n",
    "- ary.sort() : 원본에 대한 변경 O(inplace = True)"
   ]
  },
  {
   "cell_type": "code",
   "execution_count": 152,
   "id": "69761108",
   "metadata": {},
   "outputs": [
    {
     "name": "stdout",
     "output_type": "stream",
     "text": [
      "[0 1 2 3 4 5 6 7 8 9]\n",
      "\n",
      "[3 0 1 5 4 7 8 6 9 2]\n",
      "np.sort - \n",
      "[0 1 2 3 4 5 6 7 8 9]\n",
      "ary -  [3 0 1 5 4 7 8 6 9 2]\n",
      "desc - \n",
      "[9 8 7 6 5 4 3 2 1 0]\n"
     ]
    }
   ],
   "source": [
    "ary = np.arange(10)\n",
    "print(ary)\n",
    "print()\n",
    "np.random.shuffle(ary)\n",
    "print(ary)\n",
    "print('np.sort - ') \n",
    "newAry = np.sort(ary)\n",
    "print(newAry)\n",
    "print('ary - ' , ary)\n",
    "print('desc - ') \n",
    "newAry = np.sort(ary)[::-1]\n",
    "print(newAry)"
   ]
  },
  {
   "cell_type": "code",
   "execution_count": 161,
   "id": "7cec2dfd",
   "metadata": {},
   "outputs": [
    {
     "name": "stdout",
     "output_type": "stream",
     "text": [
      "행렬에 대한 정렬 - \n",
      "[[ 4  3 11 11]\n",
      " [ 1  5 13  3]\n",
      " [ 7 12 11  2]\n",
      " [ 3 14 10  6]]\n"
     ]
    }
   ],
   "source": [
    "print('행렬에 대한 정렬 - ') \n",
    "ary = np.random.randint(1, 17, (4,4))\n",
    "print(ary)"
   ]
  },
  {
   "cell_type": "code",
   "execution_count": 164,
   "id": "dc8d522d",
   "metadata": {},
   "outputs": [
    {
     "name": "stdout",
     "output_type": "stream",
     "text": [
      "열 정렬 - \n",
      "[[ 1  3 10  2]\n",
      " [ 3  5 11  3]\n",
      " [ 4 12 11  6]\n",
      " [ 7 14 13 11]]\n",
      "\n",
      "[[ 4  3 11 11]\n",
      " [ 1  5 13  3]\n",
      " [ 7 12 11  2]\n",
      " [ 3 14 10  6]]\n",
      "\n",
      "행 정렬 - \n",
      "[[ 3  4 11 11]\n",
      " [ 1  3  5 13]\n",
      " [ 2  7 11 12]\n",
      " [ 3  6 10 14]]\n",
      "\n"
     ]
    }
   ],
   "source": [
    "print('열 정렬 - ') \n",
    "print(np.sort(ary , axis = 0))\n",
    "print()\n",
    "print(ary)\n",
    "print()\n",
    "print('행 정렬 - ')\n",
    "print(np.sort(ary , axis = 1))\n",
    "print()"
   ]
  },
  {
   "cell_type": "markdown",
   "id": "4159dc04",
   "metadata": {},
   "source": [
    "- 만약, 정렬된 인덱스를 필요로 한다면?\n",
    "- np.argsort()"
   ]
  },
  {
   "cell_type": "code",
   "execution_count": 165,
   "id": "0e3415d4",
   "metadata": {},
   "outputs": [
    {
     "name": "stdout",
     "output_type": "stream",
     "text": [
      "[4 3 5 7]\n"
     ]
    }
   ],
   "source": [
    "ary = np.array([4,3,5,7]) \n",
    "print(ary)"
   ]
  },
  {
   "cell_type": "code",
   "execution_count": 169,
   "id": "8c0ae5bf",
   "metadata": {},
   "outputs": [
    {
     "name": "stdout",
     "output_type": "stream",
     "text": [
      "[1 0 2 3]\n",
      "\n",
      "[3 4 5 7]\n",
      "[7 5 4 3]\n"
     ]
    }
   ],
   "source": [
    "sortIdx = np.argsort(ary)\n",
    "print(sortIdx)\n",
    "print()\n",
    "print(ary[sortIdx])\n",
    "print(ary[sortIdx][::-1])"
   ]
  },
  {
   "cell_type": "code",
   "execution_count": 170,
   "id": "2bfa0993",
   "metadata": {},
   "outputs": [
    {
     "name": "stdout",
     "output_type": "stream",
     "text": [
      "[[ 1  3 13 11]\n",
      " [ 5 11 14 11]\n",
      " [ 1  2 16  9]\n",
      " [10  2  5  8]]\n"
     ]
    }
   ],
   "source": [
    "ary =  np.random.randint(1, 17 , (4,4))\n",
    "print(ary)"
   ]
  },
  {
   "cell_type": "code",
   "execution_count": 173,
   "id": "de55efb4",
   "metadata": {},
   "outputs": [
    {
     "data": {
      "text/plain": [
       "array([[0, 2, 3, 3],\n",
       "       [2, 3, 0, 2],\n",
       "       [1, 0, 1, 0],\n",
       "       [3, 1, 2, 1]], dtype=int64)"
      ]
     },
     "execution_count": 173,
     "metadata": {},
     "output_type": "execute_result"
    }
   ],
   "source": [
    "np.argsort(ary , axis = 0)"
   ]
  },
  {
   "cell_type": "markdown",
   "id": "7639ff2b",
   "metadata": {},
   "source": [
    "- 배열에 병합이 아닌 열, 행 추가하는 방법\n",
    "- np.concatenate() \n",
    "- 축의 방향을 설정하여 추가 axis = "
   ]
  },
  {
   "cell_type": "code",
   "execution_count": 175,
   "id": "4c95dd22",
   "metadata": {
    "collapsed": true
   },
   "outputs": [
    {
     "name": "stdout",
     "output_type": "stream",
     "text": [
      "type -  <class 'numpy.ndarray'>\n",
      "shape -  (2, 3)\n",
      "ndim  -  2\n",
      "dtype -  int32\n",
      "\n",
      "data  -\n",
      "[[1 2 3]\n",
      " [4 5 6]]\n"
     ]
    }
   ],
   "source": [
    "ary = np.array([[1,2,3] , [4,5,6]]) \n",
    "aryInfo(ary)"
   ]
  },
  {
   "cell_type": "code",
   "execution_count": 184,
   "id": "b65aa62c",
   "metadata": {},
   "outputs": [
    {
     "name": "stdout",
     "output_type": "stream",
     "text": [
      "[[1 2 3]\n",
      " [4 5 6]\n",
      " [7 8 9]]\n",
      "\n",
      "[[1 2 3]\n",
      " [4 5 6]\n",
      " [7 8 9]]\n",
      "\n"
     ]
    }
   ],
   "source": [
    "rowAry = np.array([7,8,9]) \n",
    "# np.vstack([ary, rowAry])\n",
    "print( np.concatenate( (ary, rowAry[ np.newaxis , : ]) , axis = 0) )\n",
    "print()\n",
    "print( np.concatenate( (ary, rowAry.reshape(1,3)) , axis = 0) )\n",
    "print()"
   ]
  },
  {
   "cell_type": "code",
   "execution_count": 186,
   "id": "1b891f2a",
   "metadata": {},
   "outputs": [
    {
     "name": "stdout",
     "output_type": "stream",
     "text": [
      "[[ 1  2  3 10]\n",
      " [ 4  5  6 11]]\n",
      "\n",
      "[[ 1  2  3 10]\n",
      " [ 4  5  6 11]]\n"
     ]
    }
   ],
   "source": [
    "# print(ary)\n",
    "\n",
    "colAry = np.array([10,11])\n",
    "\n",
    "print( np.concatenate( (ary, colAry[ : , np.newaxis  ]) , axis = 1) )\n",
    "print()\n",
    "print( np.concatenate( (ary, colAry.reshape(2,1)) , axis = 1) )"
   ]
  },
  {
   "cell_type": "code",
   "execution_count": null,
   "id": "bb4fecd2",
   "metadata": {},
   "outputs": [],
   "source": []
  }
 ],
 "metadata": {
  "kernelspec": {
   "display_name": "Python 3 (ipykernel)",
   "language": "python",
   "name": "python3"
  },
  "language_info": {
   "codemirror_mode": {
    "name": "ipython",
    "version": 3
   },
   "file_extension": ".py",
   "mimetype": "text/x-python",
   "name": "python",
   "nbconvert_exporter": "python",
   "pygments_lexer": "ipython3",
   "version": "3.11.4"
  }
 },
 "nbformat": 4,
 "nbformat_minor": 5
}
