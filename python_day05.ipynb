{
 "cells": [
  {
   "cell_type": "markdown",
   "id": "797a3bd9",
   "metadata": {},
   "source": [
    "#### 반복구문\n",
    "- for ~ in 열거형 collection(열거형) 이다.(__iter)를 포함\n",
    "- for ~ else\n",
    "- while ~\n",
    "- break, continue"
   ]
  },
  {
   "cell_type": "code",
   "execution_count": 7,
   "id": "4ee2e1d4",
   "metadata": {},
   "outputs": [
    {
     "name": "stdout",
     "output_type": "stream",
     "text": [
      "0 1 2 3 4 5 6 7 8 9 \n",
      "1\t2\t3\t4\t5\t6\t7\t8\t9\t\n",
      "1\t3\t5\t7\t9\t"
     ]
    }
   ],
   "source": [
    "for value in range(10): #range(10)-정수값을 만들어주는 객체\n",
    "    print(value, end=' ')\n",
    "    \n",
    "print()\n",
    "\n",
    "for value in range(1, 10):\n",
    "    print(value, end='\\t')\n",
    "    \n",
    "print()\n",
    "\n",
    "for value in range(1, 10, 2):\n",
    "    print(value, end='\\t')"
   ]
  },
  {
   "cell_type": "code",
   "execution_count": 5,
   "id": "6ec7b079",
   "metadata": {},
   "outputs": [
    {
     "name": "stdout",
     "output_type": "stream",
     "text": [
      "성적을 입력하세요 :10\n",
      "성적을 입력하세요 :20\n",
      "성적을 입력하세요 :30\n",
      "성적을 입력하세요 :40\n",
      "성적을 입력하세요 :50\n",
      "성적을 입력하세요 :607\n",
      "성적을 입력하세요 :70\n",
      "성적을 입력하세요 :80\n",
      "성적을 입력하세요 :90\n",
      "성적을 입력하세요 :100\n",
      "총합 : 1097\n",
      "총합 : 1097\n",
      "\n",
      "평균 : 109.7\n",
      "평균 : 109.7\n"
     ]
    }
   ],
   "source": [
    "scores = []\n",
    "sumTmp  = 0\n",
    "meanTmp = 0\n",
    "for idx in range(10): #10번 반복이 된다.\n",
    "    score = (int(input('성적을 입력하세요 :')))\n",
    "    scores.append(score)\n",
    "    sumTmp += score   # += 누적하게 된다. sumTmp = sumTmp + score\n",
    "    \n",
    "print('총합 :',sumTmp)\n",
    "print('총합 :',sum(scores))\n",
    "print()\n",
    "print('평균 :',sumTmp/len(scores))\n",
    "print('평균 :',sum(scores)/len(scores))"
   ]
  },
  {
   "cell_type": "code",
   "execution_count": 14,
   "id": "8c834b50",
   "metadata": {},
   "outputs": [
    {
     "name": "stdout",
     "output_type": "stream",
     "text": [
      "\n",
      "s e e   u   n e x t   t i m e \n",
      "s e e   u   n e x t   t i m e "
     ]
    }
   ],
   "source": [
    "msg = 'see u next time'\n",
    "# print('dir -',dir(msg)) # __iter, for에 들어갈 수 있음\n",
    "\n",
    "print()\n",
    "\n",
    "for char in msg:\n",
    "    print(char, end=' ') # 문자열도 반복 가능\n",
    "    \n",
    "print()    \n",
    "for idx in range(len(msg)):\n",
    "    print(msg[idx], end=' ') # 문자열도 반복 가능"
   ]
  },
  {
   "cell_type": "code",
   "execution_count": 22,
   "id": "017848aa",
   "metadata": {},
   "outputs": [
    {
     "name": "stdout",
     "output_type": "stream",
     "text": [
      "\n",
      "0 46\n",
      "1 6\n",
      "2 3\n",
      "3 4\n",
      "4 6\n",
      "5 3\n",
      "6 5\n",
      "7 7\n",
      "8 4\n",
      "9 6\n",
      "10 7\n",
      "11 0\n"
     ]
    }
   ],
   "source": [
    "tupleTmp = (46,6,3,4,6,3,5,7,4,6,7,0)\n",
    "# print('dir -',dir(tupleTmp)) # __iter 존재, for문 가능\n",
    "print()\n",
    "\n",
    "for idx, data in enumerate(tupleTmp): #enumerate는 튜플형식으로 넘겨준다. 앞은 인덱스, 뒤는 데이터\n",
    "    print(idx, data, end='\\n')"
   ]
  },
  {
   "cell_type": "code",
   "execution_count": 30,
   "id": "46daeea1",
   "metadata": {},
   "outputs": [
    {
     "name": "stdout",
     "output_type": "stream",
     "text": [
      "리스트에 정의된 요소를 카운트하고 싶다면?\n",
      "{1 : 3, ~~}: 출력예시\n",
      "\n",
      "{1: 3, 2: 3, 3: 5, 4: 3, 5: 2}\n"
     ]
    }
   ],
   "source": [
    "print('리스트에 정의된 요소를 카운트하고 싶다면?')\n",
    "print('{1 : 3, ~~}: 출력예시')\n",
    "lstTmp = [1,1,2,2,3,4,3,5,3,3,5,4,4,3,2,1]\n",
    "freq = {}\n",
    "for data in lstTmp:\n",
    "    if data in freq:\n",
    "        freq[data] += 1\n",
    "    else:\n",
    "        freq[data] = 1\n",
    "print()\n",
    "print(freq)\n"
   ]
  },
  {
   "cell_type": "code",
   "execution_count": 1,
   "id": "5e97f320",
   "metadata": {},
   "outputs": [
    {
     "name": "stdout",
     "output_type": "stream",
     "text": [
      "guess game -\n",
      "1 ~ 100 사이의 난수를 생성하고 숫자를 맞춰보는 게임\n",
      "answer - 19\n"
     ]
    }
   ],
   "source": [
    "print('guess game -')\n",
    "print('1 ~ 100 사이의 난수를 생성하고 숫자를 맞춰보는 게임')\n",
    "\n",
    "from random import randint\n",
    "\n",
    "answer = randint(1,100)\n",
    "print('answer -',answer)"
   ]
  },
  {
   "cell_type": "code",
   "execution_count": 74,
   "id": "cb9faedf",
   "metadata": {},
   "outputs": [
    {
     "name": "stdout",
     "output_type": "stream",
     "text": [
      "1~100사이의 숫자를 입력하세요 : 30\n",
      "정답입니다.\n"
     ]
    }
   ],
   "source": [
    "guess = int(input('1~100사이의 숫자를 입력하세요 : '))\n",
    "if guess == answer:\n",
    "    print('정답입니다.')\n",
    "elif guess > answer:\n",
    "    print('down')\n",
    "else:\n",
    "    print('up')"
   ]
  },
  {
   "cell_type": "markdown",
   "id": "ee79d509",
   "metadata": {},
   "source": [
    "#### 돌발퀴즈\n",
    "- 반복구문을 이용해서 횟수를 10번으로 제한하고, 정답을 맞췄을 경우 시도한 횟수와 정답을 출력하는 구문."
   ]
  },
  {
   "cell_type": "code",
   "execution_count": 4,
   "id": "a7d383f8",
   "metadata": {},
   "outputs": [
    {
     "name": "stdout",
     "output_type": "stream",
     "text": [
      "answer - 27\n",
      "1~100사이의 숫자를 입력하세요 : 1\n",
      "up\n",
      "1~100사이의 숫자를 입력하세요 : 2\n",
      "up\n",
      "1~100사이의 숫자를 입력하세요 : 3\n",
      "up\n",
      "1~100사이의 숫자를 입력하세요 : 27\n",
      "정답입니다.\n",
      "정답27 , 횟수4\n"
     ]
    }
   ],
   "source": [
    "from random import randint\n",
    "\n",
    "answer = randint(1,100)\n",
    "tries = 1\n",
    "print('answer -',answer)\n",
    "\n",
    "for idx in range(10):\n",
    "    guess = int(input('1~100사이의 숫자를 입력하세요 : '))\n",
    "    if guess == answer:\n",
    "        print('정답입니다.')\n",
    "        # print('시도한 횟수 :',int(idx)+1)\n",
    "        break #정답을 맞출시 게임을 빠져간다\n",
    "    elif guess > answer:\n",
    "        print('down')\n",
    "    else:\n",
    "        print('up')\n",
    "    \n",
    "    tries += 1\n",
    "    \n",
    "print('정답{} , 횟수{}'.format(answer, tries))\n"
   ]
  },
  {
   "cell_type": "markdown",
   "id": "ba7d125b",
   "metadata": {},
   "source": [
    "###### 돌발퀴즈\n",
    "- 4년에 한번씩 열리는 아시안게임이 있다.\n",
    "- 향후 50년동안 열리게 되는 아시안게임의 년도를 출력.\n",
    "- 한 줄에 년도 5개를 출력하라\n",
    "- escape sequence : \\n, \\t"
   ]
  },
  {
   "cell_type": "code",
   "execution_count": 27,
   "id": "dea291f2",
   "metadata": {},
   "outputs": [
    {
     "name": "stdout",
     "output_type": "stream",
     "text": [
      "2023\t2027\t2031\t2035\t2039\n",
      "2043\t2047\t2051\t2055\t2059\n",
      "2063\t2067\t2071\t\n",
      "1~50 사이 숫자 중 3의 배수만 한 줄에 5개씩 출력.\n",
      "3\t6\t9\t12\t15\n",
      "18\t21\t24\t27\t30\n",
      "33\t36\t39\t42\t45\n",
      "48\t\n",
      "other case -\n",
      "3\t6\t9\t12\t15\n",
      "18\t21\t24\t27\t30\n",
      "33\t36\t39\t42\t45\n",
      "48\t"
     ]
    }
   ],
   "source": [
    "cnt = 0\n",
    "for year in range(2023, 2074, 4):\n",
    "    cnt += 1\n",
    "    if cnt%5 == 0:\n",
    "        print(year, end='\\n')\n",
    "    else:\n",
    "        print(year, end='\\t')\n",
    "print()\n",
    "print(\"1~50 사이 숫자 중 3의 배수만 한 줄에 5개씩 출력.\")\n",
    "cnt = 0\n",
    "for num in range(3, 51, 3):\n",
    "    cnt += 1\n",
    "    if cnt%5 == 0:\n",
    "        print(num, end='\\n')\n",
    "    else:\n",
    "        print(num, end='\\t')\n",
    "        pass\n",
    "print()\n",
    "\n",
    "print('other case -')\n",
    "cnt = 0\n",
    "for num in range(1, 51):\n",
    "    if num%3 == 0:\n",
    "        cnt += 1\n",
    "        if cnt%5 == 0:\n",
    "            print(num,end='\\n')\n",
    "        else:\n",
    "            print(num,end='\\t')\n",
    "        \n"
   ]
  },
  {
   "cell_type": "code",
   "execution_count": 34,
   "id": "11542fd1",
   "metadata": {},
   "outputs": [
    {
     "name": "stdout",
     "output_type": "stream",
     "text": [
      "구구단 -\n",
      "단을 입력하세요 : 1052\n",
      "1052 * 1 = 1052\n",
      "1052 * 2 = 2104\n",
      "1052 * 3 = 3156\n",
      "1052 * 4 = 4208\n",
      "1052 * 5 = 5260\n",
      "1052 * 6 = 6312\n",
      "1052 * 7 = 7364\n",
      "1052 * 8 = 8416\n",
      "1052 * 9 = 9468\n"
     ]
    }
   ],
   "source": [
    "print('구구단 -')\n",
    "\n",
    "dan = int(input('단을 입력하세요 : '))\n",
    "for gu in range(1, 10):\n",
    "    print('{} * {} = {}'.format(dan, gu, (dan*gu)))"
   ]
  },
  {
   "cell_type": "code",
   "execution_count": 46,
   "id": "9e52caeb",
   "metadata": {},
   "outputs": [
    {
     "name": "stdout",
     "output_type": "stream",
     "text": [
      "구구단 - \n",
      ">>>>>>>>>row , 2\n",
      "2 * 1 = 2\t2 * 2 = 4\t2 * 3 = 6\t2 * 4 = 8\t2 * 5 = 10\t2 * 6 = 12\t2 * 7 = 14\t2 * 8 = 16\t2 * 9 = 18\t>>>>>>>>>row , 3\n",
      "3 * 1 = 3\t3 * 2 = 6\t3 * 3 = 9\t3 * 4 = 12\t3 * 5 = 15\t3 * 6 = 18\t3 * 7 = 21\t3 * 8 = 24\t3 * 9 = 27\t>>>>>>>>>row , 4\n",
      "4 * 1 = 4\t4 * 2 = 8\t4 * 3 = 12\t4 * 4 = 16\t4 * 5 = 20\t4 * 6 = 24\t4 * 7 = 28\t4 * 8 = 32\t4 * 9 = 36\t>>>>>>>>>row , 5\n",
      "5 * 1 = 5\t5 * 2 = 10\t5 * 3 = 15\t5 * 4 = 20\t5 * 5 = 25\t5 * 6 = 30\t5 * 7 = 35\t5 * 8 = 40\t5 * 9 = 45\t>>>>>>>>>row , 6\n",
      "6 * 1 = 6\t6 * 2 = 12\t6 * 3 = 18\t6 * 4 = 24\t6 * 5 = 30\t6 * 6 = 36\t6 * 7 = 42\t6 * 8 = 48\t6 * 9 = 54\t>>>>>>>>>row , 7\n",
      "7 * 1 = 7\t7 * 2 = 14\t7 * 3 = 21\t7 * 4 = 28\t7 * 5 = 35\t7 * 6 = 42\t7 * 7 = 49\t7 * 8 = 56\t7 * 9 = 63\t>>>>>>>>>row , 8\n",
      "8 * 1 = 8\t8 * 2 = 16\t8 * 3 = 24\t8 * 4 = 32\t8 * 5 = 40\t8 * 6 = 48\t8 * 7 = 56\t8 * 8 = 64\t8 * 9 = 72\t>>>>>>>>>row , 9\n",
      "9 * 1 = 9\t9 * 2 = 18\t9 * 3 = 27\t9 * 4 = 36\t9 * 5 = 45\t9 * 6 = 54\t9 * 7 = 63\t9 * 8 = 72\t9 * 9 = 81\t\n",
      "\n",
      ">>>>>>>>>row , 1\n",
      "2 * 1 = 2\t3 * 1 = 3\t4 * 1 = 4\t5 * 1 = 5\t6 * 1 = 6\t7 * 1 = 7\t8 * 1 = 8\t9 * 1 = 9\t\n",
      ">>>>>>>>>row , 2\n",
      "2 * 2 = 4\t3 * 2 = 6\t4 * 2 = 8\t5 * 2 = 10\t6 * 2 = 12\t7 * 2 = 14\t8 * 2 = 16\t9 * 2 = 18\t\n",
      ">>>>>>>>>row , 3\n",
      "2 * 3 = 6\t3 * 3 = 9\t4 * 3 = 12\t5 * 3 = 15\t6 * 3 = 18\t7 * 3 = 21\t8 * 3 = 24\t9 * 3 = 27\t\n",
      ">>>>>>>>>row , 4\n",
      "2 * 4 = 8\t3 * 4 = 12\t4 * 4 = 16\t5 * 4 = 20\t6 * 4 = 24\t7 * 4 = 28\t8 * 4 = 32\t9 * 4 = 36\t\n",
      ">>>>>>>>>row , 5\n",
      "2 * 5 = 10\t3 * 5 = 15\t4 * 5 = 20\t5 * 5 = 25\t6 * 5 = 30\t7 * 5 = 35\t8 * 5 = 40\t9 * 5 = 45\t\n",
      ">>>>>>>>>row , 6\n",
      "2 * 6 = 12\t3 * 6 = 18\t4 * 6 = 24\t5 * 6 = 30\t6 * 6 = 36\t7 * 6 = 42\t8 * 6 = 48\t9 * 6 = 54\t\n",
      ">>>>>>>>>row , 7\n",
      "2 * 7 = 14\t3 * 7 = 21\t4 * 7 = 28\t5 * 7 = 35\t6 * 7 = 42\t7 * 7 = 49\t8 * 7 = 56\t9 * 7 = 63\t\n",
      ">>>>>>>>>row , 8\n",
      "2 * 8 = 16\t3 * 8 = 24\t4 * 8 = 32\t5 * 8 = 40\t6 * 8 = 48\t7 * 8 = 56\t8 * 8 = 64\t9 * 8 = 72\t\n",
      ">>>>>>>>>row , 9\n",
      "2 * 9 = 18\t3 * 9 = 27\t4 * 9 = 36\t5 * 9 = 45\t6 * 9 = 54\t7 * 9 = 63\t8 * 9 = 72\t9 * 9 = 81\t\n"
     ]
    }
   ],
   "source": [
    "print('구구단 - ')\n",
    "\n",
    "for row in range(2,10):\n",
    "    print('>>>>>>>>>row',',',row )\n",
    "    for col in range(1,10):\n",
    "        #print('col , ',col,end='\\t')\n",
    "         print('{} * {} = {}'.format(row, col, (row*col)), end='\\t')\n",
    "    \n",
    "print()\n",
    "print()\n",
    "\n",
    "for row in range(1,10):\n",
    "    print('>>>>>>>>>row',',',row )\n",
    "    for col in range(2,10):\n",
    "        #print('col , ',col,end='\\t')\n",
    "         print('{} * {} = {}'.format(col, row, (row*col)), end='\\t')\n",
    "    print()\n",
    "    "
   ]
  },
  {
   "cell_type": "code",
   "execution_count": 56,
   "id": "a585ce3c",
   "metadata": {},
   "outputs": [
    {
     "name": "stdout",
     "output_type": "stream",
     "text": [
      "break, continue - \n",
      "\n",
      ">>>>>>>>>row , 2\n",
      "2 * 1 = 2\t2 * 2 = 4\t2 * 3 = 6\t2 * 4 = 8\t2 * 5 = 10\t2 * 6 = 12\t2 * 7 = 14\t2 * 8 = 16\t2 * 9 = 18\t>>>>>>>>>row , 3\n",
      "3 * 1 = 3\t3 * 2 = 6\t3 * 3 = 9\t3 * 4 = 12\t3 * 5 = 15\t3 * 6 = 18\t3 * 7 = 21\t3 * 8 = 24\t3 * 9 = 27\t>>>>>>>>>row , 4\n",
      "4 * 1 = 4\t4 * 2 = 8\t4 * 3 = 12\t4 * 4 = 16\t4 * 5 = 20\t4 * 6 = 24\t4 * 7 = 28\t4 * 8 = 32\t4 * 9 = 36\t>>>>>>>>>row , 6\n",
      "6 * 1 = 6\t6 * 2 = 12\t6 * 3 = 18\t6 * 4 = 24\t6 * 5 = 30\t6 * 6 = 36\t6 * 7 = 42\t6 * 8 = 48\t6 * 9 = 54\t>>>>>>>>>row , 7\n",
      "7 * 1 = 7\t7 * 2 = 14\t7 * 3 = 21\t7 * 4 = 28\t7 * 5 = 35\t7 * 6 = 42\t7 * 7 = 49\t7 * 8 = 56\t7 * 9 = 63\t>>>>>>>>>row , 8\n",
      "8 * 1 = 8\t8 * 2 = 16\t8 * 3 = 24\t8 * 4 = 32\t8 * 5 = 40\t8 * 6 = 48\t8 * 7 = 56\t8 * 8 = 64\t8 * 9 = 72\t>>>>>>>>>row , 9\n",
      "9 * 1 = 9\t9 * 2 = 18\t9 * 3 = 27\t9 * 4 = 36\t9 * 5 = 45\t9 * 6 = 54\t9 * 7 = 63\t9 * 8 = 72\t9 * 9 = 81\t"
     ]
    }
   ],
   "source": [
    "print('break, continue - ')\n",
    "print()\n",
    "for row in range(2,10):\n",
    "    \n",
    "    if row == 5:\n",
    "        continue #5단 빼고 출력 (다음스텝으로 이동)\n",
    "        \n",
    "    print('>>>>>>>>>row',',',row )\n",
    "    for col in range(1,10):\n",
    "        #print('col , ',col,end='\\t')\n",
    "         print('{} * {} = {}'.format(row, col, (row*col)), end='\\t')\n",
    "#     if row == 3:\n",
    "#         break\n",
    "    "
   ]
  },
  {
   "cell_type": "code",
   "execution_count": 65,
   "id": "ba791657",
   "metadata": {},
   "outputs": [
    {
     "name": "stdout",
     "output_type": "stream",
     "text": [
      "for ~ else\n",
      "find\n"
     ]
    }
   ],
   "source": [
    "print('for ~ else')\n",
    "\n",
    "numbers = [71,21,32,43,4,5,6,2,3,2,4,5,14,3,2,1]\n",
    "find = 32\n",
    "\n",
    "for data in numbers:\n",
    "    if data == find:\n",
    "        print(\"find\") # 찾아도 끝가지 동작을 시행\n",
    "        break # 찾으면 동작을 멈춤\n",
    "else:\n",
    "    print('Not Found')"
   ]
  },
  {
   "cell_type": "markdown",
   "id": "8092176a",
   "metadata": {},
   "source": [
    "- while , while ~ else\n",
    "- 반복횟수를 알 수 없고 특정 조건을 만족할 때 까지\n",
    "- 변수 생성 불가 True / False로 판단\n",
    "- 조건식이 False가 될 때까지 무한 반복\n",
    "- for 변수 in 열거형(튜플, 리스트, 문자열 등 반복 가능한 객체)"
   ]
  },
  {
   "cell_type": "code",
   "execution_count": 72,
   "id": "313df505",
   "metadata": {},
   "outputs": [
    {
     "name": "stdout",
     "output_type": "stream",
     "text": [
      "for -\n",
      "55\n",
      "\n",
      "while -\n",
      "idx , 1\n",
      "idx , 2\n",
      "idx , 3\n",
      "idx , 4\n",
      "idx , 5\n",
      "idx , 6\n",
      "idx , 7\n",
      "idx , 8\n",
      "idx , 9\n",
      "idx , 10\n"
     ]
    }
   ],
   "source": [
    "'''\n",
    "초기식\n",
    "while 조건식:\n",
    "    실행문\n",
    "    증감식\n",
    "'''\n",
    "print('for -')\n",
    "tmp = 0\n",
    "for value in range(1, 11):\n",
    "    tmp += value\n",
    "print(tmp)\n",
    "print()\n",
    "print('while -')\n",
    "tmp = 0\n",
    "idx = 1\n",
    "while idx <= 10:\n",
    "    print('idx ,',idx)\n",
    "    tmp += idx\n",
    "    idx += 1 \n"
   ]
  },
  {
   "cell_type": "code",
   "execution_count": 2,
   "id": "0bb4cc2f",
   "metadata": {},
   "outputs": [
    {
     "name": "stdout",
     "output_type": "stream",
     "text": [
      "bool - True\n",
      "류승범\n",
      "고윤정\n",
      "류승룡\n",
      "조인성\n",
      "한효주\n"
     ]
    }
   ],
   "source": [
    "lst = ['한효주','조인성','류승룡','고윤정','류승범']\n",
    "print('bool -',bool(lst))\n",
    "while lst:\n",
    "    print(lst.pop())"
   ]
  },
  {
   "cell_type": "code",
   "execution_count": 6,
   "id": "51e79a80",
   "metadata": {},
   "outputs": [
    {
     "ename": "IndentationError",
     "evalue": "expected an indented block after 'if' statement on line 5 (521345405.py, line 8)",
     "output_type": "error",
     "traceback": [
      "\u001b[1;36m  Cell \u001b[1;32mIn[6], line 8\u001b[1;36m\u001b[0m\n\u001b[1;33m    cnt -= 1\u001b[0m\n\u001b[1;37m    ^\u001b[0m\n\u001b[1;31mIndentationError\u001b[0m\u001b[1;31m:\u001b[0m expected an indented block after 'if' statement on line 5\n"
     ]
    }
   ],
   "source": [
    "cnt = 5\n",
    "while cnt > 0:\n",
    "    print(cnt)\n",
    "    \n",
    "    if cnt == 2:\n",
    "        # continue는 밑에있는 코드라인을 수행할 수 없다.\n",
    "        \n",
    "    cnt -= 1"
   ]
  },
  {
   "cell_type": "code",
   "execution_count": 10,
   "id": "b936e352",
   "metadata": {},
   "outputs": [
    {
     "name": "stdout",
     "output_type": "stream",
     "text": [
      "guess game - while\n",
      "1 - 100사이의 값을 입력하세요 : \n"
     ]
    },
    {
     "ename": "ValueError",
     "evalue": "invalid literal for int() with base 10: ''",
     "output_type": "error",
     "traceback": [
      "\u001b[1;31m---------------------------------------------------------------------------\u001b[0m",
      "\u001b[1;31mValueError\u001b[0m                                Traceback (most recent call last)",
      "Cell \u001b[1;32mIn[10], line 9\u001b[0m\n\u001b[0;32m      7\u001b[0m isFlag \u001b[38;5;241m=\u001b[39m \u001b[38;5;28;01mTrue\u001b[39;00m\n\u001b[0;32m      8\u001b[0m \u001b[38;5;28;01mwhile\u001b[39;00m isFlag:\n\u001b[1;32m----> 9\u001b[0m     guess \u001b[38;5;241m=\u001b[39m \u001b[38;5;28mint\u001b[39m(\u001b[38;5;28minput\u001b[39m(\u001b[38;5;124m'\u001b[39m\u001b[38;5;124m1 - 100사이의 값을 입력하세요 : \u001b[39m\u001b[38;5;124m'\u001b[39m))\n\u001b[0;32m     10\u001b[0m     \u001b[38;5;28;01mif\u001b[39;00m guess \u001b[38;5;241m==\u001b[39m answer:\n\u001b[0;32m     11\u001b[0m         \u001b[38;5;28mprint\u001b[39m(\u001b[38;5;124m'\u001b[39m\u001b[38;5;124m정답\u001b[39m\u001b[38;5;124m'\u001b[39m)\n",
      "\u001b[1;31mValueError\u001b[0m: invalid literal for int() with base 10: ''"
     ]
    }
   ],
   "source": [
    "from random import randint\n",
    "\n",
    "print('guess game - while')\n",
    "\n",
    "answer = randint(1, 100)\n",
    "\n",
    "isFlag = True\n",
    "while isFlag:\n",
    "    guess = int(input('1 - 100사이의 값을 입력하세요 : '))\n",
    "    if guess == answer:\n",
    "        print('정답')\n",
    "        isFlag = False # break\n",
    "    elif guess > answer:\n",
    "        print('down')\n",
    "    else:\n",
    "        print('up')"
   ]
  },
  {
   "cell_type": "markdown",
   "id": "b959b34b",
   "metadata": {},
   "source": [
    "- while ~ else"
   ]
  },
  {
   "cell_type": "code",
   "execution_count": 19,
   "id": "7dc49383",
   "metadata": {},
   "outputs": [
    {
     "name": "stdout",
     "output_type": "stream",
     "text": [
      "10\n",
      "9\n",
      "8\n",
      "7\n",
      "6\n",
      "5\n",
      "4\n",
      "3\n",
      "2\n",
      "1\n",
      "while else ~\n"
     ]
    }
   ],
   "source": [
    "cnt = 10\n",
    "while cnt > 0:\n",
    "    print(cnt)    \n",
    "    if cnt == -1:\n",
    "        break\n",
    "    cnt -= 1\n",
    "else: #while의 조건을 만족하지 않았을 때 수행된다.\n",
    "    print(\"while else ~\")"
   ]
  },
  {
   "cell_type": "markdown",
   "id": "28b1c735",
   "metadata": {},
   "source": [
    "### 돌발퀴즈\n",
    "- while \n",
    "- 1 ~ 100까지의 합 \n",
    "- 5의 배수의 합\n",
    "- 3의 배수이면서 5의 배수의 합"
   ]
  },
  {
   "cell_type": "code",
   "execution_count": 35,
   "id": "74dd9ada",
   "metadata": {},
   "outputs": [
    {
     "name": "stdout",
     "output_type": "stream",
     "text": [
      "\n",
      "1_100 sum =  5050\n",
      "2_100 sum =  1050\n",
      "3_100 sum =  315\n"
     ]
    }
   ],
   "source": [
    "cnt = sum01 = sum02 = sum03 = 0 #이런 형태로 변수 선언가능\n",
    "\n",
    "while cnt <= 100: #반복의 횟수가 정해져있지 않을때까지 반복한다. for는 끝이 정해져 있어야함.\n",
    "    \n",
    "    sum01 += cnt\n",
    "    \n",
    "    if cnt%5==0:\n",
    "        sum02 += cnt\n",
    "    \n",
    "    if cnt%3==0 and cnt%5==0:\n",
    "        sum03 += cnt\n",
    "    \n",
    "     cnt += 1\n",
    "    \n",
    "    \n",
    "print()\n",
    "print('1_100 sum = ',sum01)\n",
    "print('2_100 sum = ',sum02)\n",
    "print('3_100 sum = ',sum03)"
   ]
  },
  {
   "cell_type": "code",
   "execution_count": 41,
   "id": "f475160e",
   "metadata": {},
   "outputs": [
    {
     "name": "stdout",
     "output_type": "stream",
     "text": [
      "먹고싶은 음식을 입력하세요 : (종료를 원하시면 엔터를 입력하세요.)마라탕\n",
      "먹고싶은 음식을 입력하세요 : (종료를 원하시면 엔터를 입력하세요.)삼겹살\n",
      "먹고싶은 음식을 입력하세요 : (종료를 원하시면 엔터를 입력하세요.)탕후루\n",
      "먹고싶은 음식을 입력하세요 : (종료를 원하시면 엔터를 입력하세요.)\n"
     ]
    }
   ],
   "source": [
    "inputDatas = []\n",
    "\n",
    "while True:\n",
    "    data = input('먹고싶은 음식을 입력하세요 : (종료를 원하시면 엔터를 입력하세요.)')\n",
    "    if data == '':\n",
    "        break\n",
    "    inputDatas.append(data)"
   ]
  },
  {
   "cell_type": "code",
   "execution_count": 43,
   "id": "516285a9",
   "metadata": {},
   "outputs": [
    {
     "name": "stdout",
     "output_type": "stream",
     "text": [
      "마라탕\t삼겹살\t탕후루\t"
     ]
    }
   ],
   "source": [
    "for food in inputDatas:\n",
    "    print(food, end='\\t')"
   ]
  },
  {
   "cell_type": "code",
   "execution_count": 61,
   "id": "30d8259b",
   "metadata": {},
   "outputs": [
    {
     "name": "stdout",
     "output_type": "stream",
     "text": [
      "문자열 데이터를 while 구문으로 구현할 수 있을까?\n",
      "\n",
      "\n",
      "case01 - \n",
      "len -  30\n",
      "문자열 데이터를 while 구문으로 구현할 수 있을까?\n",
      "case02 - \n",
      "문자열 데이터를 while 구문으로 구현할 수 있을까?"
     ]
    }
   ],
   "source": [
    "msg = '문자열 데이터를 while 구문으로 구현할 수 있을까?'\n",
    "print(msg)\n",
    "print()\n",
    "print()\n",
    "print(\"case01 - \")\n",
    "\n",
    "idx = 0\n",
    "print('len - ',len(msg))\n",
    "while msg:\n",
    "    print(msg[idx],end='')\n",
    "    idx += 1\n",
    "    \n",
    "    if idx == len(msg): #출구전략\n",
    "        break\n",
    "print()\n",
    "print('case02 - ')\n",
    "idx = 0\n",
    "while idx < len(msg):\n",
    "    print(msg[idx], end='')\n",
    "    idx += 1\n",
    "    "
   ]
  },
  {
   "cell_type": "markdown",
   "id": "975236b8",
   "metadata": {},
   "source": [
    "### 돌발퀴즈\n",
    "- 아래 문자열을 이용하여 몇 문장이 들어있는지, 그리고 각 문장의 단어의 수를 확인하고 싶다면?"
   ]
  },
  {
   "cell_type": "code",
   "execution_count": 13,
   "id": "f0edeffe",
   "metadata": {},
   "outputs": [
    {
     "name": "stdout",
     "output_type": "stream",
     "text": [
      "문장의 갯수 :  5\n",
      "단어의 갯수 :  [4, 6, 6, 3, 5]\n",
      "{'저는 파이썬을 강의하는 혈맥강사입니다.': 4, '지금은 부산 동아대 출강 중 입니다.': 6, '수강생분들이 착해서 편하게 강의 중 입니다.': 6, '여러분들의 앞날을 응원합니다.': 3, '혈맥강사와 함께 즐거운 교육이 되시길': 5}\n"
     ]
    }
   ],
   "source": [
    "str = '''저는 파이썬을 강의하는 혈맥강사입니다.\n",
    "지금은 부산 동아대 출강 중 입니다.\n",
    "수강생분들이 착해서 편하게 강의 중 입니다.\n",
    "여러분들의 앞날을 응원합니다.\n",
    "혈맥강사와 함께 즐거운 교육이 되시길'''\n",
    "\n",
    "# sen = str.split('\\n')\n",
    "# word = str.split(' ')\n",
    "\n",
    "# lenSen = 0\n",
    "# while str:\n",
    "#     lenSen += 1\n",
    "#     if lenSen == len(sen):\n",
    "#         break\n",
    "#     while lenSen <= \n",
    "\n",
    "# lenWord = 0\n",
    "# while str:\n",
    "#     lenWord += 1\n",
    "#     if str.split('.') == 1:\n",
    "#         break\n",
    "    \n",
    "# print(lenSen)    \n",
    "# print(lenWord)\n",
    "\n",
    "sentences = []\n",
    "words = []\n",
    "for s in str.split('\\n'):\n",
    "   # print(s)\n",
    "    sentences.append(s)\n",
    "    words.append(len(s.split()))\n",
    "print('문장의 갯수 : ', len(sentences))\n",
    "print('단어의 갯수 : ', words)\n",
    "\n",
    "result = dict(zip(sentences, words))\n",
    "print(result)"
   ]
  },
  {
   "cell_type": "code",
   "execution_count": null,
   "id": "45518e03",
   "metadata": {},
   "outputs": [],
   "source": []
  },
  {
   "cell_type": "code",
   "execution_count": null,
   "id": "5f32ef24",
   "metadata": {},
   "outputs": [],
   "source": []
  },
  {
   "cell_type": "code",
   "execution_count": null,
   "id": "75390fe1",
   "metadata": {},
   "outputs": [],
   "source": []
  },
  {
   "cell_type": "code",
   "execution_count": null,
   "id": "dd4d9c44",
   "metadata": {},
   "outputs": [],
   "source": []
  },
  {
   "cell_type": "code",
   "execution_count": null,
   "id": "1f8c973f",
   "metadata": {},
   "outputs": [],
   "source": []
  }
 ],
 "metadata": {
  "kernelspec": {
   "display_name": "Python 3 (ipykernel)",
   "language": "python",
   "name": "python3"
  },
  "language_info": {
   "codemirror_mode": {
    "name": "ipython",
    "version": 3
   },
   "file_extension": ".py",
   "mimetype": "text/x-python",
   "name": "python",
   "nbconvert_exporter": "python",
   "pygments_lexer": "ipython3",
   "version": "3.11.4"
  }
 },
 "nbformat": 4,
 "nbformat_minor": 5
}
