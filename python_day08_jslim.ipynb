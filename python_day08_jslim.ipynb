{
 "cells": [
  {
   "cell_type": "code",
   "execution_count": 5,
   "id": "cbb741e9",
   "metadata": {},
   "outputs": [],
   "source": [
    "def readFile(path, encoding) :\n",
    "    with open(path , mode = 'r' , encoding = encoding) as file : \n",
    "        # file.read() - 전체문장을 하나의 str , file.readline() - 한문장 str , file.readlines()  - list\n",
    "        \n",
    "        print('case01 - ')\n",
    "        # txt = file.readline()\n",
    "        # while txt != '' : \n",
    "        #     print(txt) \n",
    "        #     txt = file.readline()\n",
    "        \n",
    "        print('case02 - ')\n",
    "        print()\n",
    "        print('readlines() - ') \n",
    "        lst  = file.readlines()\n",
    "        for idx , sentence in enumerate(lst) : \n",
    "            print('idx - ' , idx , sentence)\n",
    "                \n",
    "def writeFile(path, encoding) :\n",
    "    with open(path , mode = 'w' , encoding = encoding) as file : \n",
    "        # print('dir - ' , dir(file))\n",
    "        \n",
    "        data = input('데이터를 입력하세요 : ')\n",
    "        while data != '' : \n",
    "            file.write(data+\"\\n\") \n",
    "            data = input('데이터를 입력하세요 : ')\n",
    "        \n",
    "def appendFile(path, encoding) :\n",
    "    with open(path , mode = 'a' , encoding = encoding) as file : \n",
    "        # print('dir - ' , dir(file))\n",
    "        \n",
    "        data = input('데이터를 입력하세요 : ')\n",
    "        while data != '' : \n",
    "            file.write(data+\"\\n\") \n",
    "            data = input('데이터를 입력하세요 : ')\n",
    "            \n",
    "\n",
    "def fileSampleFunc(path , mode , encoding) : \n",
    "    if mode == 'r' :\n",
    "        readFile(path ,  encoding) \n",
    "    elif mode == 'w' :\n",
    "        writeFile(path,  encoding)\n",
    "    else :\n",
    "        appendFile(path, encoding)"
   ]
  },
  {
   "cell_type": "code",
   "execution_count": null,
   "id": "d2dc0b30",
   "metadata": {},
   "outputs": [],
   "source": [
    "print('mode = r 읽기 - ')\n",
    "fileSampleFunc('./data/greeting.txt' , 'r' , 'UTF-8')"
   ]
  },
  {
   "cell_type": "code",
   "execution_count": 4,
   "id": "52b6c69f",
   "metadata": {},
   "outputs": [
    {
     "name": "stdout",
     "output_type": "stream",
     "text": [
      "mode = w 쓰기 - \n",
      "데이터를 입력하세요 : 입력\n",
      "데이터를 입력하세요 : 출력\n",
      "데이터를 입력하세요 : \n"
     ]
    }
   ],
   "source": [
    "print('mode = w 쓰기 - ')\n",
    "fileSampleFunc('./data/testing.txt' , 'w' , 'UTF-8')"
   ]
  },
  {
   "cell_type": "code",
   "execution_count": 6,
   "id": "688b523e",
   "metadata": {},
   "outputs": [
    {
     "name": "stdout",
     "output_type": "stream",
     "text": [
      "mode = a 추가 - \n",
      "데이터를 입력하세요 : 추가될까\n",
      "데이터를 입력하세요 : 되겠지\n",
      "데이터를 입력하세요 : \n"
     ]
    }
   ],
   "source": [
    "print('mode = a 추가 - ')\n",
    "fileSampleFunc('./data/testing.txt' , 'a' , 'UTF-8')"
   ]
  },
  {
   "cell_type": "markdown",
   "id": "d26576ff",
   "metadata": {},
   "source": [
    "돌발퀴즈 \n",
    "- with open 구문과 input 함수를 이용해서 exit 문자가 들어오기 전까지 입력된 데이터에 파일에 저장\n",
    "- 파일위치 및 파일명('./data/multiline.txt') \n",
    "- 정상적으로 출력이 되었으면 파일을 읽어보자( read() )"
   ]
  },
  {
   "cell_type": "code",
   "execution_count": 7,
   "id": "6408ad2b",
   "metadata": {},
   "outputs": [
    {
     "name": "stdout",
     "output_type": "stream",
     "text": [
      "데이터를 입력하세요 : 하이루\n",
      "데이터를 입력하세요 : 방가방가\n",
      "데이터를 입력하세요 : 하윤씨는 알고 있데요\n",
      "데이터를 입력하세요 : exit\n"
     ]
    }
   ],
   "source": [
    "with open('./data/multiline.txt' , mode = 'w' , encoding = 'UTF-8') as file : \n",
    "    \n",
    "    isFlag = True\n",
    "    while isFlag : \n",
    "        data = input('데이터를 입력하세요 : ')\n",
    "        if data == 'exit' :\n",
    "            isFlag = False \n",
    "        else :\n",
    "            file.write(data+'\\n')\n",
    "        "
   ]
  },
  {
   "cell_type": "code",
   "execution_count": 12,
   "id": "833ebc53",
   "metadata": {},
   "outputs": [
    {
     "name": "stdout",
     "output_type": "stream",
     "text": [
      "type -  <class 'str'>\n",
      "data - \n",
      " 하이루\n",
      "방가방가\n",
      "하윤씨는 알고 있데요\n",
      "\n",
      "type -  <class 'list'>\n",
      "하이루\n",
      "방가방가\n",
      "하윤씨는 알고 있데요\n",
      "\n"
     ]
    }
   ],
   "source": [
    "with open('./data/multiline.txt' , mode = 'r' , encoding = 'UTF-8') as file :\n",
    "    txt = file.read()\n",
    "    print('type - ' , type(txt))\n",
    "    print('data - \\n' , txt)\n",
    "    \n",
    "    lst = txt.split('\\n')\n",
    "    print('type - ' , type(lst))\n",
    "    for data in lst : \n",
    "        print(data)\n",
    "    "
   ]
  },
  {
   "cell_type": "markdown",
   "id": "2c646f20",
   "metadata": {},
   "source": [
    "돌발퀴즈\n",
    "- word_cnt.txt 파일로부터 줄 단위로( readline() ) 데이터를 읽어서 \n",
    "- 단어의 길이가 10 이상인 데이터를 카운팅한다면?"
   ]
  },
  {
   "cell_type": "code",
   "execution_count": 18,
   "id": "2f00b1c9",
   "metadata": {},
   "outputs": [
    {
     "name": "stdout",
     "output_type": "stream",
     "text": [
      "10자 이상인 단어의 숫자는 :  8\n"
     ]
    }
   ],
   "source": [
    "with open('./data/word_cnt.txt' , mode = 'r' , encoding = 'UTF-8') as file :\n",
    "    cnt = 0 \n",
    "    for line in file :\n",
    "        word = line.strip('\\n') \n",
    "        if len(word) >= 10 :\n",
    "            cnt += 1 \n",
    "    print('10자 이상인 단어의 숫자는 : ' , cnt)"
   ]
  },
  {
   "cell_type": "markdown",
   "id": "2f89225e",
   "metadata": {},
   "source": [
    "- 제공된 special_words.txt 파일로부터 문자 'c' 포함된 단어를 각 줄에 출력한다면?\n",
    "- 단어를 출력할  때 등장한 순서대로 출력\n",
    "- split , in \n",
    "- 특수문자를 제거하기 위해서 정규표현식(re)"
   ]
  },
  {
   "cell_type": "code",
   "execution_count": 28,
   "id": "c6870ef7",
   "metadata": {},
   "outputs": [
    {
     "name": "stdout",
     "output_type": "stream",
     "text": [
      "dictator\n",
      "subjects\n",
      "change\n",
      "costume\n",
      "elegance\n",
      "accepted\n"
     ]
    }
   ],
   "source": [
    "with open('./data/special_words.txt' , mode = 'r' , encoding = 'UTF-8') as file :\n",
    "    words = file.read().split()\n",
    "    words = [ word.strip('.,') for word in words ]\n",
    "    for word in words : \n",
    "        if 'c' in word :\n",
    "            print(word)"
   ]
  },
  {
   "cell_type": "code",
   "execution_count": 29,
   "id": "83abe076",
   "metadata": {},
   "outputs": [
    {
     "data": {
      "text/plain": [
       "'\\n회문(Palindrome) \\nsos\\nmadam\\n\\nidx = len(word) // 2\\n0  1  2 3 4 5 6 7 8 9 10\\nm  u  l t i c a m p a s \\n11 10 9 8 7 6 5 4 3 2 1 (-)\\n'"
      ]
     },
     "execution_count": 29,
     "metadata": {},
     "output_type": "execute_result"
    }
   ],
   "source": [
    "'''\n",
    "회문(Palindrome) \n",
    "sos\n",
    "madam\n",
    "\n",
    "idx = len(word) // 2\n",
    "0  1  2 3 4 5 6 7 8 9 10\n",
    "m  u  l t i c a m p a s \n",
    "11 10 9 8 7 6 5 4 3 2 1 (-)\n",
    "'''"
   ]
  },
  {
   "cell_type": "code",
   "execution_count": 35,
   "id": "862dd331",
   "metadata": {},
   "outputs": [
    {
     "name": "stdout",
     "output_type": "stream",
     "text": [
      "true\n",
      "\n",
      "\n",
      "true\n"
     ]
    }
   ],
   "source": [
    "word = 'madam' \n",
    "if list(word) == list(reversed(word)) : \n",
    "    print('true')\n",
    "else :\n",
    "    print('false')\n",
    "\n",
    "print()\n",
    "print()\n",
    "if word == word[::-1] : \n",
    "    print('true')\n",
    "else :\n",
    "    print('false')\n"
   ]
  },
  {
   "cell_type": "markdown",
   "id": "fedd38d3",
   "metadata": {},
   "source": [
    "돌발퀴즈\n",
    "- 제공되는 파일을 읽어들여서 회문인 단어를 출력하고 회문인 단어의 갯수를 카운팅하고 싶다면?\n",
    "- 주의) 단어의 줄 바꿈이 발생되는데 해결하라 "
   ]
  },
  {
   "cell_type": "code",
   "execution_count": 41,
   "id": "25dcf13a",
   "metadata": {},
   "outputs": [
    {
     "name": "stdout",
     "output_type": "stream",
     "text": [
      "did\n",
      "noon\n",
      "refer\n",
      "회문인 단어의 갯수는 :  3\n"
     ]
    }
   ],
   "source": [
    "with open('./data/palindrome_words.txt' , mode = 'r' , encoding = 'UTF-8') as file :\n",
    "    cnt = 0 \n",
    "    for word in file : \n",
    "        if word.strip() == word.strip()[::-1] :\n",
    "            print(word.strip())\n",
    "            cnt += 1 \n",
    "    print('회문인 단어의 갯수는 : ' , cnt)    "
   ]
  },
  {
   "cell_type": "code",
   "execution_count": null,
   "id": "44be0c5f",
   "metadata": {},
   "outputs": [],
   "source": [
    "'''\n",
    "- json(Java Standard Object Notation) \n",
    "- 네트워크상에서 표준으로 사용되는 파일 형식 \n",
    "- encoding : python(dict) -> json : dumps() \n",
    "\n",
    "- decoding : json -> python(dict, list) : loads() \n",
    "'''"
   ]
  },
  {
   "cell_type": "code",
   "execution_count": 47,
   "id": "86b48397",
   "metadata": {},
   "outputs": [
    {
     "name": "stdout",
     "output_type": "stream",
     "text": [
      "type -  <class 'dict'>\n",
      "\n",
      "type -  <class 'str'> {\"id\": \"jslim\", \"alias\": \"\\uc12d\\uc12d\\ud574\"}\n",
      "type -  <class 'dict'> {'id': 'jslim', 'alias': '섭섭해'}\n"
     ]
    }
   ],
   "source": [
    "import json as j \n",
    "\n",
    "tmp = {'id' : 'jslim' , 'alias' : '섭섭해' } \n",
    "print('type - ' , type(tmp))\n",
    "\n",
    "print()\n",
    "tmpJson = j.dumps(tmp) \n",
    "print('type - ' , type(tmpJson) , tmpJson)\n",
    "\n",
    "pyJson = j.loads(tmpJson)\n",
    "print('type - ' , type(pyJson) , pyJson)\n"
   ]
  },
  {
   "cell_type": "code",
   "execution_count": null,
   "id": "fd2b0307",
   "metadata": {},
   "outputs": [],
   "source": []
  }
 ],
 "metadata": {
  "kernelspec": {
   "display_name": "Python 3 (ipykernel)",
   "language": "python",
   "name": "python3"
  },
  "language_info": {
   "codemirror_mode": {
    "name": "ipython",
    "version": 3
   },
   "file_extension": ".py",
   "mimetype": "text/x-python",
   "name": "python",
   "nbconvert_exporter": "python",
   "pygments_lexer": "ipython3",
   "version": "3.11.4"
  }
 },
 "nbformat": 4,
 "nbformat_minor": 5
}
