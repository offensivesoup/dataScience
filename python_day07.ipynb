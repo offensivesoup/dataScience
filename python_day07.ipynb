{
 "cells": [
  {
   "cell_type": "markdown",
   "id": "0548ca6d",
   "metadata": {},
   "source": [
    "- util 함수(zip, map, reduce, filter)\n",
    "- map : 리스트로부터 요소를 하나씩 꺼내서 함수에 적용시킨 다음, 그 결과를 새로운 리스트에 담아서 리턴\n",
    "- reduce : 누적값을 리턴하는 함수\n",
    "- filter : 조건에 만족하는 데이터만 리스트에 담아서 리턴\n",
    "- (변수 =) lambda 인자 : 실행문\n",
    "- (lambda 인자 : 실행문)(인자값)"
   ]
  },
  {
   "cell_type": "code",
   "execution_count": 54,
   "id": "c7921327",
   "metadata": {},
   "outputs": [
    {
     "name": "stdout",
     "output_type": "stream",
     "text": [
      "list comprehension - [0, 1, 2, 3, 4]\n",
      "map -  <class 'list'> [0, 1, 4, 9, 16]\n",
      "\n",
      "\n",
      "reduce -  10\n",
      "reduce -  abcd\n",
      "filter -  [0, 3, 6, 9, 12, 15, 18]\n"
     ]
    }
   ],
   "source": [
    "from functools import reduce #reduce는 호출이 필요하다.\n",
    "\n",
    "print('list comprehension -', [data for data in range(5)])\n",
    "mapTmp = list(map(lambda x : x**2 , range(5))) #map을 캐스팅 시켜야 한다. 함수를 적용, 적용된 결과를 리턴\n",
    "print('map - ', type(mapTmp), mapTmp)\n",
    "print()\n",
    "print()\n",
    "print('reduce - ', reduce(lambda x, y : x + y, range(5)))# reduce는 누적하는 함수여서 인자가 2개 필요하다. \n",
    "print('reduce - ', reduce(lambda x, y : x + y, 'abcd'))\n",
    "print('filter - ', list(filter(lambda x : x%3 == 0,range(21))))"
   ]
  },
  {
   "cell_type": "code",
   "execution_count": 52,
   "id": "27457da7",
   "metadata": {},
   "outputs": [
    {
     "ename": "ImportError",
     "evalue": "cannot import name 'charLength' from 'ds' (unknown location)",
     "output_type": "error",
     "traceback": [
      "\u001b[1;31m---------------------------------------------------------------------------\u001b[0m",
      "\u001b[1;31mImportError\u001b[0m                               Traceback (most recent call last)",
      "Cell \u001b[1;32mIn[52], line 1\u001b[0m\n\u001b[1;32m----> 1\u001b[0m \u001b[38;5;28;01mfrom\u001b[39;00m \u001b[38;5;21;01mds\u001b[39;00m \u001b[38;5;28;01mimport\u001b[39;00m charLength\n\u001b[0;32m      3\u001b[0m customerModule\u001b[38;5;241m.\u001b[39mcharLength(\u001b[38;5;124m'\u001b[39m\u001b[38;5;124mgood day\u001b[39m\u001b[38;5;124m'\u001b[39m)\n",
      "\u001b[1;31mImportError\u001b[0m: cannot import name 'charLength' from 'ds' (unknown location)"
     ]
    }
   ],
   "source": [
    "from ds import charLength\n",
    "\n",
    "customerModule.charLength('good day')\n"
   ]
  },
  {
   "cell_type": "code",
   "execution_count": 29,
   "id": "95c6806a",
   "metadata": {},
   "outputs": [],
   "source": [
    "# real World's object -> class(변수,메서드) -> programming object = imstance\n",
    "# 함수 < 클래스 < 모듈 < 패키지"
   ]
  },
  {
   "cell_type": "code",
   "execution_count": 62,
   "id": "43b9fd6b",
   "metadata": {},
   "outputs": [
    {
     "data": {
      "text/plain": [
       "'\\nOOP(Object Oriented Programming)\\n함수 < 클래스(변수,메서드) < 모듈(xxxx.py) < package\\n클래스란?\\n- 함수의 모음\\n- 인스턴스의 고유한 변수와 고유한 함수를 관리할 수 있게 된다.\\n- 구성요소 : 초기화함수(생성자), 변수, 함수(메서드)\\n\\n결론, 파이썬의 모든 변수타입은 객체로 취급이 되어진다. 즉, 객체로 취급이된다는 건 클래스란 의미이다. \\n\\nOOP 4가지 컨셉을 지향\\n- 은닉화\\n- 상속\\n- 다형성\\n- 추상화\\n'"
      ]
     },
     "execution_count": 62,
     "metadata": {},
     "output_type": "execute_result"
    }
   ],
   "source": [
    "'''\n",
    "OOP(Object Oriented Programming)\n",
    "함수 < 클래스(변수,메서드) < 모듈(xxxx.py) < package\n",
    "클래스란?\n",
    "- 함수의 모음\n",
    "- 인스턴스의 고유한 변수와 고유한 함수를 관리할 수 있게 된다.\n",
    "- 구성요소 : 초기화함수(생성자), 변수, 함수(메서드)\n",
    "\n",
    "결론, 파이썬의 모든 변수타입은 객체로 취급이 되어진다. 즉, 객체로 취급이된다는 건 클래스란 의미이다. \n",
    "\n",
    "OOP 4가지 컨셉을 지향\n",
    "- 은닉화\n",
    "- 상속\n",
    "- 다형성\n",
    "- 추상화\n",
    "'''"
   ]
  },
  {
   "cell_type": "code",
   "execution_count": 100,
   "id": "63871411",
   "metadata": {},
   "outputs": [],
   "source": [
    "class person(object): # object를 상속받는다. (아무것도 쓰지 않아도.) \n",
    "\n",
    "#     def __init__(self): # 인자가 없으면 디폴트 init 인자가 있으면 스페셜 init\n",
    "#         print('객체생성시 호출되는 초기화 함수입니다.')\n",
    "\n",
    "    # overriding : 부모에 정의된 메서드를 재정의하는 것을 의미한다.\n",
    "    # 인자를 받기 때문에 special initializer (3개)\n",
    "    # 이렇듯 special initializer 정의되면 자동으로(묵시적) default initializer 정의되지 않는다.\n",
    "    def __init__(self, name, age, gender): # 인자가 없으면 디폴트 init 인자가 있으면 스페셜 init\n",
    "        print('객체생성시 호출되는 초기화 함수입니다.')\n",
    "        self.name   = name\n",
    "        self.age    = age\n",
    "        self.gender = gender\n",
    "        \n",
    "    def doing(self): #self는 묵시적으로 instance를 지칭하는 것. 이 함수가 instance의 소유라는 것을 명시해야 함.\n",
    "        print('열심히 공부하고 있습니다.')"
   ]
  },
  {
   "cell_type": "code",
   "execution_count": 101,
   "id": "177a8a06",
   "metadata": {},
   "outputs": [
    {
     "name": "stdout",
     "output_type": "stream",
     "text": [
      "객체생성시 호출되는 초기화 함수입니다.\n",
      "type - <class '__main__.person'>\n",
      "dir - ['__class__', '__delattr__', '__dict__', '__dir__', '__doc__', '__eq__', '__format__', '__ge__', '__getattribute__', '__getstate__', '__gt__', '__hash__', '__init__', '__init_subclass__', '__le__', '__lt__', '__module__', '__ne__', '__new__', '__reduce__', '__reduce_ex__', '__repr__', '__setattr__', '__sizeof__', '__str__', '__subclasshook__', '__weakref__', 'age', 'doing', 'gender', 'name']\n",
      "열심히 공부하고 있습니다.\n",
      "name - 임정섭\n",
      "age - 20\n",
      "gender - 남성\n"
     ]
    }
   ],
   "source": [
    "# lst = list() / lst = [1,2,3,4,5] : 인스턴스 생성\n",
    "\n",
    "person = person('임정섭',20,'남성') # 사용자 정의의 person 클래스로 부터 instance를 만든것 # 인스턴스 생성 코드\n",
    "print('type -', type(person))\n",
    "print('dir -', dir(person)) # object의 함수들\n",
    "\n",
    "person.doing() # 모듈에 정의된 클래스의함수\n",
    "print('name -', person.name)\n",
    "print('age -', person.age)\n",
    "print('gender -', person.gender)"
   ]
  },
  {
   "cell_type": "code",
   "execution_count": 83,
   "id": "938d80b9",
   "metadata": {},
   "outputs": [],
   "source": [
    "def userPrint():\n",
    "    print('모듈에 정의된 함수')"
   ]
  },
  {
   "cell_type": "code",
   "execution_count": 84,
   "id": "9aece8b7",
   "metadata": {},
   "outputs": [],
   "source": [
    "def working():\n",
    "    userPrint()"
   ]
  },
  {
   "cell_type": "code",
   "execution_count": null,
   "id": "c56c403b",
   "metadata": {},
   "outputs": [],
   "source": [
    "print('caller -')\n",
    "working()"
   ]
  },
  {
   "cell_type": "markdown",
   "id": "b683c59a",
   "metadata": {},
   "source": [
    "- 돌발퀴즈\n",
    "- account 클래스를 정의하고 싶다(입금하다, 출금하다, 잔액, 계좌번호) 명사: 변수, 동사: 함수"
   ]
  },
  {
   "cell_type": "code",
   "execution_count": 164,
   "id": "d9a346b1",
   "metadata": {},
   "outputs": [],
   "source": [
    "class account :\n",
    "    def __init__(self, accountNum, accountBalance):\n",
    "        \n",
    "        self.accountNum     = accountNum\n",
    "        self.accountBalance = accountBalance\n",
    "        \n",
    "    def accountInfo(self) :\n",
    "        print(' {} 계좌의 계좌 잔액은 {} 입니다.'.format(self.accountNum, self.accountBalance))\n",
    "        \n",
    "    def withDraw(self, money) :\n",
    "        if self.accountBalance > money:\n",
    "            self.accountBalance = self.accountBalance - money\n",
    "        else:\n",
    "            print(\"잔액이 부족하여 출금이 불가합니다. 더 열심히 돈 벌어 오세요\")\n",
    "    \n",
    "    def deposit(self, money) :\n",
    "        self.accountBalance = self.accountBalance + money"
   ]
  },
  {
   "cell_type": "code",
   "execution_count": 165,
   "id": "f93cfffd",
   "metadata": {},
   "outputs": [
    {
     "name": "stdout",
     "output_type": "stream",
     "text": [
      "seop Account - 111-2222-2222\n",
      "seop Account - 10000\n",
      " 111-2222-2222 계좌의 계좌 잔액은 10000 입니다.\n",
      "출금 - \n",
      "잔액이 부족하여 출금이 불가합니다. 더 열심히 돈 벌어 오세요\n",
      "입금 - \n",
      "\n",
      " 111-2222-2222 계좌의 계좌 잔액은 20000 입니다.\n"
     ]
    }
   ],
   "source": [
    "seopAcc = account('111-2222-2222',10000)\n",
    "print('seop Account -',seopAcc.accountNum)\n",
    "print('seop Account -',seopAcc.accountBalance)\n",
    "seopAcc.accountInfo()\n",
    "print('출금 - ')\n",
    "\n",
    "seopAcc.withDraw(50000)\n",
    "\n",
    "print('입금 - ')\n",
    "\n",
    "seopAcc.deposit(10000)\n",
    "\n",
    "print()\n",
    "seopAcc.accountInfo()\n"
   ]
  },
  {
   "cell_type": "code",
   "execution_count": null,
   "id": "7d2a7b0c",
   "metadata": {},
   "outputs": [],
   "source": [
    "'''\n",
    "파이썬에서 예외란 xxxxxError -- Exception을 상속받음.\n",
    "예외처리를 하는 이유 \n",
    "- 시스템의 비정상적인 종료를 막고 정상적인 흐름으로 시스템을 종료 시키기 위해서\n",
    "try :\n",
    "    예외발생 코드\n",
    "except :\n",
    "    try 블럭에서 발생된 예외를 처리하는 영역\n",
    "else :\n",
    "    예외가 발생하지 않았을 때 수행하는 영역\n",
    "finally :\n",
    "    예외 발생여부와 상관없이 항상 수행하는 블럭\n",
    "''' "
   ]
  },
  {
   "cell_type": "code",
   "execution_count": 11,
   "id": "4c735338",
   "metadata": {},
   "outputs": [
    {
     "name": "stdout",
     "output_type": "stream",
     "text": [
      "1\n",
      "2\n",
      "3\n",
      "발생된 예외는 list index out of range 이고 해당 블록에서 예외를 처리하였습니다.\n",
      "항상 수행되는 영역\n",
      "\n",
      "system exit\n"
     ]
    }
   ],
   "source": [
    "lst = [1,2,3]\n",
    "\n",
    "try :\n",
    "    for idx in range(len(lst) + 1):\n",
    "        print(lst[idx])\n",
    "except IndexError as e : #대,소문자 구별이 중요함.\n",
    "    print('발생된 예외는 {} 이고 해당 블록에서 예외를 처리하였습니다.'.format(e))\n",
    "else :\n",
    "    print('예외발생하지 않았을 때 수행하는 영역')\n",
    "finally :\n",
    "    print('항상 수행되는 영역')\n",
    "print()\n",
    "print('system exit')"
   ]
  },
  {
   "cell_type": "code",
   "execution_count": 7,
   "id": "522a911e",
   "metadata": {},
   "outputs": [],
   "source": [
    "def inputAge():\n",
    "    age = 0\n",
    "    try:\n",
    "        age = int(input('나이를 입력하세요 : '))  # try, except가 없으면 문자가 입력될 시 에러코드\n",
    "    except Exception as e : # Exception은 모든 에러가 상속받는 것\n",
    "        print('발생된 예외를 부모가 처리합니다.') \n",
    "        age = inputAge() # 재귀적 함수 , 옳은 값을 입력할 때 까지 함수를 반복\n",
    "    \n",
    "    print('함수가 리턴을 합니다.')\n",
    "    \n",
    "    return age"
   ]
  },
  {
   "cell_type": "code",
   "execution_count": 8,
   "id": "c73f3757",
   "metadata": {},
   "outputs": [
    {
     "name": "stdout",
     "output_type": "stream",
     "text": [
      "나이를 입력하세요 : a\n",
      "발생된 예외를 부모가 처리합니다.\n",
      "나이를 입력하세요 : a\n",
      "발생된 예외를 부모가 처리합니다.\n",
      "나이를 입력하세요 : 24\n",
      "함수가 리턴을 합니다.\n",
      "함수가 리턴을 합니다.\n",
      "함수가 리턴을 합니다.\n",
      "당신의 나이는 24 살 입니다.\n"
     ]
    }
   ],
   "source": [
    "age = inputAge()\n",
    "print('당신의 나이는 {} 살 입니다.'.format(age))"
   ]
  },
  {
   "cell_type": "markdown",
   "id": "e867f19f",
   "metadata": {},
   "source": [
    "####  돌발퀴즈\n",
    "- 매개변수로 넘겨받은 각 요소번지의 값에 제곱한 결과를 출력하고싶다.\n",
    "- 예외처리를 통해서 문자열의 제곱을 제외한 결과를 출력"
   ]
  },
  {
   "cell_type": "code",
   "execution_count": 4,
   "id": "eefdaefc",
   "metadata": {},
   "outputs": [],
   "source": [
    "def lstPrint(lst : list) -> None :\n",
    "    for data in lst :\n",
    "        try :\n",
    "            print(data**2)\n",
    "        except Exception as e: #다중 except도 가능, 아니면 Exception 하나로 처리한다.\n",
    "            print('발생된 예외를 부모가 처리합니다.') #try 구문을 for까지 잡게되면 30에서 멈춤, \n",
    "    print('>>> function call end! <<<')"
   ]
  },
  {
   "cell_type": "code",
   "execution_count": 5,
   "id": "8723308c",
   "metadata": {
    "scrolled": true
   },
   "outputs": [
    {
     "name": "stdout",
     "output_type": "stream",
     "text": [
      "100\n",
      "400\n",
      "900\n",
      "발생된 예외를 부모가 처리합니다.\n",
      "1600\n",
      "2500\n",
      ">>> function call end! <<<\n"
     ]
    }
   ],
   "source": [
    "tmp = [10,20,30,'seop',40,50]\n",
    "lstPrint(tmp)"
   ]
  },
  {
   "cell_type": "code",
   "execution_count": 9,
   "id": "368efa1a",
   "metadata": {},
   "outputs": [],
   "source": [
    "# print(100/0) 런타임에서 발생하는 예외\n",
    "# print('error) 문법적 예외 등"
   ]
  },
  {
   "cell_type": "markdown",
   "id": "82474f10",
   "metadata": {},
   "source": [
    "#### 파일입출력\n",
    "- 예외발생이 많다.\n",
    "- 텍스트파일 , json 형식의 입출력\n",
    "- csv, xls : 분석을 위한 데이터타입 필요하다(Pandas = DataFrame 통한 입출력이 가능)\n",
    "- open(filePath, mode = 'r(읽기전용)\\w(쓰기전용)\\a(append)\\b' , encoding = '읽고자하는 파일의 형식을 지정(cp949,euc-kn)') 표준 = *UTF-8*,(한글 16비트, cp949, euc-kn...)\n",
    "- r:read w:write a:append\n",
    "- with open() as file : Source(P/G)-(Stream)-Destination(File)\n",
    "- stream 을 열고 닫지 않으면 쓰레기값이 들어옴/ with open을 쓰면 자동으로 close"
   ]
  },
  {
   "cell_type": "code",
   "execution_count": 51,
   "id": "be939677",
   "metadata": {},
   "outputs": [
    {
     "name": "stdout",
     "output_type": "stream",
     "text": [
      "파일이 존재합니다.\n",
      "type -  <class '_io.TextIOWrapper'>\n",
      "\n",
      "dir -  ['_CHUNK_SIZE', '__class__', '__del__', '__delattr__', '__dict__', '__dir__', '__doc__', '__enter__', '__eq__', '__exit__', '__format__', '__ge__', '__getattribute__', '__getstate__', '__gt__', '__hash__', '__init__', '__init_subclass__', '__iter__', '__le__', '__lt__', '__ne__', '__new__', '__next__', '__reduce__', '__reduce_ex__', '__repr__', '__setattr__', '__sizeof__', '__str__', '__subclasshook__', '_checkClosed', '_checkReadable', '_checkSeekable', '_checkWritable', '_finalizing', 'buffer', 'close', 'closed', 'detach', 'encoding', 'errors', 'fileno', 'flush', 'isatty', 'line_buffering', 'mode', 'name', 'newlines', 'read', 'readable', 'readline', 'readlines', 'reconfigure', 'seek', 'seekable', 'tell', 'truncate', 'writable', 'write', 'write_through', 'writelines']\n",
      "read - \n",
      "readline - \n",
      "readlines - \n",
      "['내일은 코테를 보는 날이다\\n', '아마도 멘붕이 오지 않을까?\\n', '슬프지만 즐기자\\n', '오늘 수업도 재미있었다.\\n', '거짓말이다.\\n', '사실은 하나도 모르겠다.\\n', '하지만 혈맥과 함께 한다면 어쩌면 기회가 오지 않을까?']\n"
     ]
    }
   ],
   "source": [
    "try :\n",
    "    path = './data/greeting.txt' #./는 현재 디렉토리(를 기준으로 한다.\n",
    "    file = open(path , mode = 'r', encoding = 'UTF-8')\n",
    "except Exception as e :\n",
    "    print('디렉토리 경로를 확인해 주세요') #예외 대신 다른 메세지를 표출.\n",
    "else :\n",
    "    print('파일이 존재합니다.')\n",
    "    print('type - ', type(file))\n",
    "    print()\n",
    "    print('dir - ', dir(file))\n",
    "    print('read - ')\n",
    "    # txt = file.read() # txt로 바꾸면 여러번 가져올 수 있다., read를 하게되면 문자열(str)로 문장 전체가 넘어오게 된다.\n",
    "    # strInfo(txt) # 기존 코드를 함수로 바꾸어서 간단히 실행\n",
    "\n",
    "    # 파일을 리스트로 출력\n",
    "    # lst = txt.split('\\n')\n",
    "    # lstInfo(lst) # strInfo와 같다.\n",
    "    print('readline - ')\n",
    "#     print(file.readline())\n",
    "#     print(file.readline()) # 3가지를 기억할 것.\n",
    "#     print(file.readline())\n",
    "    print('readlines - ')\n",
    "    print(file.readlines())\n",
    "    \n",
    "file.close()"
   ]
  },
  {
   "cell_type": "code",
   "execution_count": 27,
   "id": "49ac22fe",
   "metadata": {},
   "outputs": [],
   "source": [
    "with open('./data/greeting.txt', mode = 'r' , encoding = 'UTF - 8') as file:\n",
    "    pass"
   ]
  },
  {
   "cell_type": "code",
   "execution_count": 42,
   "id": "5ba3b31f",
   "metadata": {},
   "outputs": [],
   "source": [
    "def strInfo(tmp : str) -> None :\n",
    "    print('type -',type(tmp))\n",
    "    print()\n",
    "    print(tmp)\n",
    "    \n",
    "def lstInfo(tmp : list) -> None :\n",
    "    print('type -',type(tmp))\n",
    "    print()\n",
    "    print(tmp)\n",
    "    \n",
    "    for sentence in tmp:\n",
    "        print('len - ',len(sentence.split()))"
   ]
  },
  {
   "cell_type": "code",
   "execution_count": 39,
   "id": "b42c7e88",
   "metadata": {},
   "outputs": [],
   "source": []
  },
  {
   "cell_type": "code",
   "execution_count": null,
   "id": "74188272",
   "metadata": {},
   "outputs": [],
   "source": []
  },
  {
   "cell_type": "code",
   "execution_count": null,
   "id": "b3edcb1e",
   "metadata": {},
   "outputs": [],
   "source": []
  },
  {
   "cell_type": "code",
   "execution_count": null,
   "id": "b057d7ec",
   "metadata": {},
   "outputs": [],
   "source": []
  },
  {
   "cell_type": "code",
   "execution_count": null,
   "id": "b62a6c51",
   "metadata": {},
   "outputs": [],
   "source": []
  },
  {
   "cell_type": "code",
   "execution_count": null,
   "id": "bbb03f8b",
   "metadata": {},
   "outputs": [],
   "source": []
  },
  {
   "cell_type": "code",
   "execution_count": null,
   "id": "a33a0f8b",
   "metadata": {},
   "outputs": [],
   "source": []
  },
  {
   "cell_type": "code",
   "execution_count": null,
   "id": "4c7de090",
   "metadata": {},
   "outputs": [],
   "source": []
  },
  {
   "cell_type": "code",
   "execution_count": null,
   "id": "a0a24f32",
   "metadata": {},
   "outputs": [],
   "source": []
  },
  {
   "cell_type": "code",
   "execution_count": null,
   "id": "c9d5649f",
   "metadata": {},
   "outputs": [],
   "source": []
  },
  {
   "cell_type": "code",
   "execution_count": null,
   "id": "9c295845",
   "metadata": {},
   "outputs": [],
   "source": []
  },
  {
   "cell_type": "code",
   "execution_count": null,
   "id": "eb1b4392",
   "metadata": {},
   "outputs": [],
   "source": []
  },
  {
   "cell_type": "code",
   "execution_count": null,
   "id": "5b2bfb7a",
   "metadata": {},
   "outputs": [],
   "source": []
  },
  {
   "cell_type": "code",
   "execution_count": null,
   "id": "15f0b234",
   "metadata": {},
   "outputs": [],
   "source": []
  },
  {
   "cell_type": "code",
   "execution_count": null,
   "id": "79e2ced8",
   "metadata": {},
   "outputs": [],
   "source": []
  }
 ],
 "metadata": {
  "kernelspec": {
   "display_name": "Python 3 (ipykernel)",
   "language": "python",
   "name": "python3"
  },
  "language_info": {
   "codemirror_mode": {
    "name": "ipython",
    "version": 3
   },
   "file_extension": ".py",
   "mimetype": "text/x-python",
   "name": "python",
   "nbconvert_exporter": "python",
   "pygments_lexer": "ipython3",
   "version": "3.11.4"
  }
 },
 "nbformat": 4,
 "nbformat_minor": 5
}
