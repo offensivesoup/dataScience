{
 "cells": [
  {
   "cell_type": "markdown",
   "id": "8e51d061",
   "metadata": {},
   "source": [
    "numpy 학습목표\n",
    "- 배열의 데이터 타입(인공지능에서 사용하게 되는 데이터타입) # 인공지능의 데이터타입들은 대부분 배열로 사용한다.\n",
    "- 생성, 다루는 방법\n",
    "- 통계에 관련된 함수를 지원\n",
    "- 벡터화 연산, 행렬 연산\n",
    "- 파이썬의 리스트와는 다르다(요소의 타입이 같아야 한다.)\n",
    "- 원소의 개수를 변경할 수 없다.(resizing X)\n",
    "- 배열의 차원, 크기, 타입(ndim, shape, dtype)"
   ]
  },
  {
   "cell_type": "code",
   "execution_count": 4,
   "id": "5ccbc865",
   "metadata": {},
   "outputs": [],
   "source": [
    "import numpy  as np\n",
    "import pandas as pd"
   ]
  },
  {
   "cell_type": "markdown",
   "id": "5619eaef",
   "metadata": {},
   "source": [
    "- 배열을 생성하는 함수 : array() , arange() , reshape()"
   ]
  },
  {
   "cell_type": "code",
   "execution_count": 5,
   "id": "e5e829c3",
   "metadata": {},
   "outputs": [
    {
     "name": "stdout",
     "output_type": "stream",
     "text": [
      "type -  <class 'list'>\n",
      "type -   <class 'numpy.ndarray'>\n",
      "shape -  (5,)\n",
      "ndim -   1\n",
      "dtype -  int32\n"
     ]
    }
   ],
   "source": [
    "lst = [1,2,3,4,5]\n",
    "print('type - ',type(lst))\n",
    "\n",
    "ary = np.array(lst)\n",
    "print('type -  ',type(ary))\n",
    "print('shape - ',ary.shape) #shape은 크기 (5)\n",
    "print('ndim -  ',ary.ndim)  #ndim은 차원 (1)\n",
    "print('dtype - ',ary.dtype)"
   ]
  },
  {
   "cell_type": "code",
   "execution_count": 6,
   "id": "274ac54f",
   "metadata": {},
   "outputs": [],
   "source": [
    "def aryInfo(ary) :\n",
    "    print('type -',type(ary))\n",
    "    print('shape -',ary.shape)\n",
    "    print('ndim -',ary.ndim)\n",
    "    print('dtype -',ary.dtype)\n",
    "    print()\n",
    "    print('data -')\n",
    "    print(ary)"
   ]
  },
  {
   "cell_type": "code",
   "execution_count": 7,
   "id": "1f36cb09",
   "metadata": {},
   "outputs": [
    {
     "name": "stdout",
     "output_type": "stream",
     "text": [
      "type - <class 'numpy.ndarray'>\n",
      "shape - (5,)\n",
      "ndim - 1\n",
      "dtype - int32\n",
      "\n",
      "data -\n",
      "[1 2 3 4 5]\n"
     ]
    }
   ],
   "source": [
    "aryInfo(ary)"
   ]
  },
  {
   "cell_type": "code",
   "execution_count": 8,
   "id": "2210540d",
   "metadata": {},
   "outputs": [
    {
     "name": "stdout",
     "output_type": "stream",
     "text": [
      "[1, 2, 3, 4, 5, 6, 7, 8, 9, 1, 2, 3, 4, 5, 6, 7, 8, 9]\n",
      "[ 1  4  9 16 25 36 49 64 81]\n"
     ]
    }
   ],
   "source": [
    "lst = [1,2,3,4,5,6,7,8,9]\n",
    "print(lst * 2) \n",
    "\n",
    "ary = np.array(lst)\n",
    "print(ary ** 2) #벡터와연산"
   ]
  },
  {
   "cell_type": "code",
   "execution_count": 9,
   "id": "8ed286ce",
   "metadata": {},
   "outputs": [
    {
     "name": "stdout",
     "output_type": "stream",
     "text": [
      "산술 연산 - \n",
      "[11 22 33 44 55]\n"
     ]
    }
   ],
   "source": [
    "print('산술 연산 - ')\n",
    "ary01 = np.array([1, 2, 3, 4, 5 ])\n",
    "ary02 = np.array([10,20,30,40,50])\n",
    "\n",
    "print(ary01 + ary02) # 배열의 shape이 동일, 연산이 가능\n"
   ]
  },
  {
   "cell_type": "code",
   "execution_count": 10,
   "id": "bddfd088",
   "metadata": {},
   "outputs": [
    {
     "name": "stdout",
     "output_type": "stream",
     "text": [
      "비교연산 - \n",
      "[False  True False False False]\n",
      "[False  True False False False]\n",
      "indexing -  1\n",
      "indexing -  2\n",
      "slicing  -  [1 2 3]\n",
      "boolean indxing -  [2]\n"
     ]
    }
   ],
   "source": [
    "print('비교연산 - ')\n",
    "print( ary01 == 2 )\n",
    "\n",
    "booleanMasking = (ary01 == 2)\n",
    "print(booleanMasking)\n",
    "print('indexing - ',ary01[0])\n",
    "print('indexing - ',ary01[1])\n",
    "print('slicing  - ',ary01[0:3])\n",
    "print('boolean indxing - ',ary01[booleanMasking]) # True인 값만을 돌려준다.\n"
   ]
  },
  {
   "cell_type": "code",
   "execution_count": 11,
   "id": "90ae51db",
   "metadata": {},
   "outputs": [
    {
     "name": "stdout",
     "output_type": "stream",
     "text": [
      "논리연산 - \n",
      "[False  True  True  True  True]\n",
      "\n",
      "[False  True False False False]\n",
      "[False  True  True  True  True]\n",
      "[False  True False False False]\n",
      "[False  True  True  True  True]\n"
     ]
    }
   ],
   "source": [
    "print('논리연산 - ')\n",
    "\n",
    "print(ary02 > 10)\n",
    "print()\n",
    "print(ary01 == 2)\n",
    "print(ary02 > 10)\n",
    "print((ary01 == 2) & (ary02 > 10))\n",
    "print((ary01 == 2) | (ary02 > 10))"
   ]
  },
  {
   "cell_type": "markdown",
   "id": "0d25d72e",
   "metadata": {},
   "source": [
    "- 2차원 배열(행렬, matrix) : list of list # 인공지능 데이터들은 행렬을 많이 사용한다."
   ]
  },
  {
   "cell_type": "code",
   "execution_count": 12,
   "id": "8c4e1ddb",
   "metadata": {},
   "outputs": [
    {
     "name": "stdout",
     "output_type": "stream",
     "text": [
      "2 * 3 배열을 생성하고 싶다면 ? \n",
      "1\t2\t3\t4\t5\t6\t"
     ]
    }
   ],
   "source": [
    "# 데이터 분석은 col을 기준으로 분석( col = 1차원 )\n",
    "print('2 * 3 배열을 생성하고 싶다면 ? ')\n",
    "\n",
    "lst = [[1,2,3],[4,5,6]] #2행 3열\n",
    "for ridx, row in enumerate(lst):\n",
    "    for cidx, col in enumerate(row):\n",
    "        #print(col)\n",
    "        #print(ridx)\n",
    "        #print(cidx)\n",
    "        print(lst[ridx][cidx], end = '\\t')\n",
    "# print(lst[0][0])"
   ]
  },
  {
   "cell_type": "code",
   "execution_count": 13,
   "id": "a120a43f",
   "metadata": {},
   "outputs": [
    {
     "name": "stdout",
     "output_type": "stream",
     "text": [
      "type - <class 'numpy.ndarray'>\n",
      "shape - (2, 3)\n",
      "ndim - 2\n",
      "dtype - int32\n",
      "\n",
      "data -\n",
      "[[1 2 3]\n",
      " [4 5 6]]\n",
      "\n",
      "2\n",
      "3\n"
     ]
    }
   ],
   "source": [
    "ary = np.array(lst)\n",
    "aryInfo(ary)\n",
    "print()\n",
    "print(len(ary))\n",
    "print(len(ary[0]))"
   ]
  },
  {
   "cell_type": "code",
   "execution_count": 14,
   "id": "87797131",
   "metadata": {},
   "outputs": [
    {
     "name": "stdout",
     "output_type": "stream",
     "text": [
      "2*3*4 배열을 생성하고 싶다면\n",
      "type - <class 'numpy.ndarray'>\n",
      "shape - (2, 3, 4)\n",
      "ndim - 3\n",
      "dtype - object\n",
      "\n",
      "data -\n",
      "[[[1 2 3 4]\n",
      "  [5 6 7 8]\n",
      "  [9 10 11 12]]\n",
      "\n",
      " [[13 14 15 16]\n",
      "  [17 18 19 20]\n",
      "  [21 22 23 24]]]\n",
      "\n",
      "2\n",
      "3\n",
      "4\n"
     ]
    }
   ],
   "source": [
    "print('2*3*4 배열을 생성하고 싶다면') # 3행 4열짜리 배열이 2개 있는 것이다.\n",
    "lst = [[[1,2,3,4],[5,6,7,8],[9,10,11,12]],\n",
    "       [[13,14,15,16],[17,18,19,20],[21,22,23,24]]\n",
    "      ]\n",
    "ary = np.array(lst, dtype = object)\n",
    "aryInfo(ary)\n",
    "print()\n",
    "print(len(ary))\n",
    "print(len(ary[0]))\n",
    "print(len(ary[0][0]))\n",
    "                                           "
   ]
  },
  {
   "cell_type": "markdown",
   "id": "866101b8",
   "metadata": {},
   "source": [
    "- astype() : 요소의 타입을 변경할 때\n",
    "- 1차원, 2차원 적용이 가능"
   ]
  },
  {
   "cell_type": "code",
   "execution_count": 15,
   "id": "ad9fab71",
   "metadata": {},
   "outputs": [
    {
     "name": "stdout",
     "output_type": "stream",
     "text": [
      "type - <class 'numpy.ndarray'>\n",
      "shape - (2, 3, 4)\n",
      "ndim - 3\n",
      "dtype - int32\n",
      "\n",
      "data -\n",
      "[[[ 1  2  3  4]\n",
      "  [ 5  6  7  8]\n",
      "  [ 9 10 11 12]]\n",
      "\n",
      " [[13 14 15 16]\n",
      "  [17 18 19 20]\n",
      "  [21 22 23 24]]]\n"
     ]
    }
   ],
   "source": [
    "aryInfo(ary.astype(np.int32))"
   ]
  },
  {
   "cell_type": "markdown",
   "id": "96126c63",
   "metadata": {},
   "source": [
    "- 배열에서 인덱싱, 슬라이싱"
   ]
  },
  {
   "cell_type": "code",
   "execution_count": 16,
   "id": "f199ecd0",
   "metadata": {},
   "outputs": [
    {
     "name": "stdout",
     "output_type": "stream",
     "text": [
      "2차원 배열의 인덱싱 = [행,열]\n",
      "\n",
      "type - <class 'numpy.ndarray'>\n",
      "shape - (2, 4)\n",
      "ndim - 2\n",
      "dtype - int32\n",
      "\n",
      "data -\n",
      "[[1 2 3 4]\n",
      " [5 6 7 8]]\n",
      "\n",
      "첫번째 행의 첫번째 열의 값을 추출 - 1\n",
      "두번째 행의 첫번째 열의 값을 추출 - 5\n",
      "마지막 행의 마지막 열의 값을 추출 - 8\n",
      "첫번째 행의 전체 열의 값을 추출 - [1 2 3 4]\n",
      "두번째 행의 전체 열의 값을 추출 - [5 6 7 8]\n",
      "두번째 행의 두번째 열부터 끝까지 값을 추출 - [6 7 8]\n"
     ]
    }
   ],
   "source": [
    "print('2차원 배열의 인덱싱 = [행,열]')\n",
    "print()\n",
    "ary = np.array([[1,2,3,4] , [5,6,7,8]])\n",
    "aryInfo(ary)\n",
    "print()\n",
    "print('첫번째 행의 첫번째 열의 값을 추출 -',ary[0,0])\n",
    "print('두번째 행의 첫번째 열의 값을 추출 -',ary[1,0])\n",
    "print('마지막 행의 마지막 열의 값을 추출 -',ary[-1,-1])\n",
    "print('첫번째 행의 전체 열의 값을 추출 -',ary[0,:])\n",
    "print('두번째 행의 전체 열의 값을 추출 -',ary[1])\n",
    "print('두번째 행의 두번째 열부터 끝까지 값을 추출 -',ary[1,1:])\n",
    "\n"
   ]
  },
  {
   "cell_type": "code",
   "execution_count": 17,
   "id": "6cb98ccd",
   "metadata": {},
   "outputs": [
    {
     "name": "stdout",
     "output_type": "stream",
     "text": [
      "fancy indexing - 정수배열 인덱싱(첨자), 불리언배열 인덱싱(T|F)\n",
      "\n",
      "type - <class 'numpy.ndarray'>\n",
      "shape - (10,)\n",
      "ndim - 1\n",
      "dtype - int32\n",
      "\n",
      "data -\n",
      "[0 1 2 3 4 5 6 7 8 9]\n",
      "\n",
      "2의 배수인것들만 출력한다면 - \n",
      "boolean indexing -  [0 2 4 6 8]\n",
      "정수배열 인덱싱 -  [9 2 4 6 8]\n"
     ]
    }
   ],
   "source": [
    "print('fancy indexing - 정수배열 인덱싱(첨자), 불리언배열 인덱싱(T|F)')\n",
    "print()\n",
    "ary = np.array([0,1,2,3,4,5,6,7,8,9])\n",
    "aryInfo(ary)\n",
    "print()\n",
    "print('2의 배수인것들만 출력한다면 - ')\n",
    "# print('dir - ',dir(ary)) # __iter 배열도 순환반복이 가능\n",
    "\n",
    "# for data in ary:\n",
    "#     if data%2 == 0:\n",
    "#         print(data)\n",
    "\n",
    "print('boolean indexing - ',ary[ary%2==0]) # boolean식을 ary의 인덱싱란에 넣으면 for반복과 똑같은 결과가 출력된다.\n",
    "evenidx = np.array([9,2,4,6,8])\n",
    "print('정수배열 인덱싱 - ' , ary[evenidx])"
   ]
  },
  {
   "cell_type": "markdown",
   "id": "f9886492",
   "metadata": {},
   "source": [
    "돌발퀴즈\n",
    "- 3의 배수만 출력\n",
    "- 4로 나누어 1이 남는 값들만 출력\n",
    "- 3의 배수이고 4로 나누어 1이 남는 값들만 출력"
   ]
  },
  {
   "cell_type": "code",
   "execution_count": 18,
   "id": "6c0d3f85",
   "metadata": {},
   "outputs": [
    {
     "name": "stdout",
     "output_type": "stream",
     "text": [
      "type - <class 'numpy.ndarray'>\n",
      "shape - (20,)\n",
      "ndim - 1\n",
      "dtype - int32\n",
      "\n",
      "data -\n",
      "[ 1  2  3  4  5  6  7  8  9 10 11 12 13 14 15 16 17 18 19 20]\n",
      "[ 3  6  9 12 15 18]\n",
      "[ 1  5  9 13 17]\n",
      "[9]\n"
     ]
    }
   ],
   "source": [
    "ary = np.arange(1, 21)\n",
    "aryInfo(ary)\n",
    "print(ary[ary%3==0])\n",
    "print(ary[ary%4==1])\n",
    "print(ary[(ary%3==0) & (ary%4==1)]) #모호성 오류시 괄호로 묶어줘야함."
   ]
  },
  {
   "cell_type": "markdown",
   "id": "08f593fb",
   "metadata": {},
   "source": [
    " - reshape() : 배열의 변형"
   ]
  },
  {
   "cell_type": "code",
   "execution_count": 21,
   "id": "edf725c8",
   "metadata": {},
   "outputs": [
    {
     "name": "stdout",
     "output_type": "stream",
     "text": [
      "type - <class 'numpy.ndarray'>\n",
      "shape - (3, 4)\n",
      "ndim - 2\n",
      "dtype - int32\n",
      "\n",
      "data -\n",
      "[[ 1  2  3  4]\n",
      " [ 5  6  7  8]\n",
      " [ 9 10 11 12]]\n",
      "\n",
      "정수배열인덱싱을 이용해서 모든 행의 0,3 열 값 출력 -  [[ 1  4]\n",
      " [ 5  8]\n",
      " [ 9 12]]\n",
      "불리언배열인덱싱을 이용해서 모든 행의 0,3 열 값 출력 -  [[ 1  4]\n",
      " [ 5  8]\n",
      " [ 9 12]]\n",
      "5 값 추출 -  5\n",
      "[2 10] 값 추출 -  [ 2 10]\n",
      "[[2] [10]] 값 추출 -  [[ 2]\n",
      " [10]]\n",
      "[[1 3][9 11]] 값 추출 [[ 1  3]\n",
      " [ 9 11]]\n"
     ]
    }
   ],
   "source": [
    "ary = np.arange(1,13).reshape(-1 , 4) #행과 열중 하나만 지정하면 나머지엔 -1을 넣을 것.\n",
    "aryInfo(ary)\n",
    "colTmp = [0,3] # 정수배열 인덱싱\n",
    "# rowTmp = [0,1,2]\n",
    "print()\n",
    "print('정수배열인덱싱을 이용해서 모든 행의 0,3 열 값 출력 - ', ary[:,colTmp]) #ary[0][colTmp],ary[1][colTmp],ary[2][colTmp])\n",
    "boolTmp = [True,False,False,True] # 불인덱싱\n",
    "print('불리언배열인덱싱을 이용해서 모든 행의 0,3 열 값 출력 - ',ary[:,boolTmp])\n",
    "print('5 값 추출 - ', ary[1][0])\n",
    "print('[2 10] 값 추출 - ', ary[ [0,2] , 1 ])\n",
    "\n",
    "print('[[2] [10]] 값 추출 - ',ary[ [0,2] , 1:2 ]) #슬라이싱 하면 2차원의 데이터로 가져온다.\n",
    "print('[[1 3][9 11]] 값 추출',ary[ [0,2] , ::2 ]) # ary[np.ix_([0,2],[0,2])]\n"
   ]
  },
  {
   "cell_type": "code",
   "execution_count": null,
   "id": "f8fa08e4",
   "metadata": {},
   "outputs": [],
   "source": []
  },
  {
   "cell_type": "code",
   "execution_count": null,
   "id": "730b4ad2",
   "metadata": {},
   "outputs": [],
   "source": []
  },
  {
   "cell_type": "code",
   "execution_count": null,
   "id": "41b1dc66",
   "metadata": {},
   "outputs": [],
   "source": []
  }
 ],
 "metadata": {
  "kernelspec": {
   "display_name": "Python 3 (ipykernel)",
   "language": "python",
   "name": "python3"
  },
  "language_info": {
   "codemirror_mode": {
    "name": "ipython",
    "version": 3
   },
   "file_extension": ".py",
   "mimetype": "text/x-python",
   "name": "python",
   "nbconvert_exporter": "python",
   "pygments_lexer": "ipython3",
   "version": "3.11.4"
  }
 },
 "nbformat": 4,
 "nbformat_minor": 5
}
