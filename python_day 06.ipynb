{
 "cells": [
  {
   "cell_type": "markdown",
   "id": "6fcd8765",
   "metadata": {},
   "source": [
    "#### 함수 (function - oop method)\n",
    "- 전처리를 하기위한 용도\n",
    "- 코드의 재활용을 위해서 \n",
    "- 변수타입으로 사용될 수 있다."
   ]
  },
  {
   "cell_type": "code",
   "execution_count": 5,
   "id": "261b9644",
   "metadata": {},
   "outputs": [
    {
     "name": "stdout",
     "output_type": "stream",
     "text": [
      "누적 값 확인 - \n",
      "sum -  45\n",
      "\n",
      "total -  45\n"
     ]
    }
   ],
   "source": [
    "lst = [1,2,3,4,5,6,7,8,9]\n",
    "print('누적 값 확인 - ')\n",
    "print('sum - ',sum(lst))\n",
    "print()\n",
    "total = 0\n",
    "for data in lst:\n",
    "    total += data\n",
    "print('total - ', total)"
   ]
  },
  {
   "cell_type": "code",
   "execution_count": 29,
   "id": "75ee1035",
   "metadata": {},
   "outputs": [
    {
     "name": "stdout",
     "output_type": "stream",
     "text": [
      "working\n"
     ]
    }
   ],
   "source": [
    "print('working')\n",
    "def sumCalc():\n",
    "    print('function call') #들여쓰기를 해야한다."
   ]
  },
  {
   "cell_type": "code",
   "execution_count": 30,
   "id": "49ef6441",
   "metadata": {},
   "outputs": [
    {
     "name": "stdout",
     "output_type": "stream",
     "text": [
      "caller -\n",
      "function call\n",
      "result -  None\n"
     ]
    }
   ],
   "source": [
    "print('caller -')\n",
    "print('result - ', sumCalc())"
   ]
  },
  {
   "cell_type": "code",
   "execution_count": 31,
   "id": "15eefd69",
   "metadata": {},
   "outputs": [],
   "source": [
    "def sayEcho(msg):\n",
    "    return msg # return은 함수의 마지막에 사용"
   ]
  },
  {
   "cell_type": "code",
   "execution_count": 32,
   "id": "2ea6919e",
   "metadata": {},
   "outputs": [
    {
     "name": "stdout",
     "output_type": "stream",
     "text": [
      "result - hi~\n"
     ]
    }
   ],
   "source": [
    "result = sayEcho('hi~')\n",
    "print('result -', result)"
   ]
  },
  {
   "cell_type": "code",
   "execution_count": null,
   "id": "f116fac5",
   "metadata": {},
   "outputs": [],
   "source": [
    "print('case01 - 인자 x, 리턴 x')\n",
    "def sumCalc():\n",
    "    print('function call')    "
   ]
  },
  {
   "cell_type": "code",
   "execution_count": 35,
   "id": "2f712817",
   "metadata": {},
   "outputs": [
    {
     "name": "stdout",
     "output_type": "stream",
     "text": [
      "function call\n"
     ]
    }
   ],
   "source": [
    "sumCalc()"
   ]
  },
  {
   "cell_type": "code",
   "execution_count": 36,
   "id": "218581dd",
   "metadata": {},
   "outputs": [],
   "source": [
    "print('case01 - 인자 o, 리턴 o')\n",
    "def sayEcho(msg):\n",
    "    return msg"
   ]
  },
  {
   "cell_type": "code",
   "execution_count": 37,
   "id": "14f3aaee",
   "metadata": {},
   "outputs": [
    {
     "name": "stdout",
     "output_type": "stream",
     "text": [
      "result -  hi\n"
     ]
    }
   ],
   "source": [
    "print('result - ', sayEcho('hi'))"
   ]
  },
  {
   "cell_type": "code",
   "execution_count": 38,
   "id": "8d0554ce",
   "metadata": {},
   "outputs": [
    {
     "name": "stdout",
     "output_type": "stream",
     "text": [
      "case01 - 인자 o, 리턴 x\n"
     ]
    }
   ],
   "source": [
    "print('case01 - 인자 o, 리턴 x')\n",
    "def sayEcho(msg):\n",
    "    pass"
   ]
  },
  {
   "cell_type": "code",
   "execution_count": 39,
   "id": "3436df2c",
   "metadata": {},
   "outputs": [],
   "source": [
    "sayEcho('hi')"
   ]
  },
  {
   "cell_type": "code",
   "execution_count": 41,
   "id": "df43ab37",
   "metadata": {},
   "outputs": [
    {
     "name": "stdout",
     "output_type": "stream",
     "text": [
      "case01 - 인자 x, 리턴 x\n"
     ]
    }
   ],
   "source": [
    "print('case01 - 인자 x, 리턴 x')\n",
    "def sayEcho():\n",
    "    pass"
   ]
  },
  {
   "cell_type": "code",
   "execution_count": 42,
   "id": "ae386e7d",
   "metadata": {},
   "outputs": [],
   "source": [
    "sayEcho()"
   ]
  },
  {
   "cell_type": "code",
   "execution_count": 60,
   "id": "c053ebc4",
   "metadata": {},
   "outputs": [
    {
     "name": "stdout",
     "output_type": "stream",
     "text": [
      "인자를 세개 받아서 2번째 인자에 따라서 사칙연산한 결과를 리턴하는 함수 userCalc() 함수를 정의한다면?\n",
      "hint - \n"
     ]
    }
   ],
   "source": [
    "print('인자를 세개 받아서 2번째 인자에 따라서 사칙연산한 결과를 리턴하는 함수 userCalc() 함수를 정의한다면?')\n",
    "print('hint - ')\n",
    "# def userCalc(x, operator, y):\n",
    "#     if operator == '+':\n",
    "#         return x+y #함수에서 특정값을 출력하려면 return이 필요하다.\n",
    "#     elif operator == '-':\n",
    "#         return x-y\n",
    "#     elif operator == '*':\n",
    "#         return x*y\n",
    "#     elif operator == '/':\n",
    "#         return x/y\n",
    "#     pass\n",
    "\n",
    "def userCalc(x : int, operator : str, y: int):#:int 와 같이 힌트를 주는 것도 가능하다.\n",
    "    result = 0\n",
    "    if operator == '+':\n",
    "        result = x+y #함수에서 특정값을 출력하려면 return이 필요하다.\n",
    "    elif operator == '-':\n",
    "        result = x-y\n",
    "    elif operator == '*':\n",
    "        result = x*y\n",
    "    elif operator == '/':\n",
    "        result = x/y\n",
    "    return result\n",
    "    "
   ]
  },
  {
   "cell_type": "code",
   "execution_count": 61,
   "id": "84af706a",
   "metadata": {},
   "outputs": [
    {
     "name": "stdout",
     "output_type": "stream",
     "text": [
      "caller - \n",
      "+ = 1.0\n"
     ]
    }
   ],
   "source": [
    "print('caller - ')\n",
    "result = userCalc(10,'/',10)\n",
    "print('+ =',result)"
   ]
  },
  {
   "cell_type": "code",
   "execution_count": 62,
   "id": "25815d6b",
   "metadata": {},
   "outputs": [],
   "source": [
    "def leapYear(year : int):\n",
    "    if (year%4 == 0) and (year%100 != 0) or (year%400 == 0):\n",
    "        return '윤년입니다.'\n",
    "    else:\n",
    "        return '평년입니다.'"
   ]
  },
  {
   "cell_type": "code",
   "execution_count": 63,
   "id": "36500739",
   "metadata": {},
   "outputs": [
    {
     "name": "stdout",
     "output_type": "stream",
     "text": [
      "result -  평년입니다.\n"
     ]
    }
   ],
   "source": [
    "result = leapYear(2023)\n",
    "print('result - ',result)"
   ]
  },
  {
   "cell_type": "markdown",
   "id": "16151706",
   "metadata": {},
   "source": [
    "#### 돌발퀴즈\n",
    "- 두개의 인자를 받는 함수를 정의한다 (oddEvenFunc)\n",
    "- 두 인자의 값의 범위의 홀수의 합, 짝수의 합을 반환한다."
   ]
  },
  {
   "cell_type": "code",
   "execution_count": 101,
   "id": "c7a5073e",
   "metadata": {},
   "outputs": [],
   "source": [
    "def oddEvenFunc(start : int, end : int):\n",
    "    evenSum = oddSum = 0\n",
    "    for data in range(start, end  +  1):\n",
    "        if data%2   == 0:\n",
    "            evenSum += data\n",
    "        else:\n",
    "            oddSum  += data\n",
    "    return (oddSum, evenSum) #함수에서도 튜플을 리턴할 수 있다."
   ]
  },
  {
   "cell_type": "code",
   "execution_count": 102,
   "id": "d2df1c25",
   "metadata": {},
   "outputs": [
    {
     "name": "stdout",
     "output_type": "stream",
     "text": [
      "홀수의 합 - 247500\n",
      "짝수의 합 - 248050\n"
     ]
    }
   ],
   "source": [
    "oddSum , evenSum = oddEvenFunc(100, 1000) # 추출할 튜플의 언패킹\n",
    "print('홀수의 합 -',  oddSum)\n",
    "print('짝수의 합 -', evenSum)"
   ]
  },
  {
   "cell_type": "code",
   "execution_count": 5,
   "id": "5351f9f3",
   "metadata": {},
   "outputs": [],
   "source": [
    "def oddEvenFunc(start : int, end : int):\n",
    "    evenSum = oddSum = 0\n",
    "    lst = []\n",
    "    dct = {}\n",
    "    for data in range(start, end  +  1):\n",
    "        if data%2   == 0:\n",
    "            evenSum += data\n",
    "        else:\n",
    "            oddSum  += data\n",
    "    dct['odd'] = oddSum\n",
    "    dct['even'] = evenSum\n",
    "    return dct #다양한 타입의 리턴이 가능하다."
   ]
  },
  {
   "cell_type": "code",
   "execution_count": 7,
   "id": "a3ed1b5e",
   "metadata": {},
   "outputs": [
    {
     "name": "stdout",
     "output_type": "stream",
     "text": [
      "<class 'dict'>\n",
      "짝수의 합 - 248050\n",
      "홀수의 합 - 247500\n"
     ]
    }
   ],
   "source": [
    "oddEvenLst = oddEvenFunc(100,1000)\n",
    "print(type(oddEvenLst))\n",
    "print('짝수의 합 -',oddEvenLst['even'])\n",
    "print('홀수의 합 -',oddEvenLst['odd'])\n",
    "# oddEvenLst = oddEvenFunc(100, 1000)\n",
    "# print('type -',type(oddEvenLst))\n",
    "# print(\"짝수의 합 -\",oddEvenLst[1])\n",
    "# print(\"홀수의 합 -\",oddEvenLst[0])"
   ]
  },
  {
   "cell_type": "code",
   "execution_count": 35,
   "id": "e0ab5108",
   "metadata": {},
   "outputs": [],
   "source": [
    "def isSsn(Num : str):\n",
    "    print('param -',Num,type(Num))\n",
    "    tmp = Num.split('-')\n",
    "    if tmp[1][0] in [\"1\",\"3\"]:\n",
    "        return \"남성\"\n",
    "    else:\n",
    "        return \"여성\"\n",
    "    return tmp"
   ]
  },
  {
   "cell_type": "code",
   "execution_count": 42,
   "id": "d02b5c03",
   "metadata": {},
   "outputs": [
    {
     "name": "stdout",
     "output_type": "stream",
     "text": [
      "param - xxxxxx-1xxxxxx <class 'str'>\n",
      "당신의 성별은 남성 입니다.\n"
     ]
    }
   ],
   "source": [
    "gender = isSsn('xxxxxx-1xxxxxx')\n",
    "print('당신의 성별은 {} 입니다.'.format(gender))"
   ]
  },
  {
   "cell_type": "code",
   "execution_count": 44,
   "id": "a0699cc9",
   "metadata": {},
   "outputs": [
    {
     "name": "stdout",
     "output_type": "stream",
     "text": [
      "http://www.naver.com\n"
     ]
    }
   ],
   "source": [
    "companyName = 'naver'\n",
    "print(\"http://www.\"+companyName+'.com')"
   ]
  },
  {
   "cell_type": "code",
   "execution_count": 93,
   "id": "336ba855",
   "metadata": {},
   "outputs": [],
   "source": [
    "nameLst = ['naver','google','samsung','sk','lg']"
   ]
  },
  {
   "cell_type": "code",
   "execution_count": 137,
   "id": "2e991f3e",
   "metadata": {},
   "outputs": [],
   "source": [
    "def makeUrl(lst : list):\n",
    "    print('debug >>>>',type(lst))\n",
    "    \n",
    "    result = ['http:www.'+name+'.com' for name in lst] #list comprehension\n",
    "\n",
    "#     for name in lst:\n",
    "#         result.append('http:www.'+name+'.com') #리스트로 데이터를 변환시키기 위해서 append하는 것이 중요하다.\n",
    "    return result"
   ]
  },
  {
   "cell_type": "code",
   "execution_count": 138,
   "id": "5e76f068",
   "metadata": {},
   "outputs": [
    {
     "name": "stdout",
     "output_type": "stream",
     "text": [
      "caller -\n",
      "debug >>>> <class 'list'>\n",
      "urls - ['http:www.naver.com', 'http:www.google.com', 'http:www.samsung.com', 'http:www.sk.com', 'http:www.lg.com']\n"
     ]
    }
   ],
   "source": [
    "print('caller -')\n",
    "urls = makeUrl(nameLst) # urls - list\n",
    "print('urls -', urls)"
   ]
  },
  {
   "cell_type": "code",
   "execution_count": 148,
   "id": "d7aa3841",
   "metadata": {},
   "outputs": [],
   "source": [
    "numLst = [5,3,2,1,5,6,1,2,3,5,21,4,32,1,3,52,1316,1325,213,4,3,200]"
   ]
  },
  {
   "cell_type": "code",
   "execution_count": 155,
   "id": "1a9981ce",
   "metadata": {},
   "outputs": [],
   "source": [
    "# 짝수만 추출하여 리스트로 반환하는 함수\n",
    "'''\n",
    "[ 실행문 for data in 열거형 ]\n",
    "'''\n",
    "def pickEven(lst : list):\n",
    "    result = [num for num in lst if num%2 ==0] #list comprehension 으로 하면 append의 과정을 result[]로 생략할 수 있다.\n",
    "#     for num in numLst:\n",
    "#         if num%2 == 0:\n",
    "#             result.append(num)\n",
    "#         else:\n",
    "#             pass\n",
    "    return result"
   ]
  },
  {
   "cell_type": "code",
   "execution_count": 156,
   "id": "bbacd2c1",
   "metadata": {},
   "outputs": [
    {
     "name": "stdout",
     "output_type": "stream",
     "text": [
      "result - [2, 6, 2, 4, 32, 52, 1316, 4, 200]\n"
     ]
    }
   ],
   "source": [
    "results = pickEven(numLst)\n",
    "print('result -',results)"
   ]
  },
  {
   "cell_type": "code",
   "execution_count": 166,
   "id": "ceb430a5",
   "metadata": {},
   "outputs": [],
   "source": [
    "def myColor(name : str, color : str, bolTmp : bool):\n",
    "    if bolTmp == True:\n",
    "        print('{}님은 {}색을 좋아합니다.'.format(name,color))\n",
    "    else:\n",
    "        print('{}님은 {}색을 싫어합니다.'.format(name,color))\n",
    "    "
   ]
  },
  {
   "cell_type": "code",
   "execution_count": 167,
   "id": "dd6d08c3",
   "metadata": {},
   "outputs": [
    {
     "name": "stdout",
     "output_type": "stream",
     "text": [
      "caller -\n",
      "세번째 인자를 가지고 좋고 싫고\n",
      "출력예시)xxx님은 xxx색을 좋아(싫어)합니다\n",
      "김채아님은 빨강색을 싫어합니다.\n",
      "오세헌님은 파랑색을 좋아합니다.\n",
      "손충모님은 보라색을 싫어합니다.\n",
      "박영빈님은 검정색을 좋아합니다.\n"
     ]
    }
   ],
   "source": [
    "print('caller -')\n",
    "print('세번째 인자를 가지고 좋고 싫고')\n",
    "print('출력예시)xxx님은 xxx색을 좋아(싫어)합니다')\n",
    "\n",
    "myColor('김채아','빨강',False) #반환이 없는 함수\n",
    "myColor('오세헌','파랑',True)\n",
    "myColor('손충모','보라',False)\n",
    "myColor('박영빈','검정',True)"
   ]
  },
  {
   "cell_type": "code",
   "execution_count": 178,
   "id": "9ff9e3f1",
   "metadata": {},
   "outputs": [],
   "source": [
    "colorLst = [\n",
    "    {'name' : '김채아', 'color' : '빨강' ,'flag' : False},\n",
    "    {'name' : '오세헌', 'color' : '파랑' ,'flag' : True},\n",
    "    {'name' : '손충모', 'color' : '보라' ,'flag' : False},\n",
    "    {'name' : '박영빈', 'color' : '검정' ,'flag' : True}\n",
    "]"
   ]
  },
  {
   "cell_type": "code",
   "execution_count": 179,
   "id": "4c6dd8d4",
   "metadata": {},
   "outputs": [
    {
     "name": "stdout",
     "output_type": "stream",
     "text": [
      "동일결과 나오도록 구현 -\n"
     ]
    }
   ],
   "source": [
    "print('동일결과 나오도록 구현 -')"
   ]
  },
  {
   "cell_type": "code",
   "execution_count": 203,
   "id": "a0a7e436",
   "metadata": {},
   "outputs": [],
   "source": [
    "def myColor(lst : list):\n",
    "    #print('param -',type(lst))\n",
    "    for data in lst:\n",
    "        if data['flag'] == True:\n",
    "            print('{}님은 {}색을 좋아합니다.'.format(data['name'],data['color']))\n",
    "        else:\n",
    "            print('{}님은 {}색을 싫어합니다.'.format(data['name'],data['color']))"
   ]
  },
  {
   "cell_type": "code",
   "execution_count": 204,
   "id": "78e4608b",
   "metadata": {},
   "outputs": [
    {
     "name": "stdout",
     "output_type": "stream",
     "text": [
      "김채아님은 빨강색을 싫어합니다.\n",
      "오세헌님은 파랑색을 좋아합니다.\n",
      "손충모님은 보라색을 싫어합니다.\n",
      "박영빈님은 검정색을 좋아합니다.\n"
     ]
    }
   ],
   "source": [
    "myColor(colorLst)"
   ]
  },
  {
   "cell_type": "code",
   "execution_count": 226,
   "id": "cabbca82",
   "metadata": {},
   "outputs": [
    {
     "name": "stdout",
     "output_type": "stream",
     "text": [
      "4\n"
     ]
    }
   ],
   "source": [
    "# 변수의 스코프(Variable scope)\n",
    "# 전역(global), 지역(local)\n",
    "\n",
    "data = [1,2,3,4] #전역 스코프(global scope)\n",
    "\n",
    "def userFunc():\n",
    "    localVar = 100 # 지역 스코프(local scope) 블럭을 벗어나서 사용하지 못한다. \n",
    "    print(data)\n",
    "\n",
    "for d in data:\n",
    "    pass\n",
    "\n",
    "print(d)"
   ]
  },
  {
   "cell_type": "code",
   "execution_count": 227,
   "id": "3c35f01c",
   "metadata": {},
   "outputs": [
    {
     "ename": "NameError",
     "evalue": "name 'localVar' is not defined",
     "output_type": "error",
     "traceback": [
      "\u001b[1;31m---------------------------------------------------------------------------\u001b[0m",
      "\u001b[1;31mNameError\u001b[0m                                 Traceback (most recent call last)",
      "Cell \u001b[1;32mIn[227], line 1\u001b[0m\n\u001b[1;32m----> 1\u001b[0m userFunc(localVar)\n",
      "\u001b[1;31mNameError\u001b[0m: name 'localVar' is not defined"
     ]
    }
   ],
   "source": [
    "userFunc(localVar)"
   ]
  },
  {
   "cell_type": "code",
   "execution_count": 228,
   "id": "2a0f96c6",
   "metadata": {},
   "outputs": [
    {
     "name": "stdout",
     "output_type": "stream",
     "text": [
      "* = 튜플\n"
     ]
    }
   ],
   "source": [
    "print('* = 튜플')\n",
    "def avgFunc(*scores): #가변인자 (들어갈 수도, 안들어갈 수도 있음)\n",
    "    pass"
   ]
  },
  {
   "cell_type": "code",
   "execution_count": 229,
   "id": "0fc8838d",
   "metadata": {},
   "outputs": [],
   "source": [
    "avgFunc()\n",
    "avgFunc(100) #보이지 않는 튜플\n",
    "avgFunc(100,200)\n",
    "avgFunc([1,2,3,4],[1,2,3,4])"
   ]
  },
  {
   "cell_type": "code",
   "execution_count": 237,
   "id": "b5f576ca",
   "metadata": {},
   "outputs": [
    {
     "name": "stdout",
     "output_type": "stream",
     "text": [
      "** = 딕셔너리\n"
     ]
    }
   ],
   "source": [
    "print('** = 딕셔너리')\n",
    "def avgFunc(**kwargs): #가변인자 (들어갈 수도, 안들어갈 수도 있음)\n",
    "    print('type -',type(kwargs))"
   ]
  },
  {
   "cell_type": "code",
   "execution_count": 238,
   "id": "cc56c51e",
   "metadata": {},
   "outputs": [
    {
     "name": "stdout",
     "output_type": "stream",
     "text": [
      "type - <class 'dict'>\n"
     ]
    }
   ],
   "source": [
    "# avgFunc()\n",
    "avgFunc(name='jslim')\n",
    "avgFunc(name='jslim',age=20)"
   ]
  },
  {
   "cell_type": "code",
   "execution_count": 239,
   "id": "2eb9aaea",
   "metadata": {},
   "outputs": [],
   "source": [
    "def mixTypeFunc(args01, args02, *args03, **args04): #함께 가능\n",
    "    pass"
   ]
  },
  {
   "cell_type": "code",
   "execution_count": 245,
   "id": "ce7d4fc2",
   "metadata": {},
   "outputs": [],
   "source": [
    "mixTypeFunc('str', True, 1,'2',3, age = 20, gender = 'f') #str=01 True=02 1,2,3=03, age,gender=04"
   ]
  },
  {
   "cell_type": "code",
   "execution_count": 253,
   "id": "a731100e",
   "metadata": {},
   "outputs": [],
   "source": [
    "def closingMent():\n",
    "    msg = '한 주 동안 즐거웠습니다. 주말 잘 보내시고 다음 주에 웃는 모습으로 뵐께요'\n",
    "    lst = []\n",
    "    for char in msg:\n",
    "        lst.append(char)\n",
    "    \n",
    "    return lst"
   ]
  },
  {
   "cell_type": "code",
   "execution_count": 255,
   "id": "33249c5a",
   "metadata": {},
   "outputs": [
    {
     "name": "stdout",
     "output_type": "stream",
     "text": [
      "['한', ' ', '주', ' ', '동', '안', ' ', '즐', '거', '웠', '습', '니', '다', '.', ' ', '주', '말', ' ', '잘', ' ', '보', '내', '시', '고', ' ', '다', '음', ' ', '주', '에', ' ', '웃', '는', ' ', '모', '습', '으', '로', ' ', '뵐', '께', '요']\n"
     ]
    }
   ],
   "source": [
    "result = closingMent()\n",
    "print(result)"
   ]
  },
  {
   "cell_type": "code",
   "execution_count": 257,
   "id": "b194b092",
   "metadata": {},
   "outputs": [
    {
     "name": "stdout",
     "output_type": "stream",
     "text": [
      "type - <class 'function'>\n"
     ]
    }
   ],
   "source": [
    "msg = closingMent #함수의 이름을 변수에 담을 수 있다.\n",
    "print('type -',type(msg))"
   ]
  },
  {
   "cell_type": "code",
   "execution_count": 261,
   "id": "6be4ec10",
   "metadata": {},
   "outputs": [
    {
     "name": "stdout",
     "output_type": "stream",
     "text": [
      "['한', ' ', '주', ' ', '동', '안', ' ', '즐', '거', '웠', '습', '니', '다', '.', ' ', '주', '말', ' ', '잘', ' ', '보', '내', '시', '고', ' ', '다', '음', ' ', '주', '에', ' ', '웃', '는', ' ', '모', '습', '으', '로', ' ', '뵐', '께', '요']\n"
     ]
    }
   ],
   "source": [
    "print(msg()) #함수가 변수에 담아짐."
   ]
  },
  {
   "cell_type": "code",
   "execution_count": 266,
   "id": "5363e0d4",
   "metadata": {},
   "outputs": [
    {
     "name": "stdout",
     "output_type": "stream",
     "text": [
      "lambda functions -\n",
      "lambda 형식) : lambda 인자 : 실행문\n"
     ]
    }
   ],
   "source": [
    "print('lambda functions -')\n",
    "print('lambda 형식) : lambda 인자 : 실행문')\n",
    "def hap(x, y):\n",
    "    return x + y"
   ]
  },
  {
   "cell_type": "code",
   "execution_count": 275,
   "id": "836b9a04",
   "metadata": {},
   "outputs": [
    {
     "name": "stdout",
     "output_type": "stream",
     "text": [
      "30\n",
      "\n",
      "30\n",
      "30\n"
     ]
    }
   ],
   "source": [
    "result = hap(10,20)\n",
    "print(result)\n",
    "print()\n",
    "result = (lambda x, y : x + y)(10 , 20) # lambda는 이름없는 함수 괄호를 쓰고 진행\n",
    "print(result)\n",
    "lambdaFunc = (lambda x, y : x + y)\n",
    "print(lambdaFunc(10,20))"
   ]
  },
  {
   "cell_type": "code",
   "execution_count": 276,
   "id": "3146f136",
   "metadata": {},
   "outputs": [
    {
     "name": "stdout",
     "output_type": "stream",
     "text": [
      "함수의 중첩 -\n"
     ]
    }
   ],
   "source": [
    "print('함수의 중첩 -')\n",
    "\n",
    "def outerFunc(num) :\n",
    "    result = 0\n",
    "    def innerFunc(num):\n",
    "        print(result + num)"
   ]
  },
  {
   "cell_type": "code",
   "execution_count": 289,
   "id": "8c156d82",
   "metadata": {},
   "outputs": [],
   "source": [
    "babLst = ['잡곡밥','옥수수밥','감자밥','무밥','명란버터밥','비빔밥','가지밥','전복밥']\n",
    "soupLst = ['미역국','무국','콩나물국','김치콩나물국','사골곰탕','시래기국']\n",
    "mainLst = ['삼겹살','수육','갈비찜','바베큐','돼지불고기','소불고기','오리고기']\n",
    "banchanLst = ['감자채 볶음','감자조림','진미채볶음','연근조림','볶음김치']\n",
    "def chooseMenuFunc():\n",
    "    lst = []\n",
    "    for data01 in babLst:\n",
    "        print('밥 : {}'.format(data01))\n",
    "    for data02 in soupLst:\n",
    "        print('국 : {}'.format(data02))\n",
    "    for data03 in mainLst:\n",
    "        print('메인요리 : {}'.format(data03))\n",
    "    for data04 in banchanLst:\n",
    "        print('반찬 : {}'.format(data04))\n",
    "        \n",
    "    print('밥 : {}, 국 : {}, 메인 : {}, 반찬 : {}'.format(data01, data02, data03, data04))"
   ]
  },
  {
   "cell_type": "code",
   "execution_count": 290,
   "id": "848639a3",
   "metadata": {},
   "outputs": [
    {
     "name": "stdout",
     "output_type": "stream",
     "text": [
      "밥 : 잡곡밥\n",
      "밥 : 옥수수밥\n",
      "밥 : 감자밥\n",
      "밥 : 무밥\n",
      "밥 : 명란버터밥\n",
      "밥 : 비빔밥\n",
      "밥 : 가지밥\n",
      "밥 : 전복밥\n",
      "국 : 미역국\n",
      "국 : 무국\n",
      "국 : 콩나물국\n",
      "국 : 김치콩나물국\n",
      "국 : 사골곰탕\n",
      "국 : 시래기국\n",
      "메인요리 : 삼겹살\n",
      "메인요리 : 수육\n",
      "메인요리 : 갈비찜\n",
      "메인요리 : 바베큐\n",
      "메인요리 : 돼지불고기\n",
      "메인요리 : 소불고기\n",
      "메인요리 : 오리고기\n",
      "반찬 : 감자채 볶음\n",
      "반찬 : 감자조림\n",
      "반찬 : 진미채볶음\n",
      "반찬 : 연근조림\n",
      "반찬 : 볶음김치\n",
      "밥 : 전복밥, 국 : 시래기국, 메인 : 오리고기, 반찬 : 볶음김치\n",
      "None\n"
     ]
    }
   ],
   "source": [
    "result = chooseMenuFunc()\n",
    "print(result)"
   ]
  },
  {
   "cell_type": "code",
   "execution_count": null,
   "id": "40a05780",
   "metadata": {},
   "outputs": [],
   "source": []
  },
  {
   "cell_type": "code",
   "execution_count": null,
   "id": "21c8920e",
   "metadata": {},
   "outputs": [],
   "source": []
  },
  {
   "cell_type": "code",
   "execution_count": null,
   "id": "1b6dcf87",
   "metadata": {},
   "outputs": [],
   "source": []
  },
  {
   "cell_type": "code",
   "execution_count": null,
   "id": "419d0c6c",
   "metadata": {},
   "outputs": [],
   "source": []
  },
  {
   "cell_type": "code",
   "execution_count": null,
   "id": "989f48ff",
   "metadata": {},
   "outputs": [],
   "source": []
  },
  {
   "cell_type": "code",
   "execution_count": null,
   "id": "bd657417",
   "metadata": {},
   "outputs": [],
   "source": []
  },
  {
   "cell_type": "code",
   "execution_count": null,
   "id": "f500a39a",
   "metadata": {},
   "outputs": [],
   "source": []
  },
  {
   "cell_type": "code",
   "execution_count": null,
   "id": "07cc6cc4",
   "metadata": {},
   "outputs": [],
   "source": []
  },
  {
   "cell_type": "code",
   "execution_count": null,
   "id": "97178a96",
   "metadata": {},
   "outputs": [],
   "source": []
  },
  {
   "cell_type": "code",
   "execution_count": null,
   "id": "511d06c0",
   "metadata": {},
   "outputs": [],
   "source": []
  },
  {
   "cell_type": "code",
   "execution_count": null,
   "id": "f41e3f99",
   "metadata": {},
   "outputs": [],
   "source": []
  },
  {
   "cell_type": "code",
   "execution_count": null,
   "id": "80d8bdec",
   "metadata": {},
   "outputs": [],
   "source": []
  },
  {
   "cell_type": "code",
   "execution_count": null,
   "id": "6bd3aa20",
   "metadata": {},
   "outputs": [],
   "source": []
  },
  {
   "cell_type": "code",
   "execution_count": null,
   "id": "38efb4bd",
   "metadata": {},
   "outputs": [],
   "source": []
  },
  {
   "cell_type": "code",
   "execution_count": null,
   "id": "c2375b3b",
   "metadata": {},
   "outputs": [],
   "source": []
  }
 ],
 "metadata": {
  "kernelspec": {
   "display_name": "Python 3 (ipykernel)",
   "language": "python",
   "name": "python3"
  },
  "language_info": {
   "codemirror_mode": {
    "name": "ipython",
    "version": 3
   },
   "file_extension": ".py",
   "mimetype": "text/x-python",
   "name": "python",
   "nbconvert_exporter": "python",
   "pygments_lexer": "ipython3",
   "version": "3.11.4"
  }
 },
 "nbformat": 4,
 "nbformat_minor": 5
}
